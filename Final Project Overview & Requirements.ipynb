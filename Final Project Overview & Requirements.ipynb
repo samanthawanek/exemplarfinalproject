{
 "cells": [
  {
   "cell_type": "markdown",
   "id": "6838c9ba",
   "metadata": {},
   "source": [
    "<hr style=\"height:5px;border-width:0;color:MediumAquamarine;background-color:MediumBlue\">\n",
    "\n",
    "# Final Group Project Overview & Requirements\n",
    "\n",
    "<hr style=\"height:5px;border-width:0;color:MediumAquamarine;background-color:MediumBlue\">"
   ]
  },
  {
   "attachments": {},
   "cell_type": "markdown",
   "id": "65709c8b",
   "metadata": {},
   "source": [
    "This document is meant to serve as a guide to reference throughout the course of the group project, providing a general overview of how to effectively work as a team to complete this final."
   ]
  },
  {
   "cell_type": "markdown",
   "id": "72f40e7d",
   "metadata": {},
   "source": [
    "<hr style=\"height:5px;border-width:0;color:MediumAquamarine;background-color:MediumBlue\">"
   ]
  },
  {
   "attachments": {},
   "cell_type": "markdown",
   "id": "d921065d",
   "metadata": {},
   "source": [
    "This project is meant to be performed as a group but can be done on your own if desired or unable to work with a group.\n",
    "\n",
    "It is designed to mimic real life as a data scientist."
   ]
  },
  {
   "cell_type": "markdown",
   "id": "fb34ed87",
   "metadata": {},
   "source": [
    "Here is a basic overview of the steps you will take in your final project:"
   ]
  },
  {
   "attachments": {},
   "cell_type": "markdown",
   "id": "52f47ac0",
   "metadata": {},
   "source": [
    "•\tDecide on a topic. Your world is wide open, so pick something that interests you, either personally or professionally."
   ]
  },
  {
   "cell_type": "markdown",
   "id": "6e4a7aca",
   "metadata": {},
   "source": [
    "•\tFind data on that topic."
   ]
  },
  {
   "cell_type": "markdown",
   "id": "ff53660b",
   "metadata": {},
   "source": [
    "•\tDetermine at least two questions that you can answer using the data you have chosen."
   ]
  },
  {
   "cell_type": "markdown",
   "id": "b58350bc",
   "metadata": {},
   "source": [
    "•\tChoose your analyses. What statistical or machine learning techniques will you use to answer your questions?"
   ]
  },
  {
   "cell_type": "markdown",
   "id": "f5659bef",
   "metadata": {},
   "source": [
    "•\tUnderstand the requirements for that analysis. What data will you need? What wrangling needs to be done in order to complete the analysis?"
   ]
  },
  {
   "cell_type": "markdown",
   "id": "703c3264",
   "metadata": {},
   "source": [
    "•\tWrangle your data."
   ]
  },
  {
   "cell_type": "markdown",
   "id": "d0926e47",
   "metadata": {},
   "source": [
    "•\tAnalyze your data."
   ]
  },
  {
   "cell_type": "markdown",
   "id": "7d744d02",
   "metadata": {},
   "source": [
    "•\tVisualize your data and the analyses you did with it."
   ]
  },
  {
   "cell_type": "markdown",
   "id": "09db4df1",
   "metadata": {},
   "source": [
    "•\tBuild your presentation."
   ]
  },
  {
   "cell_type": "markdown",
   "id": "ecaab23e",
   "metadata": {},
   "source": [
    "•\tPractice your presentation."
   ]
  },
  {
   "cell_type": "markdown",
   "id": "2a628abd",
   "metadata": {},
   "source": [
    "•\tGive your presentation and graduate with pride!"
   ]
  },
  {
   "attachments": {},
   "cell_type": "markdown",
   "id": "d8718cba",
   "metadata": {},
   "source": [
    "Each week, you will be provided with the general steps you will need to take to stay on track for a six-week final project.\n",
    "However, it will be up to you to determine the specifics for your project, which is all part of the learning process."
   ]
  },
  {
   "attachments": {},
   "cell_type": "markdown",
   "id": "0d9cb711",
   "metadata": {},
   "source": [
    "<hr style=\"height:5px;border-width:0;color:MediumAquamarine;background-color:MediumBlue\">\n",
    "\n",
    "## Working In a Team\n",
    "\n",
    "<hr style=\"height:5px;border-width:0;color:MediumAquamarine;background-color:MediumBlue\">"
   ]
  },
  {
   "attachments": {},
   "cell_type": "markdown",
   "id": "1bf3a457",
   "metadata": {},
   "source": [
    "Good communication within your team is vital to your success. Your instructor is not in charge of communication within your group. YOU ARE.\n",
    "\n",
    "That means you must take an active role in talking with the rest of your team to work on the necessary steps in completing this course."
   ]
  },
  {
   "attachments": {},
   "cell_type": "markdown",
   "id": "3c39b40e",
   "metadata": {},
   "source": [
    "There are several ways to stay in touch with your fellow workers."
   ]
  },
  {
   "attachments": {},
   "cell_type": "markdown",
   "id": "65e13f03",
   "metadata": {},
   "source": [
    "•\tSlack"
   ]
  },
  {
   "cell_type": "markdown",
   "id": "bebd3da9",
   "metadata": {},
   "source": [
    "•\tText"
   ]
  },
  {
   "cell_type": "markdown",
   "id": "1cce9fdf",
   "metadata": {},
   "source": [
    "•\tPhone"
   ]
  },
  {
   "cell_type": "markdown",
   "id": "836c105a",
   "metadata": {},
   "source": [
    "•\tZoom"
   ]
  },
  {
   "cell_type": "markdown",
   "id": "e7de08a4",
   "metadata": {},
   "source": [
    "•\tEmail"
   ]
  },
  {
   "attachments": {},
   "cell_type": "markdown",
   "id": "15f0b582",
   "metadata": {},
   "source": [
    "Staying organized is often one of the greater challenges a team can encounter. Having well defined roles, schedules, and tasks is how you and your team can ensure you stay on track to completion of the project."
   ]
  },
  {
   "attachments": {},
   "cell_type": "markdown",
   "id": "dc7ee1a7",
   "metadata": {},
   "source": [
    "You will be required to attend regular meetings. During the meetings you should keep the Kanban board open so you can visually see the progress of each task."
   ]
  },
  {
   "attachments": {},
   "cell_type": "markdown",
   "id": "bac8c88f",
   "metadata": {},
   "source": [
    "There will be a Daily Stand-Up hosted by the Scrum Master of that week. Each student should state the following during the meeting:"
   ]
  },
  {
   "attachments": {},
   "cell_type": "markdown",
   "id": "e37e2b9f",
   "metadata": {},
   "source": [
    "•\tWhat they did the day before."
   ]
  },
  {
   "cell_type": "markdown",
   "id": "80e8e4ca",
   "metadata": {},
   "source": [
    "•\tWhat they are going to do that day."
   ]
  },
  {
   "cell_type": "markdown",
   "id": "0848ae45",
   "metadata": {},
   "source": [
    "•\tAny obstacles preventing them from meeting their goal for that day."
   ]
  },
  {
   "attachments": {},
   "cell_type": "markdown",
   "id": "6a702914",
   "metadata": {},
   "source": [
    "The Scrum Master should facilitate a proposed solution for any obstacles stated by the student. If no solution can be determined, then the Scrum Master should notify and discuss the issue with the product owner (instructor). The Scrum Master should also notify the product owner (instructor) if a fellow worker did not attend or complete the Scrum Daily Stand-Up Form on time."
   ]
  },
  {
   "attachments": {},
   "cell_type": "markdown",
   "id": "85bd1c15",
   "metadata": {},
   "source": [
    "<hr style=\"height:5px;border-width:0;color:MediumAquamarine;background-color:MediumBlue\">\n",
    "\n",
    "#### Tip!\n",
    "\n",
    "If your schedules prevent you from meeting daily, try doing a Daily Stand-Up in Slack where everyone starts his or her day by stating the three stand up points.\n",
    "\n",
    "<hr style=\"height:5px;border-width:0;color:MediumAquamarine;background-color:MediumBlue\">"
   ]
  },
  {
   "attachments": {},
   "cell_type": "markdown",
   "id": "a6fb53ae",
   "metadata": {},
   "source": [
    "Each week your team will conduct a Weekly Retrospective Meeting via live video conference call to do the following:"
   ]
  },
  {
   "attachments": {},
   "cell_type": "markdown",
   "id": "1b7d970a",
   "metadata": {},
   "source": [
    "•\tClose any remaining tasks on the Kanban board."
   ]
  },
  {
   "cell_type": "markdown",
   "id": "aab1b117",
   "metadata": {},
   "source": [
    "•\tFinalize merges on your GitHub repository."
   ]
  },
  {
   "cell_type": "markdown",
   "id": "d869440c",
   "metadata": {},
   "source": [
    "•\tEach member demonstrates the tasks they implemented that week."
   ]
  },
  {
   "cell_type": "markdown",
   "id": "c63d0751",
   "metadata": {},
   "source": [
    "•\tPlan the tasks and assign new tasks for the next sprint."
   ]
  },
  {
   "cell_type": "markdown",
   "id": "387ea666",
   "metadata": {},
   "source": [
    "•\tComplete the lesson activity for that week."
   ]
  },
  {
   "attachments": {},
   "cell_type": "markdown",
   "id": "ec74ec5b",
   "metadata": {},
   "source": [
    "It is the responsibility of the Scrum Master to arrange for the meeting time and follow the meeting agenda."
   ]
  },
  {
   "attachments": {},
   "cell_type": "markdown",
   "id": "44ae9d13",
   "metadata": {},
   "source": [
    "The SCRUM Master should be elected each week and is responsible for:"
   ]
  },
  {
   "attachments": {},
   "cell_type": "markdown",
   "id": "ad7f4005",
   "metadata": {},
   "source": [
    "•\tDirecting Daily Stand-Up Meetings."
   ]
  },
  {
   "cell_type": "markdown",
   "id": "6c38ade6",
   "metadata": {},
   "source": [
    "•\tHosting Weekly Retrospective Meetings."
   ]
  },
  {
   "cell_type": "markdown",
   "id": "12e617b4",
   "metadata": {},
   "source": [
    "•\tEnsuring the team follows the guidelines agreed upon by the team."
   ]
  },
  {
   "cell_type": "markdown",
   "id": "1b424bdb",
   "metadata": {},
   "source": [
    "•\tCommunicate issues to the Product Owner (instructor)."
   ]
  },
  {
   "attachments": {},
   "cell_type": "markdown",
   "id": "f6b35bd1",
   "metadata": {},
   "source": [
    "Each sprint you will be assigned individual responsibilities consisting of a set of tasks to complete. These tasks will be arranged around a feature of the application. You are responsible for ensuring each of your assigned tasks are completed before the end of the sprint. Your ability to complete these tasks will be how you are graded for that sprint."
   ]
  },
  {
   "attachments": {},
   "cell_type": "markdown",
   "id": "76e2f9d2",
   "metadata": {},
   "source": [
    "Each week a new sprint begins on Monday and ends on Sunday.  The weekly Scrum Master will assign tasks for each sprint. At the end of the sprint, a retrospective will be held. It is important that all your tasks are completed, committed to GitHub, and tracked on the Kanban Board."
   ]
  },
  {
   "attachments": {},
   "cell_type": "markdown",
   "id": "a2e1744a",
   "metadata": {},
   "source": [
    "You probably haven't survived bootcamp this long without some decent time management skills, but they become critical at this stage. The project phase can be incredibly time consuming. You should be planning for at least 20 hours of your week to be dedicated toward the group project. Allocating this time does not ensure success, however. Much of your time will be spent doing research and further planning. Try to remain as flexible as you can with your activities outside of the project."
   ]
  },
  {
   "attachments": {},
   "cell_type": "markdown",
   "id": "1573d191",
   "metadata": {},
   "source": [
    "To help keep you organized and on time, please do the following tasks:"
   ]
  },
  {
   "attachments": {},
   "cell_type": "markdown",
   "id": "8dd2a3db",
   "metadata": {},
   "source": [
    "1. Determine a Scrum Master for each week."
   ]
  },
  {
   "cell_type": "markdown",
   "id": "f7502f06",
   "metadata": {},
   "source": [
    "2. Establish a Team Name to help identify the team."
   ]
  },
  {
   "cell_type": "markdown",
   "id": "f021e3be",
   "metadata": {},
   "source": [
    "3. Establish a Kanban board."
   ]
  },
  {
   "cell_type": "markdown",
   "id": "17d091f0",
   "metadata": {},
   "source": [
    "4. Establish a time each day for the Daily Stand-Up or time which the Daily Stand-Up must be completed so the Scrum Master can track everyone’s progress."
   ]
  },
  {
   "cell_type": "markdown",
   "id": "088e45ec",
   "metadata": {},
   "source": [
    "5. Establish a time each week for the team Weekly Retrospective."
   ]
  },
  {
   "attachments": {},
   "cell_type": "markdown",
   "id": "09617aaf",
   "metadata": {},
   "source": [
    "<hr style=\"height:5px;border-width:0;color:MediumAquamarine;background-color:MediumBlue\">\n",
    "\n",
    "## Team Brain Members' Working Hours\n",
    "\n",
    "<hr style=\"height:5px;border-width:0;color:MediumAquamarine;background-color:MediumBlue\">"
   ]
  },
  {
   "attachments": {
    "image.png": {
     "image/png": "[encoded data removed]"
    }
   },
   "cell_type": "markdown",
   "id": "1a00f731",
   "metadata": {},
   "source": [
    "![image.png](attachment:image.png)"
   ]
  },
  {
   "cell_type": "markdown",
   "id": "4ea0c867",
   "metadata": {},
   "source": [
    "<hr style=\"height:5px;border-width:0;color:MediumAquamarine;background-color:MediumBlue\">\n",
    "\n",
    "## Delivery Schedule\n",
    "\n",
    "<hr style=\"height:5px;border-width:0;color:MediumAquamarine;background-color:MediumBlue\">"
   ]
  },
  {
   "attachments": {},
   "cell_type": "markdown",
   "id": "4ba3b4b6",
   "metadata": {},
   "source": [
    "In the delivery schedule section of your project proposal, you will want to plan out the remaining five weeks of your final project lives as best you can! For every week, you should have a list of tasks that need to be completed. Remember, this is the basic outline to go by:"
   ]
  },
  {
   "attachments": {},
   "cell_type": "markdown",
   "id": "f8be5b79",
   "metadata": {},
   "source": [
    "•\tWeek 1: Project Planning"
   ]
  },
  {
   "cell_type": "markdown",
   "id": "ea21d635",
   "metadata": {},
   "source": [
    "•\tWeek 2: Data Wrangling"
   ]
  },
  {
   "cell_type": "markdown",
   "id": "7de1b1e2",
   "metadata": {},
   "source": [
    "•\tWeek 3: Data Exploration"
   ]
  },
  {
   "cell_type": "markdown",
   "id": "8619daf7",
   "metadata": {},
   "source": [
    "•\tWeek 4: Data Analysis"
   ]
  },
  {
   "cell_type": "markdown",
   "id": "1a489af9",
   "metadata": {},
   "source": [
    "•\tWeek 5: Data Visualization"
   ]
  },
  {
   "cell_type": "markdown",
   "id": "374bf7df",
   "metadata": {},
   "source": [
    "•\tWeek 6: Data Reporting and Presentation"
   ]
  },
  {
   "attachments": {},
   "cell_type": "markdown",
   "id": "e41f0a45",
   "metadata": {},
   "source": [
    "You will present your final project to the career services team, your instructor, fellow peers, and potential employers in Week 6 (please remember to turn in your last documents on or before the deadline)."
   ]
  },
  {
   "attachments": {},
   "cell_type": "markdown",
   "id": "57cdca9f",
   "metadata": {},
   "source": [
    "This brief outline is not enough. Push yourself to dive in deeper. Based on the data and questions you have picked, you should be able to outline what analyses you will complete, what visualizations make sense, and what data wrangling will be required. Getting tasks and time worked out ahead of time means that you'll spend less time contemplating your navel and more time doing project-related work in the next five weeks!"
   ]
  },
  {
   "attachments": {},
   "cell_type": "markdown",
   "id": "772d480c",
   "metadata": {},
   "source": [
    "Overachievers, make sure you leave yourself a little wiggle room, because indubitably, something will not go to plan. You may realize you didn't take care of all the wrangling required or that a certain analysis just isn't possible after all. That is ok! These things happen, and data work tends to be an iterative cycle: proceed until you hit an error, go back through and do work to solve the error, lather, rinse, repeat. Just make sure you have a time cushion to handle it."
   ]
  },
  {
   "attachments": {},
   "cell_type": "markdown",
   "id": "53885352",
   "metadata": {},
   "source": [
    "<hr style=\"height:5px;border-width:0;color:MediumAquamarine;background-color:MediumBlue\">\n",
    "\n",
    "#### Tip!\n",
    "\n",
    "Data Wrangling and Data Analysis weeks are the ones that tend to take the most time and are the ones that tend to throw the most roadblocks into your path. The Data Exploration and Data Visualization weeks can be part of your built-in buffer, as you can complete the project without any exploration, and data visualization does not always take a full week.\n",
    "\n",
    "<hr style=\"height:5px;border-width:0;color:MediumAquamarine;background-color:MediumBlue\">"
   ]
  },
  {
   "cell_type": "markdown",
   "id": "0f538c1e",
   "metadata": {},
   "source": [
    "<hr style=\"height:5px;border-width:0;color:MediumAquamarine;background-color:MediumBlue\">\n",
    "\n",
    "## Minimum Project Requirements\n",
    "\n",
    "<hr style=\"height:5px;border-width:0;color:MediumAquamarine;background-color:MediumBlue\">"
   ]
  },
  {
   "attachments": {},
   "cell_type": "markdown",
   "id": "e57e51d5",
   "metadata": {},
   "source": [
    "•\tData analysis in R and/or Python."
   ]
  },
  {
   "cell_type": "markdown",
   "id": "620a1ef5",
   "metadata": {},
   "source": [
    "•\tGitHub Repository."
   ]
  },
  {
   "cell_type": "markdown",
   "id": "193419fd",
   "metadata": {},
   "source": [
    "•\tFormulation and answering of at least two evaluation questions."
   ]
  },
  {
   "cell_type": "markdown",
   "id": "3fdb1b56",
   "metadata": {},
   "source": [
    "•\tAt least two statistical or machine learning techniques."
   ]
  },
  {
   "cell_type": "markdown",
   "id": "8c80bbc6",
   "metadata": {},
   "source": [
    "<hr style=\"height:5px;border-width:0;color:MediumAquamarine;background-color:MediumBlue\">\n",
    "\n",
    "## Week 1 Overview\n",
    "\n",
    "<hr style=\"height:5px;border-width:0;color:MediumAquamarine;background-color:MediumBlue\">"
   ]
  },
  {
   "attachments": {},
   "cell_type": "markdown",
   "id": "e344f434",
   "metadata": {},
   "source": [
    "•\tCreate a Kanban board on Trello."
   ]
  },
  {
   "cell_type": "markdown",
   "id": "61422a71",
   "metadata": {},
   "source": [
    "•\tDecide upon a topic."
   ]
  },
  {
   "cell_type": "markdown",
   "id": "115b3302",
   "metadata": {},
   "source": [
    "•\tFind data on that topic."
   ]
  },
  {
   "cell_type": "markdown",
   "id": "3076ab31",
   "metadata": {},
   "source": [
    "•\tDetermine at least two questions that you can answer using the data you have chosen."
   ]
  },
  {
   "cell_type": "markdown",
   "id": "d1e33597",
   "metadata": {},
   "source": [
    "•\tChoose your analyses."
   ]
  },
  {
   "cell_type": "markdown",
   "id": "a31c9360",
   "metadata": {},
   "source": [
    "<hr style=\"height:5px;border-width:0;color:MediumAquamarine;background-color:MediumBlue\">\n",
    "\n",
    "## Week 2 Overview\n",
    "\n",
    "<hr style=\"height:5px;border-width:0;color:MediumAquamarine;background-color:MediumBlue\">"
   ]
  },
  {
   "attachments": {},
   "cell_type": "markdown",
   "id": "9cafddbd",
   "metadata": {},
   "source": [
    "•\tUnderstand the requirements for the analyses you have picked."
   ]
  },
  {
   "cell_type": "markdown",
   "id": "19d9e4f6",
   "metadata": {},
   "source": [
    "•\tWrangle your data in preparation for data analysis."
   ]
  },
  {
   "cell_type": "markdown",
   "id": "cfcf910c",
   "metadata": {},
   "source": [
    "<hr style=\"height:5px;border-width:0;color:MediumAquamarine;background-color:MediumBlue\">\n",
    "\n",
    "## Week 3 Overview\n",
    "\n",
    "<hr style=\"height:5px;border-width:0;color:MediumAquamarine;background-color:MediumBlue\">"
   ]
  },
  {
   "attachments": {},
   "cell_type": "markdown",
   "id": "86029da2",
   "metadata": {},
   "source": [
    "•\tWith most, if not all, of your data wrangling tasks completed, you should be ready to sink your teeth into your data! You'll be starting with exploratory analyses."
   ]
  },
  {
   "cell_type": "markdown",
   "id": "95db6271",
   "metadata": {},
   "source": [
    "<hr style=\"height:5px;border-width:0;color:MediumAquamarine;background-color:MediumBlue\">\n",
    "\n",
    "## Week 4 Overview\n",
    "\n",
    "<hr style=\"height:5px;border-width:0;color:MediumAquamarine;background-color:MediumBlue\">"
   ]
  },
  {
   "cell_type": "markdown",
   "id": "970aafe2",
   "metadata": {},
   "source": [
    "•\t"
   ]
  },
  {
   "cell_type": "markdown",
   "id": "7a226eff",
   "metadata": {},
   "source": [
    "<hr style=\"height:5px;border-width:0;color:MediumAquamarine;background-color:MediumBlue\">\n",
    "\n",
    "## Week 5 Overview\n",
    "\n",
    "<hr style=\"height:5px;border-width:0;color:MediumAquamarine;background-color:MediumBlue\">"
   ]
  },
  {
   "cell_type": "markdown",
   "id": "f6724a94",
   "metadata": {},
   "source": [
    "•"
   ]
  },
  {
   "cell_type": "markdown",
   "id": "c6e43ef8",
   "metadata": {},
   "source": [
    "<hr style=\"height:5px;border-width:0;color:MediumAquamarine;background-color:MediumBlue\">\n",
    "\n",
    "## Week 6 Overview\n",
    "\n",
    "<hr style=\"height:5px;border-width:0;color:MediumAquamarine;background-color:MediumBlue\">"
   ]
  },
  {
   "cell_type": "markdown",
   "id": "2ad75442",
   "metadata": {},
   "source": [
    "•\t"
   ]
  }
 ],
 "metadata": {
  "kernelspec": {
   "display_name": "Python 3 (ipykernel)",
   "language": "python",
   "name": "python3"
  },
  "language_info": {
   "codemirror_mode": {
    "name": "ipython",
    "version": 3
   },
   "file_extension": ".py",
   "mimetype": "text/x-python",
   "name": "python",
   "nbconvert_exporter": "python",
   "pygments_lexer": "ipython3",
   "version": "3.11.3"
  }
 },
 "nbformat": 4,
 "nbformat_minor": 5
}
