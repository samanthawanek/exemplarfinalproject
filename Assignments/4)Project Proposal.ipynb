{
 "cells": [
  {
   "cell_type": "markdown",
   "id": "ec670a79",
   "metadata": {},
   "source": [
    "<hr style=\"height:5px;border-width:0;color:MediumAquamarine;background-color:MediumBlue\">\n",
    "\n",
    "# Speculation on Toxic and Non-Toxic Essential Elements Found in Urine Analysis in Autism Spectrum Disorder\n",
    "\n",
    "<hr style=\"height:5px;border-width:0;color:MediumAquamarine;background-color:MediumBlue\">"
   ]
  },
  {
   "cell_type": "markdown",
   "id": "5087c611",
   "metadata": {},
   "source": [
    "## Executive Summary\n",
    "\n",
    "<hr style=\"height:5px;border-width:0;color:MediumAquamarine;background-color:MediumBlue\">"
   ]
  },
  {
   "cell_type": "markdown",
   "id": "609fdd74",
   "metadata": {},
   "source": [
    "In this document we will outline the steps of completing a project comparing toxic and non-toxic essential elements found in the urine analyses of children and their mothers, of Autism Spectrum Disorder and Typical Developing status."
   ]
  },
  {
   "cell_type": "markdown",
   "id": "4b908891",
   "metadata": {},
   "source": [
    "## Business Objectives\n",
    "\n",
    "<hr style=\"height:5px;border-width:0;color:MediumAquamarine;background-color:MediumBlue\">"
   ]
  },
  {
   "cell_type": "markdown",
   "id": "379fea44",
   "metadata": {},
   "source": [
    "Children with Autism often struggle with chronic neurological and biological challenges that broadly include poor sleep, poor digestion, poor elimination, low nutritional diets and difficulty with tolerance and frustration. Many of these areas of concern can be directly tied back to the levels of Toxic and Non-Toxic Essential Elements found in the body. This analysis will help identify if there are specific elements that could support improvement of those struggles in children with ASD during their developmental journey by means of eliminating or balancing the common toxic elements present in these urine analyses. "
   ]
  },
  {
   "cell_type": "markdown",
   "id": "2c23dcd8",
   "metadata": {},
   "source": [
    "## Background\n",
    "\n",
    "<hr style=\"height:5px;border-width:0;color:MediumAquamarine;background-color:MediumBlue\">"
   ]
  },
  {
   "cell_type": "markdown",
   "id": "e56347be",
   "metadata": {},
   "source": [
    "The data set we will be using has been selected, and we will be using ***insert analyses here*** for this project. We are looking to answer the following questions: \n",
    "\n",
    "1. Is there a predictive relationship between levels of toxic and essential elements and the occurrence of ASD in children?  \n",
    "2. How does the urine test differ (Toxic vs Essential) for kids with Autism (ASD) to Typically Developing kids (TD)?  \n",
    "3. Is there a predictive relationship between levels of toxic and essential elements and the occurrence of ASD in mothers?  \n",
    "4. How does the urine test differ (Toxic vs Essential) for mothers with Autism (ASD) to Typically Developing moms (TD)?  \n",
    "  \n",
    "5. How does the urine test differ (Toxic vs Essential) for kids with Autism (ASD) to their moms with Autism(ASD)?  \n",
    "6. How does the urine test differ (Toxic vs Essential) Typically Developing kids to their Typically "
   ]
  },
  {
   "cell_type": "markdown",
   "id": "bc259857",
   "metadata": {},
   "source": [
    "[Qureshi, Fatir (2020), “Data for: Urinary Essential Elements of Young Children with Autism Spectrum Disorder and their Mothers”, Mendeley Data, V1, doi: 10.17632/79fk29dvk6.1](https://data.mendeley.com/datasets/79fk29dvk6/1)"
   ]
  },
  {
   "cell_type": "markdown",
   "id": "6b99aa6f",
   "metadata": {},
   "source": [
    "## Scope\n",
    "\n",
    "<hr style=\"height:5px;border-width:0;color:MediumAquamarine;background-color:MediumBlue\">"
   ]
  },
  {
   "cell_type": "markdown",
   "id": "7197a8bc",
   "metadata": {},
   "source": [
    "This project aims to observe and evaluate the presence of essential and toxic elements in children with and without ASD, and to explore any correlations between the elements and ASD. The project also investigates the potential role of genetic factors by examining the mothers' levels of essential and toxic elements in conjunction with their children's."
   ]
  },
  {
   "cell_type": "markdown",
   "id": "f59d07f2",
   "metadata": {},
   "source": [
    "## Functional Requirements\n",
    "\n",
    "<hr style=\"height:5px;border-width:0;color:MediumAquamarine;background-color:MediumBlue\">"
   ]
  },
  {
   "cell_type": "markdown",
   "id": "5f6790a6",
   "metadata": {},
   "source": [
    "Week 1:  Build a team, set schedules and explore the data. Create and submit a completed project proposal!"
   ]
  },
  {
   "cell_type": "markdown",
   "id": "de77ca40",
   "metadata": {},
   "source": [
    "Week 2: Data exploration, wrangling and visualization."
   ]
  },
  {
   "cell_type": "markdown",
   "id": "46b82496",
   "metadata": {},
   "source": [
    "Week 3: Run analyses on clean wrangled data, and interpretations."
   ]
  },
  {
   "cell_type": "markdown",
   "id": "37a06f25",
   "metadata": {},
   "source": [
    "Week 4: Presentation structure, aesthetics and tone."
   ]
  },
  {
   "cell_type": "markdown",
   "id": "021fcd65",
   "metadata": {},
   "source": [
    "Week 5: Presentation preparation and record presentation of completed project."
   ]
  },
  {
   "cell_type": "markdown",
   "id": "79cc113e",
   "metadata": {},
   "source": [
    "Week 6: Demo completed project to the data’s mock owner (Instructor(s)) before 5/21/2023."
   ]
  },
  {
   "cell_type": "markdown",
   "id": "3e9528ad",
   "metadata": {},
   "source": [
    "## Personnel Requirements\n",
    "\n",
    "<hr style=\"height:5px;border-width:0;color:MediumAquamarine;background-color:MediumBlue\">"
   ]
  },
  {
   "cell_type": "markdown",
   "id": "98a85596",
   "metadata": {},
   "source": [
    "It is imperative that each member of the team:\n",
    "\n",
    "•\tWorks as a team to complete this project and present it to the mock owner (Instructor) of the data used.  \n",
    "•\tAttends weekly team meetings, ready to work on assignments within the project scope.  \n",
    "•\tPresents daily stand-ups to keep track of work being done, and to stay on track for on-time completion.  \n",
    "•\tCommunicate via Slack, Zoom, or other means of communication with the other team members and the instructor.  \n",
    "•\tTeam Brain consists of two members who will trade off the leadership role of Scrum Master, each managing 3 weeks of the 6-week project. "
   ]
  },
  {
   "cell_type": "markdown",
   "id": "44e7b012",
   "metadata": {},
   "source": [
    "Team Brain consists of the following members:\n",
    "\n",
    "Rachelle Fertig & Samantha Wanek."
   ]
  },
  {
   "cell_type": "markdown",
   "id": "08c1e95f",
   "metadata": {},
   "source": [
    "## Delivery Schedule\n",
    "\n",
    "<hr style=\"height:5px;border-width:0;color:MediumAquamarine;background-color:MediumBlue\">"
   ]
  },
  {
   "cell_type": "markdown",
   "id": "4d6fa696",
   "metadata": {},
   "source": [
    "Listed above in the functional requirements. "
   ]
  },
  {
   "cell_type": "markdown",
   "id": "653f9961",
   "metadata": {},
   "source": [
    "## Assumptions\n",
    "\n",
    "<hr style=\"height:5px;border-width:0;color:MediumAquamarine;background-color:MediumBlue\">"
   ]
  },
  {
   "cell_type": "markdown",
   "id": "bc70916a",
   "metadata": {},
   "source": [
    "The software programs and platforms Team Brain use should be available, up-to-date, and not broken. We also assume that any upgrades to R or Python will not significantly change our programming capabilities; assuming all packages function as intended during the lessons."
   ]
  },
  {
   "cell_type": "markdown",
   "id": "aa68aba5",
   "metadata": {},
   "source": [
    "## Limitations\n",
    "\n",
    "<hr style=\"height:5px;border-width:0;color:MediumAquamarine;background-color:MediumBlue\">"
   ]
  },
  {
   "cell_type": "markdown",
   "id": "d1300db2",
   "metadata": {},
   "source": [
    "If something should come up for Team Brain during this six-week period, the project may be delayed. If the instructor or mentor have scheduled or unscheduled time-off, the project may be delayed as well. Team Brain may experience a roadblock in their work based on unforeseen family emergencies, which may push back the completion date."
   ]
  },
  {
   "cell_type": "markdown",
   "id": "82d64d95",
   "metadata": {},
   "source": [
    "## Risks\n",
    "\n",
    "<hr style=\"height:5px;border-width:0;color:MediumAquamarine;background-color:MediumBlue\">"
   ]
  },
  {
   "cell_type": "markdown",
   "id": "93ecb12a",
   "metadata": {},
   "source": [
    "The team understands they may be impacted by lower grades or failing grades if they do not complete this project by 5/21/2023. The risks that may arise are such like natural disasters, power outages, family emergencies or broken software/hardware. Team Brain is eager to complete the program so there should be no motivation issues. Since our 1:1 Team Meetings with the Instructor are already proposed and scheduled, we do not foresee a lack of support that might otherwise result in a delay of the project. The risk of this project being incomplete is minimal. We expect to be successful in completing this project on time and with outstanding results."
   ]
  },
  {
   "cell_type": "markdown",
   "id": "d129a27e",
   "metadata": {},
   "source": [
    "## Celebration\n",
    "\n",
    "<hr style=\"height:5px;border-width:0;color:MediumAquamarine;background-color:MediumBlue\">"
   ]
  },
  {
   "cell_type": "markdown",
   "id": "24d9a3a1",
   "metadata": {},
   "source": [
    "CERTIFICATION!"
   ]
  }
 ],
 "metadata": {
  "kernelspec": {
   "display_name": "Python 3 (ipykernel)",
   "language": "python",
   "name": "python3"
  },
  "language_info": {
   "codemirror_mode": {
    "name": "ipython",
    "version": 3
   },
   "file_extension": ".py",
   "mimetype": "text/x-python",
   "name": "python",
   "nbconvert_exporter": "python",
   "pygments_lexer": "ipython3",
   "version": "3.11.3"
  }
 },
 "nbformat": 4,
 "nbformat_minor": 5
}
