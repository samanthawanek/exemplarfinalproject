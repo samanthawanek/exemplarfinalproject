{
 "cells": [
  {
   "cell_type": "markdown",
   "id": "91aeac5c",
   "metadata": {},
   "source": [
    "<hr style=\"height:5px;border-width:0;color:MediumBlue;background-color:MediumBlue\">\n",
    "\n",
    "# Week 3 Summary Document\n",
    "\n",
    "<hr style=\"height:5px;border-width:0;color:MediumBlue;background-color:MediumBlue\">"
   ]
  },
  {
   "cell_type": "markdown",
   "id": "4412ff91",
   "metadata": {},
   "source": [
    "### SCRUM Master for the Next Week \n",
    "\n",
    "<hr style=\"height:5px;border-width:0;color:MediumBlue;background-color:MediumBlue\">"
   ]
  },
  {
   "cell_type": "markdown",
   "id": "dcdeda19",
   "metadata": {},
   "source": [
    "Samantha Wanek"
   ]
  },
  {
   "cell_type": "markdown",
   "id": "654180af",
   "metadata": {},
   "source": [
    "### 5 things Team Brain Did Well and Will Continue Doing\n",
    "\n",
    "<hr style=\"height:5px;border-width:0;color:MediumBlue;background-color:MediumBlue\">"
   ]
  },
  {
   "attachments": {},
   "cell_type": "markdown",
   "id": "280971c2",
   "metadata": {},
   "source": [
    "1. Team Brain did well to identify polarizing team schedules that were missed one week one (due to the late arrival of a team member) and collaborate to meet everyone’s needs resulting in the splitting of the team back to its original two members."
   ]
  },
  {
   "attachments": {},
   "cell_type": "markdown",
   "id": "655f59c1",
   "metadata": {},
   "source": [
    "2. Team Brain brainstormed and further conceptualized analysis options which improved the overall scope of the project during the Exploration phase."
   ]
  },
  {
   "attachments": {},
   "cell_type": "markdown",
   "id": "39253e0d",
   "metadata": {},
   "source": [
    "3. Team Brain began working in Python and bravely pivoted and restarted in R to better fit the desired analysis goals."
   ]
  },
  {
   "attachments": {},
   "cell_type": "markdown",
   "id": "b098e6da",
   "metadata": {},
   "source": [
    "4. Team Brain is showing connected flexibility for meeting times without compromising total working hours."
   ]
  },
  {
   "attachments": {},
   "cell_type": "markdown",
   "id": "1eadb10f",
   "metadata": {},
   "source": [
    "5. By the end of the week, Team Brain recovered from the unexpected setback and disruption of the changing team dynamics and caught up on the missed workdays that resulted from the polar team schedules and lack of team time from the start of the week."
   ]
  },
  {
   "cell_type": "markdown",
   "id": "e77e0669",
   "metadata": {},
   "source": [
    "### 3 Things Team Brain Did Poorly and How They Will Mitigate Them Next Sprint\n",
    "\n",
    "<hr style=\"height:5px;border-width:0;color:MediumBlue;background-color:MediumBlue\">"
   ]
  },
  {
   "attachments": {},
   "cell_type": "markdown",
   "id": "f441e4aa",
   "metadata": {},
   "source": [
    "1. We poorly remembered our Python training and struggled to create the subgroups we need using groupby() functions."
   ]
  },
  {
   "attachments": {},
   "cell_type": "markdown",
   "id": "1eb2f9ae",
   "metadata": {},
   "source": [
    "2. We felt initially intimated by the example notebooks we were given in terms of creating the page headers and table of contents, but we spent time reviewing the code together, deconstructed the example provided and learned a cool new skill."
   ]
  },
  {
   "attachments": {},
   "cell_type": "markdown",
   "id": "b673be0f",
   "metadata": {},
   "source": [
    "3. We were unprepared for Joe’s vacation tree icon and responded too late to reschedule our 1:1 with Margaret. We will proactively check in with Margaret at the start of the week and plan better."
   ]
  },
  {
   "cell_type": "markdown",
   "id": "7abcf6aa",
   "metadata": {},
   "source": [
    "### Shout-Outs\n",
    "\n",
    "<hr style=\"height:5px;border-width:0;color:MediumBlue;background-color:MediumBlue\">"
   ]
  },
  {
   "attachments": {},
   "cell_type": "markdown",
   "id": "02725c8e",
   "metadata": {},
   "source": [
    "From Rachelle: \"While both team members showed incredible resilience, transparency and integrity during our team member challenges this week and warrant praise for due diligence, the real shout-out goes to our Guardian Data Science Angel aka Wilderteck for jumping in with never-before-seen notebook formatting skills, code and next-level analytic thinking that is appropriately both inspiring and intimidating. But mostly inspiring. 😊\""
   ]
  },
  {
   "cell_type": "markdown",
   "id": "3396d5ff",
   "metadata": {},
   "source": [
    "From Samantha: \"Shout out to Rachelle for their amazing performance and persistence in achieving successes. Your hard work and dedication are truly inspiring and have been instrumental in driving the team forward. Your exceptional organizational skills have also been a huge asset to our workflow. Keep up the great work!\""
   ]
  },
  {
   "cell_type": "markdown",
   "id": "9f6001b8",
   "metadata": {},
   "source": [
    "### What Was Learned as a Team this Week\n",
    "\n",
    "<hr style=\"height:5px;border-width:0;color:MediumBlue;background-color:MediumBlue\">"
   ]
  },
  {
   "attachments": {},
   "cell_type": "markdown",
   "id": "8a8791e6",
   "metadata": {},
   "source": [
    "Team Brain learned the value of having team members who are willing to hear each other’s ideas and follow a line of thinking through, even if they have different ideas of how to work with the data."
   ]
  },
  {
   "cell_type": "markdown",
   "id": "40a9d39a",
   "metadata": {},
   "source": [
    "### What Was Learned as an Individual this Week\n",
    "\n",
    "<hr style=\"height:5px;border-width:0;color:MediumBlue;background-color:MediumBlue\">"
   ]
  },
  {
   "attachments": {},
   "cell_type": "markdown",
   "id": "696b9715",
   "metadata": {},
   "source": [
    "Brenda learned that she would prefer to work independently and on her own time schedule."
   ]
  },
  {
   "attachments": {},
   "cell_type": "markdown",
   "id": "7ebc22b5",
   "metadata": {},
   "source": [
    "This week, Samantha gained valuable insights regarding teamwork in the face of obstacles. Effective communication proved to be crucial in navigating such challenges. Additionally, she discovered that in the field of data science, it is not uncommon to encounter moments of stagnation. However, with persistence, a resolution can always be reached. Furthermore, Samantha recognized the benefits of maintaining good organization, not only for personal productivity, but for the benefit of colleagues and team members as well."
   ]
  },
  {
   "attachments": {},
   "cell_type": "markdown",
   "id": "58aa31e9",
   "metadata": {},
   "source": [
    "Rachelle learned that she knows more than she thinks she knows but identified that the course structure of learning concepts and then jumping from Python to R in the same lesson was more destructive to retention than anticipated. She is now course-correcting her internal note organization to reflect her learning."
   ]
  }
 ],
 "metadata": {
  "kernelspec": {
   "display_name": "Python 3 (ipykernel)",
   "language": "python",
   "name": "python3"
  },
  "language_info": {
   "codemirror_mode": {
    "name": "ipython",
    "version": 3
   },
   "file_extension": ".py",
   "mimetype": "text/x-python",
   "name": "python",
   "nbconvert_exporter": "python",
   "pygments_lexer": "ipython3",
   "version": "3.11.3"
  }
 },
 "nbformat": 4,
 "nbformat_minor": 5
}
