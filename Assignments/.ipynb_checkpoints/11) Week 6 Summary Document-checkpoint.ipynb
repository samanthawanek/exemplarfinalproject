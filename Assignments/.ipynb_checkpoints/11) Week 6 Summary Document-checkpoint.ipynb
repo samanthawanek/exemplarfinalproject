{
 "cells": [
  {
   "cell_type": "markdown",
   "id": "295d8a06-6079-4b51-bd1d-429d242bf31c",
   "metadata": {},
   "source": [
    "<hr style=\"height:5px;border-width:0;color:Pink;background-color:Pink\">\n",
    "\n",
    "# Week 6 Summary Document\n",
    "\n",
    "<hr style=\"height:5px;border-width:0;color:Pink;background-color:Pink\">"
   ]
  },
  {
   "cell_type": "markdown",
   "id": "0ffed461-0527-4980-83a8-a6c85ca61530",
   "metadata": {},
   "source": [
    "## SCRUM Master for the Next Week \n",
    "\n",
    "<hr style=\"height:5px;border-width:0;color:Pink;background-color:Pink\">"
   ]
  },
  {
   "cell_type": "markdown",
   "id": "c0647df1-c32e-4d36-ad63-e1c39fca84d1",
   "metadata": {},
   "source": [
    "Our project is completed and we do not need a SCRUM Master for next week."
   ]
  },
  {
   "cell_type": "markdown",
   "id": "09337614-8453-409b-90b1-8a33c2dc7aba",
   "metadata": {},
   "source": [
    "<hr style=\"height:5px;border-width:0;color:Pink;background-color:Pink\">\n",
    "\n",
    "## 5 things Team Brain Did Well and Will Continue Doing\n",
    "\n",
    "<hr style=\"height:5px;border-width:0;color:Pink;background-color:Pink\">"
   ]
  },
  {
   "cell_type": "markdown",
   "id": "712f335d-1474-493f-99c5-01c051447aa1",
   "metadata": {},
   "source": [
    "1. Team Brain did a great job prepping for presentation this week."
   ]
  },
  {
   "cell_type": "markdown",
   "id": "62d6c4a1-92b7-4e3d-ab97-a191a9ca17ad",
   "metadata": {},
   "source": [
    "2. Team Brain met and communicated frequently for final touches to our project before presenting."
   ]
  },
  {
   "cell_type": "markdown",
   "id": "c5f1f7b9-bfd3-47f7-9f85-8e214f0c7e3f",
   "metadata": {},
   "source": [
    "3. Team Brain did a great job supporting each other before presenting our project, boosting each others confidence."
   ]
  },
  {
   "cell_type": "markdown",
   "id": "3cb6f31c-6c76-4ed0-a145-24bd11299db7",
   "metadata": {},
   "source": [
    "4. Team Brain completed a very beautiful final project to present."
   ]
  },
  {
   "cell_type": "markdown",
   "id": "7bc92bb2-8e3d-48b0-9c80-333429ff8895",
   "metadata": {},
   "source": [
    "5. Team Brain presented their final project and received many compliments on our work and how our presentation was formatted."
   ]
  },
  {
   "cell_type": "markdown",
   "id": "77f818ae-1dfd-4231-bcf0-517f2312f7d9",
   "metadata": {},
   "source": [
    "<hr style=\"height:5px;border-width:0;color:Pink;background-color:Pink\">\n",
    "\n",
    "### 3 Things Team Brain Did Poorly and How They Will Mitigate Them Next Sprint\n",
    "\n",
    "<hr style=\"height:5px;border-width:0;color:Pink;background-color:Pink\">"
   ]
  },
  {
   "cell_type": "markdown",
   "id": "8225d3e4-e394-44b8-b4ab-9f44cb6013c2",
   "metadata": {},
   "source": [
    "After rewatching our presentation, Team Brain has realized that Samantha needs a better mic for presentations and zoom calls in their future ventures. "
   ]
  },
  {
   "cell_type": "markdown",
   "id": "59756595-6b84-4507-b976-d666f4c7864a",
   "metadata": {},
   "source": [
    "<hr style=\"height:5px;border-width:0;color:Pink;background-color:Pink\">\n",
    "\n",
    "## Shout-Outs\n",
    "\n",
    "<hr style=\"height:5px;border-width:0;color:Pink;background-color:Pink\">"
   ]
  },
  {
   "cell_type": "markdown",
   "id": "d72ff9cd-3fbb-46c8-8207-68c1dc74378e",
   "metadata": {},
   "source": [
    "From Samantha: I want to take a moment to recognize and celebrate Rachelle's incredible commitment, strength, organization, accommodations, leadership skills, communication, support, willingness, drive, and overall contributions to our team and team project. You have truly been a rockstar and a shining example of excellence.\n",
    "\n",
    "Your commitment to the project has been unwavering. Despite challenges and setbacks, you have consistently shown up with dedication and a positive attitude, in such an inspiring way. Your strength in the face of adversity has been truly remarkable, and it has motivated us to push through difficult times.\n",
    "\n",
    "Your organizational skills have been instrumental in keeping our team on track. Your meticulous attention to detail and ability to juggle multiple tasks have ensured that everything runs smoothly.\n",
    "\n",
    "As a leader, you have gone above and beyond. Your natural ability to guide and inspire others has brought out the best in our team. Your clear vision and strategic approach have provided us with a strong direction, making us a cohesive and high-performing unit.\n",
    "\n",
    "Communication is key, and you excel in this area. Your open and transparent communication style has fostered a collaborative and inclusive environment where ideas flow freely. You actively listen to others, value their perspectives, and encourage meaningful discussions, resulting in innovative solutions.\n",
    "\n",
    "Your support for team members, both personally and professionally, has been truly remarkable. You have consistently shown kindness, empathy, and understanding, making everyone feel valued and appreciated. Your willingness to lend a helping hand and provide guidance has been invaluable to our collective growth and success.\n",
    "\n",
    "Your drive and determination are infectious. You constantly push us to strive for greatness and go beyond our limits. Your passion for the project and unwavering belief in our team's potential have motivated us to achieve new heights. Your resilience in the face of challenges has inspired us to persevere and overcome any obstacles that come our way.\n",
    "\n",
    "Rachelle, your overall contributions to our team and project cannot be overstated. You have been an integral part of our success, and I am immensely grateful for all that you have done. Your hard work, dedication, and outstanding abilities have made a lasting impact, and we couldn't have achieved what we did without you.\n",
    "\n",
    "Thank you, Rachelle, for being an exceptional team member and an extraordinary individual. You truly embody the qualities of a remarkable leader, and I am honored to have worked on this project with you. Keep shining brightly!"
   ]
  },
  {
   "cell_type": "markdown",
   "id": "723e5c65-11bd-4bbe-9358-30b1fb89cefb",
   "metadata": {},
   "source": [
    "<hr style=\"height:5px;border-width:0;color:Pink;background-color:Pink\">\n",
    "\n",
    "## What Was Learned as a Team this Week\n",
    "\n",
    "<hr style=\"height:5px;border-width:0;color:Pink;background-color:Pink\">"
   ]
  },
  {
   "cell_type": "markdown",
   "id": "36a595c2-4c91-4bf1-aab0-bf2e82eafe29",
   "metadata": {},
   "source": [
    "Team Brain is proud of our final project, we have truly learned so much valuable insights and tactics in approaching Data Science, and feel confident in our abilities to be Data Scientists."
   ]
  },
  {
   "cell_type": "markdown",
   "id": "f66e2931-ee96-47f7-a888-e0e1aa42e762",
   "metadata": {},
   "source": [
    "<hr style=\"height:5px;border-width:0;color:Pink;background-color:Pink\">\n",
    "\n",
    "## What Was Learned as an Individual this Week\n",
    "\n",
    "<hr style=\"height:5px;border-width:0;color:Pink;background-color:Pink\">"
   ]
  },
  {
   "cell_type": "markdown",
   "id": "20f10ea2-eeb5-40a3-b8f2-723317abd268",
   "metadata": {},
   "source": [
    "Rachelle Fertig: I learned this week that I am capable of doing graduate level work as a Data Scientist, and I am proud of the skills I've developed and refined in this process. "
   ]
  },
  {
   "cell_type": "markdown",
   "id": "78fb6cab-c0ce-41a1-b5c4-ea457e3fb0bc",
   "metadata": {},
   "source": [
    "Samantha Wanek: I learned this week that I am capable of much more in this field than I had believed before completing a final project, and I am proud of the skills I've acquired on this journey."
   ]
  }
 ],
 "metadata": {
  "kernelspec": {
   "display_name": "Python 3 (ipykernel)",
   "language": "python",
   "name": "python3"
  },
  "language_info": {
   "codemirror_mode": {
    "name": "ipython",
    "version": 3
   },
   "file_extension": ".py",
   "mimetype": "text/x-python",
   "name": "python",
   "nbconvert_exporter": "python",
   "pygments_lexer": "ipython3",
   "version": "3.11.3"
  }
 },
 "nbformat": 4,
 "nbformat_minor": 5
}
