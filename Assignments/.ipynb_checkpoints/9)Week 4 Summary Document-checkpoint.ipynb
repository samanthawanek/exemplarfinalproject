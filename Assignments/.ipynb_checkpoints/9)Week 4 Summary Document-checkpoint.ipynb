{
 "cells": [
  {
   "cell_type": "markdown",
   "id": "eb8e0762-568e-4f12-8271-07b3cb162741",
   "metadata": {},
   "source": [
    "<hr style=\"height:5px;border-width:0;color:MediumBlue;background-color:MediumBlue\">\n",
    "\n",
    "# Week 4 Summary Document\n",
    "\n",
    "<hr style=\"height:5px;border-width:0;color:MediumBlue;background-color:MediumBlue\">"
   ]
  },
  {
   "cell_type": "markdown",
   "id": "deccc69f-55a4-4096-8fdc-97eef592f9be",
   "metadata": {},
   "source": [
    "### SCRUM Master for the Next Week \n",
    "\n",
    "<hr style=\"height:5px;border-width:0;color:MediumBlue;background-color:MediumBlue\">"
   ]
  },
  {
   "cell_type": "markdown",
   "id": "1cb7d9ec-f2b3-4e8f-9d63-9a1cef71a276",
   "metadata": {},
   "source": [
    "Rachelle Fertig"
   ]
  },
  {
   "cell_type": "markdown",
   "id": "6bd8aabc-1f9e-4293-81a1-77b88b482e79",
   "metadata": {},
   "source": [
    "### 5 things Team Brain Did Well and Will Continue Doing\n",
    "\n",
    "<hr style=\"height:5px;border-width:0;color:MediumBlue;background-color:MediumBlue\">"
   ]
  },
  {
   "cell_type": "markdown",
   "id": "bd3eae19-7a7b-4954-b119-6d02768811dc",
   "metadata": {},
   "source": [
    "1. Team Brain did a great job using the time from week 4 wisely to stay on track for completion."
   ]
  },
  {
   "cell_type": "markdown",
   "id": "87613dc5-64f0-4439-b218-0746464cba67",
   "metadata": {},
   "source": [
    "2. Team Brain has been consistent in updating all our notebooks, assignments, and schedules."
   ]
  },
  {
   "cell_type": "markdown",
   "id": "e48d9344-731f-4201-8bdc-119d6e6ae161",
   "metadata": {},
   "source": [
    "3. Team Brain has made it through many obstacles with much ease from staying in good communication and good spirit about the project."
   ]
  },
  {
   "cell_type": "markdown",
   "id": "55d6ba9c-18d7-4e13-958e-3f22ba1b8e41",
   "metadata": {},
   "source": [
    "4. Team Brain has gotten into the mind space of vizualizations and presentation and feel prepared."
   ]
  },
  {
   "cell_type": "markdown",
   "id": "24be2ba7-db69-42b3-b98b-6e1cfaa303d3",
   "metadata": {},
   "source": [
    "5. Team Brain reached out to the instructors to schedule our presentation!"
   ]
  },
  {
   "cell_type": "markdown",
   "id": "e72eff2c-1ca4-492c-b6f8-319ae8f2ea26",
   "metadata": {},
   "source": [
    "### 3 Things Team Brain Did Poorly and How They Will Mitigate Them Next Sprint\n",
    "\n",
    "<hr style=\"height:5px;border-width:0;color:MediumBlue;background-color:MediumBlue\">"
   ]
  },
  {
   "cell_type": "markdown",
   "id": "2fb59b7f-8a83-47d0-8780-aee48cbe40d6",
   "metadata": {},
   "source": [
    "Team Brain is a well oiled machine and did really great work this week getting all our major obstacles handled and pre-planning the next two weeks of work. "
   ]
  },
  {
   "cell_type": "markdown",
   "id": "51d9aa70-0d3e-4236-88c1-3121fd35d5fb",
   "metadata": {},
   "source": [
    "### Shout-Outs\n",
    "\n",
    "<hr style=\"height:5px;border-width:0;color:MediumBlue;background-color:MediumBlue\">"
   ]
  },
  {
   "cell_type": "markdown",
   "id": "d8a128f7-b6a3-43b4-9e3e-ae0df9d6038e",
   "metadata": {},
   "source": [
    "From Rachelle: Samantha brilliantly spearheaded our team's desires to work through our code in both languages. She plotted a course and worked to correct our initial challenges in our analysis process and continued on to conquor our project and bring a new dimension of analysis and confidence to our team."
   ]
  },
  {
   "cell_type": "markdown",
   "id": "b9661d35-1f0f-4098-a80b-c19207c63e60",
   "metadata": {},
   "source": [
    "From Samantha: Rachelle is amazing to work with and a great asset to our team. She works hard and diligently, and her curiousity has lead our project to a really unique place. She has made something considered to typically be tedious, incredibly fun and it has opened up the scope of our project so much."
   ]
  },
  {
   "cell_type": "markdown",
   "id": "4e380430-b4f6-417d-aa7b-9c125b8fa310",
   "metadata": {},
   "source": [
    "### What Was Learned as a Team this Week\n",
    "\n",
    "<hr style=\"height:5px;border-width:0;color:MediumBlue;background-color:MediumBlue\">"
   ]
  },
  {
   "cell_type": "markdown",
   "id": "5b59386a-14ce-4fd0-b273-ab43a50cb4f9",
   "metadata": {},
   "source": [
    "Team Brain has learned together that we are good at data science, good at using our resources and using our time wisely."
   ]
  },
  {
   "cell_type": "markdown",
   "id": "cfb2ce80-590d-4d67-ae77-2d598503e40e",
   "metadata": {},
   "source": [
    "### What Was Learned as an Individual this Week\n",
    "\n",
    "<hr style=\"height:5px;border-width:0;color:MediumBlue;background-color:MediumBlue\">"
   ]
  },
  {
   "cell_type": "markdown",
   "id": "318f4cda-b3b6-4ba1-b535-737938b8b372",
   "metadata": {},
   "source": [
    "Rachelle Fertig: This week I have learned that I love Data Science and for the first time I believe that I have the skills to back up my analytic mindset and that I'm going to be great at this in the field."
   ]
  },
  {
   "cell_type": "markdown",
   "id": "56b89d85-a0c5-4001-a4fc-649fa24625d7",
   "metadata": {},
   "source": [
    "Samantha Wanek: This week I learned how to really use the skills learned in the courses and how it all ties together at the end of a project. Moving into our presentation stages, my confidence has grown and I am feeling prepaired for what comes next- our presentation and more projects!"
   ]
  }
 ],
 "metadata": {
  "kernelspec": {
   "display_name": "Python 3 (ipykernel)",
   "language": "python",
   "name": "python3"
  },
  "language_info": {
   "codemirror_mode": {
    "name": "ipython",
    "version": 3
   },
   "file_extension": ".py",
   "mimetype": "text/x-python",
   "name": "python",
   "nbconvert_exporter": "python",
   "pygments_lexer": "ipython3",
   "version": "3.11.3"
  }
 },
 "nbformat": 4,
 "nbformat_minor": 5
}
