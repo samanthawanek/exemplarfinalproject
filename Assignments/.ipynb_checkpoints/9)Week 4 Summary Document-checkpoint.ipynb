{
 "cells": [
  {
   "cell_type": "markdown",
   "id": "eb8e0762-568e-4f12-8271-07b3cb162741",
   "metadata": {},
   "source": [
    "<hr style=\"height:5px;border-width:0;color:MediumBlue;background-color:MediumBlue\">\n",
    "\n",
    "# Week 4 Summary Document\n",
    "\n",
    "<hr style=\"height:5px;border-width:0;color:MediumBlue;background-color:MediumBlue\">"
   ]
  },
  {
   "cell_type": "markdown",
   "id": "deccc69f-55a4-4096-8fdc-97eef592f9be",
   "metadata": {},
   "source": [
    "### SCRUM Master for the Next Week \n",
    "\n",
    "<hr style=\"height:5px;border-width:0;color:MediumBlue;background-color:MediumBlue\">"
   ]
  },
  {
   "cell_type": "markdown",
   "id": "1cb7d9ec-f2b3-4e8f-9d63-9a1cef71a276",
   "metadata": {},
   "source": [
    "Rachelle Fertig"
   ]
  },
  {
   "cell_type": "markdown",
   "id": "6bd8aabc-1f9e-4293-81a1-77b88b482e79",
   "metadata": {},
   "source": [
    "### 5 things Team Brain Did Well and Will Continue Doing\n",
    "\n",
    "<hr style=\"height:5px;border-width:0;color:MediumBlue;background-color:MediumBlue\">"
   ]
  },
  {
   "cell_type": "markdown",
   "id": "bd3eae19-7a7b-4954-b119-6d02768811dc",
   "metadata": {},
   "source": [
    "1. "
   ]
  },
  {
   "cell_type": "markdown",
   "id": "87613dc5-64f0-4439-b218-0746464cba67",
   "metadata": {},
   "source": [
    "2. "
   ]
  },
  {
   "cell_type": "markdown",
   "id": "e48d9344-731f-4201-8bdc-119d6e6ae161",
   "metadata": {},
   "source": [
    "3. "
   ]
  },
  {
   "cell_type": "markdown",
   "id": "55d6ba9c-18d7-4e13-958e-3f22ba1b8e41",
   "metadata": {},
   "source": [
    "4. "
   ]
  },
  {
   "cell_type": "markdown",
   "id": "24be2ba7-db69-42b3-b98b-6e1cfaa303d3",
   "metadata": {},
   "source": [
    "5. "
   ]
  },
  {
   "cell_type": "markdown",
   "id": "e72eff2c-1ca4-492c-b6f8-319ae8f2ea26",
   "metadata": {},
   "source": [
    "### 3 Things Team Brain Did Poorly and How They Will Mitigate Them Next Sprint\n",
    "\n",
    "<hr style=\"height:5px;border-width:0;color:MediumBlue;background-color:MediumBlue\">"
   ]
  },
  {
   "cell_type": "markdown",
   "id": "2fb59b7f-8a83-47d0-8780-aee48cbe40d6",
   "metadata": {},
   "source": [
    "1. "
   ]
  },
  {
   "cell_type": "markdown",
   "id": "af38774e-3d6e-45c5-b939-e1670751bab8",
   "metadata": {},
   "source": [
    "2. "
   ]
  },
  {
   "cell_type": "markdown",
   "id": "07c50dab-9386-49f7-93c7-74528acd0f3d",
   "metadata": {},
   "source": [
    "3. "
   ]
  },
  {
   "cell_type": "markdown",
   "id": "51d9aa70-0d3e-4236-88c1-3121fd35d5fb",
   "metadata": {},
   "source": [
    "### Shout-Outs\n",
    "\n",
    "<hr style=\"height:5px;border-width:0;color:MediumBlue;background-color:MediumBlue\">"
   ]
  },
  {
   "cell_type": "markdown",
   "id": "d8a128f7-b6a3-43b4-9e3e-ae0df9d6038e",
   "metadata": {},
   "source": []
  },
  {
   "cell_type": "markdown",
   "id": "4e380430-b4f6-417d-aa7b-9c125b8fa310",
   "metadata": {},
   "source": [
    "### What Was Learned as a Team this Week\n",
    "\n",
    "<hr style=\"height:5px;border-width:0;color:MediumBlue;background-color:MediumBlue\">"
   ]
  },
  {
   "cell_type": "markdown",
   "id": "5b59386a-14ce-4fd0-b273-ab43a50cb4f9",
   "metadata": {},
   "source": []
  },
  {
   "cell_type": "markdown",
   "id": "cfb2ce80-590d-4d67-ae77-2d598503e40e",
   "metadata": {},
   "source": [
    "### What Was Learned as an Individual this Week\n",
    "\n",
    "<hr style=\"height:5px;border-width:0;color:MediumBlue;background-color:MediumBlue\">"
   ]
  },
  {
   "cell_type": "markdown",
   "id": "318f4cda-b3b6-4ba1-b535-737938b8b372",
   "metadata": {},
   "source": []
  },
  {
   "cell_type": "markdown",
   "id": "56b89d85-a0c5-4001-a4fc-649fa24625d7",
   "metadata": {},
   "source": []
  }
 ],
 "metadata": {
  "kernelspec": {
   "display_name": "Python 3 (ipykernel)",
   "language": "python",
   "name": "python3"
  },
  "language_info": {
   "codemirror_mode": {
    "name": "ipython",
    "version": 3
   },
   "file_extension": ".py",
   "mimetype": "text/x-python",
   "name": "python",
   "nbconvert_exporter": "python",
   "pygments_lexer": "ipython3",
   "version": "3.11.3"
  }
 },
 "nbformat": 4,
 "nbformat_minor": 5
}
