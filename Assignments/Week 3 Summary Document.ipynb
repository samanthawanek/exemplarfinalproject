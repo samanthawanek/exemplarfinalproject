{
 "cells": [
  {
   "cell_type": "markdown",
   "id": "dc44e30d",
   "metadata": {},
   "source": [
    "<hr style=\"height:5px;border-width:0;color:MediumBlue;background-color:MediumBlue\">\n",
    "\n",
    "# Week 2 Summary Document\n",
    "\n",
    "<hr style=\"height:5px;border-width:0;color:MediumBlue;background-color:MediumBlue\">"
   ]
  },
  {
   "cell_type": "markdown",
   "id": "c5149252",
   "metadata": {},
   "source": [
    "### SCRUM Master for the Next Week \n",
    "\n",
    "<hr style=\"height:5px;border-width:0;color:MediumBlue;background-color:MediumBlue\">"
   ]
  },
  {
   "cell_type": "markdown",
   "id": "ed39ef4e",
   "metadata": {},
   "source": [
    "Samantha Wanek"
   ]
  },
  {
   "cell_type": "markdown",
   "id": "fce0ba90",
   "metadata": {},
   "source": [
    "### 5 things Team Brain Did Well and Will Continue Doing\n",
    "\n",
    "<hr style=\"height:5px;border-width:0;color:MediumBlue;background-color:MediumBlue\">"
   ]
  },
  {
   "cell_type": "markdown",
   "id": "41f3b9fe",
   "metadata": {},
   "source": [
    "1."
   ]
  },
  {
   "cell_type": "markdown",
   "id": "f6ada9af",
   "metadata": {},
   "source": [
    "2."
   ]
  },
  {
   "cell_type": "markdown",
   "id": "39bfcbf4",
   "metadata": {},
   "source": [
    "3."
   ]
  },
  {
   "cell_type": "markdown",
   "id": "1c8a1f88",
   "metadata": {},
   "source": [
    "4."
   ]
  },
  {
   "cell_type": "markdown",
   "id": "51f827f4",
   "metadata": {},
   "source": [
    "5."
   ]
  },
  {
   "cell_type": "markdown",
   "id": "9999df5a",
   "metadata": {},
   "source": [
    "### 3 Things Team Brain Did Poorly and How They Will Mitigate Them Next Sprint\n",
    "\n",
    "<hr style=\"height:5px;border-width:0;color:MediumBlue;background-color:MediumBlue\">"
   ]
  },
  {
   "cell_type": "markdown",
   "id": "7c3075c8",
   "metadata": {},
   "source": [
    "1."
   ]
  },
  {
   "cell_type": "markdown",
   "id": "57a142d2",
   "metadata": {},
   "source": [
    "2."
   ]
  },
  {
   "cell_type": "markdown",
   "id": "1f5c801c",
   "metadata": {},
   "source": [
    "3."
   ]
  },
  {
   "cell_type": "markdown",
   "id": "8032e4c8",
   "metadata": {},
   "source": [
    "### Shout-Outs\n",
    "\n",
    "<hr style=\"height:5px;border-width:0;color:MediumBlue;background-color:MediumBlue\">"
   ]
  },
  {
   "cell_type": "code",
   "execution_count": null,
   "id": "4b456e89",
   "metadata": {},
   "outputs": [],
   "source": []
  },
  {
   "cell_type": "markdown",
   "id": "8807734c",
   "metadata": {},
   "source": [
    "### What Was Learned as a Team this Week\n",
    "\n",
    "<hr style=\"height:5px;border-width:0;color:MediumBlue;background-color:MediumBlue\">"
   ]
  },
  {
   "cell_type": "markdown",
   "id": "5f9372c7",
   "metadata": {},
   "source": []
  },
  {
   "cell_type": "markdown",
   "id": "f3744ceb",
   "metadata": {},
   "source": [
    "### What Was Learned as an Individual this Week\n",
    "\n",
    "<hr style=\"height:5px;border-width:0;color:MediumBlue;background-color:MediumBlue\">"
   ]
  },
  {
   "cell_type": "markdown",
   "id": "8ab5359e",
   "metadata": {},
   "source": []
  }
 ],
 "metadata": {
  "kernelspec": {
   "display_name": "Python 3 (ipykernel)",
   "language": "python",
   "name": "python3"
  },
  "language_info": {
   "codemirror_mode": {
    "name": "ipython",
    "version": 3
   },
   "file_extension": ".py",
   "mimetype": "text/x-python",
   "name": "python",
   "nbconvert_exporter": "python",
   "pygments_lexer": "ipython3",
   "version": "3.11.3"
  }
 },
 "nbformat": 4,
 "nbformat_minor": 5
}
