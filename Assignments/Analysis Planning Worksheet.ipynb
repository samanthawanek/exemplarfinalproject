{
 "cells": [
  {
   "attachments": {},
   "cell_type": "markdown",
   "id": "c907b743",
   "metadata": {},
   "source": [
    "<hr style=\"height:5px;border-width:0;color:MediumAquamarine;background-color:MediumBlue\">\n",
    "\n",
    "# Analysis Planning Worksheet\n",
    "\n",
    "<hr style=\"height:5px;border-width:0;color:MediumAquamarine;background-color:MediumBlue\">"
   ]
  },
  {
   "cell_type": "markdown",
   "id": "1532c7b6",
   "metadata": {},
   "source": [
    "## Evaluation Questions\n",
    "\n",
    "<hr style=\"height:5px;border-width:0;color:MediumAquamarine;background-color:MediumBlue\">"
   ]
  },
  {
   "attachments": {},
   "cell_type": "markdown",
   "id": "e1d66560",
   "metadata": {},
   "source": [
    "1. Does the increase of toxic elements or decrease of non-toxic essential elements (IV's) predict the status of ASD (DV)?"
   ]
  },
  {
   "attachments": {},
   "cell_type": "markdown",
   "id": "522e4d26",
   "metadata": {},
   "source": [
    "2. How does the urine test differ (Toxic vs Non-Toxic) for kids with Autism (ASD) to Typically Developing kids (TD)?"
   ]
  },
  {
   "attachments": {},
   "cell_type": "markdown",
   "id": "f30e69a2",
   "metadata": {},
   "source": [
    "3. How does the urine test differ (Toxic vs Non-Toxic) for mothers with Autism (ASD) to Typically Developing moms (TD)?"
   ]
  },
  {
   "attachments": {},
   "cell_type": "markdown",
   "id": "84ffe50a",
   "metadata": {},
   "source": [
    "4. How does the urine test differ (Toxic vs Non-Toxic) for kids with Autism (ASD) to their moms with Autism(ASD)?"
   ]
  },
  {
   "attachments": {},
   "cell_type": "markdown",
   "id": "30114e63",
   "metadata": {},
   "source": [
    "<hr style=\"height:5px;border-width:0;color:MediumAquamarine;background-color:MediumBlue\">\n",
    "\n",
    "## Independent Variable(s)\n",
    "\n",
    "##### These variable(s) are causing something or creating an effect. List what each is and whether it is categorical or continuous. It is ok to only have one.\n",
    "\n",
    "<hr style=\"height:5px;border-width:0;color:MediumAquamarine;background-color:MediumBlue\">"
   ]
  },
  {
   "cell_type": "markdown",
   "id": "44564995",
   "metadata": {},
   "source": [
    "### Variable:"
   ]
  },
  {
   "cell_type": "markdown",
   "id": "f511eecb",
   "metadata": {},
   "source": [
    "Essential Elements, Continuous"
   ]
  },
  {
   "attachments": {},
   "cell_type": "markdown",
   "id": "9ed59ab7",
   "metadata": {},
   "source": [
    "<hr style=\"height:5px;border-width:0;color:MediumAquamarine;background-color:MediumBlue\">\n",
    "\n",
    "## Dependent Variable(s)\n",
    "\n",
    "##### These variable(s) are influenced by your independent variable and depend on them. List what each is and whether it is categorical or continuous. Unless they are related, you should have only one. \n",
    "\n",
    "<hr style=\"height:5px;border-width:0;color:MediumAquamarine;background-color:MediumBlue\">"
   ]
  },
  {
   "cell_type": "markdown",
   "id": "f779ca23",
   "metadata": {},
   "source": [
    "### Variable:"
   ]
  },
  {
   "cell_type": "markdown",
   "id": "16705482",
   "metadata": {},
   "source": [
    "Status, Categorical- 2 levels"
   ]
  },
  {
   "cell_type": "markdown",
   "id": "8e0a4961",
   "metadata": {},
   "source": [
    "### Variable:"
   ]
  },
  {
   "cell_type": "markdown",
   "id": "fd65d925",
   "metadata": {},
   "source": [
    "Type, Categorical- 2 levels"
   ]
  },
  {
   "attachments": {},
   "cell_type": "markdown",
   "id": "e9807db7",
   "metadata": {},
   "source": [
    "<hr style=\"height:5px;border-width:0;color:MediumAquamarine;background-color:MediumBlue\">\n",
    "\n",
    "## Analyses\n",
    "\n",
    "##### Now that you know the type and number of independent and dependent variables, you are ready to use the analysis flow charts to choose your analysis!\n",
    "\n",
    "<hr style=\"height:5px;border-width:0;color:MediumAquamarine;background-color:MediumBlue\">"
   ]
  },
  {
   "attachments": {},
   "cell_type": "markdown",
   "id": "7675f4fa",
   "metadata": {},
   "source": [
    "Stepwise Regression"
   ]
  },
  {
   "attachments": {},
   "cell_type": "markdown",
   "id": "19783c8e",
   "metadata": {},
   "source": [
    "Descriptive Statistics"
   ]
  }
 ],
 "metadata": {
  "kernelspec": {
   "display_name": "Python 3 (ipykernel)",
   "language": "python",
   "name": "python3"
  },
  "language_info": {
   "codemirror_mode": {
    "name": "ipython",
    "version": 3
   },
   "file_extension": ".py",
   "mimetype": "text/x-python",
   "name": "python",
   "nbconvert_exporter": "python",
   "pygments_lexer": "ipython3",
   "version": "3.11.3"
  }
 },
 "nbformat": 4,
 "nbformat_minor": 5
}
