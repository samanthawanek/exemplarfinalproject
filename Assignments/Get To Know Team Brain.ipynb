{
 "cells": [
  {
   "cell_type": "markdown",
   "id": "4a88e242",
   "metadata": {},
   "source": [
    "<hr style=\"height:5px;border-width:0;color:MediumAquamarine;background-color:MediumBlue\">\n",
    "\n",
    "# Get To Know Team Brain\n",
    "\n",
    "<hr style=\"height:5px;border-width:0;color:MediumAquamarine;background-color:MediumBlue\">"
   ]
  },
  {
   "attachments": {},
   "cell_type": "markdown",
   "id": "d350860f",
   "metadata": {},
   "source": [
    "## What do the members of Team brain consider to be their strengths?\n",
    "\n",
    "<hr style=\"height:5px;border-width:0;color:MediumAquamarine;background-color:MediumBlue\">"
   ]
  },
  {
   "attachments": {},
   "cell_type": "markdown",
   "id": "3d4b248d",
   "metadata": {},
   "source": [
    "Rachelle believes their strengths consist of working above and beyond with requirements, a desire to evaluate data and find conclusions, and a belief in being thorough in their work."
   ]
  },
  {
   "cell_type": "markdown",
   "id": "ae4d9627",
   "metadata": {},
   "source": [
    "Samantha believes their strengths consist of being very organized and prepared- communicative and eager to provide clearer insight to existing data."
   ]
  },
  {
   "cell_type": "markdown",
   "id": "443bffb7",
   "metadata": {},
   "source": [
    "Brenda believes her strength consists of being able to work together with others to achieve meaningful insights on the data."
   ]
  },
  {
   "attachments": {},
   "cell_type": "markdown",
   "id": "4945d446",
   "metadata": {},
   "source": [
    "## What do the members of Team Brain consider to be their weaknesses?\n",
    "\n",
    "<hr style=\"height:5px;border-width:0;color:MediumAquamarine;background-color:MediumBlue\">"
   ]
  },
  {
   "attachments": {},
   "cell_type": "markdown",
   "id": "2e86b1b0",
   "metadata": {},
   "source": [
    "Rachelle sees themself struggling at times with a form of tunnel vision in learning, where they can get caught up in the data or learning. "
   ]
  },
  {
   "cell_type": "markdown",
   "id": "d8721f8e",
   "metadata": {},
   "source": [
    "Samantha sees themselves struggling with a form of tunnel vision in learning as well. "
   ]
  },
  {
   "cell_type": "markdown",
   "id": "1533a89c",
   "metadata": {},
   "source": [
    "Brenda can doubt herself at times."
   ]
  },
  {
   "attachments": {},
   "cell_type": "markdown",
   "id": "584d2444",
   "metadata": {},
   "source": [
    "## How do the members of Team Brain feel they work best? \n",
    "##### This could be anything from the time of day they like to work, to the type of work they like to do, the resources they frequently utilize, or even the best way to communicate with them.\n",
    "\n",
    "<hr style=\"height:5px;border-width:0;color:MediumAquamarine;background-color:MediumBlue\">"
   ]
  },
  {
   "attachments": {},
   "cell_type": "markdown",
   "id": "84e47055",
   "metadata": {},
   "source": [
    "Rachelle is comfortable working evenings and nights, and appreciates frequent communication organized and non-organized via text, calls, Zoom and Slack. "
   ]
  },
  {
   "cell_type": "markdown",
   "id": "4bdc6bd9",
   "metadata": {},
   "source": [
    "Samantha is comfortable working at most hours throughout the day and into evening and nights, prefers text communication, phone calls, as well as Zoom and Slack."
   ]
  },
  {
   "cell_type": "markdown",
   "id": "391ca68f",
   "metadata": {},
   "source": [
    "Brenda prefers to work in the evening and prefers communicating through phone calls or through video calls."
   ]
  },
  {
   "attachments": {},
   "cell_type": "markdown",
   "id": "0c97cab7",
   "metadata": {},
   "source": [
    "## How would the team members like to receive feedback? \n",
    "##### In an ideal world, feedback would be primarily good - everyone is tackling their assigned tasks with aplomb. But sometimes, things don't run as smoothly. Having a plan in place ahead of time to have these hard conversations is smart!\n",
    "\n",
    "<hr style=\"height:5px;border-width:0;color:MediumAquamarine;background-color:MediumBlue\">"
   ]
  },
  {
   "attachments": {},
   "cell_type": "markdown",
   "id": "fd90d47c",
   "metadata": {},
   "source": [
    "Rachelle is completely open and very appreciative of any/all feedback. "
   ]
  },
  {
   "cell_type": "markdown",
   "id": "f2c48a08",
   "metadata": {},
   "source": [
    "Samantha is completely open and very appreciative of any/all feedback."
   ]
  },
  {
   "cell_type": "markdown",
   "id": "c4e30098",
   "metadata": {},
   "source": [
    "Brenda is open to any feedback from her teammates and professor."
   ]
  }
 ],
 "metadata": {
  "kernelspec": {
   "display_name": "Python 3 (ipykernel)",
   "language": "python",
   "name": "python3"
  },
  "language_info": {
   "codemirror_mode": {
    "name": "ipython",
    "version": 3
   },
   "file_extension": ".py",
   "mimetype": "text/x-python",
   "name": "python",
   "nbconvert_exporter": "python",
   "pygments_lexer": "ipython3",
   "version": "3.11.3"
  }
 },
 "nbformat": 4,
 "nbformat_minor": 5
}
