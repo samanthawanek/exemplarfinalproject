{
 "cells": [
  {
   "cell_type": "markdown",
   "id": "9ace23f6",
   "metadata": {},
   "source": [
    "<hr style=\"height:5px;border-width:0;color:MediumAquamarine;background-color:MediumBlue\">\n",
    "\n",
    "# Week 2 Summary Document\n",
    "\n",
    "<hr style=\"height:5px;border-width:0;color:MediumAquamarine;background-color:MediumBlue\">"
   ]
  },
  {
   "cell_type": "markdown",
   "id": "267aa0e6",
   "metadata": {},
   "source": [
    "### SCRUM Master for the Next Week \n",
    "\n",
    "<hr style=\"height:5px;border-width:0;color:MediumAquamarine;background-color:MediumBlue\">"
   ]
  },
  {
   "cell_type": "markdown",
   "id": "e0ef11fc",
   "metadata": {},
   "source": [
    "Brenda Aguilar"
   ]
  },
  {
   "cell_type": "markdown",
   "id": "d74a422d",
   "metadata": {},
   "source": [
    "### 5 things Team Brain Did Well and Will Continue Doing\n",
    "\n",
    "<hr style=\"height:5px;border-width:0;color:MediumAquamarine;background-color:MediumBlue\">"
   ]
  },
  {
   "attachments": {},
   "cell_type": "markdown",
   "id": "3f1f7c85",
   "metadata": {},
   "source": [
    "1. Team Brain meetings include an ideal level of listening and respect among the team members."
   ]
  },
  {
   "attachments": {},
   "cell_type": "markdown",
   "id": "b45a7a2b",
   "metadata": {},
   "source": [
    "2. Team Brain has a strong ability to reach out for help when they need it."
   ]
  },
  {
   "attachments": {},
   "cell_type": "markdown",
   "id": "8e01328c",
   "metadata": {},
   "source": [
    "3. Team Brain continues to improve organization throughout the project process."
   ]
  },
  {
   "attachments": {},
   "cell_type": "markdown",
   "id": "0a14fef1",
   "metadata": {},
   "source": [
    "4. Team Brain is doing a great job staying on track with the projected timeline for project completion."
   ]
  },
  {
   "attachments": {},
   "cell_type": "markdown",
   "id": "04318cbb",
   "metadata": {},
   "source": [
    "5. Team Brain continues to keep a positive outlook on the quality of their presentation, despite the obstacles that have presented along the course of the project thus far."
   ]
  },
  {
   "attachments": {},
   "cell_type": "markdown",
   "id": "82859921",
   "metadata": {},
   "source": [
    "### 3 Things Team Brain Did Poorly and How They Will Mitigate Them Next Sprint\n",
    "\n",
    "<hr style=\"height:5px;border-width:0;color:MediumAquamarine;background-color:MediumBlue\">"
   ]
  },
  {
   "attachments": {},
   "cell_type": "markdown",
   "id": "05f41012",
   "metadata": {},
   "source": [
    "1. The Kanban board is not being checked daily by all teammates; this will be remedied by being referenced in the daily stand up by no less than one teammate and referenced as an important requirement in the project requirement outline accessible from the GitHub repository."
   ]
  },
  {
   "attachments": {},
   "cell_type": "markdown",
   "id": "6ff6c9c2",
   "metadata": {},
   "source": [
    "2. Daily Stand ups are not being made by all teammates; this will be remedied by daily team reminders on the Kanban board to check in with a daily stand up and referenced in a project requirement outline in the GitHub repository."
   ]
  },
  {
   "attachments": {},
   "cell_type": "markdown",
   "id": "efb2ef73",
   "metadata": {},
   "source": [
    "3. The current location of the teammates personal working schedules is not clear and accessible to reference; these hours will now be posted in the GitHub repository via the project requirement outline to mitigate the impact of teammates being unsure of other team members availability."
   ]
  },
  {
   "cell_type": "markdown",
   "id": "a5af876e",
   "metadata": {},
   "source": [
    "### Shout-Outs\n",
    "\n",
    "<hr style=\"height:5px;border-width:0;color:MediumAquamarine;background-color:MediumBlue\">"
   ]
  },
  {
   "attachments": {},
   "cell_type": "markdown",
   "id": "499c9fbe",
   "metadata": {},
   "source": [
    "Rachelle Fertig has shown exceptional initiative in reaching out for additional help and guidance from the data’s mock owner (Instructor), as well as going above and beyond in her background research that assists in data wrangling for the data being used in this project."
   ]
  },
  {
   "cell_type": "markdown",
   "id": "3952f90d",
   "metadata": {},
   "source": [
    "### What Was Learned as a Team this Week\n",
    "\n",
    "<hr style=\"height:5px;border-width:0;color:MediumAquamarine;background-color:MediumBlue\">"
   ]
  },
  {
   "cell_type": "markdown",
   "id": "4e345df5",
   "metadata": {},
   "source": [
    "Team Brain has learned the impact of working as a team in different time zones with different individual work and personal schedules."
   ]
  },
  {
   "cell_type": "markdown",
   "id": "b649248f",
   "metadata": {},
   "source": [
    "### What Was Learned as an Individual this Week\n",
    "\n",
    "<hr style=\"height:5px;border-width:0;color:MediumAquamarine;background-color:MediumBlue\">"
   ]
  },
  {
   "attachments": {},
   "cell_type": "markdown",
   "id": "5551ab40",
   "metadata": {},
   "source": [
    "Brenda has expressed that she learned the importance of documenting every step of this project."
   ]
  },
  {
   "attachments": {},
   "cell_type": "markdown",
   "id": "90feafdb",
   "metadata": {},
   "source": [
    "Samantha has expressed that she learned the importance of checking in with teammates consistently throughout the duration of working as a group on a project."
   ]
  },
  {
   "attachments": {},
   "cell_type": "markdown",
   "id": "617fe341",
   "metadata": {},
   "source": [
    "Rachelle has expressed that she learned a new perspective on how to look at raw data and think like a data scientist and ask question."
   ]
  }
 ],
 "metadata": {
  "kernelspec": {
   "display_name": "Python 3 (ipykernel)",
   "language": "python",
   "name": "python3"
  },
  "language_info": {
   "codemirror_mode": {
    "name": "ipython",
    "version": 3
   },
   "file_extension": ".py",
   "mimetype": "text/x-python",
   "name": "python",
   "nbconvert_exporter": "python",
   "pygments_lexer": "ipython3",
   "version": "3.11.3"
  }
 },
 "nbformat": 4,
 "nbformat_minor": 5
}
