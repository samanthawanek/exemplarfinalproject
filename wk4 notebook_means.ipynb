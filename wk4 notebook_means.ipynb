{
 "cells": [
  {
   "cell_type": "markdown",
   "id": "0067644e",
   "metadata": {},
   "source": [
    "<hr style=\"height:5px;border-width:0;color:MediumAquamarine;background-color:MediumBlue\">\n",
    "\n",
    "# Urinary Essential Elements of Young Children with Autism Spectrum Disorder (ASD) and their Mothers\n",
    "\n",
    "- [Mendeley Reference](https://data.mendeley.com/datasets/79fk29dvk6/1)\n",
    "- [Science Direct Reference](https://www.sciencedirect.com/science/article/abs/pii/S1750946720300088?via%3Dihub)\n",
    "\n",
    "<hr style=\"height:5px;border-width:0;color:MediumAquamarine;background-color:MediumBlue\">"
   ]
  },
  {
   "cell_type": "markdown",
   "id": "46dd29e9",
   "metadata": {},
   "source": [
    "### Table of Contents <a class=\"anchor\" id=\"PAN_toc\"></a>\n",
    "\n",
    "* [Table of Contents](#PAN_toc)\n",
    "    * [Page 1 - Abstract](#PAN_page_1)\n",
    "    * [Page 2 - Imported Libraries](#PAN_page_2)\n",
    "    * [Page 3 - Import the Dataset](#PAN_page_3)\n",
    "    * [Page 4 - Setting Notebook Options](#PAN_page_4)\n",
    "    * [Page 5 - Looking at the Data](#PAN_page_5)\n",
    "    * [Page 6 - Checking the Column Names](#PAN_page_6)\n",
    "    * [Page 7 - Cleaning the Column Names](#PAN_page_7)\n",
    "    * [Page 8 - Counting Columns](#PAN_page_8)\n",
    "    * [Page 9 - Getting Info about the Dataset](#PAN_page_9)\n",
    "    * [Page 10 - Get Descriptive Statistics about the Dataset](#PAN_page_10)\n",
    "    * [Page 11 - Counting Rows and Removing any NANs](#PAN_page_11)\n",
    "    * [Page 12 - Q1: Does the increase of toxic elements or decrease of essential elements predict the status of ASD?](#PAN_page_12)\n",
    "    * [Page 13 - Q1: Analysis -Multiple Stepwise Regression - Backwards](#PAN_page_13)\n",
    "    * [Page 14 - Creating a new Cleaned Dataset](#PAN_page_14)"
   ]
  },
  {
   "cell_type": "markdown",
   "id": "ced3d412",
   "metadata": {},
   "source": [
    "<hr style=\"height:5px;border-width:0;color:MediumAquamarine;background-color:MediumBlue\">\n",
    "\n",
    "# Page 1 - Abstract <a class=\"anchor\" id=\"PAN_page_1\"></a>\n",
    "\n",
    "[Back to Top](#PAN_toc)\n",
    "\n",
    "<hr style=\"height:5px;border-width:0;color:MediumAquamarine;background-color:MediumBlue\">"
   ]
  },
  {
   "cell_type": "markdown",
   "id": "a55100ab",
   "metadata": {},
   "source": [
    "### Background\n",
    "Even though the cause of autism spectrum disorders (ASD) remains unknown, the current understanding points towards complex interactions between environmental and genetic factors. One important environmental factor to consider is intake of toxic and essential elements, and their role in metabolism. Essential elements have received considerably less attention in the literature than the presence of toxins in urine.\n",
    "\n",
    "### Method\n",
    "The purpose of this investigation is to comprehensively assess the association between urinary element compositions of 28 mothers who had young children with ASD and 29 mothers who had young typically developing (TD) children, and in a subset of their children (21 with ASD and 26 TD).\n",
    "\n",
    "### Questions\n",
    "1. Does the increase of toxic elements or decrease of essential elements (IV's) predict the status of ASD (DV)?\n",
    "2. How does the urine test differ (Toxic vs Essential) for kids with Autism (ASD) to Typically Developing kids (TD)?\n",
    "3. How does the urine test differ (Toxic vs Essential) for mothers with Autism (ASD) to Typically Developing moms (TD)?\n",
    "4. How does the urine test differ (Toxic vs Essential) for kids with Autism (ASD) to their moms with Autism(ASD)?\n",
    "\n",
    "### Analysis Setup\n",
    "DV1 = Status with 2 levels (ASD or TD)<br>\n",
    "DV2 = Type with 2 levels (Child or Mother)<br>\n",
    "IV1 = Group of 20 Toxic elements (Aluminum to Uranium) <br>\n",
    "IV2 = Group of 19 Essential elements (Boron to Creatinine)"
   ]
  },
  {
   "cell_type": "markdown",
   "id": "13528239",
   "metadata": {},
   "source": [
    "<hr style=\"height:5px;border-width:0;color:MediumAquamarine;background-color:MediumBlue\">\n",
    "\n",
    "# Page 2 - Imported Libraries<a class=\"anchor\" id=\"PAN_page_2\"></a>\n",
    "\n",
    "[Back to Top](#PAN_toc)\n",
    "\n",
    "<hr style=\"height:5px;border-width:0;color:MediumAquamarine;background-color:MediumBlue\">"
   ]
  },
  {
   "cell_type": "code",
   "execution_count": 1,
   "id": "c0e55813-4d84-40c7-b93a-1e07285220d1",
   "metadata": {
    "tags": []
   },
   "outputs": [
    {
     "name": "stderr",
     "output_type": "stream",
     "text": [
      "Installing package into 'C:/Users/rache/AppData/Local/R/win-library/4.2'\n",
      "(as 'lib' is unspecified)\n",
      "\n"
     ]
    },
    {
     "name": "stdout",
     "output_type": "stream",
     "text": [
      "package 'readxl' successfully unpacked and MD5 sums checked\n",
      "\n",
      "The downloaded binary packages are in\n",
      "\tC:\\Users\\rache\\AppData\\Local\\Temp\\RtmpOmqZjN\\downloaded_packages\n"
     ]
    }
   ],
   "source": [
    "install.packages(\"readxl\")"
   ]
  },
  {
   "cell_type": "code",
   "execution_count": 17,
   "id": "43a17d3c-b7cd-4a5e-876b-d3d6c50b64e5",
   "metadata": {
    "tags": []
   },
   "outputs": [],
   "source": [
    "library(\"mvnormtest\")                   #test for multivariate normality\n",
    "library(\"car\")                          #run the MANOVA test and other assumption testing\n",
    "library(\"IDPmisc\")                      #remove missing data for Shapiro test\n",
    "library(\"multcomp\")                     #conducting post hocs for ANCOVAs\n",
    "library(\"dplyr\")                        #calculate means\n",
    "library(\"readxl\")\n",
    "library(\"tidyr\")\n",
    "library(\"ggplot2\")"
   ]
  },
  {
   "cell_type": "markdown",
   "id": "ca89dc99",
   "metadata": {},
   "source": [
    "<hr style=\"height:5px;border-width:0;color:MediumAquamarine;background-color:MediumBlue\">\n",
    "\n",
    "# Page 3 - Import the Dataset <a class=\"anchor\" id=\"PAN_page_3\"></a>\n",
    "\n",
    "[Back to Top](#PAN_toc)\n",
    "\n",
    "<hr style=\"height:5px;border-width:0;color:MediumAquamarine;background-color:MediumBlue\">"
   ]
  },
  {
   "cell_type": "code",
   "execution_count": 18,
   "id": "e178f7e6-641a-4493-9d0b-d735ed2b0bcc",
   "metadata": {
    "tags": []
   },
   "outputs": [],
   "source": [
    "#import data from Data folder\n",
    "data <- read_excel(\"../Data/DATA.xlsx\")"
   ]
  },
  {
   "cell_type": "markdown",
   "id": "473041f7",
   "metadata": {},
   "source": [
    "<hr style=\"height:5px;border-width:0;color:MediumAquamarine;background-color:MediumBlue\">\n",
    "\n",
    "# Page 4 - Setting Notebook Options<a class=\"anchor\" id=\"PAN_page_4\"></a>\n",
    "\n",
    "[Back to Top](#PAN_toc)\n",
    "\n",
    "<hr style=\"height:5px;border-width:0;color:MediumAquamarine;background-color:MediumBlue\">"
   ]
  },
  {
   "cell_type": "code",
   "execution_count": 19,
   "id": "63ca5780-2049-4713-bc11-1625e44c3b95",
   "metadata": {
    "tags": []
   },
   "outputs": [],
   "source": [
    "# set max columns and rows\n",
    "options(repr.matrix.max.cols=1000)\n",
    "options(max.print = 105) # set the maximum number of rows to 105\n",
    "options(repr.matrix.max.rows=105)"
   ]
  },
  {
   "cell_type": "markdown",
   "id": "25d80dda",
   "metadata": {},
   "source": [
    "<hr style=\"height:5px;border-width:0;color:MediumAquamarine;background-color:MediumBlue\">\n",
    "\n",
    "# Page 5 - Looking at the Data<a class=\"anchor\" id=\"PAN_page_5\"></a>\n",
    "\n",
    "[Back to Top](#PAN_toc)\n",
    "\n",
    "<hr style=\"height:5px;border-width:0;color:MediumAquamarine;background-color:MediumBlue\">"
   ]
  },
  {
   "cell_type": "code",
   "execution_count": 20,
   "id": "b2ba3390-65c7-4e19-a741-ace5c0ae73e6",
   "metadata": {
    "tags": []
   },
   "outputs": [
    {
     "data": {
      "text/html": [
       "<table class=\"dataframe\">\n",
       "<caption>A tibble: 105 × 42</caption>\n",
       "<thead>\n",
       "\t<tr><th scope=col>'ID Number'</th><th scope=col>'Status'</th><th scope=col>'Type'</th><th scope=col>'Aluminum'</th><th scope=col>'Antimony'</th><th scope=col>'Arsenic'</th><th scope=col>'Barium'</th><th scope=col>'Beryllium'</th><th scope=col>'Bismuth'</th><th scope=col>'Cadmium'</th><th scope=col>'Cesium'</th><th scope=col>'Gadolinium'</th><th scope=col>'Lead'</th><th scope=col>'Mercury'</th><th scope=col>'Nickel'</th><th scope=col>'Palladium'</th><th scope=col>'Platinum'</th><th scope=col>'Tellurium'</th><th scope=col>'Thallium'</th><th scope=col>'Thorium'</th><th scope=col>'Tin'</th><th scope=col>'Tungsten'</th><th scope=col>'Uranium'</th><th scope=col>'Boron'</th><th scope=col>'Calcium'</th><th scope=col>'Chromium'</th><th scope=col>'Cobalt'</th><th scope=col>'Copper'</th><th scope=col>'Iron'</th><th scope=col>'Lithium'</th><th scope=col>'Magnesium'</th><th scope=col>'Manganese'</th><th scope=col>'Molybdenum'</th><th scope=col>'Phosphorus'</th><th scope=col>'Potassium'</th><th scope=col>'Selenium'</th><th scope=col>'Sodium'</th><th scope=col>'Strontium'</th><th scope=col>'Sulfur'</th><th scope=col>'Vanadium'</th><th scope=col>'Zinc'</th><th scope=col>'Creatinine'</th></tr>\n",
       "\t<tr><th scope=col>&lt;dbl&gt;</th><th scope=col>&lt;chr&gt;</th><th scope=col>&lt;chr&gt;</th><th scope=col>&lt;dbl&gt;</th><th scope=col>&lt;dbl&gt;</th><th scope=col>&lt;dbl&gt;</th><th scope=col>&lt;dbl&gt;</th><th scope=col>&lt;dbl&gt;</th><th scope=col>&lt;dbl&gt;</th><th scope=col>&lt;dbl&gt;</th><th scope=col>&lt;dbl&gt;</th><th scope=col>&lt;dbl&gt;</th><th scope=col>&lt;dbl&gt;</th><th scope=col>&lt;dbl&gt;</th><th scope=col>&lt;dbl&gt;</th><th scope=col>&lt;dbl&gt;</th><th scope=col>&lt;dbl&gt;</th><th scope=col>&lt;dbl&gt;</th><th scope=col>&lt;dbl&gt;</th><th scope=col>&lt;dbl&gt;</th><th scope=col>&lt;dbl&gt;</th><th scope=col>&lt;dbl&gt;</th><th scope=col>&lt;dbl&gt;</th><th scope=col>&lt;dbl&gt;</th><th scope=col>&lt;dbl&gt;</th><th scope=col>&lt;dbl&gt;</th><th scope=col>&lt;dbl&gt;</th><th scope=col>&lt;dbl&gt;</th><th scope=col>&lt;dbl&gt;</th><th scope=col>&lt;dbl&gt;</th><th scope=col>&lt;dbl&gt;</th><th scope=col>&lt;dbl&gt;</th><th scope=col>&lt;dbl&gt;</th><th scope=col>&lt;dbl&gt;</th><th scope=col>&lt;dbl&gt;</th><th scope=col>&lt;dbl&gt;</th><th scope=col>&lt;dbl&gt;</th><th scope=col>&lt;dbl&gt;</th><th scope=col>&lt;dbl&gt;</th><th scope=col>&lt;dbl&gt;</th><th scope=col>&lt;dbl&gt;</th><th scope=col>&lt;dbl&gt;</th></tr>\n",
       "</thead>\n",
       "<tbody>\n",
       "\t<tr><td> 1</td><td>'ASD'</td><td>'Child' </td><td> 7.000000000</td><td>2.000000e-01</td><td>1.100000e+01</td><td>2.100000e+00</td><td>0.0007071068</td><td>1.131371e-04</td><td>1.414214e-04</td><td> 4.3</td><td>9.899495e-05</td><td>2.000000e-01</td><td>0.0004242641</td><td>4.900000e+00</td><td>0.0008485281</td><td>1.131371e-04</td><td>0.0005656854</td><td>1.000000e-01</td><td>4.242641e-05</td><td>1.600000e+00</td><td>3.000000e-01</td><td>7.071068e-05</td><td> 2.30</td><td>140.0</td><td>0.0004242641</td><td>0.0011313708</td><td>0.014</td><td>0.24000000</td><td>0.083</td><td>200</td><td>0.0007000000</td><td>0.130</td><td>1180</td><td> 24</td><td>0.110</td><td> 56</td><td>0.130</td><td> 680</td><td>0.0002828427</td><td>0.660</td><td>175.0</td></tr>\n",
       "\t<tr><td> 3</td><td>'ASD'</td><td>'Child' </td><td>19.000000000</td><td>2.000000e-01</td><td>8.100000e+00</td><td>8.000000e+00</td><td>0.0003535534</td><td>5.656854e-05</td><td>7.071068e-05</td><td>16.0</td><td>4.949747e-05</td><td>1.000000e+00</td><td>0.0002121320</td><td>2.900000e+00</td><td>0.0004242641</td><td>5.656854e-05</td><td>0.0002828427</td><td>6.000000e-01</td><td>2.121320e-05</td><td>1.000000e+00</td><td>2.000000e-01</td><td>3.535534e-05</td><td> 4.90</td><td> 81.0</td><td>0.0002121320</td><td>0.0005656854</td><td>0.018</td><td>0.20000000</td><td>0.170</td><td>170</td><td>0.0050000000</td><td>0.180</td><td> 360</td><td>120</td><td>0.094</td><td>290</td><td>0.170</td><td> 860</td><td>0.0005000000</td><td>0.480</td><td> 76.0</td></tr>\n",
       "\t<tr><td> 5</td><td>'ASD'</td><td>'Child' </td><td> 9.200000000</td><td>5.656854e-05</td><td>5.900000e+00</td><td>4.700000e+00</td><td>0.0003535534</td><td>2.000000e-01</td><td>7.071068e-05</td><td>11.0</td><td>4.949747e-05</td><td>5.000000e-01</td><td>0.0002121320</td><td>9.400000e+00</td><td>0.0004242641</td><td>5.656854e-05</td><td>0.0002828427</td><td>3.000000e-01</td><td>2.121320e-05</td><td>8.400000e+00</td><td>6.000000e-01</td><td>3.535534e-05</td><td> 2.90</td><td>300.0</td><td>0.0006000000</td><td>0.0030000000</td><td>0.021</td><td>0.60000000</td><td>0.170</td><td>310</td><td>0.0040000000</td><td>0.170</td><td>1860</td><td>120</td><td>0.110</td><td>240</td><td>0.370</td><td>1050</td><td>0.0006000000</td><td>0.750</td><td> 58.6</td></tr>\n",
       "\t<tr><td> 6</td><td>'ASD'</td><td>'Child' </td><td> 8.400000000</td><td>5.656854e-05</td><td>1.400000e+01</td><td>3.000000e+00</td><td>0.0003535534</td><td>5.656854e-05</td><td>7.071068e-05</td><td>16.0</td><td>4.949747e-05</td><td>9.000000e-01</td><td>0.0002121320</td><td>1.500000e+01</td><td>0.0004242641</td><td>5.656854e-05</td><td>0.0002828427</td><td>4.000000e-01</td><td>2.121320e-05</td><td>1.400000e+00</td><td>3.000000e-01</td><td>3.535534e-05</td><td> 8.60</td><td>200.0</td><td>0.0010000000</td><td>0.0005656854</td><td>0.024</td><td>0.43000000</td><td>0.061</td><td>390</td><td>0.0050000000</td><td>0.043</td><td> 150</td><td>120</td><td>0.069</td><td>190</td><td>0.330</td><td> 630</td><td>0.0004000000</td><td>0.240</td><td> 54.3</td></tr>\n",
       "\t<tr><td> 8</td><td>'ASD'</td><td>'Child' </td><td> 5.600000000</td><td>2.828427e-05</td><td>1.100000e+01</td><td>3.800000e+00</td><td>0.0001767767</td><td>2.828427e-05</td><td>3.535534e-05</td><td> 4.5</td><td>2.474874e-05</td><td>4.000000e-01</td><td>1.0000000000</td><td>2.500000e+00</td><td>0.0002121320</td><td>2.828427e-05</td><td>0.0001414214</td><td>4.000000e-01</td><td>1.060660e-05</td><td>6.000000e-01</td><td>3.000000e-01</td><td>1.767767e-05</td><td> 1.30</td><td> 62.0</td><td>0.0010000000</td><td>0.0002828427</td><td>0.022</td><td>0.03535534</td><td>0.220</td><td>170</td><td>0.0070000000</td><td>0.085</td><td> 910</td><td>180</td><td>0.140</td><td>190</td><td>0.120</td><td>1290</td><td>0.0008000000</td><td>0.270</td><td> 30.6</td></tr>\n",
       "\t<tr><td>10</td><td>'ASD'</td><td>'Child' </td><td>17.000000000</td><td>6.000000e-01</td><td>1.500000e+01</td><td>3.100000e+00</td><td>0.0003535534</td><td>5.656854e-05</td><td>7.071068e-05</td><td>10.0</td><td>4.949747e-05</td><td>5.000000e-01</td><td>0.0002121320</td><td>5.200000e+00</td><td>0.0004242641</td><td>5.656854e-05</td><td>0.0002828427</td><td>2.000000e-01</td><td>2.121320e-05</td><td>5.000000e-01</td><td>1.000000e-01</td><td>3.535534e-05</td><td> 4.50</td><td>250.0</td><td>0.0010000000</td><td>0.0005656854</td><td>0.019</td><td>0.53000000</td><td>0.120</td><td>180</td><td>0.0020000000</td><td>0.110</td><td>1200</td><td> 54</td><td>0.180</td><td>330</td><td>0.240</td><td> 800</td><td>0.0005000000</td><td>1.100</td><td> 70.6</td></tr>\n",
       "\t<tr><td>12</td><td>'ASD'</td><td>'Child' </td><td> 9.500000000</td><td>5.656854e-05</td><td>1.200000e+02</td><td>4.200000e+00</td><td>0.0003535534</td><td>5.656854e-05</td><td>2.000000e-01</td><td> 5.7</td><td>4.949747e-05</td><td>3.000000e-01</td><td>0.0002121320</td><td>6.700000e+00</td><td>0.0004242641</td><td>5.656854e-05</td><td>0.0002828427</td><td>3.000000e-01</td><td>2.121320e-05</td><td>2.000000e-01</td><td>3.000000e-01</td><td>3.535534e-05</td><td> 3.80</td><td>340.0</td><td>0.0005000000</td><td>0.0010000000</td><td>0.018</td><td>0.63000000</td><td>0.083</td><td>230</td><td>0.0020000000</td><td>0.100</td><td>1320</td><td> 45</td><td>0.130</td><td>120</td><td>0.290</td><td>1090</td><td>0.0001414214</td><td>0.660</td><td> 82.1</td></tr>\n",
       "\t<tr><td>17</td><td>'ASD'</td><td>'Child' </td><td> 6.800000000</td><td>2.000000e-01</td><td>3.500000e+01</td><td>4.000000e+00</td><td>0.0007071068</td><td>1.131371e-04</td><td>1.414214e-04</td><td> 3.3</td><td>3.300000e+01</td><td>4.000000e-01</td><td>0.0004242641</td><td>9.700000e+00</td><td>0.0008485281</td><td>1.131371e-04</td><td>0.0005656854</td><td>9.000000e-02</td><td>4.242641e-05</td><td>4.000000e+00</td><td>1.200000e+00</td><td>7.071068e-05</td><td> 2.20</td><td>170.0</td><td>0.0010000000</td><td>0.0009000000</td><td>0.018</td><td>0.30000000</td><td>0.140</td><td>120</td><td>0.0004000000</td><td>0.140</td><td> 260</td><td> 14</td><td>0.089</td><td> 91</td><td>0.350</td><td> 670</td><td>0.0009000000</td><td>0.690</td><td>172.0</td></tr>\n",
       "\t<tr><td>19</td><td>'ASD'</td><td>'Child' </td><td>24.000000000</td><td>2.000000e-01</td><td>1.400000e+01</td><td>2.600000e+00</td><td>0.0003535534</td><td>5.656854e-05</td><td>7.071068e-05</td><td> 4.4</td><td>4.949747e-05</td><td>5.000000e-01</td><td>0.0002121320</td><td>3.800000e+00</td><td>0.0004242641</td><td>5.656854e-05</td><td>0.0002828427</td><td>6.000000e-01</td><td>2.121320e-05</td><td>2.000000e+00</td><td>7.000000e-02</td><td>3.535534e-05</td><td> 4.50</td><td>150.0</td><td>0.0002121320</td><td>0.0005656854</td><td>0.020</td><td>0.34000000</td><td>0.084</td><td>110</td><td>0.0060000000</td><td>0.058</td><td> 810</td><td>120</td><td>0.091</td><td>200</td><td>0.260</td><td> 690</td><td>0.0006000000</td><td>0.740</td><td> 87.4</td></tr>\n",
       "\t<tr><td>20</td><td>'ASD'</td><td>'Child' </td><td>21.000000000</td><td>7.000000e-02</td><td>1.200000e+01</td><td>1.800000e+00</td><td>0.0003535534</td><td>5.656854e-05</td><td>2.000000e-01</td><td> 3.6</td><td>4.949747e-05</td><td>1.000000e-01</td><td>0.0002121320</td><td>1.300000e+00</td><td>0.0004242641</td><td>5.656854e-05</td><td>0.0002828427</td><td>2.000000e-01</td><td>2.121320e-05</td><td>2.000000e-01</td><td>2.000000e-01</td><td>3.535534e-05</td><td> 2.40</td><td> 38.0</td><td>0.0004000000</td><td>0.0005656854</td><td>0.020</td><td>0.07071068</td><td>0.055</td><td>150</td><td>0.0020000000</td><td>0.083</td><td> 900</td><td> 51</td><td>0.100</td><td> 45</td><td>0.060</td><td> 990</td><td>0.0002000000</td><td>0.500</td><td>123.0</td></tr>\n",
       "\t<tr><td>25</td><td>'ASD'</td><td>'Child' </td><td> 7.700000000</td><td>1.000000e-01</td><td>1.100000e+01</td><td>1.000000e+01</td><td>0.0003535534</td><td>1.000000e-01</td><td>7.071068e-05</td><td> 6.9</td><td>4.949747e-05</td><td>5.000000e-01</td><td>0.7000000000</td><td>7.100000e+00</td><td>0.0004242641</td><td>5.656854e-05</td><td>0.0002828427</td><td>4.000000e-01</td><td>2.121320e-05</td><td>9.000000e-01</td><td>1.000000e-01</td><td>2.000000e-01</td><td> 2.30</td><td>180.0</td><td>0.0002121320</td><td>0.0005656854</td><td>0.059</td><td>0.37000000</td><td>0.044</td><td>190</td><td>0.0040000000</td><td>0.097</td><td>1240</td><td>130</td><td>0.130</td><td>280</td><td>0.250</td><td> 820</td><td>0.0005000000</td><td>0.790</td><td> 73.8</td></tr>\n",
       "\t<tr><td>28</td><td>'ASD'</td><td>'Child' </td><td> 3.200000000</td><td>5.656854e-05</td><td>2.121320e-03</td><td>1.400000e+00</td><td>0.0003535534</td><td>5.656854e-05</td><td>7.071068e-05</td><td> 5.0</td><td>4.949747e-05</td><td>3.000000e-01</td><td>0.0002121320</td><td>1.600000e+00</td><td>0.0004242641</td><td>5.656854e-05</td><td>0.0002828427</td><td>8.000000e-02</td><td>2.121320e-05</td><td>2.900000e+00</td><td>2.000000e-01</td><td>3.535534e-05</td><td> 1.40</td><td> 61.0</td><td>0.0002121320</td><td>0.0005656854</td><td>0.014</td><td>0.07071068</td><td>0.100</td><td>220</td><td>0.0007000000</td><td>0.068</td><td> 820</td><td> 23</td><td>0.057</td><td> 79</td><td>0.120</td><td> 610</td><td>0.0001414214</td><td>0.660</td><td> 76.6</td></tr>\n",
       "\t<tr><td>29</td><td>'ASD'</td><td>'Child' </td><td> 3.500000000</td><td>5.656854e-05</td><td>1.500000e+01</td><td>4.200000e+00</td><td>0.0003535534</td><td>5.656854e-05</td><td>7.071068e-05</td><td> 3.9</td><td>4.949747e-05</td><td>8.000000e-01</td><td>0.0002121320</td><td>4.600000e+00</td><td>0.0004242641</td><td>5.656854e-05</td><td>0.0002828427</td><td>2.000000e-01</td><td>2.121320e-05</td><td>5.000000e-01</td><td>6.000000e-02</td><td>1.000000e-01</td><td> 3.50</td><td>220.0</td><td>0.0002121320</td><td>0.0005656854</td><td>0.013</td><td>0.40000000</td><td>0.066</td><td>290</td><td>0.0020000000</td><td>0.008</td><td> 530</td><td> 49</td><td>0.039</td><td> 54</td><td>0.320</td><td> 630</td><td>0.0001414214</td><td>0.530</td><td> 84.8</td></tr>\n",
       "\t<tr><td>30</td><td>'ASD'</td><td>'Child' </td><td>18.000000000</td><td>4.000000e-01</td><td>4.200000e+00</td><td>6.400000e+00</td><td>0.0003535534</td><td>5.656854e-05</td><td>7.071068e-05</td><td> 6.6</td><td>4.949747e-05</td><td>4.000000e-01</td><td>0.0002121320</td><td>3.800000e+00</td><td>0.0004242641</td><td>5.656854e-05</td><td>0.0002828427</td><td>1.000000e-01</td><td>2.121320e-05</td><td>1.200000e+00</td><td>4.000000e-01</td><td>3.535534e-05</td><td> 1.10</td><td>140.0</td><td>0.0003000000</td><td>0.0005656854</td><td>0.015</td><td>0.25000000</td><td>0.054</td><td> 79</td><td>0.0006000000</td><td>0.090</td><td> 610</td><td> 17</td><td>0.074</td><td>170</td><td>0.210</td><td> 730</td><td>0.0003000000</td><td>0.790</td><td>135.0</td></tr>\n",
       "\t<tr><td>31</td><td>'ASD'</td><td>'Child' </td><td>15.000000000</td><td>5.656854e-05</td><td>2.121320e-03</td><td>5.000000e-01</td><td>0.0003535534</td><td>5.656854e-05</td><td>7.071068e-05</td><td> 8.6</td><td>4.949747e-05</td><td>8.000000e-01</td><td>0.6000000000</td><td>1.600000e+00</td><td>0.0004242641</td><td>5.656854e-05</td><td>0.0002828427</td><td>5.000000e-01</td><td>2.121320e-05</td><td>2.000000e-01</td><td>2.000000e-01</td><td>3.535534e-05</td><td> 3.30</td><td> 14.0</td><td>0.0002121320</td><td>0.0005656854</td><td>0.020</td><td>0.07071068</td><td>0.043</td><td> 60</td><td>0.0050000000</td><td>0.044</td><td> 720</td><td>120</td><td>0.072</td><td>230</td><td>0.036</td><td> 770</td><td>0.0006000000</td><td>0.330</td><td> 68.2</td></tr>\n",
       "\t<tr><td>32</td><td>'ASD'</td><td>'Child' </td><td> 3.500000000</td><td>5.656854e-05</td><td>1.200000e+01</td><td>4.000000e+00</td><td>0.0003535534</td><td>5.656854e-05</td><td>7.071068e-05</td><td>11.0</td><td>4.949747e-05</td><td>5.000000e-01</td><td>0.3000000000</td><td>4.400000e+00</td><td>0.0004242641</td><td>5.656854e-05</td><td>0.0002828427</td><td>3.000000e-01</td><td>2.121320e-05</td><td>4.000000e-01</td><td>1.000000e-01</td><td>3.535534e-05</td><td> 3.70</td><td> 92.0</td><td>0.0002121320</td><td>0.0008000000</td><td>0.018</td><td>0.18000000</td><td>0.084</td><td>190</td><td>0.0020000000</td><td>0.045</td><td>1290</td><td> 52</td><td>0.054</td><td>210</td><td>0.140</td><td> 740</td><td>0.0004000000</td><td>0.280</td><td>110.0</td></tr>\n",
       "\t<tr><td>33</td><td>'ASD'</td><td>'Child' </td><td>33.000000000</td><td>5.656854e-05</td><td>7.100000e+00</td><td>2.800000e+00</td><td>0.0003535534</td><td>5.656854e-05</td><td>7.071068e-05</td><td> 8.4</td><td>4.949747e-05</td><td>3.000000e-01</td><td>0.0002121320</td><td>4.300000e+00</td><td>0.0004242641</td><td>5.656854e-05</td><td>0.0002828427</td><td>3.000000e-01</td><td>2.121320e-05</td><td>4.000000e-01</td><td>2.000000e-01</td><td>3.535534e-05</td><td> 4.10</td><td> 80.0</td><td>0.0002121320</td><td>0.0010000000</td><td>0.017</td><td>0.16000000</td><td>0.064</td><td>310</td><td>0.0020000000</td><td>0.048</td><td>1250</td><td> 54</td><td>0.074</td><td>250</td><td>0.170</td><td> 870</td><td>0.0003000000</td><td>0.520</td><td> 85.4</td></tr>\n",
       "\t<tr><td>34</td><td>'ASD'</td><td>'Child' </td><td> 5.600000000</td><td>5.656854e-05</td><td>1.200000e+01</td><td>3.800000e+00</td><td>0.0003535534</td><td>5.656854e-05</td><td>7.071068e-05</td><td>10.0</td><td>4.949747e-05</td><td>6.000000e-01</td><td>0.0002121320</td><td>9.500000e+00</td><td>0.0004242641</td><td>5.656854e-05</td><td>0.0002828427</td><td>2.000000e-01</td><td>2.121320e-05</td><td>1.200000e+00</td><td>2.000000e-01</td><td>3.535534e-05</td><td> 2.30</td><td>260.0</td><td>0.0002121320</td><td>0.0020000000</td><td>0.024</td><td>0.49000000</td><td>0.350</td><td>350</td><td>0.0030000000</td><td>0.085</td><td>1680</td><td> 64</td><td>0.170</td><td>430</td><td>0.410</td><td>1870</td><td>0.0007000000</td><td>0.730</td><td> 55.4</td></tr>\n",
       "\t<tr><td>35</td><td>'ASD'</td><td>'Child' </td><td> 1.900000000</td><td>5.656854e-05</td><td>1.600000e+01</td><td>5.400000e+00</td><td>0.0003535534</td><td>5.656854e-05</td><td>7.071068e-05</td><td> 7.6</td><td>4.949747e-05</td><td>5.000000e-01</td><td>0.0002121320</td><td>5.400000e+00</td><td>0.0004242641</td><td>5.656854e-05</td><td>0.0002828427</td><td>3.000000e-01</td><td>2.121320e-05</td><td>3.000000e-01</td><td>2.000000e-01</td><td>3.535534e-05</td><td> 3.20</td><td>150.0</td><td>0.0002121320</td><td>0.0005656854</td><td>0.020</td><td>0.30000000</td><td>0.110</td><td>170</td><td>0.0050000000</td><td>0.110</td><td> 890</td><td>120</td><td>0.130</td><td>240</td><td>0.250</td><td> 980</td><td>0.0005000000</td><td>0.093</td><td> 83.7</td></tr>\n",
       "\t<tr><td>37</td><td>'ASD'</td><td>'Child' </td><td>15.000000000</td><td>9.000000e-02</td><td>1.100000e+01</td><td>1.200000e+00</td><td>0.0003535534</td><td>5.656854e-05</td><td>1.000000e-01</td><td> 6.3</td><td>4.949747e-05</td><td>3.000000e-01</td><td>0.0002121320</td><td>2.700000e+00</td><td>0.0004242641</td><td>5.656854e-05</td><td>0.0002828427</td><td>3.000000e-01</td><td>2.121320e-05</td><td>6.000000e-01</td><td>7.000000e-02</td><td>3.535534e-05</td><td> 3.20</td><td> 41.0</td><td>0.0002121320</td><td>0.0005656854</td><td>0.021</td><td>0.07071068</td><td>0.058</td><td>160</td><td>0.0030000000</td><td>0.060</td><td> 950</td><td> 79</td><td>0.083</td><td>170</td><td>0.120</td><td> 730</td><td>0.0004000000</td><td>0.530</td><td> 87.0</td></tr>\n",
       "\t<tr><td>39</td><td>'ASD'</td><td>'Child' </td><td>74.000000000</td><td>3.000000e-01</td><td>2.500000e+01</td><td>1.500000e+01</td><td>0.0003535534</td><td>5.656854e-05</td><td>1.000000e-01</td><td>14.0</td><td>4.949747e-05</td><td>2.900000e+00</td><td>0.0002121320</td><td>7.800000e+00</td><td>0.0004242641</td><td>5.656854e-05</td><td>0.0002828427</td><td>4.000000e-01</td><td>2.121320e-05</td><td>3.700000e+00</td><td>1.000000e-01</td><td>8.000000e-02</td><td>11.00</td><td>330.0</td><td>0.0007000000</td><td>0.0010000000</td><td>0.023</td><td>0.72000000</td><td>0.110</td><td>200</td><td>0.0110000000</td><td>0.026</td><td> 260</td><td> 74</td><td>0.021</td><td>170</td><td>0.410</td><td> 320</td><td>0.0006000000</td><td>0.630</td><td>102.0</td></tr>\n",
       "\t<tr><td>40</td><td>'TD' </td><td>'Child' </td><td>15.000000000</td><td>1.131371e-04</td><td>1.200000e+01</td><td>1.600000e+00</td><td>0.0007071068</td><td>1.131371e-04</td><td>1.414214e-04</td><td> 3.4</td><td>9.899495e-05</td><td>3.000000e-01</td><td>0.0004242641</td><td>6.800000e+00</td><td>0.0008485281</td><td>1.131371e-04</td><td>0.0005656854</td><td>1.000000e-01</td><td>4.242641e-05</td><td>1.000000e+00</td><td>3.000000e-01</td><td>7.071068e-05</td><td> 2.70</td><td> 84.0</td><td>0.0004242641</td><td>0.0010000000</td><td>0.016</td><td>0.16000000</td><td>0.150</td><td>150</td><td>0.0010000000</td><td>0.150</td><td> 990</td><td> 38</td><td>0.075</td><td>130</td><td>0.170</td><td> 790</td><td>0.0002000000</td><td>0.380</td><td>170.0</td></tr>\n",
       "\t<tr><td>41</td><td>'TD' </td><td>'Child' </td><td>59.000000000</td><td>3.000000e-01</td><td>1.100000e+01</td><td>7.200000e+00</td><td>0.0003535534</td><td>5.656854e-05</td><td>7.071068e-05</td><td> 7.5</td><td>4.949747e-05</td><td>2.200000e+00</td><td>0.0002121320</td><td>6.700000e+00</td><td>0.0004242641</td><td>5.656854e-05</td><td>0.0002828427</td><td>2.000000e-01</td><td>2.121320e-05</td><td>2.200000e+00</td><td>7.000000e-01</td><td>3.535534e-05</td><td> 3.30</td><td>180.0</td><td>0.0002121320</td><td>0.0005656854</td><td>0.030</td><td>0.35000000</td><td>0.130</td><td>200</td><td>0.0050000000</td><td>0.140</td><td>1830</td><td> 76</td><td>0.130</td><td>180</td><td>0.270</td><td>1340</td><td>0.0005000000</td><td>0.730</td><td> 50.9</td></tr>\n",
       "\t<tr><td>42</td><td>'TD' </td><td>'Child' </td><td>17.000000000</td><td>5.656854e-05</td><td>1.100000e+01</td><td>5.200000e+00</td><td>0.0003535534</td><td>5.656854e-05</td><td>7.071068e-05</td><td> 5.8</td><td>4.949747e-05</td><td>8.000000e-01</td><td>0.0002121320</td><td>4.500000e+00</td><td>0.0004242641</td><td>5.656854e-05</td><td>0.0002828427</td><td>2.000000e-01</td><td>2.121320e-05</td><td>5.000000e+00</td><td>8.000000e-01</td><td>3.535534e-05</td><td> 1.60</td><td>270.0</td><td>0.0002121320</td><td>0.0005656854</td><td>0.018</td><td>0.52000000</td><td>0.230</td><td>170</td><td>0.0020000000</td><td>0.110</td><td>1050</td><td> 49</td><td>0.076</td><td>190</td><td>0.390</td><td> 910</td><td>0.0001414214</td><td>0.860</td><td> 56.8</td></tr>\n",
       "\t<tr><td>43</td><td>'TD' </td><td>'Child' </td><td>14.000000000</td><td>5.656854e-05</td><td>6.500000e+00</td><td>7.400000e+00</td><td>0.0003535534</td><td>5.656854e-05</td><td>7.071068e-05</td><td> 8.9</td><td>4.949747e-05</td><td>1.100000e+00</td><td>0.0002121320</td><td>9.000000e+00</td><td>0.0004242641</td><td>5.656854e-05</td><td>0.0002828427</td><td>4.000000e-01</td><td>2.121320e-05</td><td>2.600000e+00</td><td>2.000000e-01</td><td>3.535534e-05</td><td> 2.10</td><td>540.0</td><td>0.0002121320</td><td>0.0010000000</td><td>0.022</td><td>1.00000000</td><td>0.099</td><td>230</td><td>0.0030000000</td><td>0.062</td><td>1480</td><td> 84</td><td>0.200</td><td>260</td><td>0.420</td><td>1930</td><td>0.0005000000</td><td>1.400</td><td> 55.6</td></tr>\n",
       "\t<tr><td>45</td><td>'TD' </td><td>'Child' </td><td> 6.100000000</td><td>5.656854e-05</td><td>1.100000e+01</td><td>2.900000e+00</td><td>0.0003535534</td><td>5.656854e-05</td><td>7.071068e-05</td><td> 6.2</td><td>4.949747e-05</td><td>6.000000e-01</td><td>0.0002121320</td><td>2.900000e+00</td><td>0.0004242641</td><td>5.656854e-05</td><td>0.0002828427</td><td>2.000000e-01</td><td>2.121320e-05</td><td>9.000000e-01</td><td>2.000000e-01</td><td>3.535534e-05</td><td> 2.70</td><td>100.0</td><td>0.0002121320</td><td>0.0008000000</td><td>0.017</td><td>0.21000000</td><td>0.092</td><td>230</td><td>0.0030000000</td><td>0.061</td><td>1270</td><td> 87</td><td>0.110</td><td>280</td><td>0.170</td><td>1200</td><td>0.0004000000</td><td>0.480</td><td> 97.9</td></tr>\n",
       "\t<tr><td>46</td><td>'TD' </td><td>'Child' </td><td> 4.100000000</td><td>5.656854e-05</td><td>1.600000e+01</td><td>2.800000e+00</td><td>0.0003535534</td><td>5.656854e-05</td><td>7.071068e-05</td><td> 7.0</td><td>4.949747e-05</td><td>4.000000e-01</td><td>0.0002121320</td><td>4.300000e+00</td><td>0.0004242641</td><td>5.656854e-05</td><td>0.0002828427</td><td>3.000000e-01</td><td>2.121320e-05</td><td>2.000000e-01</td><td>2.000000e-01</td><td>3.535534e-05</td><td> 3.90</td><td> 88.0</td><td>0.0002121320</td><td>0.0030000000</td><td>0.022</td><td>0.17000000</td><td>0.099</td><td>190</td><td>0.0020000000</td><td>0.096</td><td>1210</td><td> 54</td><td>0.100</td><td>150</td><td>0.160</td><td> 960</td><td>0.0003000000</td><td>0.380</td><td> 83.7</td></tr>\n",
       "\t<tr><td>48</td><td>'TD' </td><td>'Child' </td><td>38.000000000</td><td>5.656854e-05</td><td>1.500000e+01</td><td>3.300000e+00</td><td>0.0003535534</td><td>5.656854e-05</td><td>7.071068e-05</td><td> 3.7</td><td>4.949747e-05</td><td>2.000000e-01</td><td>0.0002121320</td><td>1.000000e+01</td><td>0.0004242641</td><td>5.656854e-05</td><td>0.0002828427</td><td>2.000000e-01</td><td>2.121320e-05</td><td>1.600000e+00</td><td>3.000000e-01</td><td>3.535534e-05</td><td> 2.50</td><td>390.0</td><td>0.0002121320</td><td>0.0020000000</td><td>0.018</td><td>0.71000000</td><td>0.170</td><td>280</td><td>0.0008000000</td><td>0.150</td><td>1240</td><td> 18</td><td>0.130</td><td>140</td><td>0.250</td><td>1490</td><td>0.0003000000</td><td>1.200</td><td> 71.8</td></tr>\n",
       "\t<tr><td>49</td><td>'TD' </td><td>'Child' </td><td>46.000000000</td><td>9.000000e-01</td><td>1.060660e-03</td><td>1.100000e+01</td><td>0.0001767767</td><td>2.828427e-05</td><td>3.535534e-05</td><td>18.0</td><td>2.474874e-05</td><td>1.100000e+00</td><td>0.0001060660</td><td>5.600000e+00</td><td>0.0002121320</td><td>2.828427e-05</td><td>0.0001414214</td><td>8.000000e-01</td><td>1.060660e-05</td><td>6.000000e-01</td><td>3.000000e-01</td><td>1.767767e-05</td><td> 8.90</td><td>190.0</td><td>0.0001060660</td><td>0.0002828427</td><td>0.037</td><td>0.03535534</td><td>0.130</td><td>340</td><td>0.0070000000</td><td>0.049</td><td>2980</td><td>130</td><td>0.210</td><td>700</td><td>0.300</td><td>1570</td><td>0.0010000000</td><td>0.590</td><td> 10.6</td></tr>\n",
       "\t<tr><td>50</td><td>'TD' </td><td>'Child' </td><td> 6.400000000</td><td>5.656854e-05</td><td>9.000000e+00</td><td>2.500000e+00</td><td>0.0003535534</td><td>5.656854e-05</td><td>7.071068e-05</td><td> 7.7</td><td>4.949747e-05</td><td>4.000000e-01</td><td>0.0002121320</td><td>3.400000e+00</td><td>0.0004242641</td><td>5.656854e-05</td><td>0.0002828427</td><td>2.000000e-01</td><td>2.121320e-05</td><td>5.000000e-01</td><td>3.000000e-01</td><td>3.535534e-05</td><td> 4.40</td><td> 77.0</td><td>0.0002121320</td><td>0.0005656854</td><td>0.016</td><td>0.15000000</td><td>0.071</td><td>240</td><td>0.0010000000</td><td>0.140</td><td>1600</td><td> 35</td><td>0.120</td><td>150</td><td>0.130</td><td>1270</td><td>0.0001414214</td><td>1.100</td><td> 97.0</td></tr>\n",
       "\t<tr><td>51</td><td>'TD' </td><td>'Child' </td><td>16.000000000</td><td>3.000000e-01</td><td>2.500000e+01</td><td>7.000000e+00</td><td>0.0003535534</td><td>5.656854e-05</td><td>7.071068e-05</td><td>14.0</td><td>4.949747e-05</td><td>8.000000e-01</td><td>0.0002121320</td><td>9.900000e+00</td><td>0.0004242641</td><td>5.656854e-05</td><td>0.0002828427</td><td>3.535534e-05</td><td>2.121320e-05</td><td>9.900000e+00</td><td>2.000000e-01</td><td>3.535534e-05</td><td> 4.10</td><td>480.0</td><td>0.0002121320</td><td>0.0005656854</td><td>0.026</td><td>0.86000000</td><td>0.300</td><td>330</td><td>0.0008000000</td><td>0.087</td><td>1940</td><td> 18</td><td>0.130</td><td>210</td><td>0.550</td><td>1800</td><td>0.0001414214</td><td>0.800</td><td> 46.9</td></tr>\n",
       "\t<tr><td>52</td><td>'TD' </td><td>'Child' </td><td>18.000000000</td><td>2.000000e-01</td><td>1.100000e+01</td><td>1.000000e+00</td><td>0.0003535534</td><td>5.656854e-05</td><td>7.071068e-05</td><td>16.0</td><td>4.949747e-05</td><td>7.000000e-01</td><td>0.0002121320</td><td>3.300000e+00</td><td>0.0004242641</td><td>5.656854e-05</td><td>0.0002828427</td><td>4.000000e-01</td><td>2.121320e-05</td><td>2.800000e+00</td><td>7.000000e-01</td><td>3.535534e-05</td><td> 3.10</td><td> 19.0</td><td>0.0004000000</td><td>0.0005656854</td><td>0.020</td><td>0.07071068</td><td>0.180</td><td> 53</td><td>0.0070000000</td><td>0.240</td><td>1450</td><td>210</td><td>0.180</td><td>120</td><td>0.046</td><td>1930</td><td>0.0004000000</td><td>0.410</td><td> 89.8</td></tr>\n",
       "\t<tr><td>53</td><td>'TD' </td><td>'Child' </td><td>11.000000000</td><td>2.000000e-01</td><td>2.800000e+01</td><td>9.800000e+00</td><td>0.0003535534</td><td>5.656854e-05</td><td>7.071068e-05</td><td> 6.0</td><td>4.949747e-05</td><td>4.000000e-01</td><td>0.0002121320</td><td>6.100000e+00</td><td>0.0004242641</td><td>5.656854e-05</td><td>0.0002828427</td><td>2.000000e-01</td><td>2.121320e-05</td><td>1.800000e+00</td><td>3.000000e-01</td><td>3.535534e-05</td><td> 2.70</td><td>200.0</td><td>0.0002121320</td><td>0.0005656854</td><td>0.016</td><td>0.38000000</td><td>0.073</td><td>390</td><td>0.0009000000</td><td>0.260</td><td>1680</td><td> 29</td><td>0.100</td><td>210</td><td>0.330</td><td>1430</td><td>0.0003000000</td><td>0.700</td><td> 85.7</td></tr>\n",
       "\t<tr><td>54</td><td>'TD' </td><td>'Child' </td><td>10.000000000</td><td>5.656854e-05</td><td>5.100000e+01</td><td>6.800000e+00</td><td>0.0003535534</td><td>5.656854e-05</td><td>7.071068e-05</td><td> 7.6</td><td>4.949747e-05</td><td>6.000000e-01</td><td>0.0002121320</td><td>6.800000e+00</td><td>0.0004242641</td><td>5.656854e-05</td><td>0.0002828427</td><td>2.000000e-01</td><td>2.121320e-05</td><td>3.300000e+00</td><td>5.000000e-01</td><td>3.535534e-05</td><td> 3.60</td><td>220.0</td><td>0.0002121320</td><td>0.0005656854</td><td>0.026</td><td>0.49000000</td><td>0.160</td><td>130</td><td>0.0050000000</td><td>0.130</td><td> 820</td><td>130</td><td>0.130</td><td>680</td><td>0.340</td><td> 980</td><td>0.0010000000</td><td>0.780</td><td> 45.8</td></tr>\n",
       "\t<tr><td>56</td><td>'TD' </td><td>'Child' </td><td>12.000000000</td><td>8.000000e-02</td><td>5.200000e+00</td><td>3.000000e+00</td><td>0.0007071068</td><td>1.131371e-04</td><td>1.414214e-04</td><td> 2.9</td><td>9.899495e-05</td><td>1.000000e-01</td><td>0.0004242641</td><td>2.600000e+00</td><td>0.0008485281</td><td>1.131371e-04</td><td>0.0005656854</td><td>9.000000e-02</td><td>4.242641e-05</td><td>4.200000e+00</td><td>2.000000e-01</td><td>7.071068e-05</td><td> 1.80</td><td> 72.0</td><td>0.0004242641</td><td>0.0011313708</td><td>0.016</td><td>0.13000000</td><td>0.037</td><td>170</td><td>0.0008000000</td><td>0.100</td><td> 710</td><td> 29</td><td>0.060</td><td> 48</td><td>0.077</td><td> 630</td><td>0.0002828427</td><td>0.740</td><td>209.0</td></tr>\n",
       "\t<tr><td>57</td><td>'TD' </td><td>'Child' </td><td>15.000000000</td><td>5.656854e-05</td><td>1.100000e+01</td><td>1.700000e+00</td><td>0.0003535534</td><td>6.000000e-01</td><td>2.000000e-01</td><td> 6.1</td><td>4.949747e-05</td><td>4.000000e-01</td><td>0.0002121320</td><td>6.500000e+00</td><td>0.0004242641</td><td>5.656854e-05</td><td>0.0002828427</td><td>3.000000e-01</td><td>2.121320e-05</td><td>2.200000e+00</td><td>5.000000e-01</td><td>3.535534e-05</td><td> 2.00</td><td>120.0</td><td>0.0002121320</td><td>0.0005656854</td><td>0.021</td><td>0.25000000</td><td>0.120</td><td>250</td><td>0.0030000000</td><td>0.092</td><td>1540</td><td> 76</td><td>0.170</td><td>200</td><td>0.230</td><td>1630</td><td>0.0005000000</td><td>0.450</td><td> 62.8</td></tr>\n",
       "\t<tr><td>58</td><td>'TD' </td><td>'Child' </td><td>14.000000000</td><td>5.656854e-05</td><td>2.300000e+01</td><td>2.700000e+00</td><td>0.0003535534</td><td>5.656854e-05</td><td>3.000000e-01</td><td> 9.7</td><td>4.949747e-05</td><td>4.000000e-01</td><td>0.0002121320</td><td>8.300000e+00</td><td>0.0004242641</td><td>5.656854e-05</td><td>0.0002828427</td><td>3.000000e-01</td><td>2.121320e-05</td><td>1.400000e+00</td><td>6.000000e-01</td><td>3.535534e-05</td><td> 4.50</td><td>170.0</td><td>0.0002121320</td><td>0.0020000000</td><td>0.037</td><td>0.32000000</td><td>0.140</td><td>440</td><td>0.0030000000</td><td>0.190</td><td>1540</td><td> 64</td><td>0.170</td><td>180</td><td>0.310</td><td>1950</td><td>0.0006000000</td><td>1.500</td><td> 48.5</td></tr>\n",
       "\t<tr><td>60</td><td>'TD' </td><td>'Child' </td><td> 9.100000000</td><td>2.000000e-01</td><td>2.200000e+01</td><td>1.700000e+00</td><td>0.0003535534</td><td>5.656854e-05</td><td>7.071068e-05</td><td> 5.9</td><td>4.949747e-05</td><td>4.000000e-01</td><td>0.0002121320</td><td>6.400000e+00</td><td>0.0004242641</td><td>5.656854e-05</td><td>0.0002828427</td><td>1.000000e-01</td><td>2.121320e-05</td><td>1.700000e+00</td><td>2.000000e-01</td><td>3.535534e-05</td><td> 2.40</td><td> 65.0</td><td>0.0002121320</td><td>0.0010000000</td><td>0.023</td><td>0.12000000</td><td>0.140</td><td>230</td><td>0.0020000000</td><td>0.066</td><td> 770</td><td> 43</td><td>0.160</td><td>110</td><td>0.150</td><td>1460</td><td>0.0001414214</td><td>0.220</td><td> 82.1</td></tr>\n",
       "\t<tr><td>61</td><td>'TD' </td><td>'Child' </td><td>27.000000000</td><td>2.000000e-01</td><td>1.800000e+01</td><td>1.900000e+00</td><td>0.0003535534</td><td>5.656854e-05</td><td>7.071068e-05</td><td> 5.3</td><td>4.949747e-05</td><td>7.000000e-01</td><td>0.0002121320</td><td>2.800000e+00</td><td>0.0004242641</td><td>5.656854e-05</td><td>0.0002828427</td><td>2.000000e-01</td><td>2.121320e-05</td><td>5.500000e+00</td><td>3.535534e-05</td><td>3.535534e-05</td><td> 3.10</td><td> 13.0</td><td>0.0002121320</td><td>0.0005656854</td><td>0.025</td><td>0.07071068</td><td>0.120</td><td>190</td><td>0.0030000000</td><td>0.063</td><td>1070</td><td> 81</td><td>0.110</td><td> 62</td><td>0.042</td><td> 900</td><td>0.0001414214</td><td>1.000</td><td> 47.7</td></tr>\n",
       "\t<tr><td>62</td><td>'TD' </td><td>'Child' </td><td> 8.500000000</td><td>1.000000e-01</td><td>2.300000e+01</td><td>2.900000e+00</td><td>0.0003535534</td><td>5.656854e-05</td><td>7.071068e-05</td><td> 5.7</td><td>4.949747e-05</td><td>3.000000e-01</td><td>0.0002121320</td><td>2.700000e+00</td><td>0.0004242641</td><td>5.656854e-05</td><td>0.0002828427</td><td>2.000000e-01</td><td>2.121320e-05</td><td>2.500000e+00</td><td>4.000000e-01</td><td>3.535534e-05</td><td> 1.40</td><td> 93.0</td><td>0.0002121320</td><td>0.0005656854</td><td>0.030</td><td>0.19000000</td><td>0.190</td><td>210</td><td>0.0020000000</td><td>0.091</td><td> 860</td><td> 42</td><td>0.160</td><td>110</td><td>0.180</td><td>1480</td><td>0.0005000000</td><td>0.960</td><td> 82.0</td></tr>\n",
       "\t<tr><td>63</td><td>'TD' </td><td>'Child' </td><td> 9.500000000</td><td>2.000000e-01</td><td>2.900000e+01</td><td>5.500000e+00</td><td>0.0003535534</td><td>5.656854e-05</td><td>7.071068e-05</td><td> 7.7</td><td>4.949747e-05</td><td>7.000000e-01</td><td>0.0002121320</td><td>8.000000e+00</td><td>0.0004242641</td><td>5.656854e-05</td><td>0.0002828427</td><td>2.000000e-01</td><td>2.121320e-05</td><td>1.400000e+00</td><td>2.200000e+00</td><td>3.535534e-05</td><td> 3.30</td><td>300.0</td><td>0.0002121320</td><td>0.0020000000</td><td>0.019</td><td>0.55000000</td><td>0.240</td><td>200</td><td>0.0010000000</td><td>0.260</td><td>1300</td><td> 42</td><td>0.160</td><td>200</td><td>0.440</td><td>1690</td><td>0.0004000000</td><td>0.590</td><td> 70.4</td></tr>\n",
       "\t<tr><td>65</td><td>'TD' </td><td>'Child' </td><td> 6.300000000</td><td>9.000000e-02</td><td>7.900000e+00</td><td>1.800000e+00</td><td>0.0003535534</td><td>2.000000e-01</td><td>7.071068e-05</td><td> 4.8</td><td>4.949747e-05</td><td>3.000000e-01</td><td>0.0002121320</td><td>6.000000e+00</td><td>0.0004242641</td><td>5.656854e-05</td><td>0.0002828427</td><td>1.000000e-01</td><td>2.121320e-05</td><td>2.500000e+00</td><td>1.000000e-01</td><td>3.535534e-05</td><td> 2.10</td><td>170.0</td><td>0.0002121320</td><td>0.0005656854</td><td>0.022</td><td>0.30000000</td><td>0.066</td><td>170</td><td>0.0009000000</td><td>0.140</td><td>1600</td><td> 30</td><td>0.120</td><td>130</td><td>0.240</td><td>1220</td><td>0.0001414214</td><td>0.580</td><td> 94.0</td></tr>\n",
       "\t<tr><td>66</td><td>'TD' </td><td>'Child' </td><td>37.000000000</td><td>2.000000e-01</td><td>1.900000e+01</td><td>2.000000e+00</td><td>0.0003535534</td><td>5.656854e-05</td><td>7.071068e-05</td><td> 6.9</td><td>4.949747e-05</td><td>8.000000e-01</td><td>0.0002121320</td><td>2.100000e+00</td><td>0.0004242641</td><td>5.656854e-05</td><td>0.0002828427</td><td>4.000000e-01</td><td>2.121320e-05</td><td>6.000000e+00</td><td>6.000000e-01</td><td>3.000000e-01</td><td> 8.10</td><td> 34.0</td><td>0.0030000000</td><td>0.0005656854</td><td>0.019</td><td>0.07071068</td><td>0.067</td><td>160</td><td>0.0040000000</td><td>0.100</td><td>1020</td><td>110</td><td>0.100</td><td>130</td><td>0.150</td><td> 680</td><td>0.0020000000</td><td>1.100</td><td> 88.5</td></tr>\n",
       "\t<tr><td>67</td><td>'TD' </td><td>'Child' </td><td> 6.500000000</td><td>1.000000e-01</td><td>1.000000e+01</td><td>4.000000e+00</td><td>0.0003535534</td><td>5.656854e-05</td><td>7.071068e-05</td><td> 5.7</td><td>4.949747e-05</td><td>4.000000e-01</td><td>0.0002121320</td><td>7.600000e+00</td><td>0.0004242641</td><td>5.656854e-05</td><td>0.0002828427</td><td>2.000000e-01</td><td>2.121320e-05</td><td>1.900000e+00</td><td>2.000000e-01</td><td>3.535534e-05</td><td> 4.80</td><td>240.0</td><td>0.0005000000</td><td>0.0010000000</td><td>0.018</td><td>0.43000000</td><td>0.180</td><td>280</td><td>0.0010000000</td><td>0.170</td><td>2210</td><td> 34</td><td>0.150</td><td>140</td><td>0.260</td><td>1370</td><td>0.0003000000</td><td>0.700</td><td>101.0</td></tr>\n",
       "\t<tr><td>68</td><td>'TD' </td><td>'Child' </td><td> 3.200000000</td><td>1.000000e-01</td><td>1.300000e+01</td><td>2.800000e+00</td><td>0.0003535534</td><td>5.656854e-05</td><td>7.071068e-05</td><td> 7.7</td><td>4.949747e-05</td><td>1.000000e+00</td><td>0.0002121320</td><td>3.800000e+00</td><td>0.0004242641</td><td>5.656854e-05</td><td>0.0002828427</td><td>2.000000e-01</td><td>2.121320e-05</td><td>3.100000e+00</td><td>2.000000e-01</td><td>3.535534e-05</td><td> 1.70</td><td>120.0</td><td>0.0002121320</td><td>0.0005656854</td><td>0.027</td><td>0.24000000</td><td>0.075</td><td>210</td><td>0.0020000000</td><td>0.085</td><td>1430</td><td> 74</td><td>0.120</td><td>300</td><td>0.200</td><td>1390</td><td>0.0004000000</td><td>0.510</td><td> 74.9</td></tr>\n",
       "\t<tr><td>70</td><td>'TD' </td><td>'Child' </td><td>12.000000000</td><td>5.656854e-05</td><td>1.900000e+01</td><td>5.200000e+00</td><td>0.0003535534</td><td>4.000000e-01</td><td>7.071068e-05</td><td> 5.6</td><td>4.949747e-05</td><td>5.000000e-01</td><td>0.0002121320</td><td>6.200000e+00</td><td>0.0004242641</td><td>5.656854e-05</td><td>0.0002828427</td><td>2.000000e-01</td><td>2.121320e-05</td><td>6.600000e+00</td><td>2.000000e-01</td><td>3.535534e-05</td><td> 2.30</td><td>250.0</td><td>0.0002121320</td><td>0.0010000000</td><td>0.019</td><td>0.51000000</td><td>0.060</td><td>210</td><td>0.0030000000</td><td>0.130</td><td>1240</td><td> 85</td><td>0.093</td><td>340</td><td>0.250</td><td>1080</td><td>0.0006000000</td><td>0.670</td><td> 61.8</td></tr>\n",
       "\t<tr><td>71</td><td>'TD' </td><td>'Child' </td><td>11.000000000</td><td>2.000000e-01</td><td>2.000000e+01</td><td>2.100000e+00</td><td>0.0003535534</td><td>5.656854e-05</td><td>7.071068e-05</td><td> 7.2</td><td>4.949747e-05</td><td>8.000000e-01</td><td>0.0002121320</td><td>1.800000e+00</td><td>0.0004242641</td><td>5.656854e-05</td><td>0.0002828427</td><td>3.000000e-01</td><td>2.121320e-05</td><td>6.700000e+00</td><td>3.000000e-01</td><td>8.000000e-02</td><td> 6.40</td><td> 44.0</td><td>0.0006000000</td><td>0.0005656854</td><td>0.014</td><td>0.07071068</td><td>0.150</td><td>210</td><td>0.0020000000</td><td>0.150</td><td> 890</td><td> 67</td><td>0.130</td><td> 72</td><td>0.160</td><td>1310</td><td>0.0003000000</td><td>0.520</td><td> 79.9</td></tr>\n",
       "\t<tr><td> 1</td><td>'ASD'</td><td>'Mother'</td><td> 1.400000000</td><td>1.131371e-04</td><td>6.100000e+01</td><td>1.300000e+00</td><td>0.0007071068</td><td>1.131371e-04</td><td>1.000000e-01</td><td> 5.4</td><td>9.899495e-05</td><td>2.000000e-01</td><td>0.3000000000</td><td>3.100000e+00</td><td>0.0008485281</td><td>1.131371e-04</td><td>0.0005656854</td><td>1.000000e-01</td><td>4.242641e-05</td><td>4.000000e-01</td><td>8.000000e-02</td><td>7.071068e-05</td><td> 2.20</td><td>140.0</td><td>0.0004242641</td><td>0.0011313708</td><td>0.007</td><td>0.25000000</td><td>0.055</td><td> 77</td><td>0.0007000000</td><td>0.036</td><td> 680</td><td> 23</td><td>0.059</td><td> 42</td><td>0.120</td><td> 410</td><td>0.0002828427</td><td>0.160</td><td>250.0</td></tr>\n",
       "\t<tr><td> 2</td><td>'ASD'</td><td>'Mother'</td><td> 1.800000000</td><td>5.656854e-05</td><td>4.800000e+00</td><td>1.500000e+00</td><td>0.0003535534</td><td>5.656854e-05</td><td>9.000000e-02</td><td> 3.1</td><td>4.949747e-05</td><td>1.000000e-01</td><td>0.0002121320</td><td>3.100000e+00</td><td>0.0004242641</td><td>5.656854e-05</td><td>0.0002828427</td><td>1.000000e-01</td><td>2.121320e-05</td><td>7.000000e-02</td><td>3.535534e-05</td><td>3.535534e-05</td><td> 1.60</td><td> 34.0</td><td>0.0002121320</td><td>0.0010000000</td><td>0.011</td><td>0.07071068</td><td>0.180</td><td> 83</td><td>0.0006000000</td><td>0.012</td><td> 860</td><td> 15</td><td>0.056</td><td>110</td><td>0.067</td><td> 590</td><td>0.0001414214</td><td>0.160</td><td>128.0</td></tr>\n",
       "\t<tr><td> 3</td><td>'ASD'</td><td>'Mother'</td><td> 3.300000000</td><td>5.656854e-05</td><td>2.900000e+00</td><td>5.000000e+00</td><td>0.0003535534</td><td>5.656854e-05</td><td>2.000000e-01</td><td> 3.4</td><td>4.949747e-05</td><td>2.000000e-01</td><td>0.0002121320</td><td>3.500000e+00</td><td>0.0004242641</td><td>5.656854e-05</td><td>0.0002828427</td><td>6.000000e-02</td><td>2.121320e-05</td><td>1.700000e+00</td><td>2.000000e-01</td><td>3.535534e-05</td><td> 0.68</td><td>160.0</td><td>0.0002121320</td><td>0.0005656854</td><td>0.010</td><td>0.30000000</td><td>0.210</td><td> 91</td><td>0.0005000000</td><td>0.035</td><td> 590</td><td> 10</td><td>0.041</td><td> 91</td><td>0.230</td><td> 470</td><td>0.0001414214</td><td>0.210</td><td>106.0</td></tr>\n",
       "\t<tr><td> 5</td><td>'ASD'</td><td>'Mother'</td><td> 2.500000000</td><td>1.131371e-04</td><td>1.400000e+01</td><td>9.000000e-01</td><td>0.0007071068</td><td>1.131371e-04</td><td>3.000000e-01</td><td> 2.5</td><td>9.000000e-02</td><td>3.000000e-01</td><td>0.0004242641</td><td>1.600000e+00</td><td>0.0008485281</td><td>1.131371e-04</td><td>0.0005656854</td><td>1.000000e-01</td><td>4.242641e-05</td><td>2.000000e-01</td><td>8.000000e-02</td><td>7.071068e-05</td><td> 0.73</td><td> 49.0</td><td>0.0004242641</td><td>0.0011313708</td><td>0.014</td><td>0.14142136</td><td>0.070</td><td> 29</td><td>0.0008000000</td><td>0.140</td><td> 600</td><td> 19</td><td>0.080</td><td> 83</td><td>0.081</td><td> 550</td><td>0.0004000000</td><td>0.320</td><td>169.0</td></tr>\n",
       "\t<tr><td> 6</td><td>'ASD'</td><td>'Mother'</td><td> 5.200000000</td><td>1.131371e-04</td><td>3.000000e+00</td><td>1.200000e+00</td><td>0.0007071068</td><td>1.131371e-04</td><td>4.000000e-01</td><td> 3.0</td><td>9.899495e-05</td><td>2.000000e-01</td><td>0.0004242641</td><td>5.100000e+00</td><td>0.0008485281</td><td>1.131371e-04</td><td>0.0005656854</td><td>3.000000e-01</td><td>4.242641e-05</td><td>5.000000e-01</td><td>1.000000e-01</td><td>7.071068e-05</td><td> 2.00</td><td>170.0</td><td>0.0004242641</td><td>0.0010000000</td><td>0.010</td><td>0.30000000</td><td>0.035</td><td>110</td><td>0.0007000000</td><td>0.037</td><td> 970</td><td> 20</td><td>0.037</td><td> 58</td><td>0.210</td><td> 420</td><td>0.0002828427</td><td>0.400</td><td>251.0</td></tr>\n",
       "\t<tr><td> 7</td><td>'ASD'</td><td>'Mother'</td><td> 9.200000000</td><td>5.656854e-05</td><td>1.200000e+01</td><td>6.000000e-01</td><td>0.0003535534</td><td>5.656854e-05</td><td>7.071068e-05</td><td> 4.2</td><td>4.949747e-05</td><td>7.071068e-05</td><td>0.0002121320</td><td>1.900000e+00</td><td>0.0004242641</td><td>5.656854e-05</td><td>0.0002828427</td><td>2.000000e-01</td><td>2.121320e-05</td><td>5.656854e-05</td><td>3.535534e-05</td><td>3.535534e-05</td><td> 1.10</td><td> 53.0</td><td>0.0002121320</td><td>0.0005656854</td><td>0.018</td><td>0.07071068</td><td>0.021</td><td> 67</td><td>0.0020000000</td><td>0.035</td><td> 190</td><td> 27</td><td>0.039</td><td> 43</td><td>0.062</td><td> 290</td><td>0.0001414214</td><td>0.850</td><td> 44.0</td></tr>\n",
       "\t<tr><td> 8</td><td>'ASD'</td><td>'Mother'</td><td> 0.001414214</td><td>1.131371e-04</td><td>1.800000e+01</td><td>9.000000e-01</td><td>0.0007071068</td><td>1.131371e-04</td><td>2.000000e-01</td><td> 2.7</td><td>9.899495e-05</td><td>1.414214e-04</td><td>0.0004242641</td><td>1.800000e+00</td><td>0.0008485281</td><td>1.131371e-04</td><td>0.0005656854</td><td>1.000000e-01</td><td>4.242641e-05</td><td>1.131371e-04</td><td>7.071068e-05</td><td>7.071068e-05</td><td> 0.71</td><td> 63.0</td><td>0.0004242641</td><td>0.0011313708</td><td>0.009</td><td>0.13000000</td><td>0.096</td><td> 47</td><td>0.0010000000</td><td>0.018</td><td> 590</td><td> 30</td><td>0.042</td><td> 68</td><td>0.074</td><td> 470</td><td>0.0002828427</td><td>0.210</td><td>157.0</td></tr>\n",
       "\t<tr><td> 9</td><td>'ASD'</td><td>'Mother'</td><td>43.000000000</td><td>5.656854e-05</td><td>2.700000e+00</td><td>2.200000e+00</td><td>0.0003535534</td><td>5.656854e-05</td><td>9.000000e-02</td><td> 2.6</td><td>4.949747e-05</td><td>3.000000e-01</td><td>0.0002121320</td><td>3.400000e+00</td><td>0.0004242641</td><td>5.656854e-05</td><td>0.0002828427</td><td>7.000000e-02</td><td>2.121320e-05</td><td>1.100000e+00</td><td>5.000000e-02</td><td>8.000000e-02</td><td> 1.30</td><td>140.0</td><td>0.0002121320</td><td>0.0005656854</td><td>0.008</td><td>0.26000000</td><td>0.047</td><td> 66</td><td>0.0007000000</td><td>0.014</td><td> 520</td><td> 14</td><td>0.033</td><td> 66</td><td>0.260</td><td> 820</td><td>0.0001414214</td><td>0.410</td><td>123.0</td></tr>\n",
       "\t<tr><td>10</td><td>'ASD'</td><td>'Mother'</td><td> 3.200000000</td><td>4.000000e-01</td><td>3.600000e+00</td><td>6.000000e-01</td><td>0.0007071068</td><td>1.131371e-04</td><td>2.000000e-01</td><td> 3.9</td><td>9.899495e-05</td><td>1.000000e-01</td><td>0.0004242641</td><td>5.500000e+00</td><td>0.0008485281</td><td>1.131371e-04</td><td>0.0005656854</td><td>1.000000e-01</td><td>4.242641e-05</td><td>2.000000e-01</td><td>7.071068e-05</td><td>7.071068e-05</td><td> 0.99</td><td> 87.0</td><td>0.0004242641</td><td>0.0011313708</td><td>0.008</td><td>0.17000000</td><td>0.019</td><td> 45</td><td>0.0010000000</td><td>0.027</td><td> 510</td><td> 31</td><td>0.051</td><td> 39</td><td>0.085</td><td> 410</td><td>0.0002828427</td><td>0.600</td><td>249.0</td></tr>\n",
       "\t<tr><td>11</td><td>'ASD'</td><td>'Mother'</td><td> 5.000000000</td><td>5.656854e-05</td><td>3.400000e+00</td><td>6.100000e+00</td><td>0.0003535534</td><td>5.656854e-05</td><td>7.071068e-05</td><td> 6.4</td><td>4.949747e-05</td><td>2.000000e-01</td><td>0.0002121320</td><td>6.200000e+00</td><td>0.0004242641</td><td>5.656854e-05</td><td>0.0002828427</td><td>2.000000e-01</td><td>2.121320e-05</td><td>2.000000e-01</td><td>1.000000e-01</td><td>3.535534e-05</td><td> 4.10</td><td>310.0</td><td>0.0002121320</td><td>0.0009000000</td><td>0.013</td><td>0.58000000</td><td>0.052</td><td> 83</td><td>0.0010000000</td><td>0.046</td><td> 610</td><td> 26</td><td>0.047</td><td>110</td><td>0.320</td><td> 900</td><td>0.0004000000</td><td>0.550</td><td>122.0</td></tr>\n",
       "\t<tr><td>12</td><td>'ASD'</td><td>'Mother'</td><td> 5.700000000</td><td>5.656854e-05</td><td>8.300000e+01</td><td>3.000000e+00</td><td>0.0003535534</td><td>8.800000e+00</td><td>3.000000e-01</td><td> 6.6</td><td>4.949747e-05</td><td>6.000000e-01</td><td>1.4000000000</td><td>5.700000e+00</td><td>0.0004242641</td><td>5.656854e-05</td><td>0.0002828427</td><td>4.000000e-01</td><td>2.121320e-05</td><td>3.000000e-01</td><td>3.535534e-05</td><td>3.535534e-05</td><td> 3.80</td><td>280.0</td><td>0.0002121320</td><td>0.0005656854</td><td>0.020</td><td>0.52000000</td><td>0.100</td><td> 95</td><td>0.0020000000</td><td>0.065</td><td> 560</td><td> 24</td><td>0.066</td><td> 92</td><td>0.320</td><td> 830</td><td>0.0001414214</td><td>0.760</td><td> 46.4</td></tr>\n",
       "\t<tr><td>17</td><td>'ASD'</td><td>'Mother'</td><td> 3.200000000</td><td>1.131371e-04</td><td>4.700000e+00</td><td>8.000000e-01</td><td>0.0007071068</td><td>1.131371e-04</td><td>3.000000e-01</td><td> 3.5</td><td>9.899495e-05</td><td>2.000000e-01</td><td>0.4000000000</td><td>2.000000e+00</td><td>0.0008485281</td><td>1.131371e-04</td><td>0.0005656854</td><td>2.000000e-01</td><td>4.242641e-05</td><td>2.000000e-01</td><td>7.071068e-05</td><td>7.071068e-05</td><td> 1.10</td><td> 50.0</td><td>0.0004242641</td><td>0.0011313708</td><td>0.008</td><td>0.14142136</td><td>0.051</td><td> 80</td><td>0.0020000000</td><td>0.030</td><td> 370</td><td> 48</td><td>0.038</td><td>150</td><td>0.083</td><td> 470</td><td>0.0004000000</td><td>0.220</td><td>155.0</td></tr>\n",
       "\t<tr><td>18</td><td>'ASD'</td><td>'Mother'</td><td> 3.100000000</td><td>5.656854e-05</td><td>1.600000e+01</td><td>6.000000e-01</td><td>0.0003535534</td><td>5.656854e-05</td><td>7.000000e-01</td><td> 4.8</td><td>4.949747e-05</td><td>7.071068e-05</td><td>0.9000000000</td><td>5.000000e+00</td><td>0.0004242641</td><td>5.656854e-05</td><td>0.0002828427</td><td>1.000000e-01</td><td>2.121320e-05</td><td>2.000000e-01</td><td>1.000000e-01</td><td>3.535534e-05</td><td> 1.20</td><td>160.0</td><td>0.0002121320</td><td>0.0020000000</td><td>0.012</td><td>0.30000000</td><td>0.044</td><td> 50</td><td>0.0008000000</td><td>0.049</td><td> 270</td><td> 20</td><td>0.052</td><td>210</td><td>0.120</td><td> 430</td><td>0.0001414214</td><td>0.330</td><td> 57.3</td></tr>\n",
       "\t<tr><td>19</td><td>'ASD'</td><td>'Mother'</td><td> 2.500000000</td><td>5.656854e-05</td><td>8.400000e+00</td><td>1.300000e+00</td><td>0.0003535534</td><td>8.000000e-01</td><td>1.000000e-01</td><td> 1.9</td><td>4.949747e-05</td><td>7.071068e-05</td><td>0.5000000000</td><td>1.800000e+00</td><td>0.0004242641</td><td>5.656854e-05</td><td>0.0002828427</td><td>8.000000e-02</td><td>2.121320e-05</td><td>3.000000e-01</td><td>7.000000e-02</td><td>3.535534e-05</td><td> 0.65</td><td> 89.0</td><td>0.0002121320</td><td>0.0005656854</td><td>0.010</td><td>0.17000000</td><td>0.043</td><td> 63</td><td>0.0005000000</td><td>0.022</td><td> 400</td><td> 12</td><td>0.030</td><td>120</td><td>0.160</td><td> 340</td><td>0.0002000000</td><td>0.260</td><td>112.0</td></tr>\n",
       "\t<tr><td>20</td><td>'ASD'</td><td>'Mother'</td><td> 2.400000000</td><td>1.131371e-04</td><td>8.300000e+00</td><td>1.500000e+00</td><td>0.0007071068</td><td>1.131371e-04</td><td>1.000000e-01</td><td> 2.9</td><td>9.899495e-05</td><td>1.000000e-01</td><td>0.0004242641</td><td>2.300000e+00</td><td>0.0008485281</td><td>1.131371e-04</td><td>0.0005656854</td><td>2.000000e-01</td><td>4.242641e-05</td><td>3.000000e-01</td><td>3.000000e-01</td><td>7.071068e-05</td><td> 1.00</td><td>110.0</td><td>0.0004242641</td><td>0.0011313708</td><td>0.017</td><td>0.22000000</td><td>0.033</td><td> 83</td><td>0.0009000000</td><td>0.041</td><td> 780</td><td> 25</td><td>0.068</td><td> 67</td><td>0.120</td><td> 620</td><td>0.0002828427</td><td>0.570</td><td>190.0</td></tr>\n",
       "\t<tr><td>21</td><td>'ASD'</td><td>'Mother'</td><td> 2.900000000</td><td>5.656854e-05</td><td>4.700000e+00</td><td>1.300000e+00</td><td>0.0003535534</td><td>5.656854e-05</td><td>3.000000e-01</td><td> 5.8</td><td>4.949747e-05</td><td>2.000000e-01</td><td>0.0002121320</td><td>4.300000e+00</td><td>0.0004242641</td><td>5.656854e-05</td><td>0.0002828427</td><td>1.000000e-01</td><td>2.121320e-05</td><td>1.100000e+00</td><td>4.000000e-01</td><td>3.535534e-05</td><td> 1.70</td><td>150.0</td><td>0.0002121320</td><td>0.0005656854</td><td>0.010</td><td>0.28000000</td><td>0.040</td><td> 92</td><td>0.0010000000</td><td>0.058</td><td> 640</td><td> 24</td><td>0.046</td><td> 88</td><td>0.180</td><td> 630</td><td>0.0001414214</td><td>0.320</td><td>150.0</td></tr>\n",
       "\t<tr><td>22</td><td>'ASD'</td><td>'Mother'</td><td> 5.600000000</td><td>1.131371e-04</td><td>9.300000e+00</td><td>2.500000e+00</td><td>0.0007071068</td><td>1.131371e-04</td><td>9.000000e-02</td><td> 2.2</td><td>9.899495e-05</td><td>1.000000e-01</td><td>0.4000000000</td><td>3.500000e+00</td><td>0.0008485281</td><td>1.131371e-04</td><td>0.0005656854</td><td>7.000000e-02</td><td>4.242641e-05</td><td>2.000000e-01</td><td>9.000000e-02</td><td>7.071068e-05</td><td> 0.95</td><td>150.0</td><td>0.0004242641</td><td>0.0011313708</td><td>0.008</td><td>0.29000000</td><td>0.100</td><td> 83</td><td>0.0004000000</td><td>0.086</td><td> 590</td><td> 11</td><td>0.038</td><td> 81</td><td>0.190</td><td> 370</td><td>0.0002828427</td><td>0.310</td><td>216.0</td></tr>\n",
       "\t<tr><td>25</td><td>'ASD'</td><td>'Mother'</td><td> 2.600000000</td><td>5.656854e-05</td><td>7.400000e+00</td><td>3.500000e+00</td><td>0.0003535534</td><td>5.656854e-05</td><td>2.000000e-01</td><td> 9.5</td><td>4.949747e-05</td><td>5.000000e-01</td><td>0.9000000000</td><td>3.900000e+00</td><td>0.0004242641</td><td>5.656854e-05</td><td>0.0002828427</td><td>4.000000e-01</td><td>2.121320e-05</td><td>4.000000e-01</td><td>7.000000e-02</td><td>3.535534e-05</td><td> 3.70</td><td>200.0</td><td>0.0002121320</td><td>0.0005656854</td><td>0.012</td><td>0.37000000</td><td>0.025</td><td> 79</td><td>0.0030000000</td><td>0.019</td><td> 470</td><td> 47</td><td>0.046</td><td> 36</td><td>0.180</td><td> 550</td><td>0.0001414214</td><td>0.280</td><td> 99.9</td></tr>\n",
       "\t<tr><td>28</td><td>'ASD'</td><td>'Mother'</td><td> 2.000000000</td><td>1.131371e-04</td><td>5.000000e+00</td><td>7.000000e-01</td><td>0.0007071068</td><td>7.000000e-01</td><td>1.000000e-01</td><td> 4.0</td><td>8.000000e-02</td><td>2.000000e-01</td><td>0.0004242641</td><td>2.100000e+00</td><td>0.0008485281</td><td>1.131371e-04</td><td>0.0005656854</td><td>3.000000e-01</td><td>4.242641e-05</td><td>4.000000e-01</td><td>7.000000e-02</td><td>7.071068e-05</td><td> 2.20</td><td> 61.0</td><td>0.0004242641</td><td>0.0011313708</td><td>0.010</td><td>0.12000000</td><td>0.043</td><td> 70</td><td>0.0020000000</td><td>0.022</td><td> 490</td><td> 53</td><td>0.038</td><td> 35</td><td>0.094</td><td> 540</td><td>0.0002828427</td><td>0.170</td><td>210.0</td></tr>\n",
       "\t<tr><td>29</td><td>'ASD'</td><td>'Mother'</td><td> 1.900000000</td><td>5.656854e-05</td><td>6.300000e+00</td><td>1.400000e+00</td><td>0.0003535534</td><td>5.656854e-05</td><td>7.071068e-05</td><td> 3.5</td><td>4.949747e-05</td><td>4.000000e-01</td><td>0.0002121320</td><td>1.900000e+00</td><td>0.0004242641</td><td>5.656854e-05</td><td>0.0002828427</td><td>2.000000e-01</td><td>2.121320e-05</td><td>3.000000e-01</td><td>3.535534e-05</td><td>1.000000e-01</td><td> 1.20</td><td>100.0</td><td>0.0002121320</td><td>0.0005656854</td><td>0.007</td><td>0.20000000</td><td>0.039</td><td> 74</td><td>0.0008000000</td><td>0.010</td><td> 480</td><td> 18</td><td>0.052</td><td>140</td><td>0.150</td><td> 610</td><td>0.0001414214</td><td>0.350</td><td> 79.3</td></tr>\n",
       "\t<tr><td>30</td><td>'ASD'</td><td>'Mother'</td><td>10.000000000</td><td>7.000000e-02</td><td>3.200000e+00</td><td>3.000000e-01</td><td>0.0003535534</td><td>5.656854e-05</td><td>1.000000e-01</td><td> 3.2</td><td>4.949747e-05</td><td>9.000000e-02</td><td>0.0002121320</td><td>1.100000e+00</td><td>0.0004242641</td><td>5.656854e-05</td><td>0.0002828427</td><td>2.000000e-01</td><td>2.121320e-05</td><td>3.000000e-01</td><td>1.000000e-01</td><td>3.535534e-05</td><td> 0.78</td><td> 24.0</td><td>0.0002121320</td><td>0.0005656854</td><td>0.006</td><td>0.07071068</td><td>0.040</td><td> 26</td><td>0.0010000000</td><td>0.053</td><td> 370</td><td> 32</td><td>0.035</td><td> 34</td><td>0.029</td><td> 330</td><td>0.0001414214</td><td>0.082</td><td>137.0</td></tr>\n",
       "\t<tr><td>31</td><td>'ASD'</td><td>'Mother'</td><td> 6.200000000</td><td>5.656854e-05</td><td>3.400000e+00</td><td>1.200000e+00</td><td>0.0003535534</td><td>5.656854e-05</td><td>7.071068e-05</td><td> 4.0</td><td>4.949747e-05</td><td>2.000000e-01</td><td>0.0002121320</td><td>1.800000e+00</td><td>0.0004242641</td><td>5.656854e-05</td><td>0.0002828427</td><td>2.000000e-01</td><td>2.121320e-05</td><td>5.200000e+00</td><td>8.000000e-02</td><td>3.535534e-05</td><td> 1.50</td><td> 98.0</td><td>0.0002121320</td><td>0.0005656854</td><td>0.013</td><td>0.17000000</td><td>0.051</td><td> 97</td><td>0.0006000000</td><td>0.010</td><td>1080</td><td> 21</td><td>0.070</td><td> 45</td><td>0.160</td><td>1580</td><td>0.0001414214</td><td>0.540</td><td>129.0</td></tr>\n",
       "\t<tr><td>32</td><td>'ASD'</td><td>'Mother'</td><td> 1.800000000</td><td>5.656854e-05</td><td>1.100000e+01</td><td>2.700000e+00</td><td>0.0003535534</td><td>5.656854e-05</td><td>2.000000e-01</td><td> 3.2</td><td>4.949747e-05</td><td>2.000000e-01</td><td>0.4000000000</td><td>4.000000e+00</td><td>0.0004242641</td><td>5.656854e-05</td><td>0.0002828427</td><td>2.000000e-01</td><td>2.121320e-05</td><td>2.000000e-01</td><td>6.000000e-02</td><td>3.535534e-05</td><td> 1.60</td><td>190.0</td><td>0.0002121320</td><td>0.0010000000</td><td>0.009</td><td>0.35000000</td><td>0.033</td><td>110</td><td>0.0010000000</td><td>0.017</td><td> 460</td><td> 28</td><td>0.055</td><td> 99</td><td>0.220</td><td> 700</td><td>0.0001414214</td><td>0.110</td><td> 99.5</td></tr>\n",
       "\t<tr><td>33</td><td>'ASD'</td><td>'Mother'</td><td> 1.900000000</td><td>1.131371e-04</td><td>5.300000e+00</td><td>4.000000e-01</td><td>0.0007071068</td><td>1.131371e-04</td><td>1.000000e-01</td><td> 1.9</td><td>9.899495e-05</td><td>1.414214e-04</td><td>0.0004242641</td><td>8.000000e-01</td><td>0.0008485281</td><td>1.131371e-04</td><td>0.0005656854</td><td>9.000000e-02</td><td>4.242641e-05</td><td>4.000000e-01</td><td>7.071068e-05</td><td>7.071068e-05</td><td> 0.82</td><td> 32.0</td><td>0.0004242641</td><td>0.0011313708</td><td>0.008</td><td>0.14142136</td><td>0.046</td><td> 69</td><td>0.0006000000</td><td>0.036</td><td> 860</td><td> 15</td><td>0.034</td><td> 78</td><td>0.047</td><td> 370</td><td>0.0002828427</td><td>0.280</td><td>167.0</td></tr>\n",
       "\t<tr><td>34</td><td>'ASD'</td><td>'Mother'</td><td> 1.900000000</td><td>1.131371e-04</td><td>4.400000e+00</td><td>2.700000e+00</td><td>0.0007071068</td><td>1.131371e-04</td><td>1.414214e-04</td><td> 2.6</td><td>9.899495e-05</td><td>1.414214e-04</td><td>0.0004242641</td><td>2.600000e+00</td><td>0.0008485281</td><td>1.131371e-04</td><td>0.0005656854</td><td>1.000000e-01</td><td>4.242641e-05</td><td>1.000000e-01</td><td>7.071068e-05</td><td>7.071068e-05</td><td> 2.20</td><td> 81.0</td><td>0.0004242641</td><td>0.0011313708</td><td>0.007</td><td>0.15000000</td><td>0.075</td><td> 92</td><td>0.0010000000</td><td>0.003</td><td> 900</td><td> 29</td><td>0.041</td><td>110</td><td>0.150</td><td> 500</td><td>0.0002828427</td><td>0.082</td><td>173.0</td></tr>\n",
       "\t<tr><td>35</td><td>'ASD'</td><td>'Mother'</td><td> 2.200000000</td><td>5.656854e-05</td><td>7.400000e+00</td><td>2.700000e+00</td><td>0.0003535534</td><td>5.656854e-05</td><td>2.000000e-01</td><td> 3.7</td><td>4.949747e-05</td><td>3.000000e-01</td><td>0.0002121320</td><td>1.800000e+00</td><td>0.0004242641</td><td>5.656854e-05</td><td>0.0002828427</td><td>2.000000e-01</td><td>2.121320e-05</td><td>6.000000e-01</td><td>3.535534e-05</td><td>3.535534e-05</td><td> 1.30</td><td> 84.0</td><td>0.0002121320</td><td>0.0005656854</td><td>0.011</td><td>0.16000000</td><td>0.068</td><td> 35</td><td>0.0010000000</td><td>0.031</td><td> 560</td><td> 32</td><td>0.047</td><td> 73</td><td>0.180</td><td> 510</td><td>0.0001414214</td><td>0.230</td><td>149.0</td></tr>\n",
       "\t<tr><td>36</td><td>'ASD'</td><td>'Mother'</td><td> 1.900000000</td><td>5.656854e-05</td><td>6.800000e+00</td><td>3.000000e-01</td><td>0.0003535534</td><td>5.656854e-05</td><td>1.000000e-01</td><td> 3.9</td><td>4.949747e-05</td><td>9.000000e-02</td><td>0.0002121320</td><td>1.900000e+00</td><td>0.0004242641</td><td>5.656854e-05</td><td>0.0002828427</td><td>1.000000e-01</td><td>2.121320e-05</td><td>1.000000e-01</td><td>1.000000e-01</td><td>3.535534e-05</td><td> 1.40</td><td> 29.0</td><td>0.0002121320</td><td>0.0005656854</td><td>0.009</td><td>0.07071068</td><td>0.026</td><td> 72</td><td>0.0009000000</td><td>0.030</td><td> 330</td><td> 25</td><td>0.040</td><td> 98</td><td>0.036</td><td> 540</td><td>0.0001414214</td><td>0.057</td><td>139.0</td></tr>\n",
       "\t<tr><td>37</td><td>'ASD'</td><td>'Mother'</td><td> 2.300000000</td><td>5.656854e-05</td><td>2.121320e-03</td><td>1.100000e+00</td><td>0.0003535534</td><td>5.656854e-05</td><td>7.071068e-05</td><td> 2.0</td><td>4.949747e-05</td><td>1.000000e-01</td><td>0.0002121320</td><td>2.800000e+00</td><td>0.0004242641</td><td>5.656854e-05</td><td>0.0002828427</td><td>1.000000e-01</td><td>2.121320e-05</td><td>7.000000e-02</td><td>5.000000e-02</td><td>3.535534e-05</td><td> 0.84</td><td> 75.0</td><td>0.0002121320</td><td>0.0005656854</td><td>0.008</td><td>0.16000000</td><td>0.035</td><td> 76</td><td>0.0010000000</td><td>0.054</td><td> 460</td><td> 29</td><td>0.053</td><td>110</td><td>0.086</td><td> 480</td><td>0.0002000000</td><td>0.150</td><td>121.0</td></tr>\n",
       "\t<tr><td>39</td><td>'ASD'</td><td>'Mother'</td><td> 2.500000000</td><td>5.656854e-05</td><td>1.900000e+01</td><td>1.500000e+00</td><td>0.0003535534</td><td>5.656854e-05</td><td>7.071068e-05</td><td> 6.3</td><td>4.949747e-05</td><td>4.000000e-01</td><td>0.0002121320</td><td>6.900000e+00</td><td>0.0004242641</td><td>5.656854e-05</td><td>0.0002828427</td><td>3.000000e-01</td><td>2.121320e-05</td><td>5.000000e-01</td><td>3.535534e-05</td><td>3.535534e-05</td><td> 2.80</td><td>210.0</td><td>0.0002121320</td><td>0.0005656854</td><td>0.013</td><td>0.43000000</td><td>0.091</td><td> 99</td><td>0.0020000000</td><td>0.099</td><td> 860</td><td> 60</td><td>0.060</td><td>310</td><td>0.210</td><td> 470</td><td>0.0005000000</td><td>0.120</td><td> 42.9</td></tr>\n",
       "\t<tr><td>40</td><td>'TD' </td><td>'Mother'</td><td> 6.000000000</td><td>5.656854e-05</td><td>1.100000e+01</td><td>2.800000e+00</td><td>0.0003535534</td><td>5.656854e-05</td><td>2.000000e-01</td><td> 2.5</td><td>4.949747e-05</td><td>2.000000e-01</td><td>0.0002121320</td><td>6.500000e+00</td><td>0.0004242641</td><td>5.656854e-05</td><td>0.0002828427</td><td>9.000000e-02</td><td>2.121320e-05</td><td>4.000000e-01</td><td>9.000000e-02</td><td>3.535534e-05</td><td> 1.10</td><td>240.0</td><td>0.0002121320</td><td>0.0030000000</td><td>0.011</td><td>0.45000000</td><td>0.160</td><td>110</td><td>0.0006000000</td><td>0.031</td><td> 860</td><td> 10</td><td>0.048</td><td>100</td><td>0.240</td><td> 790</td><td>0.0002000000</td><td>0.420</td><td> 96.3</td></tr>\n",
       "\t<tr><td>41</td><td>'TD' </td><td>'Mother'</td><td> 6.100000000</td><td>5.656854e-05</td><td>8.000000e+00</td><td>3.500000e+00</td><td>0.0003535534</td><td>5.656854e-05</td><td>7.071068e-05</td><td> 2.1</td><td>4.949747e-05</td><td>7.071068e-05</td><td>0.0002121320</td><td>3.700000e+00</td><td>0.0004242641</td><td>5.656854e-05</td><td>0.0002828427</td><td>3.535534e-05</td><td>2.121320e-05</td><td>2.000000e-01</td><td>4.000000e-01</td><td>3.535534e-05</td><td> 1.70</td><td>200.0</td><td>0.0002121320</td><td>0.0005656854</td><td>0.008</td><td>0.37000000</td><td>0.044</td><td>110</td><td>0.0001414214</td><td>0.095</td><td> 310</td><td> 10</td><td>0.040</td><td> 57</td><td>0.200</td><td> 430</td><td>0.0001414214</td><td>0.250</td><td> 50.2</td></tr>\n",
       "\t<tr><td>42</td><td>'TD' </td><td>'Mother'</td><td> 7.100000000</td><td>1.131371e-04</td><td>3.600000e+00</td><td>1.100000e+00</td><td>0.0007071068</td><td>1.131371e-04</td><td>1.000000e-01</td><td> 2.6</td><td>9.899495e-05</td><td>2.000000e-01</td><td>0.0004242641</td><td>4.100000e+00</td><td>0.0008485281</td><td>1.131371e-04</td><td>0.0005656854</td><td>6.000000e-02</td><td>4.242641e-05</td><td>4.000000e-01</td><td>1.000000e-01</td><td>7.071068e-05</td><td> 1.50</td><td>100.0</td><td>0.0004242641</td><td>0.0011313708</td><td>0.007</td><td>0.20000000</td><td>0.130</td><td> 84</td><td>0.0009000000</td><td>0.044</td><td> 730</td><td> 25</td><td>0.028</td><td> 93</td><td>0.120</td><td> 350</td><td>0.0002828427</td><td>0.230</td><td>207.0</td></tr>\n",
       "\t<tr><td>43</td><td>'TD' </td><td>'Mother'</td><td> 3.100000000</td><td>5.656854e-05</td><td>5.200000e+00</td><td>8.000000e-01</td><td>0.0003535534</td><td>5.656854e-05</td><td>7.071068e-05</td><td> 3.9</td><td>4.949747e-05</td><td>2.000000e-01</td><td>0.0002121320</td><td>2.100000e+00</td><td>0.0004242641</td><td>5.656854e-05</td><td>0.0002828427</td><td>1.000000e-01</td><td>2.121320e-05</td><td>7.000000e-01</td><td>3.535534e-05</td><td>3.535534e-05</td><td> 1.20</td><td>100.0</td><td>0.0002121320</td><td>0.0005656854</td><td>0.010</td><td>0.20000000</td><td>0.086</td><td> 51</td><td>0.0010000000</td><td>0.015</td><td> 550</td><td> 25</td><td>0.064</td><td>100</td><td>0.170</td><td> 820</td><td>0.0001414214</td><td>0.200</td><td> 60.1</td></tr>\n",
       "\t<tr><td>44</td><td>'TD' </td><td>'Mother'</td><td> 3.800000000</td><td>1.131371e-04</td><td>1.100000e+01</td><td>8.000000e-01</td><td>0.0007071068</td><td>1.131371e-04</td><td>2.000000e-01</td><td> 2.0</td><td>9.899495e-05</td><td>1.000000e-01</td><td>0.0004242641</td><td>1.400000e+00</td><td>0.0008485281</td><td>1.131371e-04</td><td>0.0005656854</td><td>6.000000e-02</td><td>4.242641e-05</td><td>1.500000e+00</td><td>2.000000e-01</td><td>7.071068e-05</td><td> 0.91</td><td> 66.0</td><td>0.0004242641</td><td>0.0011313708</td><td>0.008</td><td>0.12000000</td><td>0.035</td><td> 33</td><td>0.0006000000</td><td>0.024</td><td> 730</td><td> 21</td><td>0.036</td><td> 52</td><td>0.088</td><td> 310</td><td>0.0002828427</td><td>0.160</td><td>240.0</td></tr>\n",
       "\t<tr><td>45</td><td>'TD' </td><td>'Mother'</td><td> 2.600000000</td><td>1.131371e-04</td><td>6.900000e+00</td><td>6.000000e-01</td><td>0.0007071068</td><td>1.131371e-04</td><td>3.000000e-01</td><td> 2.8</td><td>9.899495e-05</td><td>1.000000e-01</td><td>0.0004242641</td><td>2.800000e+00</td><td>0.0008485281</td><td>1.131371e-04</td><td>0.0005656854</td><td>1.000000e-01</td><td>4.242641e-05</td><td>9.000000e-01</td><td>7.071068e-05</td><td>7.071068e-05</td><td> 1.30</td><td>110.0</td><td>0.0004242641</td><td>0.0011313708</td><td>0.009</td><td>0.19000000</td><td>0.052</td><td> 66</td><td>0.0006000000</td><td>0.007</td><td> 740</td><td> 20</td><td>0.066</td><td> 42</td><td>0.140</td><td> 620</td><td>0.0002828427</td><td>0.390</td><td>188.0</td></tr>\n",
       "\t<tr><td>46</td><td>'TD' </td><td>'Mother'</td><td> 1.000000000</td><td>1.131371e-04</td><td>1.300000e+01</td><td>7.000000e-01</td><td>0.0007071068</td><td>1.131371e-04</td><td>1.414214e-04</td><td> 3.9</td><td>9.899495e-05</td><td>2.000000e-01</td><td>0.3000000000</td><td>2.600000e+00</td><td>0.0008485281</td><td>1.131371e-04</td><td>0.0005656854</td><td>2.000000e-01</td><td>4.242641e-05</td><td>3.000000e-01</td><td>3.000000e-01</td><td>7.071068e-05</td><td> 1.20</td><td> 57.0</td><td>0.0004242641</td><td>0.0010000000</td><td>0.007</td><td>0.10000000</td><td>0.045</td><td> 52</td><td>0.0007000000</td><td>0.076</td><td> 540</td><td> 23</td><td>0.037</td><td> 52</td><td>0.110</td><td> 550</td><td>0.0002828427</td><td>0.210</td><td>225.0</td></tr>\n",
       "\t<tr><td>47</td><td>'TD' </td><td>'Mother'</td><td> 2.900000000</td><td>1.131371e-04</td><td>4.000000e+00</td><td>1.600000e+00</td><td>0.0007071068</td><td>1.131371e-04</td><td>1.000000e-01</td><td> 2.3</td><td>9.899495e-05</td><td>1.414214e-04</td><td>0.4000000000</td><td>2.300000e+00</td><td>0.0008485281</td><td>1.131371e-04</td><td>0.0005656854</td><td>1.000000e-01</td><td>4.242641e-05</td><td>2.000000e-01</td><td>7.071068e-05</td><td>7.071068e-05</td><td> 0.93</td><td> 82.0</td><td>0.0004242641</td><td>0.0011313708</td><td>0.009</td><td>0.15000000</td><td>0.044</td><td> 49</td><td>0.0007000000</td><td>0.034</td><td> 400</td><td> 18</td><td>0.053</td><td> 54</td><td>0.100</td><td> 510</td><td>0.0002828427</td><td>0.450</td><td>172.0</td></tr>\n",
       "\t<tr><td>48</td><td>'TD' </td><td>'Mother'</td><td> 8.600000000</td><td>5.656854e-05</td><td>6.000000e+01</td><td>1.400000e+00</td><td>0.0003535534</td><td>5.656854e-05</td><td>7.071068e-05</td><td> 3.8</td><td>4.949747e-05</td><td>2.000000e-01</td><td>0.0002121320</td><td>4.200000e+00</td><td>0.0004242641</td><td>5.656854e-05</td><td>0.0002828427</td><td>3.000000e-01</td><td>2.121320e-05</td><td>8.000000e-01</td><td>1.000000e-01</td><td>3.535534e-05</td><td> 1.50</td><td>150.0</td><td>0.0002121320</td><td>0.0010000000</td><td>0.012</td><td>0.30000000</td><td>0.130</td><td> 87</td><td>0.0020000000</td><td>0.120</td><td> 940</td><td> 47</td><td>0.089</td><td>190</td><td>0.200</td><td>1050</td><td>0.0003000000</td><td>0.320</td><td>123.0</td></tr>\n",
       "\t<tr><td>49</td><td>'TD' </td><td>'Mother'</td><td> 1.900000000</td><td>1.131371e-04</td><td>4.242641e-03</td><td>9.000000e-01</td><td>0.0007071068</td><td>2.000000e-01</td><td>1.414214e-04</td><td> 1.2</td><td>9.899495e-05</td><td>1.414214e-04</td><td>0.0004242641</td><td>1.700000e+00</td><td>0.0008485281</td><td>1.131371e-04</td><td>0.0005656854</td><td>8.000000e-02</td><td>4.242641e-05</td><td>2.000000e-01</td><td>1.000000e-01</td><td>7.071068e-05</td><td> 0.48</td><td> 38.0</td><td>0.0006000000</td><td>0.0011313708</td><td>0.007</td><td>0.14142136</td><td>0.009</td><td> 45</td><td>0.0004000000</td><td>0.027</td><td> 370</td><td> 16</td><td>0.036</td><td> 21</td><td>0.066</td><td> 330</td><td>0.0002828427</td><td>0.320</td><td>158.0</td></tr>\n",
       "\t<tr><td>50</td><td>'TD' </td><td>'Mother'</td><td> 2.000000000</td><td>5.656854e-05</td><td>1.200000e+01</td><td>7.000000e-01</td><td>0.0003535534</td><td>1.300000e+01</td><td>1.000000e-01</td><td> 2.9</td><td>4.949747e-05</td><td>2.000000e-01</td><td>0.6000000000</td><td>3.000000e+00</td><td>0.0004242641</td><td>5.656854e-05</td><td>0.0002828427</td><td>2.000000e-01</td><td>2.121320e-05</td><td>3.000000e-01</td><td>3.535534e-05</td><td>3.535534e-05</td><td> 0.84</td><td> 94.0</td><td>0.0002121320</td><td>0.0005656854</td><td>0.009</td><td>0.19000000</td><td>0.027</td><td> 57</td><td>0.0009000000</td><td>0.047</td><td> 710</td><td> 26</td><td>0.062</td><td>150</td><td>0.075</td><td> 470</td><td>0.0002000000</td><td>0.250</td><td>118.0</td></tr>\n",
       "\t<tr><td>51</td><td>'TD' </td><td>'Mother'</td><td> 4.300000000</td><td>1.131371e-04</td><td>2.400000e+01</td><td>1.000000e+00</td><td>0.0007071068</td><td>1.131371e-04</td><td>1.414214e-04</td><td> 4.5</td><td>9.899495e-05</td><td>2.000000e-01</td><td>0.0004242641</td><td>1.600000e+00</td><td>0.0008485281</td><td>1.131371e-04</td><td>0.0005656854</td><td>2.000000e-01</td><td>4.242641e-05</td><td>4.000000e-01</td><td>1.000000e-01</td><td>7.071068e-05</td><td> 1.20</td><td> 49.0</td><td>0.0004242641</td><td>0.0011313708</td><td>0.008</td><td>0.14142136</td><td>0.091</td><td> 69</td><td>0.0007000000</td><td>0.065</td><td>1180</td><td> 23</td><td>0.074</td><td> 74</td><td>0.150</td><td> 670</td><td>0.0002828427</td><td>0.210</td><td>157.0</td></tr>\n",
       "\t<tr><td>52</td><td>'TD' </td><td>'Mother'</td><td> 4.300000000</td><td>5.656854e-05</td><td>2.121320e-03</td><td>7.071068e-05</td><td>0.0003535534</td><td>5.656854e-05</td><td>7.071068e-05</td><td> 2.9</td><td>4.949747e-05</td><td>7.071068e-05</td><td>0.0002121320</td><td>3.535534e-04</td><td>0.0004242641</td><td>5.656854e-05</td><td>0.0002828427</td><td>3.535534e-05</td><td>2.121320e-05</td><td>5.656854e-05</td><td>2.000000e-01</td><td>3.535534e-05</td><td> 1.30</td><td> 13.0</td><td>0.0002121320</td><td>0.0005656854</td><td>0.006</td><td>0.07071068</td><td>0.067</td><td> 42</td><td>0.0001414214</td><td>0.056</td><td> 660</td><td> 20</td><td>0.026</td><td> 46</td><td>0.027</td><td> 340</td><td>0.0001414214</td><td>0.170</td><td> 41.3</td></tr>\n",
       "\t<tr><td>53</td><td>'TD' </td><td>'Mother'</td><td> 1.700000000</td><td>1.131371e-04</td><td>7.100000e+00</td><td>1.700000e+00</td><td>0.0007071068</td><td>1.131371e-04</td><td>1.000000e-01</td><td> 2.8</td><td>9.899495e-05</td><td>1.000000e-01</td><td>0.0004242641</td><td>1.600000e+00</td><td>0.0008485281</td><td>1.131371e-04</td><td>0.0005656854</td><td>2.000000e-01</td><td>4.242641e-05</td><td>2.000000e-01</td><td>5.000000e-02</td><td>7.071068e-05</td><td> 0.91</td><td> 31.0</td><td>0.0004242641</td><td>0.0010000000</td><td>0.007</td><td>0.14142136</td><td>0.037</td><td> 63</td><td>0.0010000000</td><td>0.064</td><td> 550</td><td> 34</td><td>0.046</td><td> 93</td><td>0.059</td><td> 480</td><td>0.0002828427</td><td>0.100</td><td>186.0</td></tr>\n",
       "\t<tr><td>54</td><td>'TD' </td><td>'Mother'</td><td> 2.400000000</td><td>5.656854e-05</td><td>1.500000e+01</td><td>2.300000e+00</td><td>0.0003535534</td><td>5.300000e+00</td><td>7.071068e-05</td><td> 3.7</td><td>4.949747e-05</td><td>2.000000e-01</td><td>0.0002121320</td><td>1.300000e+00</td><td>0.0004242641</td><td>5.656854e-05</td><td>0.0002828427</td><td>2.000000e-01</td><td>2.121320e-05</td><td>3.000000e-01</td><td>3.535534e-05</td><td>3.535534e-05</td><td> 2.20</td><td> 53.0</td><td>0.0002121320</td><td>0.0005656854</td><td>0.009</td><td>0.07071068</td><td>0.280</td><td> 48</td><td>0.0010000000</td><td>0.035</td><td> 260</td><td> 31</td><td>0.032</td><td> 65</td><td>0.170</td><td> 490</td><td>0.0001414214</td><td>0.270</td><td> 48.7</td></tr>\n",
       "\t<tr><td>56</td><td>'TD' </td><td>'Mother'</td><td> 0.001414214</td><td>1.131371e-04</td><td>4.900000e+00</td><td>3.000000e-01</td><td>0.0007071068</td><td>1.131371e-04</td><td>1.414214e-04</td><td> 3.6</td><td>9.899495e-05</td><td>2.000000e-01</td><td>0.0004242641</td><td>6.000000e-01</td><td>0.0008485281</td><td>1.131371e-04</td><td>0.0005656854</td><td>9.000000e-02</td><td>4.242641e-05</td><td>1.200000e+00</td><td>7.071068e-05</td><td>7.071068e-05</td><td> 1.70</td><td> 18.0</td><td>0.0004242641</td><td>0.0011313708</td><td>0.008</td><td>0.14142136</td><td>0.050</td><td> 17</td><td>0.0009000000</td><td>0.040</td><td> 470</td><td> 31</td><td>0.029</td><td> 43</td><td>0.025</td><td> 310</td><td>0.0002828427</td><td>0.110</td><td>177.0</td></tr>\n",
       "\t<tr><td>57</td><td>'TD' </td><td>'Mother'</td><td> 4.100000000</td><td>5.656854e-05</td><td>4.100000e+00</td><td>1.200000e+00</td><td>0.0003535534</td><td>7.000000e-01</td><td>1.000000e-01</td><td> 2.1</td><td>4.949747e-05</td><td>4.000000e-01</td><td>0.0002121320</td><td>3.600000e+00</td><td>0.0004242641</td><td>5.656854e-05</td><td>0.0002828427</td><td>1.000000e-01</td><td>2.121320e-05</td><td>7.000000e-01</td><td>1.000000e-01</td><td>3.535534e-05</td><td> 1.10</td><td>170.0</td><td>0.0002121320</td><td>0.0005656854</td><td>0.010</td><td>0.30000000</td><td>0.082</td><td>140</td><td>0.0007000000</td><td>0.044</td><td> 750</td><td> 15</td><td>0.078</td><td>170</td><td>0.190</td><td> 770</td><td>0.0002000000</td><td>0.580</td><td>129.0</td></tr>\n",
       "\t<tr><td>58</td><td>'TD' </td><td>'Mother'</td><td> 2.000000000</td><td>1.131371e-04</td><td>7.900000e+00</td><td>2.000000e-01</td><td>0.0007071068</td><td>1.131371e-04</td><td>3.000000e-01</td><td> 5.8</td><td>9.899495e-05</td><td>2.000000e-01</td><td>0.5000000000</td><td>2.300000e+00</td><td>0.0008485281</td><td>1.131371e-04</td><td>0.0005656854</td><td>2.000000e-01</td><td>4.242641e-05</td><td>2.200000e+00</td><td>4.000000e-01</td><td>7.071068e-05</td><td> 2.70</td><td>  4.2</td><td>0.0004242641</td><td>0.0011313708</td><td>0.008</td><td>0.14142136</td><td>0.036</td><td> 61</td><td>0.0010000000</td><td>0.078</td><td> 550</td><td> 31</td><td>0.042</td><td> 46</td><td>0.019</td><td> 490</td><td>0.0002828427</td><td>0.430</td><td>154.0</td></tr>\n",
       "\t<tr><td>59</td><td>'TD' </td><td>'Mother'</td><td> 7.200000000</td><td>1.131371e-04</td><td>4.242641e-03</td><td>4.000000e-01</td><td>0.0007071068</td><td>1.131371e-04</td><td>2.000000e-01</td><td> 2.3</td><td>9.899495e-05</td><td>2.000000e-01</td><td>0.0004242641</td><td>3.100000e+00</td><td>0.0008485281</td><td>1.131371e-04</td><td>0.0005656854</td><td>1.000000e-01</td><td>4.242641e-05</td><td>1.100000e+00</td><td>2.000000e-01</td><td>7.071068e-05</td><td> 0.94</td><td> 95.0</td><td>0.0004242641</td><td>0.0011313708</td><td>0.008</td><td>0.20000000</td><td>0.030</td><td> 74</td><td>0.0020000000</td><td>0.067</td><td> 730</td><td> 38</td><td>0.049</td><td>140</td><td>0.120</td><td> 500</td><td>0.0002828427</td><td>0.140</td><td>204.0</td></tr>\n",
       "\t<tr><td>60</td><td>'TD' </td><td>'Mother'</td><td> 1.300000000</td><td>1.131371e-04</td><td>2.800000e+00</td><td>2.200000e+00</td><td>0.0007071068</td><td>1.131371e-04</td><td>9.000000e-02</td><td> 2.8</td><td>9.899495e-05</td><td>1.000000e-01</td><td>0.0004242641</td><td>1.500000e+00</td><td>0.0008485281</td><td>1.131371e-04</td><td>0.0005656854</td><td>6.000000e-02</td><td>4.242641e-05</td><td>1.000000e-01</td><td>1.000000e-01</td><td>7.071068e-05</td><td> 0.67</td><td> 61.0</td><td>0.0004242641</td><td>0.0011313708</td><td>0.006</td><td>0.12000000</td><td>0.046</td><td> 56</td><td>0.0006000000</td><td>0.022</td><td> 630</td><td> 17</td><td>0.032</td><td> 44</td><td>0.100</td><td> 300</td><td>0.0002828427</td><td>0.052</td><td>253.0</td></tr>\n",
       "\t<tr><td>61</td><td>'TD' </td><td>'Mother'</td><td> 1.600000000</td><td>1.131371e-04</td><td>2.200000e+01</td><td>9.000000e-01</td><td>0.0007071068</td><td>1.131371e-04</td><td>2.000000e-01</td><td> 2.2</td><td>9.899495e-05</td><td>2.000000e-01</td><td>0.3000000000</td><td>2.000000e+00</td><td>0.0008485281</td><td>1.131371e-04</td><td>0.0005656854</td><td>2.000000e-01</td><td>4.242641e-05</td><td>6.000000e-01</td><td>2.000000e-01</td><td>7.071068e-05</td><td> 1.10</td><td> 70.0</td><td>0.0004242641</td><td>0.0011313708</td><td>0.009</td><td>0.14000000</td><td>0.072</td><td> 83</td><td>0.0009000000</td><td>0.079</td><td> 500</td><td> 28</td><td>0.057</td><td> 61</td><td>0.100</td><td> 560</td><td>0.0002828427</td><td>0.095</td><td>231.0</td></tr>\n",
       "\t<tr><td>62</td><td>'TD' </td><td>'Mother'</td><td> 2.100000000</td><td>5.656854e-05</td><td>7.100000e+00</td><td>1.000000e+00</td><td>0.0003535534</td><td>5.656854e-05</td><td>7.071068e-05</td><td> 3.4</td><td>4.949747e-05</td><td>2.000000e-01</td><td>0.5000000000</td><td>2.500000e+00</td><td>0.0004242641</td><td>5.656854e-05</td><td>0.0002828427</td><td>3.000000e-01</td><td>2.121320e-05</td><td>4.000000e-01</td><td>8.000000e-02</td><td>3.535534e-05</td><td> 0.64</td><td> 87.0</td><td>0.0002121320</td><td>0.0010000000</td><td>0.008</td><td>0.18000000</td><td>0.062</td><td> 61</td><td>0.0020000000</td><td>0.027</td><td> 620</td><td> 53</td><td>0.046</td><td>250</td><td>0.130</td><td> 350</td><td>0.0004000000</td><td>0.260</td><td> 72.7</td></tr>\n",
       "\t<tr><td>63</td><td>'TD' </td><td>'Mother'</td><td> 4.000000000</td><td>5.656854e-05</td><td>1.100000e+01</td><td>9.000000e-01</td><td>0.0003535534</td><td>5.656854e-05</td><td>3.000000e-01</td><td> 4.7</td><td>4.949747e-05</td><td>2.000000e-01</td><td>0.0002121320</td><td>3.300000e+00</td><td>0.0004242641</td><td>5.656854e-05</td><td>0.0002828427</td><td>2.000000e-01</td><td>2.121320e-05</td><td>1.000000e-01</td><td>8.000000e-02</td><td>3.535534e-05</td><td> 3.80</td><td> 62.0</td><td>0.0002121320</td><td>0.0020000000</td><td>0.010</td><td>0.12000000</td><td>0.099</td><td> 36</td><td>0.0010000000</td><td>0.058</td><td> 860</td><td> 39</td><td>0.039</td><td>110</td><td>0.100</td><td> 340</td><td>0.0001414214</td><td>0.460</td><td>108.0</td></tr>\n",
       "\t<tr><td>65</td><td>'TD' </td><td>'Mother'</td><td> 2.400000000</td><td>1.131371e-04</td><td>4.242641e-03</td><td>1.200000e+00</td><td>0.0007071068</td><td>1.131371e-04</td><td>3.000000e-01</td><td> 1.7</td><td>9.899495e-05</td><td>1.000000e-01</td><td>0.0004242641</td><td>2.700000e+00</td><td>0.0008485281</td><td>1.131371e-04</td><td>0.0005656854</td><td>7.000000e-02</td><td>4.242641e-05</td><td>3.000000e-01</td><td>1.000000e-01</td><td>7.071068e-05</td><td> 0.94</td><td>110.0</td><td>0.0004242641</td><td>0.0007000000</td><td>0.008</td><td>0.21000000</td><td>0.023</td><td> 65</td><td>0.0006000000</td><td>0.089</td><td> 830</td><td> 17</td><td>0.039</td><td> 58</td><td>0.100</td><td> 440</td><td>0.0002828427</td><td>0.430</td><td>246.0</td></tr>\n",
       "\t<tr><td>66</td><td>'TD' </td><td>'Mother'</td><td> 5.100000000</td><td>1.131371e-04</td><td>5.200000e+00</td><td>1.500000e+00</td><td>0.0007071068</td><td>1.131371e-04</td><td>1.000000e-01</td><td> 1.7</td><td>9.899495e-05</td><td>2.000000e-01</td><td>0.0004242641</td><td>4.000000e+00</td><td>0.0008485281</td><td>1.131371e-04</td><td>0.0005656854</td><td>5.000000e-02</td><td>4.242641e-05</td><td>5.000000e-01</td><td>1.000000e-01</td><td>5.000000e-02</td><td> 0.82</td><td>210.0</td><td>0.0004242641</td><td>0.0008000000</td><td>0.010</td><td>0.35000000</td><td>0.060</td><td>110</td><td>0.0006000000</td><td>0.048</td><td> 920</td><td> 12</td><td>0.050</td><td> 66</td><td>0.210</td><td> 410</td><td>0.0003000000</td><td>0.490</td><td>216.0</td></tr>\n",
       "\t<tr><td>67</td><td>'TD' </td><td>'Mother'</td><td> 5.400000000</td><td>1.131371e-04</td><td>4.700000e+00</td><td>1.400000e+00</td><td>0.0007071068</td><td>1.131371e-04</td><td>2.000000e-01</td><td> 3.6</td><td>9.899495e-05</td><td>2.000000e-01</td><td>0.0004242641</td><td>3.300000e+00</td><td>0.0008485281</td><td>1.131371e-04</td><td>0.0005656854</td><td>8.000000e-02</td><td>4.242641e-05</td><td>1.131371e-04</td><td>1.000000e-01</td><td>7.071068e-05</td><td> 1.00</td><td>120.0</td><td>0.0004242641</td><td>0.0020000000</td><td>0.010</td><td>0.22000000</td><td>0.035</td><td> 60</td><td>0.0005000000</td><td>0.047</td><td> 740</td><td> 16</td><td>0.041</td><td> 74</td><td>0.100</td><td> 500</td><td>0.0002828427</td><td>0.310</td><td>184.0</td></tr>\n",
       "\t<tr><td>68</td><td>'TD' </td><td>'Mother'</td><td> 1.600000000</td><td>5.656854e-05</td><td>4.200000e+01</td><td>1.400000e+00</td><td>0.0003535534</td><td>5.656854e-05</td><td>7.071068e-05</td><td> 5.6</td><td>4.949747e-05</td><td>3.000000e-01</td><td>0.5000000000</td><td>2.400000e+00</td><td>0.0004242641</td><td>5.656854e-05</td><td>0.0002828427</td><td>2.000000e-01</td><td>2.121320e-05</td><td>6.000000e-01</td><td>3.535534e-05</td><td>3.535534e-05</td><td> 1.50</td><td> 32.0</td><td>0.0002121320</td><td>0.0005656854</td><td>0.045</td><td>0.07071068</td><td>0.080</td><td> 44</td><td>0.0010000000</td><td>0.039</td><td> 650</td><td> 29</td><td>0.075</td><td>110</td><td>0.100</td><td> 830</td><td>0.0001414214</td><td>0.200</td><td>144.0</td></tr>\n",
       "\t<tr><td>70</td><td>'TD' </td><td>'Mother'</td><td> 9.900000000</td><td>1.131371e-04</td><td>5.200000e+00</td><td>3.000000e+00</td><td>0.0007071068</td><td>2.100000e+00</td><td>4.000000e-01</td><td> 3.8</td><td>9.899495e-05</td><td>2.000000e-01</td><td>0.0004242641</td><td>3.300000e+00</td><td>0.0008485281</td><td>1.131371e-04</td><td>0.0005656854</td><td>7.000000e-02</td><td>4.242641e-05</td><td>4.000000e-01</td><td>2.000000e-01</td><td>7.071068e-05</td><td> 0.75</td><td>150.0</td><td>0.0004242641</td><td>0.0011313708</td><td>0.008</td><td>0.28000000</td><td>0.032</td><td> 76</td><td>0.0008000000</td><td>0.041</td><td> 730</td><td> 20</td><td>0.038</td><td> 96</td><td>0.190</td><td> 390</td><td>0.0002828427</td><td>0.660</td><td>170.0</td></tr>\n",
       "\t<tr><td>71</td><td>'TD' </td><td>'Mother'</td><td> 2.400000000</td><td>5.656854e-05</td><td>1.500000e+01</td><td>2.300000e+00</td><td>0.0003535534</td><td>5.656854e-05</td><td>7.071068e-05</td><td> 5.2</td><td>4.949747e-05</td><td>3.000000e-01</td><td>0.0002121320</td><td>2.000000e+00</td><td>0.0004242641</td><td>5.656854e-05</td><td>0.0002828427</td><td>1.000000e-01</td><td>2.121320e-05</td><td>3.000000e-01</td><td>3.535534e-05</td><td>3.535534e-05</td><td> 2.80</td><td> 80.0</td><td>0.0002121320</td><td>0.0005656854</td><td>0.011</td><td>0.07071068</td><td>0.078</td><td> 74</td><td>0.0006000000</td><td>0.035</td><td> 580</td><td> 14</td><td>0.058</td><td> 59</td><td>0.200</td><td> 400</td><td>0.0001414214</td><td>0.570</td><td> 62.9</td></tr>\n",
       "</tbody>\n",
       "</table>\n"
      ],
      "text/latex": [
       "A tibble: 105 × 42\n",
       "\\begin{tabular}{llllllllllllllllllllllllllllllllllllllllll}\n",
       " 'ID Number' & 'Status' & 'Type' & 'Aluminum' & 'Antimony' & 'Arsenic' & 'Barium' & 'Beryllium' & 'Bismuth' & 'Cadmium' & 'Cesium' & 'Gadolinium' & 'Lead' & 'Mercury' & 'Nickel' & 'Palladium' & 'Platinum' & 'Tellurium' & 'Thallium' & 'Thorium' & 'Tin' & 'Tungsten' & 'Uranium' & 'Boron' & 'Calcium' & 'Chromium' & 'Cobalt' & 'Copper' & 'Iron' & 'Lithium' & 'Magnesium' & 'Manganese' & 'Molybdenum' & 'Phosphorus' & 'Potassium' & 'Selenium' & 'Sodium' & 'Strontium' & 'Sulfur' & 'Vanadium' & 'Zinc' & 'Creatinine'\\\\\n",
       " <dbl> & <chr> & <chr> & <dbl> & <dbl> & <dbl> & <dbl> & <dbl> & <dbl> & <dbl> & <dbl> & <dbl> & <dbl> & <dbl> & <dbl> & <dbl> & <dbl> & <dbl> & <dbl> & <dbl> & <dbl> & <dbl> & <dbl> & <dbl> & <dbl> & <dbl> & <dbl> & <dbl> & <dbl> & <dbl> & <dbl> & <dbl> & <dbl> & <dbl> & <dbl> & <dbl> & <dbl> & <dbl> & <dbl> & <dbl> & <dbl> & <dbl>\\\\\n",
       "\\hline\n",
       "\t  1 & 'ASD' & 'Child'  &  7.000000000 & 2.000000e-01 & 1.100000e+01 & 2.100000e+00 & 0.0007071068 & 1.131371e-04 & 1.414214e-04 &  4.3 & 9.899495e-05 & 2.000000e-01 & 0.0004242641 & 4.900000e+00 & 0.0008485281 & 1.131371e-04 & 0.0005656854 & 1.000000e-01 & 4.242641e-05 & 1.600000e+00 & 3.000000e-01 & 7.071068e-05 &  2.30 & 140.0 & 0.0004242641 & 0.0011313708 & 0.014 & 0.24000000 & 0.083 & 200 & 0.0007000000 & 0.130 & 1180 &  24 & 0.110 &  56 & 0.130 &  680 & 0.0002828427 & 0.660 & 175.0\\\\\n",
       "\t  3 & 'ASD' & 'Child'  & 19.000000000 & 2.000000e-01 & 8.100000e+00 & 8.000000e+00 & 0.0003535534 & 5.656854e-05 & 7.071068e-05 & 16.0 & 4.949747e-05 & 1.000000e+00 & 0.0002121320 & 2.900000e+00 & 0.0004242641 & 5.656854e-05 & 0.0002828427 & 6.000000e-01 & 2.121320e-05 & 1.000000e+00 & 2.000000e-01 & 3.535534e-05 &  4.90 &  81.0 & 0.0002121320 & 0.0005656854 & 0.018 & 0.20000000 & 0.170 & 170 & 0.0050000000 & 0.180 &  360 & 120 & 0.094 & 290 & 0.170 &  860 & 0.0005000000 & 0.480 &  76.0\\\\\n",
       "\t  5 & 'ASD' & 'Child'  &  9.200000000 & 5.656854e-05 & 5.900000e+00 & 4.700000e+00 & 0.0003535534 & 2.000000e-01 & 7.071068e-05 & 11.0 & 4.949747e-05 & 5.000000e-01 & 0.0002121320 & 9.400000e+00 & 0.0004242641 & 5.656854e-05 & 0.0002828427 & 3.000000e-01 & 2.121320e-05 & 8.400000e+00 & 6.000000e-01 & 3.535534e-05 &  2.90 & 300.0 & 0.0006000000 & 0.0030000000 & 0.021 & 0.60000000 & 0.170 & 310 & 0.0040000000 & 0.170 & 1860 & 120 & 0.110 & 240 & 0.370 & 1050 & 0.0006000000 & 0.750 &  58.6\\\\\n",
       "\t  6 & 'ASD' & 'Child'  &  8.400000000 & 5.656854e-05 & 1.400000e+01 & 3.000000e+00 & 0.0003535534 & 5.656854e-05 & 7.071068e-05 & 16.0 & 4.949747e-05 & 9.000000e-01 & 0.0002121320 & 1.500000e+01 & 0.0004242641 & 5.656854e-05 & 0.0002828427 & 4.000000e-01 & 2.121320e-05 & 1.400000e+00 & 3.000000e-01 & 3.535534e-05 &  8.60 & 200.0 & 0.0010000000 & 0.0005656854 & 0.024 & 0.43000000 & 0.061 & 390 & 0.0050000000 & 0.043 &  150 & 120 & 0.069 & 190 & 0.330 &  630 & 0.0004000000 & 0.240 &  54.3\\\\\n",
       "\t  8 & 'ASD' & 'Child'  &  5.600000000 & 2.828427e-05 & 1.100000e+01 & 3.800000e+00 & 0.0001767767 & 2.828427e-05 & 3.535534e-05 &  4.5 & 2.474874e-05 & 4.000000e-01 & 1.0000000000 & 2.500000e+00 & 0.0002121320 & 2.828427e-05 & 0.0001414214 & 4.000000e-01 & 1.060660e-05 & 6.000000e-01 & 3.000000e-01 & 1.767767e-05 &  1.30 &  62.0 & 0.0010000000 & 0.0002828427 & 0.022 & 0.03535534 & 0.220 & 170 & 0.0070000000 & 0.085 &  910 & 180 & 0.140 & 190 & 0.120 & 1290 & 0.0008000000 & 0.270 &  30.6\\\\\n",
       "\t 10 & 'ASD' & 'Child'  & 17.000000000 & 6.000000e-01 & 1.500000e+01 & 3.100000e+00 & 0.0003535534 & 5.656854e-05 & 7.071068e-05 & 10.0 & 4.949747e-05 & 5.000000e-01 & 0.0002121320 & 5.200000e+00 & 0.0004242641 & 5.656854e-05 & 0.0002828427 & 2.000000e-01 & 2.121320e-05 & 5.000000e-01 & 1.000000e-01 & 3.535534e-05 &  4.50 & 250.0 & 0.0010000000 & 0.0005656854 & 0.019 & 0.53000000 & 0.120 & 180 & 0.0020000000 & 0.110 & 1200 &  54 & 0.180 & 330 & 0.240 &  800 & 0.0005000000 & 1.100 &  70.6\\\\\n",
       "\t 12 & 'ASD' & 'Child'  &  9.500000000 & 5.656854e-05 & 1.200000e+02 & 4.200000e+00 & 0.0003535534 & 5.656854e-05 & 2.000000e-01 &  5.7 & 4.949747e-05 & 3.000000e-01 & 0.0002121320 & 6.700000e+00 & 0.0004242641 & 5.656854e-05 & 0.0002828427 & 3.000000e-01 & 2.121320e-05 & 2.000000e-01 & 3.000000e-01 & 3.535534e-05 &  3.80 & 340.0 & 0.0005000000 & 0.0010000000 & 0.018 & 0.63000000 & 0.083 & 230 & 0.0020000000 & 0.100 & 1320 &  45 & 0.130 & 120 & 0.290 & 1090 & 0.0001414214 & 0.660 &  82.1\\\\\n",
       "\t 17 & 'ASD' & 'Child'  &  6.800000000 & 2.000000e-01 & 3.500000e+01 & 4.000000e+00 & 0.0007071068 & 1.131371e-04 & 1.414214e-04 &  3.3 & 3.300000e+01 & 4.000000e-01 & 0.0004242641 & 9.700000e+00 & 0.0008485281 & 1.131371e-04 & 0.0005656854 & 9.000000e-02 & 4.242641e-05 & 4.000000e+00 & 1.200000e+00 & 7.071068e-05 &  2.20 & 170.0 & 0.0010000000 & 0.0009000000 & 0.018 & 0.30000000 & 0.140 & 120 & 0.0004000000 & 0.140 &  260 &  14 & 0.089 &  91 & 0.350 &  670 & 0.0009000000 & 0.690 & 172.0\\\\\n",
       "\t 19 & 'ASD' & 'Child'  & 24.000000000 & 2.000000e-01 & 1.400000e+01 & 2.600000e+00 & 0.0003535534 & 5.656854e-05 & 7.071068e-05 &  4.4 & 4.949747e-05 & 5.000000e-01 & 0.0002121320 & 3.800000e+00 & 0.0004242641 & 5.656854e-05 & 0.0002828427 & 6.000000e-01 & 2.121320e-05 & 2.000000e+00 & 7.000000e-02 & 3.535534e-05 &  4.50 & 150.0 & 0.0002121320 & 0.0005656854 & 0.020 & 0.34000000 & 0.084 & 110 & 0.0060000000 & 0.058 &  810 & 120 & 0.091 & 200 & 0.260 &  690 & 0.0006000000 & 0.740 &  87.4\\\\\n",
       "\t 20 & 'ASD' & 'Child'  & 21.000000000 & 7.000000e-02 & 1.200000e+01 & 1.800000e+00 & 0.0003535534 & 5.656854e-05 & 2.000000e-01 &  3.6 & 4.949747e-05 & 1.000000e-01 & 0.0002121320 & 1.300000e+00 & 0.0004242641 & 5.656854e-05 & 0.0002828427 & 2.000000e-01 & 2.121320e-05 & 2.000000e-01 & 2.000000e-01 & 3.535534e-05 &  2.40 &  38.0 & 0.0004000000 & 0.0005656854 & 0.020 & 0.07071068 & 0.055 & 150 & 0.0020000000 & 0.083 &  900 &  51 & 0.100 &  45 & 0.060 &  990 & 0.0002000000 & 0.500 & 123.0\\\\\n",
       "\t 25 & 'ASD' & 'Child'  &  7.700000000 & 1.000000e-01 & 1.100000e+01 & 1.000000e+01 & 0.0003535534 & 1.000000e-01 & 7.071068e-05 &  6.9 & 4.949747e-05 & 5.000000e-01 & 0.7000000000 & 7.100000e+00 & 0.0004242641 & 5.656854e-05 & 0.0002828427 & 4.000000e-01 & 2.121320e-05 & 9.000000e-01 & 1.000000e-01 & 2.000000e-01 &  2.30 & 180.0 & 0.0002121320 & 0.0005656854 & 0.059 & 0.37000000 & 0.044 & 190 & 0.0040000000 & 0.097 & 1240 & 130 & 0.130 & 280 & 0.250 &  820 & 0.0005000000 & 0.790 &  73.8\\\\\n",
       "\t 28 & 'ASD' & 'Child'  &  3.200000000 & 5.656854e-05 & 2.121320e-03 & 1.400000e+00 & 0.0003535534 & 5.656854e-05 & 7.071068e-05 &  5.0 & 4.949747e-05 & 3.000000e-01 & 0.0002121320 & 1.600000e+00 & 0.0004242641 & 5.656854e-05 & 0.0002828427 & 8.000000e-02 & 2.121320e-05 & 2.900000e+00 & 2.000000e-01 & 3.535534e-05 &  1.40 &  61.0 & 0.0002121320 & 0.0005656854 & 0.014 & 0.07071068 & 0.100 & 220 & 0.0007000000 & 0.068 &  820 &  23 & 0.057 &  79 & 0.120 &  610 & 0.0001414214 & 0.660 &  76.6\\\\\n",
       "\t 29 & 'ASD' & 'Child'  &  3.500000000 & 5.656854e-05 & 1.500000e+01 & 4.200000e+00 & 0.0003535534 & 5.656854e-05 & 7.071068e-05 &  3.9 & 4.949747e-05 & 8.000000e-01 & 0.0002121320 & 4.600000e+00 & 0.0004242641 & 5.656854e-05 & 0.0002828427 & 2.000000e-01 & 2.121320e-05 & 5.000000e-01 & 6.000000e-02 & 1.000000e-01 &  3.50 & 220.0 & 0.0002121320 & 0.0005656854 & 0.013 & 0.40000000 & 0.066 & 290 & 0.0020000000 & 0.008 &  530 &  49 & 0.039 &  54 & 0.320 &  630 & 0.0001414214 & 0.530 &  84.8\\\\\n",
       "\t 30 & 'ASD' & 'Child'  & 18.000000000 & 4.000000e-01 & 4.200000e+00 & 6.400000e+00 & 0.0003535534 & 5.656854e-05 & 7.071068e-05 &  6.6 & 4.949747e-05 & 4.000000e-01 & 0.0002121320 & 3.800000e+00 & 0.0004242641 & 5.656854e-05 & 0.0002828427 & 1.000000e-01 & 2.121320e-05 & 1.200000e+00 & 4.000000e-01 & 3.535534e-05 &  1.10 & 140.0 & 0.0003000000 & 0.0005656854 & 0.015 & 0.25000000 & 0.054 &  79 & 0.0006000000 & 0.090 &  610 &  17 & 0.074 & 170 & 0.210 &  730 & 0.0003000000 & 0.790 & 135.0\\\\\n",
       "\t 31 & 'ASD' & 'Child'  & 15.000000000 & 5.656854e-05 & 2.121320e-03 & 5.000000e-01 & 0.0003535534 & 5.656854e-05 & 7.071068e-05 &  8.6 & 4.949747e-05 & 8.000000e-01 & 0.6000000000 & 1.600000e+00 & 0.0004242641 & 5.656854e-05 & 0.0002828427 & 5.000000e-01 & 2.121320e-05 & 2.000000e-01 & 2.000000e-01 & 3.535534e-05 &  3.30 &  14.0 & 0.0002121320 & 0.0005656854 & 0.020 & 0.07071068 & 0.043 &  60 & 0.0050000000 & 0.044 &  720 & 120 & 0.072 & 230 & 0.036 &  770 & 0.0006000000 & 0.330 &  68.2\\\\\n",
       "\t 32 & 'ASD' & 'Child'  &  3.500000000 & 5.656854e-05 & 1.200000e+01 & 4.000000e+00 & 0.0003535534 & 5.656854e-05 & 7.071068e-05 & 11.0 & 4.949747e-05 & 5.000000e-01 & 0.3000000000 & 4.400000e+00 & 0.0004242641 & 5.656854e-05 & 0.0002828427 & 3.000000e-01 & 2.121320e-05 & 4.000000e-01 & 1.000000e-01 & 3.535534e-05 &  3.70 &  92.0 & 0.0002121320 & 0.0008000000 & 0.018 & 0.18000000 & 0.084 & 190 & 0.0020000000 & 0.045 & 1290 &  52 & 0.054 & 210 & 0.140 &  740 & 0.0004000000 & 0.280 & 110.0\\\\\n",
       "\t 33 & 'ASD' & 'Child'  & 33.000000000 & 5.656854e-05 & 7.100000e+00 & 2.800000e+00 & 0.0003535534 & 5.656854e-05 & 7.071068e-05 &  8.4 & 4.949747e-05 & 3.000000e-01 & 0.0002121320 & 4.300000e+00 & 0.0004242641 & 5.656854e-05 & 0.0002828427 & 3.000000e-01 & 2.121320e-05 & 4.000000e-01 & 2.000000e-01 & 3.535534e-05 &  4.10 &  80.0 & 0.0002121320 & 0.0010000000 & 0.017 & 0.16000000 & 0.064 & 310 & 0.0020000000 & 0.048 & 1250 &  54 & 0.074 & 250 & 0.170 &  870 & 0.0003000000 & 0.520 &  85.4\\\\\n",
       "\t 34 & 'ASD' & 'Child'  &  5.600000000 & 5.656854e-05 & 1.200000e+01 & 3.800000e+00 & 0.0003535534 & 5.656854e-05 & 7.071068e-05 & 10.0 & 4.949747e-05 & 6.000000e-01 & 0.0002121320 & 9.500000e+00 & 0.0004242641 & 5.656854e-05 & 0.0002828427 & 2.000000e-01 & 2.121320e-05 & 1.200000e+00 & 2.000000e-01 & 3.535534e-05 &  2.30 & 260.0 & 0.0002121320 & 0.0020000000 & 0.024 & 0.49000000 & 0.350 & 350 & 0.0030000000 & 0.085 & 1680 &  64 & 0.170 & 430 & 0.410 & 1870 & 0.0007000000 & 0.730 &  55.4\\\\\n",
       "\t 35 & 'ASD' & 'Child'  &  1.900000000 & 5.656854e-05 & 1.600000e+01 & 5.400000e+00 & 0.0003535534 & 5.656854e-05 & 7.071068e-05 &  7.6 & 4.949747e-05 & 5.000000e-01 & 0.0002121320 & 5.400000e+00 & 0.0004242641 & 5.656854e-05 & 0.0002828427 & 3.000000e-01 & 2.121320e-05 & 3.000000e-01 & 2.000000e-01 & 3.535534e-05 &  3.20 & 150.0 & 0.0002121320 & 0.0005656854 & 0.020 & 0.30000000 & 0.110 & 170 & 0.0050000000 & 0.110 &  890 & 120 & 0.130 & 240 & 0.250 &  980 & 0.0005000000 & 0.093 &  83.7\\\\\n",
       "\t 37 & 'ASD' & 'Child'  & 15.000000000 & 9.000000e-02 & 1.100000e+01 & 1.200000e+00 & 0.0003535534 & 5.656854e-05 & 1.000000e-01 &  6.3 & 4.949747e-05 & 3.000000e-01 & 0.0002121320 & 2.700000e+00 & 0.0004242641 & 5.656854e-05 & 0.0002828427 & 3.000000e-01 & 2.121320e-05 & 6.000000e-01 & 7.000000e-02 & 3.535534e-05 &  3.20 &  41.0 & 0.0002121320 & 0.0005656854 & 0.021 & 0.07071068 & 0.058 & 160 & 0.0030000000 & 0.060 &  950 &  79 & 0.083 & 170 & 0.120 &  730 & 0.0004000000 & 0.530 &  87.0\\\\\n",
       "\t 39 & 'ASD' & 'Child'  & 74.000000000 & 3.000000e-01 & 2.500000e+01 & 1.500000e+01 & 0.0003535534 & 5.656854e-05 & 1.000000e-01 & 14.0 & 4.949747e-05 & 2.900000e+00 & 0.0002121320 & 7.800000e+00 & 0.0004242641 & 5.656854e-05 & 0.0002828427 & 4.000000e-01 & 2.121320e-05 & 3.700000e+00 & 1.000000e-01 & 8.000000e-02 & 11.00 & 330.0 & 0.0007000000 & 0.0010000000 & 0.023 & 0.72000000 & 0.110 & 200 & 0.0110000000 & 0.026 &  260 &  74 & 0.021 & 170 & 0.410 &  320 & 0.0006000000 & 0.630 & 102.0\\\\\n",
       "\t 40 & 'TD'  & 'Child'  & 15.000000000 & 1.131371e-04 & 1.200000e+01 & 1.600000e+00 & 0.0007071068 & 1.131371e-04 & 1.414214e-04 &  3.4 & 9.899495e-05 & 3.000000e-01 & 0.0004242641 & 6.800000e+00 & 0.0008485281 & 1.131371e-04 & 0.0005656854 & 1.000000e-01 & 4.242641e-05 & 1.000000e+00 & 3.000000e-01 & 7.071068e-05 &  2.70 &  84.0 & 0.0004242641 & 0.0010000000 & 0.016 & 0.16000000 & 0.150 & 150 & 0.0010000000 & 0.150 &  990 &  38 & 0.075 & 130 & 0.170 &  790 & 0.0002000000 & 0.380 & 170.0\\\\\n",
       "\t 41 & 'TD'  & 'Child'  & 59.000000000 & 3.000000e-01 & 1.100000e+01 & 7.200000e+00 & 0.0003535534 & 5.656854e-05 & 7.071068e-05 &  7.5 & 4.949747e-05 & 2.200000e+00 & 0.0002121320 & 6.700000e+00 & 0.0004242641 & 5.656854e-05 & 0.0002828427 & 2.000000e-01 & 2.121320e-05 & 2.200000e+00 & 7.000000e-01 & 3.535534e-05 &  3.30 & 180.0 & 0.0002121320 & 0.0005656854 & 0.030 & 0.35000000 & 0.130 & 200 & 0.0050000000 & 0.140 & 1830 &  76 & 0.130 & 180 & 0.270 & 1340 & 0.0005000000 & 0.730 &  50.9\\\\\n",
       "\t 42 & 'TD'  & 'Child'  & 17.000000000 & 5.656854e-05 & 1.100000e+01 & 5.200000e+00 & 0.0003535534 & 5.656854e-05 & 7.071068e-05 &  5.8 & 4.949747e-05 & 8.000000e-01 & 0.0002121320 & 4.500000e+00 & 0.0004242641 & 5.656854e-05 & 0.0002828427 & 2.000000e-01 & 2.121320e-05 & 5.000000e+00 & 8.000000e-01 & 3.535534e-05 &  1.60 & 270.0 & 0.0002121320 & 0.0005656854 & 0.018 & 0.52000000 & 0.230 & 170 & 0.0020000000 & 0.110 & 1050 &  49 & 0.076 & 190 & 0.390 &  910 & 0.0001414214 & 0.860 &  56.8\\\\\n",
       "\t 43 & 'TD'  & 'Child'  & 14.000000000 & 5.656854e-05 & 6.500000e+00 & 7.400000e+00 & 0.0003535534 & 5.656854e-05 & 7.071068e-05 &  8.9 & 4.949747e-05 & 1.100000e+00 & 0.0002121320 & 9.000000e+00 & 0.0004242641 & 5.656854e-05 & 0.0002828427 & 4.000000e-01 & 2.121320e-05 & 2.600000e+00 & 2.000000e-01 & 3.535534e-05 &  2.10 & 540.0 & 0.0002121320 & 0.0010000000 & 0.022 & 1.00000000 & 0.099 & 230 & 0.0030000000 & 0.062 & 1480 &  84 & 0.200 & 260 & 0.420 & 1930 & 0.0005000000 & 1.400 &  55.6\\\\\n",
       "\t 45 & 'TD'  & 'Child'  &  6.100000000 & 5.656854e-05 & 1.100000e+01 & 2.900000e+00 & 0.0003535534 & 5.656854e-05 & 7.071068e-05 &  6.2 & 4.949747e-05 & 6.000000e-01 & 0.0002121320 & 2.900000e+00 & 0.0004242641 & 5.656854e-05 & 0.0002828427 & 2.000000e-01 & 2.121320e-05 & 9.000000e-01 & 2.000000e-01 & 3.535534e-05 &  2.70 & 100.0 & 0.0002121320 & 0.0008000000 & 0.017 & 0.21000000 & 0.092 & 230 & 0.0030000000 & 0.061 & 1270 &  87 & 0.110 & 280 & 0.170 & 1200 & 0.0004000000 & 0.480 &  97.9\\\\\n",
       "\t 46 & 'TD'  & 'Child'  &  4.100000000 & 5.656854e-05 & 1.600000e+01 & 2.800000e+00 & 0.0003535534 & 5.656854e-05 & 7.071068e-05 &  7.0 & 4.949747e-05 & 4.000000e-01 & 0.0002121320 & 4.300000e+00 & 0.0004242641 & 5.656854e-05 & 0.0002828427 & 3.000000e-01 & 2.121320e-05 & 2.000000e-01 & 2.000000e-01 & 3.535534e-05 &  3.90 &  88.0 & 0.0002121320 & 0.0030000000 & 0.022 & 0.17000000 & 0.099 & 190 & 0.0020000000 & 0.096 & 1210 &  54 & 0.100 & 150 & 0.160 &  960 & 0.0003000000 & 0.380 &  83.7\\\\\n",
       "\t 48 & 'TD'  & 'Child'  & 38.000000000 & 5.656854e-05 & 1.500000e+01 & 3.300000e+00 & 0.0003535534 & 5.656854e-05 & 7.071068e-05 &  3.7 & 4.949747e-05 & 2.000000e-01 & 0.0002121320 & 1.000000e+01 & 0.0004242641 & 5.656854e-05 & 0.0002828427 & 2.000000e-01 & 2.121320e-05 & 1.600000e+00 & 3.000000e-01 & 3.535534e-05 &  2.50 & 390.0 & 0.0002121320 & 0.0020000000 & 0.018 & 0.71000000 & 0.170 & 280 & 0.0008000000 & 0.150 & 1240 &  18 & 0.130 & 140 & 0.250 & 1490 & 0.0003000000 & 1.200 &  71.8\\\\\n",
       "\t 49 & 'TD'  & 'Child'  & 46.000000000 & 9.000000e-01 & 1.060660e-03 & 1.100000e+01 & 0.0001767767 & 2.828427e-05 & 3.535534e-05 & 18.0 & 2.474874e-05 & 1.100000e+00 & 0.0001060660 & 5.600000e+00 & 0.0002121320 & 2.828427e-05 & 0.0001414214 & 8.000000e-01 & 1.060660e-05 & 6.000000e-01 & 3.000000e-01 & 1.767767e-05 &  8.90 & 190.0 & 0.0001060660 & 0.0002828427 & 0.037 & 0.03535534 & 0.130 & 340 & 0.0070000000 & 0.049 & 2980 & 130 & 0.210 & 700 & 0.300 & 1570 & 0.0010000000 & 0.590 &  10.6\\\\\n",
       "\t 50 & 'TD'  & 'Child'  &  6.400000000 & 5.656854e-05 & 9.000000e+00 & 2.500000e+00 & 0.0003535534 & 5.656854e-05 & 7.071068e-05 &  7.7 & 4.949747e-05 & 4.000000e-01 & 0.0002121320 & 3.400000e+00 & 0.0004242641 & 5.656854e-05 & 0.0002828427 & 2.000000e-01 & 2.121320e-05 & 5.000000e-01 & 3.000000e-01 & 3.535534e-05 &  4.40 &  77.0 & 0.0002121320 & 0.0005656854 & 0.016 & 0.15000000 & 0.071 & 240 & 0.0010000000 & 0.140 & 1600 &  35 & 0.120 & 150 & 0.130 & 1270 & 0.0001414214 & 1.100 &  97.0\\\\\n",
       "\t 51 & 'TD'  & 'Child'  & 16.000000000 & 3.000000e-01 & 2.500000e+01 & 7.000000e+00 & 0.0003535534 & 5.656854e-05 & 7.071068e-05 & 14.0 & 4.949747e-05 & 8.000000e-01 & 0.0002121320 & 9.900000e+00 & 0.0004242641 & 5.656854e-05 & 0.0002828427 & 3.535534e-05 & 2.121320e-05 & 9.900000e+00 & 2.000000e-01 & 3.535534e-05 &  4.10 & 480.0 & 0.0002121320 & 0.0005656854 & 0.026 & 0.86000000 & 0.300 & 330 & 0.0008000000 & 0.087 & 1940 &  18 & 0.130 & 210 & 0.550 & 1800 & 0.0001414214 & 0.800 &  46.9\\\\\n",
       "\t 52 & 'TD'  & 'Child'  & 18.000000000 & 2.000000e-01 & 1.100000e+01 & 1.000000e+00 & 0.0003535534 & 5.656854e-05 & 7.071068e-05 & 16.0 & 4.949747e-05 & 7.000000e-01 & 0.0002121320 & 3.300000e+00 & 0.0004242641 & 5.656854e-05 & 0.0002828427 & 4.000000e-01 & 2.121320e-05 & 2.800000e+00 & 7.000000e-01 & 3.535534e-05 &  3.10 &  19.0 & 0.0004000000 & 0.0005656854 & 0.020 & 0.07071068 & 0.180 &  53 & 0.0070000000 & 0.240 & 1450 & 210 & 0.180 & 120 & 0.046 & 1930 & 0.0004000000 & 0.410 &  89.8\\\\\n",
       "\t 53 & 'TD'  & 'Child'  & 11.000000000 & 2.000000e-01 & 2.800000e+01 & 9.800000e+00 & 0.0003535534 & 5.656854e-05 & 7.071068e-05 &  6.0 & 4.949747e-05 & 4.000000e-01 & 0.0002121320 & 6.100000e+00 & 0.0004242641 & 5.656854e-05 & 0.0002828427 & 2.000000e-01 & 2.121320e-05 & 1.800000e+00 & 3.000000e-01 & 3.535534e-05 &  2.70 & 200.0 & 0.0002121320 & 0.0005656854 & 0.016 & 0.38000000 & 0.073 & 390 & 0.0009000000 & 0.260 & 1680 &  29 & 0.100 & 210 & 0.330 & 1430 & 0.0003000000 & 0.700 &  85.7\\\\\n",
       "\t 54 & 'TD'  & 'Child'  & 10.000000000 & 5.656854e-05 & 5.100000e+01 & 6.800000e+00 & 0.0003535534 & 5.656854e-05 & 7.071068e-05 &  7.6 & 4.949747e-05 & 6.000000e-01 & 0.0002121320 & 6.800000e+00 & 0.0004242641 & 5.656854e-05 & 0.0002828427 & 2.000000e-01 & 2.121320e-05 & 3.300000e+00 & 5.000000e-01 & 3.535534e-05 &  3.60 & 220.0 & 0.0002121320 & 0.0005656854 & 0.026 & 0.49000000 & 0.160 & 130 & 0.0050000000 & 0.130 &  820 & 130 & 0.130 & 680 & 0.340 &  980 & 0.0010000000 & 0.780 &  45.8\\\\\n",
       "\t 56 & 'TD'  & 'Child'  & 12.000000000 & 8.000000e-02 & 5.200000e+00 & 3.000000e+00 & 0.0007071068 & 1.131371e-04 & 1.414214e-04 &  2.9 & 9.899495e-05 & 1.000000e-01 & 0.0004242641 & 2.600000e+00 & 0.0008485281 & 1.131371e-04 & 0.0005656854 & 9.000000e-02 & 4.242641e-05 & 4.200000e+00 & 2.000000e-01 & 7.071068e-05 &  1.80 &  72.0 & 0.0004242641 & 0.0011313708 & 0.016 & 0.13000000 & 0.037 & 170 & 0.0008000000 & 0.100 &  710 &  29 & 0.060 &  48 & 0.077 &  630 & 0.0002828427 & 0.740 & 209.0\\\\\n",
       "\t 57 & 'TD'  & 'Child'  & 15.000000000 & 5.656854e-05 & 1.100000e+01 & 1.700000e+00 & 0.0003535534 & 6.000000e-01 & 2.000000e-01 &  6.1 & 4.949747e-05 & 4.000000e-01 & 0.0002121320 & 6.500000e+00 & 0.0004242641 & 5.656854e-05 & 0.0002828427 & 3.000000e-01 & 2.121320e-05 & 2.200000e+00 & 5.000000e-01 & 3.535534e-05 &  2.00 & 120.0 & 0.0002121320 & 0.0005656854 & 0.021 & 0.25000000 & 0.120 & 250 & 0.0030000000 & 0.092 & 1540 &  76 & 0.170 & 200 & 0.230 & 1630 & 0.0005000000 & 0.450 &  62.8\\\\\n",
       "\t 58 & 'TD'  & 'Child'  & 14.000000000 & 5.656854e-05 & 2.300000e+01 & 2.700000e+00 & 0.0003535534 & 5.656854e-05 & 3.000000e-01 &  9.7 & 4.949747e-05 & 4.000000e-01 & 0.0002121320 & 8.300000e+00 & 0.0004242641 & 5.656854e-05 & 0.0002828427 & 3.000000e-01 & 2.121320e-05 & 1.400000e+00 & 6.000000e-01 & 3.535534e-05 &  4.50 & 170.0 & 0.0002121320 & 0.0020000000 & 0.037 & 0.32000000 & 0.140 & 440 & 0.0030000000 & 0.190 & 1540 &  64 & 0.170 & 180 & 0.310 & 1950 & 0.0006000000 & 1.500 &  48.5\\\\\n",
       "\t 60 & 'TD'  & 'Child'  &  9.100000000 & 2.000000e-01 & 2.200000e+01 & 1.700000e+00 & 0.0003535534 & 5.656854e-05 & 7.071068e-05 &  5.9 & 4.949747e-05 & 4.000000e-01 & 0.0002121320 & 6.400000e+00 & 0.0004242641 & 5.656854e-05 & 0.0002828427 & 1.000000e-01 & 2.121320e-05 & 1.700000e+00 & 2.000000e-01 & 3.535534e-05 &  2.40 &  65.0 & 0.0002121320 & 0.0010000000 & 0.023 & 0.12000000 & 0.140 & 230 & 0.0020000000 & 0.066 &  770 &  43 & 0.160 & 110 & 0.150 & 1460 & 0.0001414214 & 0.220 &  82.1\\\\\n",
       "\t 61 & 'TD'  & 'Child'  & 27.000000000 & 2.000000e-01 & 1.800000e+01 & 1.900000e+00 & 0.0003535534 & 5.656854e-05 & 7.071068e-05 &  5.3 & 4.949747e-05 & 7.000000e-01 & 0.0002121320 & 2.800000e+00 & 0.0004242641 & 5.656854e-05 & 0.0002828427 & 2.000000e-01 & 2.121320e-05 & 5.500000e+00 & 3.535534e-05 & 3.535534e-05 &  3.10 &  13.0 & 0.0002121320 & 0.0005656854 & 0.025 & 0.07071068 & 0.120 & 190 & 0.0030000000 & 0.063 & 1070 &  81 & 0.110 &  62 & 0.042 &  900 & 0.0001414214 & 1.000 &  47.7\\\\\n",
       "\t 62 & 'TD'  & 'Child'  &  8.500000000 & 1.000000e-01 & 2.300000e+01 & 2.900000e+00 & 0.0003535534 & 5.656854e-05 & 7.071068e-05 &  5.7 & 4.949747e-05 & 3.000000e-01 & 0.0002121320 & 2.700000e+00 & 0.0004242641 & 5.656854e-05 & 0.0002828427 & 2.000000e-01 & 2.121320e-05 & 2.500000e+00 & 4.000000e-01 & 3.535534e-05 &  1.40 &  93.0 & 0.0002121320 & 0.0005656854 & 0.030 & 0.19000000 & 0.190 & 210 & 0.0020000000 & 0.091 &  860 &  42 & 0.160 & 110 & 0.180 & 1480 & 0.0005000000 & 0.960 &  82.0\\\\\n",
       "\t 63 & 'TD'  & 'Child'  &  9.500000000 & 2.000000e-01 & 2.900000e+01 & 5.500000e+00 & 0.0003535534 & 5.656854e-05 & 7.071068e-05 &  7.7 & 4.949747e-05 & 7.000000e-01 & 0.0002121320 & 8.000000e+00 & 0.0004242641 & 5.656854e-05 & 0.0002828427 & 2.000000e-01 & 2.121320e-05 & 1.400000e+00 & 2.200000e+00 & 3.535534e-05 &  3.30 & 300.0 & 0.0002121320 & 0.0020000000 & 0.019 & 0.55000000 & 0.240 & 200 & 0.0010000000 & 0.260 & 1300 &  42 & 0.160 & 200 & 0.440 & 1690 & 0.0004000000 & 0.590 &  70.4\\\\\n",
       "\t 65 & 'TD'  & 'Child'  &  6.300000000 & 9.000000e-02 & 7.900000e+00 & 1.800000e+00 & 0.0003535534 & 2.000000e-01 & 7.071068e-05 &  4.8 & 4.949747e-05 & 3.000000e-01 & 0.0002121320 & 6.000000e+00 & 0.0004242641 & 5.656854e-05 & 0.0002828427 & 1.000000e-01 & 2.121320e-05 & 2.500000e+00 & 1.000000e-01 & 3.535534e-05 &  2.10 & 170.0 & 0.0002121320 & 0.0005656854 & 0.022 & 0.30000000 & 0.066 & 170 & 0.0009000000 & 0.140 & 1600 &  30 & 0.120 & 130 & 0.240 & 1220 & 0.0001414214 & 0.580 &  94.0\\\\\n",
       "\t 66 & 'TD'  & 'Child'  & 37.000000000 & 2.000000e-01 & 1.900000e+01 & 2.000000e+00 & 0.0003535534 & 5.656854e-05 & 7.071068e-05 &  6.9 & 4.949747e-05 & 8.000000e-01 & 0.0002121320 & 2.100000e+00 & 0.0004242641 & 5.656854e-05 & 0.0002828427 & 4.000000e-01 & 2.121320e-05 & 6.000000e+00 & 6.000000e-01 & 3.000000e-01 &  8.10 &  34.0 & 0.0030000000 & 0.0005656854 & 0.019 & 0.07071068 & 0.067 & 160 & 0.0040000000 & 0.100 & 1020 & 110 & 0.100 & 130 & 0.150 &  680 & 0.0020000000 & 1.100 &  88.5\\\\\n",
       "\t 67 & 'TD'  & 'Child'  &  6.500000000 & 1.000000e-01 & 1.000000e+01 & 4.000000e+00 & 0.0003535534 & 5.656854e-05 & 7.071068e-05 &  5.7 & 4.949747e-05 & 4.000000e-01 & 0.0002121320 & 7.600000e+00 & 0.0004242641 & 5.656854e-05 & 0.0002828427 & 2.000000e-01 & 2.121320e-05 & 1.900000e+00 & 2.000000e-01 & 3.535534e-05 &  4.80 & 240.0 & 0.0005000000 & 0.0010000000 & 0.018 & 0.43000000 & 0.180 & 280 & 0.0010000000 & 0.170 & 2210 &  34 & 0.150 & 140 & 0.260 & 1370 & 0.0003000000 & 0.700 & 101.0\\\\\n",
       "\t 68 & 'TD'  & 'Child'  &  3.200000000 & 1.000000e-01 & 1.300000e+01 & 2.800000e+00 & 0.0003535534 & 5.656854e-05 & 7.071068e-05 &  7.7 & 4.949747e-05 & 1.000000e+00 & 0.0002121320 & 3.800000e+00 & 0.0004242641 & 5.656854e-05 & 0.0002828427 & 2.000000e-01 & 2.121320e-05 & 3.100000e+00 & 2.000000e-01 & 3.535534e-05 &  1.70 & 120.0 & 0.0002121320 & 0.0005656854 & 0.027 & 0.24000000 & 0.075 & 210 & 0.0020000000 & 0.085 & 1430 &  74 & 0.120 & 300 & 0.200 & 1390 & 0.0004000000 & 0.510 &  74.9\\\\\n",
       "\t 70 & 'TD'  & 'Child'  & 12.000000000 & 5.656854e-05 & 1.900000e+01 & 5.200000e+00 & 0.0003535534 & 4.000000e-01 & 7.071068e-05 &  5.6 & 4.949747e-05 & 5.000000e-01 & 0.0002121320 & 6.200000e+00 & 0.0004242641 & 5.656854e-05 & 0.0002828427 & 2.000000e-01 & 2.121320e-05 & 6.600000e+00 & 2.000000e-01 & 3.535534e-05 &  2.30 & 250.0 & 0.0002121320 & 0.0010000000 & 0.019 & 0.51000000 & 0.060 & 210 & 0.0030000000 & 0.130 & 1240 &  85 & 0.093 & 340 & 0.250 & 1080 & 0.0006000000 & 0.670 &  61.8\\\\\n",
       "\t 71 & 'TD'  & 'Child'  & 11.000000000 & 2.000000e-01 & 2.000000e+01 & 2.100000e+00 & 0.0003535534 & 5.656854e-05 & 7.071068e-05 &  7.2 & 4.949747e-05 & 8.000000e-01 & 0.0002121320 & 1.800000e+00 & 0.0004242641 & 5.656854e-05 & 0.0002828427 & 3.000000e-01 & 2.121320e-05 & 6.700000e+00 & 3.000000e-01 & 8.000000e-02 &  6.40 &  44.0 & 0.0006000000 & 0.0005656854 & 0.014 & 0.07071068 & 0.150 & 210 & 0.0020000000 & 0.150 &  890 &  67 & 0.130 &  72 & 0.160 & 1310 & 0.0003000000 & 0.520 &  79.9\\\\\n",
       "\t  1 & 'ASD' & 'Mother' &  1.400000000 & 1.131371e-04 & 6.100000e+01 & 1.300000e+00 & 0.0007071068 & 1.131371e-04 & 1.000000e-01 &  5.4 & 9.899495e-05 & 2.000000e-01 & 0.3000000000 & 3.100000e+00 & 0.0008485281 & 1.131371e-04 & 0.0005656854 & 1.000000e-01 & 4.242641e-05 & 4.000000e-01 & 8.000000e-02 & 7.071068e-05 &  2.20 & 140.0 & 0.0004242641 & 0.0011313708 & 0.007 & 0.25000000 & 0.055 &  77 & 0.0007000000 & 0.036 &  680 &  23 & 0.059 &  42 & 0.120 &  410 & 0.0002828427 & 0.160 & 250.0\\\\\n",
       "\t  2 & 'ASD' & 'Mother' &  1.800000000 & 5.656854e-05 & 4.800000e+00 & 1.500000e+00 & 0.0003535534 & 5.656854e-05 & 9.000000e-02 &  3.1 & 4.949747e-05 & 1.000000e-01 & 0.0002121320 & 3.100000e+00 & 0.0004242641 & 5.656854e-05 & 0.0002828427 & 1.000000e-01 & 2.121320e-05 & 7.000000e-02 & 3.535534e-05 & 3.535534e-05 &  1.60 &  34.0 & 0.0002121320 & 0.0010000000 & 0.011 & 0.07071068 & 0.180 &  83 & 0.0006000000 & 0.012 &  860 &  15 & 0.056 & 110 & 0.067 &  590 & 0.0001414214 & 0.160 & 128.0\\\\\n",
       "\t  3 & 'ASD' & 'Mother' &  3.300000000 & 5.656854e-05 & 2.900000e+00 & 5.000000e+00 & 0.0003535534 & 5.656854e-05 & 2.000000e-01 &  3.4 & 4.949747e-05 & 2.000000e-01 & 0.0002121320 & 3.500000e+00 & 0.0004242641 & 5.656854e-05 & 0.0002828427 & 6.000000e-02 & 2.121320e-05 & 1.700000e+00 & 2.000000e-01 & 3.535534e-05 &  0.68 & 160.0 & 0.0002121320 & 0.0005656854 & 0.010 & 0.30000000 & 0.210 &  91 & 0.0005000000 & 0.035 &  590 &  10 & 0.041 &  91 & 0.230 &  470 & 0.0001414214 & 0.210 & 106.0\\\\\n",
       "\t  5 & 'ASD' & 'Mother' &  2.500000000 & 1.131371e-04 & 1.400000e+01 & 9.000000e-01 & 0.0007071068 & 1.131371e-04 & 3.000000e-01 &  2.5 & 9.000000e-02 & 3.000000e-01 & 0.0004242641 & 1.600000e+00 & 0.0008485281 & 1.131371e-04 & 0.0005656854 & 1.000000e-01 & 4.242641e-05 & 2.000000e-01 & 8.000000e-02 & 7.071068e-05 &  0.73 &  49.0 & 0.0004242641 & 0.0011313708 & 0.014 & 0.14142136 & 0.070 &  29 & 0.0008000000 & 0.140 &  600 &  19 & 0.080 &  83 & 0.081 &  550 & 0.0004000000 & 0.320 & 169.0\\\\\n",
       "\t  6 & 'ASD' & 'Mother' &  5.200000000 & 1.131371e-04 & 3.000000e+00 & 1.200000e+00 & 0.0007071068 & 1.131371e-04 & 4.000000e-01 &  3.0 & 9.899495e-05 & 2.000000e-01 & 0.0004242641 & 5.100000e+00 & 0.0008485281 & 1.131371e-04 & 0.0005656854 & 3.000000e-01 & 4.242641e-05 & 5.000000e-01 & 1.000000e-01 & 7.071068e-05 &  2.00 & 170.0 & 0.0004242641 & 0.0010000000 & 0.010 & 0.30000000 & 0.035 & 110 & 0.0007000000 & 0.037 &  970 &  20 & 0.037 &  58 & 0.210 &  420 & 0.0002828427 & 0.400 & 251.0\\\\\n",
       "\t  7 & 'ASD' & 'Mother' &  9.200000000 & 5.656854e-05 & 1.200000e+01 & 6.000000e-01 & 0.0003535534 & 5.656854e-05 & 7.071068e-05 &  4.2 & 4.949747e-05 & 7.071068e-05 & 0.0002121320 & 1.900000e+00 & 0.0004242641 & 5.656854e-05 & 0.0002828427 & 2.000000e-01 & 2.121320e-05 & 5.656854e-05 & 3.535534e-05 & 3.535534e-05 &  1.10 &  53.0 & 0.0002121320 & 0.0005656854 & 0.018 & 0.07071068 & 0.021 &  67 & 0.0020000000 & 0.035 &  190 &  27 & 0.039 &  43 & 0.062 &  290 & 0.0001414214 & 0.850 &  44.0\\\\\n",
       "\t  8 & 'ASD' & 'Mother' &  0.001414214 & 1.131371e-04 & 1.800000e+01 & 9.000000e-01 & 0.0007071068 & 1.131371e-04 & 2.000000e-01 &  2.7 & 9.899495e-05 & 1.414214e-04 & 0.0004242641 & 1.800000e+00 & 0.0008485281 & 1.131371e-04 & 0.0005656854 & 1.000000e-01 & 4.242641e-05 & 1.131371e-04 & 7.071068e-05 & 7.071068e-05 &  0.71 &  63.0 & 0.0004242641 & 0.0011313708 & 0.009 & 0.13000000 & 0.096 &  47 & 0.0010000000 & 0.018 &  590 &  30 & 0.042 &  68 & 0.074 &  470 & 0.0002828427 & 0.210 & 157.0\\\\\n",
       "\t  9 & 'ASD' & 'Mother' & 43.000000000 & 5.656854e-05 & 2.700000e+00 & 2.200000e+00 & 0.0003535534 & 5.656854e-05 & 9.000000e-02 &  2.6 & 4.949747e-05 & 3.000000e-01 & 0.0002121320 & 3.400000e+00 & 0.0004242641 & 5.656854e-05 & 0.0002828427 & 7.000000e-02 & 2.121320e-05 & 1.100000e+00 & 5.000000e-02 & 8.000000e-02 &  1.30 & 140.0 & 0.0002121320 & 0.0005656854 & 0.008 & 0.26000000 & 0.047 &  66 & 0.0007000000 & 0.014 &  520 &  14 & 0.033 &  66 & 0.260 &  820 & 0.0001414214 & 0.410 & 123.0\\\\\n",
       "\t 10 & 'ASD' & 'Mother' &  3.200000000 & 4.000000e-01 & 3.600000e+00 & 6.000000e-01 & 0.0007071068 & 1.131371e-04 & 2.000000e-01 &  3.9 & 9.899495e-05 & 1.000000e-01 & 0.0004242641 & 5.500000e+00 & 0.0008485281 & 1.131371e-04 & 0.0005656854 & 1.000000e-01 & 4.242641e-05 & 2.000000e-01 & 7.071068e-05 & 7.071068e-05 &  0.99 &  87.0 & 0.0004242641 & 0.0011313708 & 0.008 & 0.17000000 & 0.019 &  45 & 0.0010000000 & 0.027 &  510 &  31 & 0.051 &  39 & 0.085 &  410 & 0.0002828427 & 0.600 & 249.0\\\\\n",
       "\t 11 & 'ASD' & 'Mother' &  5.000000000 & 5.656854e-05 & 3.400000e+00 & 6.100000e+00 & 0.0003535534 & 5.656854e-05 & 7.071068e-05 &  6.4 & 4.949747e-05 & 2.000000e-01 & 0.0002121320 & 6.200000e+00 & 0.0004242641 & 5.656854e-05 & 0.0002828427 & 2.000000e-01 & 2.121320e-05 & 2.000000e-01 & 1.000000e-01 & 3.535534e-05 &  4.10 & 310.0 & 0.0002121320 & 0.0009000000 & 0.013 & 0.58000000 & 0.052 &  83 & 0.0010000000 & 0.046 &  610 &  26 & 0.047 & 110 & 0.320 &  900 & 0.0004000000 & 0.550 & 122.0\\\\\n",
       "\t 12 & 'ASD' & 'Mother' &  5.700000000 & 5.656854e-05 & 8.300000e+01 & 3.000000e+00 & 0.0003535534 & 8.800000e+00 & 3.000000e-01 &  6.6 & 4.949747e-05 & 6.000000e-01 & 1.4000000000 & 5.700000e+00 & 0.0004242641 & 5.656854e-05 & 0.0002828427 & 4.000000e-01 & 2.121320e-05 & 3.000000e-01 & 3.535534e-05 & 3.535534e-05 &  3.80 & 280.0 & 0.0002121320 & 0.0005656854 & 0.020 & 0.52000000 & 0.100 &  95 & 0.0020000000 & 0.065 &  560 &  24 & 0.066 &  92 & 0.320 &  830 & 0.0001414214 & 0.760 &  46.4\\\\\n",
       "\t 17 & 'ASD' & 'Mother' &  3.200000000 & 1.131371e-04 & 4.700000e+00 & 8.000000e-01 & 0.0007071068 & 1.131371e-04 & 3.000000e-01 &  3.5 & 9.899495e-05 & 2.000000e-01 & 0.4000000000 & 2.000000e+00 & 0.0008485281 & 1.131371e-04 & 0.0005656854 & 2.000000e-01 & 4.242641e-05 & 2.000000e-01 & 7.071068e-05 & 7.071068e-05 &  1.10 &  50.0 & 0.0004242641 & 0.0011313708 & 0.008 & 0.14142136 & 0.051 &  80 & 0.0020000000 & 0.030 &  370 &  48 & 0.038 & 150 & 0.083 &  470 & 0.0004000000 & 0.220 & 155.0\\\\\n",
       "\t 18 & 'ASD' & 'Mother' &  3.100000000 & 5.656854e-05 & 1.600000e+01 & 6.000000e-01 & 0.0003535534 & 5.656854e-05 & 7.000000e-01 &  4.8 & 4.949747e-05 & 7.071068e-05 & 0.9000000000 & 5.000000e+00 & 0.0004242641 & 5.656854e-05 & 0.0002828427 & 1.000000e-01 & 2.121320e-05 & 2.000000e-01 & 1.000000e-01 & 3.535534e-05 &  1.20 & 160.0 & 0.0002121320 & 0.0020000000 & 0.012 & 0.30000000 & 0.044 &  50 & 0.0008000000 & 0.049 &  270 &  20 & 0.052 & 210 & 0.120 &  430 & 0.0001414214 & 0.330 &  57.3\\\\\n",
       "\t 19 & 'ASD' & 'Mother' &  2.500000000 & 5.656854e-05 & 8.400000e+00 & 1.300000e+00 & 0.0003535534 & 8.000000e-01 & 1.000000e-01 &  1.9 & 4.949747e-05 & 7.071068e-05 & 0.5000000000 & 1.800000e+00 & 0.0004242641 & 5.656854e-05 & 0.0002828427 & 8.000000e-02 & 2.121320e-05 & 3.000000e-01 & 7.000000e-02 & 3.535534e-05 &  0.65 &  89.0 & 0.0002121320 & 0.0005656854 & 0.010 & 0.17000000 & 0.043 &  63 & 0.0005000000 & 0.022 &  400 &  12 & 0.030 & 120 & 0.160 &  340 & 0.0002000000 & 0.260 & 112.0\\\\\n",
       "\t 20 & 'ASD' & 'Mother' &  2.400000000 & 1.131371e-04 & 8.300000e+00 & 1.500000e+00 & 0.0007071068 & 1.131371e-04 & 1.000000e-01 &  2.9 & 9.899495e-05 & 1.000000e-01 & 0.0004242641 & 2.300000e+00 & 0.0008485281 & 1.131371e-04 & 0.0005656854 & 2.000000e-01 & 4.242641e-05 & 3.000000e-01 & 3.000000e-01 & 7.071068e-05 &  1.00 & 110.0 & 0.0004242641 & 0.0011313708 & 0.017 & 0.22000000 & 0.033 &  83 & 0.0009000000 & 0.041 &  780 &  25 & 0.068 &  67 & 0.120 &  620 & 0.0002828427 & 0.570 & 190.0\\\\\n",
       "\t 21 & 'ASD' & 'Mother' &  2.900000000 & 5.656854e-05 & 4.700000e+00 & 1.300000e+00 & 0.0003535534 & 5.656854e-05 & 3.000000e-01 &  5.8 & 4.949747e-05 & 2.000000e-01 & 0.0002121320 & 4.300000e+00 & 0.0004242641 & 5.656854e-05 & 0.0002828427 & 1.000000e-01 & 2.121320e-05 & 1.100000e+00 & 4.000000e-01 & 3.535534e-05 &  1.70 & 150.0 & 0.0002121320 & 0.0005656854 & 0.010 & 0.28000000 & 0.040 &  92 & 0.0010000000 & 0.058 &  640 &  24 & 0.046 &  88 & 0.180 &  630 & 0.0001414214 & 0.320 & 150.0\\\\\n",
       "\t 22 & 'ASD' & 'Mother' &  5.600000000 & 1.131371e-04 & 9.300000e+00 & 2.500000e+00 & 0.0007071068 & 1.131371e-04 & 9.000000e-02 &  2.2 & 9.899495e-05 & 1.000000e-01 & 0.4000000000 & 3.500000e+00 & 0.0008485281 & 1.131371e-04 & 0.0005656854 & 7.000000e-02 & 4.242641e-05 & 2.000000e-01 & 9.000000e-02 & 7.071068e-05 &  0.95 & 150.0 & 0.0004242641 & 0.0011313708 & 0.008 & 0.29000000 & 0.100 &  83 & 0.0004000000 & 0.086 &  590 &  11 & 0.038 &  81 & 0.190 &  370 & 0.0002828427 & 0.310 & 216.0\\\\\n",
       "\t 25 & 'ASD' & 'Mother' &  2.600000000 & 5.656854e-05 & 7.400000e+00 & 3.500000e+00 & 0.0003535534 & 5.656854e-05 & 2.000000e-01 &  9.5 & 4.949747e-05 & 5.000000e-01 & 0.9000000000 & 3.900000e+00 & 0.0004242641 & 5.656854e-05 & 0.0002828427 & 4.000000e-01 & 2.121320e-05 & 4.000000e-01 & 7.000000e-02 & 3.535534e-05 &  3.70 & 200.0 & 0.0002121320 & 0.0005656854 & 0.012 & 0.37000000 & 0.025 &  79 & 0.0030000000 & 0.019 &  470 &  47 & 0.046 &  36 & 0.180 &  550 & 0.0001414214 & 0.280 &  99.9\\\\\n",
       "\t 28 & 'ASD' & 'Mother' &  2.000000000 & 1.131371e-04 & 5.000000e+00 & 7.000000e-01 & 0.0007071068 & 7.000000e-01 & 1.000000e-01 &  4.0 & 8.000000e-02 & 2.000000e-01 & 0.0004242641 & 2.100000e+00 & 0.0008485281 & 1.131371e-04 & 0.0005656854 & 3.000000e-01 & 4.242641e-05 & 4.000000e-01 & 7.000000e-02 & 7.071068e-05 &  2.20 &  61.0 & 0.0004242641 & 0.0011313708 & 0.010 & 0.12000000 & 0.043 &  70 & 0.0020000000 & 0.022 &  490 &  53 & 0.038 &  35 & 0.094 &  540 & 0.0002828427 & 0.170 & 210.0\\\\\n",
       "\t 29 & 'ASD' & 'Mother' &  1.900000000 & 5.656854e-05 & 6.300000e+00 & 1.400000e+00 & 0.0003535534 & 5.656854e-05 & 7.071068e-05 &  3.5 & 4.949747e-05 & 4.000000e-01 & 0.0002121320 & 1.900000e+00 & 0.0004242641 & 5.656854e-05 & 0.0002828427 & 2.000000e-01 & 2.121320e-05 & 3.000000e-01 & 3.535534e-05 & 1.000000e-01 &  1.20 & 100.0 & 0.0002121320 & 0.0005656854 & 0.007 & 0.20000000 & 0.039 &  74 & 0.0008000000 & 0.010 &  480 &  18 & 0.052 & 140 & 0.150 &  610 & 0.0001414214 & 0.350 &  79.3\\\\\n",
       "\t 30 & 'ASD' & 'Mother' & 10.000000000 & 7.000000e-02 & 3.200000e+00 & 3.000000e-01 & 0.0003535534 & 5.656854e-05 & 1.000000e-01 &  3.2 & 4.949747e-05 & 9.000000e-02 & 0.0002121320 & 1.100000e+00 & 0.0004242641 & 5.656854e-05 & 0.0002828427 & 2.000000e-01 & 2.121320e-05 & 3.000000e-01 & 1.000000e-01 & 3.535534e-05 &  0.78 &  24.0 & 0.0002121320 & 0.0005656854 & 0.006 & 0.07071068 & 0.040 &  26 & 0.0010000000 & 0.053 &  370 &  32 & 0.035 &  34 & 0.029 &  330 & 0.0001414214 & 0.082 & 137.0\\\\\n",
       "\t 31 & 'ASD' & 'Mother' &  6.200000000 & 5.656854e-05 & 3.400000e+00 & 1.200000e+00 & 0.0003535534 & 5.656854e-05 & 7.071068e-05 &  4.0 & 4.949747e-05 & 2.000000e-01 & 0.0002121320 & 1.800000e+00 & 0.0004242641 & 5.656854e-05 & 0.0002828427 & 2.000000e-01 & 2.121320e-05 & 5.200000e+00 & 8.000000e-02 & 3.535534e-05 &  1.50 &  98.0 & 0.0002121320 & 0.0005656854 & 0.013 & 0.17000000 & 0.051 &  97 & 0.0006000000 & 0.010 & 1080 &  21 & 0.070 &  45 & 0.160 & 1580 & 0.0001414214 & 0.540 & 129.0\\\\\n",
       "\t 32 & 'ASD' & 'Mother' &  1.800000000 & 5.656854e-05 & 1.100000e+01 & 2.700000e+00 & 0.0003535534 & 5.656854e-05 & 2.000000e-01 &  3.2 & 4.949747e-05 & 2.000000e-01 & 0.4000000000 & 4.000000e+00 & 0.0004242641 & 5.656854e-05 & 0.0002828427 & 2.000000e-01 & 2.121320e-05 & 2.000000e-01 & 6.000000e-02 & 3.535534e-05 &  1.60 & 190.0 & 0.0002121320 & 0.0010000000 & 0.009 & 0.35000000 & 0.033 & 110 & 0.0010000000 & 0.017 &  460 &  28 & 0.055 &  99 & 0.220 &  700 & 0.0001414214 & 0.110 &  99.5\\\\\n",
       "\t 33 & 'ASD' & 'Mother' &  1.900000000 & 1.131371e-04 & 5.300000e+00 & 4.000000e-01 & 0.0007071068 & 1.131371e-04 & 1.000000e-01 &  1.9 & 9.899495e-05 & 1.414214e-04 & 0.0004242641 & 8.000000e-01 & 0.0008485281 & 1.131371e-04 & 0.0005656854 & 9.000000e-02 & 4.242641e-05 & 4.000000e-01 & 7.071068e-05 & 7.071068e-05 &  0.82 &  32.0 & 0.0004242641 & 0.0011313708 & 0.008 & 0.14142136 & 0.046 &  69 & 0.0006000000 & 0.036 &  860 &  15 & 0.034 &  78 & 0.047 &  370 & 0.0002828427 & 0.280 & 167.0\\\\\n",
       "\t 34 & 'ASD' & 'Mother' &  1.900000000 & 1.131371e-04 & 4.400000e+00 & 2.700000e+00 & 0.0007071068 & 1.131371e-04 & 1.414214e-04 &  2.6 & 9.899495e-05 & 1.414214e-04 & 0.0004242641 & 2.600000e+00 & 0.0008485281 & 1.131371e-04 & 0.0005656854 & 1.000000e-01 & 4.242641e-05 & 1.000000e-01 & 7.071068e-05 & 7.071068e-05 &  2.20 &  81.0 & 0.0004242641 & 0.0011313708 & 0.007 & 0.15000000 & 0.075 &  92 & 0.0010000000 & 0.003 &  900 &  29 & 0.041 & 110 & 0.150 &  500 & 0.0002828427 & 0.082 & 173.0\\\\\n",
       "\t 35 & 'ASD' & 'Mother' &  2.200000000 & 5.656854e-05 & 7.400000e+00 & 2.700000e+00 & 0.0003535534 & 5.656854e-05 & 2.000000e-01 &  3.7 & 4.949747e-05 & 3.000000e-01 & 0.0002121320 & 1.800000e+00 & 0.0004242641 & 5.656854e-05 & 0.0002828427 & 2.000000e-01 & 2.121320e-05 & 6.000000e-01 & 3.535534e-05 & 3.535534e-05 &  1.30 &  84.0 & 0.0002121320 & 0.0005656854 & 0.011 & 0.16000000 & 0.068 &  35 & 0.0010000000 & 0.031 &  560 &  32 & 0.047 &  73 & 0.180 &  510 & 0.0001414214 & 0.230 & 149.0\\\\\n",
       "\t 36 & 'ASD' & 'Mother' &  1.900000000 & 5.656854e-05 & 6.800000e+00 & 3.000000e-01 & 0.0003535534 & 5.656854e-05 & 1.000000e-01 &  3.9 & 4.949747e-05 & 9.000000e-02 & 0.0002121320 & 1.900000e+00 & 0.0004242641 & 5.656854e-05 & 0.0002828427 & 1.000000e-01 & 2.121320e-05 & 1.000000e-01 & 1.000000e-01 & 3.535534e-05 &  1.40 &  29.0 & 0.0002121320 & 0.0005656854 & 0.009 & 0.07071068 & 0.026 &  72 & 0.0009000000 & 0.030 &  330 &  25 & 0.040 &  98 & 0.036 &  540 & 0.0001414214 & 0.057 & 139.0\\\\\n",
       "\t 37 & 'ASD' & 'Mother' &  2.300000000 & 5.656854e-05 & 2.121320e-03 & 1.100000e+00 & 0.0003535534 & 5.656854e-05 & 7.071068e-05 &  2.0 & 4.949747e-05 & 1.000000e-01 & 0.0002121320 & 2.800000e+00 & 0.0004242641 & 5.656854e-05 & 0.0002828427 & 1.000000e-01 & 2.121320e-05 & 7.000000e-02 & 5.000000e-02 & 3.535534e-05 &  0.84 &  75.0 & 0.0002121320 & 0.0005656854 & 0.008 & 0.16000000 & 0.035 &  76 & 0.0010000000 & 0.054 &  460 &  29 & 0.053 & 110 & 0.086 &  480 & 0.0002000000 & 0.150 & 121.0\\\\\n",
       "\t 39 & 'ASD' & 'Mother' &  2.500000000 & 5.656854e-05 & 1.900000e+01 & 1.500000e+00 & 0.0003535534 & 5.656854e-05 & 7.071068e-05 &  6.3 & 4.949747e-05 & 4.000000e-01 & 0.0002121320 & 6.900000e+00 & 0.0004242641 & 5.656854e-05 & 0.0002828427 & 3.000000e-01 & 2.121320e-05 & 5.000000e-01 & 3.535534e-05 & 3.535534e-05 &  2.80 & 210.0 & 0.0002121320 & 0.0005656854 & 0.013 & 0.43000000 & 0.091 &  99 & 0.0020000000 & 0.099 &  860 &  60 & 0.060 & 310 & 0.210 &  470 & 0.0005000000 & 0.120 &  42.9\\\\\n",
       "\t 40 & 'TD'  & 'Mother' &  6.000000000 & 5.656854e-05 & 1.100000e+01 & 2.800000e+00 & 0.0003535534 & 5.656854e-05 & 2.000000e-01 &  2.5 & 4.949747e-05 & 2.000000e-01 & 0.0002121320 & 6.500000e+00 & 0.0004242641 & 5.656854e-05 & 0.0002828427 & 9.000000e-02 & 2.121320e-05 & 4.000000e-01 & 9.000000e-02 & 3.535534e-05 &  1.10 & 240.0 & 0.0002121320 & 0.0030000000 & 0.011 & 0.45000000 & 0.160 & 110 & 0.0006000000 & 0.031 &  860 &  10 & 0.048 & 100 & 0.240 &  790 & 0.0002000000 & 0.420 &  96.3\\\\\n",
       "\t 41 & 'TD'  & 'Mother' &  6.100000000 & 5.656854e-05 & 8.000000e+00 & 3.500000e+00 & 0.0003535534 & 5.656854e-05 & 7.071068e-05 &  2.1 & 4.949747e-05 & 7.071068e-05 & 0.0002121320 & 3.700000e+00 & 0.0004242641 & 5.656854e-05 & 0.0002828427 & 3.535534e-05 & 2.121320e-05 & 2.000000e-01 & 4.000000e-01 & 3.535534e-05 &  1.70 & 200.0 & 0.0002121320 & 0.0005656854 & 0.008 & 0.37000000 & 0.044 & 110 & 0.0001414214 & 0.095 &  310 &  10 & 0.040 &  57 & 0.200 &  430 & 0.0001414214 & 0.250 &  50.2\\\\\n",
       "\t 42 & 'TD'  & 'Mother' &  7.100000000 & 1.131371e-04 & 3.600000e+00 & 1.100000e+00 & 0.0007071068 & 1.131371e-04 & 1.000000e-01 &  2.6 & 9.899495e-05 & 2.000000e-01 & 0.0004242641 & 4.100000e+00 & 0.0008485281 & 1.131371e-04 & 0.0005656854 & 6.000000e-02 & 4.242641e-05 & 4.000000e-01 & 1.000000e-01 & 7.071068e-05 &  1.50 & 100.0 & 0.0004242641 & 0.0011313708 & 0.007 & 0.20000000 & 0.130 &  84 & 0.0009000000 & 0.044 &  730 &  25 & 0.028 &  93 & 0.120 &  350 & 0.0002828427 & 0.230 & 207.0\\\\\n",
       "\t 43 & 'TD'  & 'Mother' &  3.100000000 & 5.656854e-05 & 5.200000e+00 & 8.000000e-01 & 0.0003535534 & 5.656854e-05 & 7.071068e-05 &  3.9 & 4.949747e-05 & 2.000000e-01 & 0.0002121320 & 2.100000e+00 & 0.0004242641 & 5.656854e-05 & 0.0002828427 & 1.000000e-01 & 2.121320e-05 & 7.000000e-01 & 3.535534e-05 & 3.535534e-05 &  1.20 & 100.0 & 0.0002121320 & 0.0005656854 & 0.010 & 0.20000000 & 0.086 &  51 & 0.0010000000 & 0.015 &  550 &  25 & 0.064 & 100 & 0.170 &  820 & 0.0001414214 & 0.200 &  60.1\\\\\n",
       "\t 44 & 'TD'  & 'Mother' &  3.800000000 & 1.131371e-04 & 1.100000e+01 & 8.000000e-01 & 0.0007071068 & 1.131371e-04 & 2.000000e-01 &  2.0 & 9.899495e-05 & 1.000000e-01 & 0.0004242641 & 1.400000e+00 & 0.0008485281 & 1.131371e-04 & 0.0005656854 & 6.000000e-02 & 4.242641e-05 & 1.500000e+00 & 2.000000e-01 & 7.071068e-05 &  0.91 &  66.0 & 0.0004242641 & 0.0011313708 & 0.008 & 0.12000000 & 0.035 &  33 & 0.0006000000 & 0.024 &  730 &  21 & 0.036 &  52 & 0.088 &  310 & 0.0002828427 & 0.160 & 240.0\\\\\n",
       "\t 45 & 'TD'  & 'Mother' &  2.600000000 & 1.131371e-04 & 6.900000e+00 & 6.000000e-01 & 0.0007071068 & 1.131371e-04 & 3.000000e-01 &  2.8 & 9.899495e-05 & 1.000000e-01 & 0.0004242641 & 2.800000e+00 & 0.0008485281 & 1.131371e-04 & 0.0005656854 & 1.000000e-01 & 4.242641e-05 & 9.000000e-01 & 7.071068e-05 & 7.071068e-05 &  1.30 & 110.0 & 0.0004242641 & 0.0011313708 & 0.009 & 0.19000000 & 0.052 &  66 & 0.0006000000 & 0.007 &  740 &  20 & 0.066 &  42 & 0.140 &  620 & 0.0002828427 & 0.390 & 188.0\\\\\n",
       "\t 46 & 'TD'  & 'Mother' &  1.000000000 & 1.131371e-04 & 1.300000e+01 & 7.000000e-01 & 0.0007071068 & 1.131371e-04 & 1.414214e-04 &  3.9 & 9.899495e-05 & 2.000000e-01 & 0.3000000000 & 2.600000e+00 & 0.0008485281 & 1.131371e-04 & 0.0005656854 & 2.000000e-01 & 4.242641e-05 & 3.000000e-01 & 3.000000e-01 & 7.071068e-05 &  1.20 &  57.0 & 0.0004242641 & 0.0010000000 & 0.007 & 0.10000000 & 0.045 &  52 & 0.0007000000 & 0.076 &  540 &  23 & 0.037 &  52 & 0.110 &  550 & 0.0002828427 & 0.210 & 225.0\\\\\n",
       "\t 47 & 'TD'  & 'Mother' &  2.900000000 & 1.131371e-04 & 4.000000e+00 & 1.600000e+00 & 0.0007071068 & 1.131371e-04 & 1.000000e-01 &  2.3 & 9.899495e-05 & 1.414214e-04 & 0.4000000000 & 2.300000e+00 & 0.0008485281 & 1.131371e-04 & 0.0005656854 & 1.000000e-01 & 4.242641e-05 & 2.000000e-01 & 7.071068e-05 & 7.071068e-05 &  0.93 &  82.0 & 0.0004242641 & 0.0011313708 & 0.009 & 0.15000000 & 0.044 &  49 & 0.0007000000 & 0.034 &  400 &  18 & 0.053 &  54 & 0.100 &  510 & 0.0002828427 & 0.450 & 172.0\\\\\n",
       "\t 48 & 'TD'  & 'Mother' &  8.600000000 & 5.656854e-05 & 6.000000e+01 & 1.400000e+00 & 0.0003535534 & 5.656854e-05 & 7.071068e-05 &  3.8 & 4.949747e-05 & 2.000000e-01 & 0.0002121320 & 4.200000e+00 & 0.0004242641 & 5.656854e-05 & 0.0002828427 & 3.000000e-01 & 2.121320e-05 & 8.000000e-01 & 1.000000e-01 & 3.535534e-05 &  1.50 & 150.0 & 0.0002121320 & 0.0010000000 & 0.012 & 0.30000000 & 0.130 &  87 & 0.0020000000 & 0.120 &  940 &  47 & 0.089 & 190 & 0.200 & 1050 & 0.0003000000 & 0.320 & 123.0\\\\\n",
       "\t 49 & 'TD'  & 'Mother' &  1.900000000 & 1.131371e-04 & 4.242641e-03 & 9.000000e-01 & 0.0007071068 & 2.000000e-01 & 1.414214e-04 &  1.2 & 9.899495e-05 & 1.414214e-04 & 0.0004242641 & 1.700000e+00 & 0.0008485281 & 1.131371e-04 & 0.0005656854 & 8.000000e-02 & 4.242641e-05 & 2.000000e-01 & 1.000000e-01 & 7.071068e-05 &  0.48 &  38.0 & 0.0006000000 & 0.0011313708 & 0.007 & 0.14142136 & 0.009 &  45 & 0.0004000000 & 0.027 &  370 &  16 & 0.036 &  21 & 0.066 &  330 & 0.0002828427 & 0.320 & 158.0\\\\\n",
       "\t 50 & 'TD'  & 'Mother' &  2.000000000 & 5.656854e-05 & 1.200000e+01 & 7.000000e-01 & 0.0003535534 & 1.300000e+01 & 1.000000e-01 &  2.9 & 4.949747e-05 & 2.000000e-01 & 0.6000000000 & 3.000000e+00 & 0.0004242641 & 5.656854e-05 & 0.0002828427 & 2.000000e-01 & 2.121320e-05 & 3.000000e-01 & 3.535534e-05 & 3.535534e-05 &  0.84 &  94.0 & 0.0002121320 & 0.0005656854 & 0.009 & 0.19000000 & 0.027 &  57 & 0.0009000000 & 0.047 &  710 &  26 & 0.062 & 150 & 0.075 &  470 & 0.0002000000 & 0.250 & 118.0\\\\\n",
       "\t 51 & 'TD'  & 'Mother' &  4.300000000 & 1.131371e-04 & 2.400000e+01 & 1.000000e+00 & 0.0007071068 & 1.131371e-04 & 1.414214e-04 &  4.5 & 9.899495e-05 & 2.000000e-01 & 0.0004242641 & 1.600000e+00 & 0.0008485281 & 1.131371e-04 & 0.0005656854 & 2.000000e-01 & 4.242641e-05 & 4.000000e-01 & 1.000000e-01 & 7.071068e-05 &  1.20 &  49.0 & 0.0004242641 & 0.0011313708 & 0.008 & 0.14142136 & 0.091 &  69 & 0.0007000000 & 0.065 & 1180 &  23 & 0.074 &  74 & 0.150 &  670 & 0.0002828427 & 0.210 & 157.0\\\\\n",
       "\t 52 & 'TD'  & 'Mother' &  4.300000000 & 5.656854e-05 & 2.121320e-03 & 7.071068e-05 & 0.0003535534 & 5.656854e-05 & 7.071068e-05 &  2.9 & 4.949747e-05 & 7.071068e-05 & 0.0002121320 & 3.535534e-04 & 0.0004242641 & 5.656854e-05 & 0.0002828427 & 3.535534e-05 & 2.121320e-05 & 5.656854e-05 & 2.000000e-01 & 3.535534e-05 &  1.30 &  13.0 & 0.0002121320 & 0.0005656854 & 0.006 & 0.07071068 & 0.067 &  42 & 0.0001414214 & 0.056 &  660 &  20 & 0.026 &  46 & 0.027 &  340 & 0.0001414214 & 0.170 &  41.3\\\\\n",
       "\t 53 & 'TD'  & 'Mother' &  1.700000000 & 1.131371e-04 & 7.100000e+00 & 1.700000e+00 & 0.0007071068 & 1.131371e-04 & 1.000000e-01 &  2.8 & 9.899495e-05 & 1.000000e-01 & 0.0004242641 & 1.600000e+00 & 0.0008485281 & 1.131371e-04 & 0.0005656854 & 2.000000e-01 & 4.242641e-05 & 2.000000e-01 & 5.000000e-02 & 7.071068e-05 &  0.91 &  31.0 & 0.0004242641 & 0.0010000000 & 0.007 & 0.14142136 & 0.037 &  63 & 0.0010000000 & 0.064 &  550 &  34 & 0.046 &  93 & 0.059 &  480 & 0.0002828427 & 0.100 & 186.0\\\\\n",
       "\t 54 & 'TD'  & 'Mother' &  2.400000000 & 5.656854e-05 & 1.500000e+01 & 2.300000e+00 & 0.0003535534 & 5.300000e+00 & 7.071068e-05 &  3.7 & 4.949747e-05 & 2.000000e-01 & 0.0002121320 & 1.300000e+00 & 0.0004242641 & 5.656854e-05 & 0.0002828427 & 2.000000e-01 & 2.121320e-05 & 3.000000e-01 & 3.535534e-05 & 3.535534e-05 &  2.20 &  53.0 & 0.0002121320 & 0.0005656854 & 0.009 & 0.07071068 & 0.280 &  48 & 0.0010000000 & 0.035 &  260 &  31 & 0.032 &  65 & 0.170 &  490 & 0.0001414214 & 0.270 &  48.7\\\\\n",
       "\t 56 & 'TD'  & 'Mother' &  0.001414214 & 1.131371e-04 & 4.900000e+00 & 3.000000e-01 & 0.0007071068 & 1.131371e-04 & 1.414214e-04 &  3.6 & 9.899495e-05 & 2.000000e-01 & 0.0004242641 & 6.000000e-01 & 0.0008485281 & 1.131371e-04 & 0.0005656854 & 9.000000e-02 & 4.242641e-05 & 1.200000e+00 & 7.071068e-05 & 7.071068e-05 &  1.70 &  18.0 & 0.0004242641 & 0.0011313708 & 0.008 & 0.14142136 & 0.050 &  17 & 0.0009000000 & 0.040 &  470 &  31 & 0.029 &  43 & 0.025 &  310 & 0.0002828427 & 0.110 & 177.0\\\\\n",
       "\t 57 & 'TD'  & 'Mother' &  4.100000000 & 5.656854e-05 & 4.100000e+00 & 1.200000e+00 & 0.0003535534 & 7.000000e-01 & 1.000000e-01 &  2.1 & 4.949747e-05 & 4.000000e-01 & 0.0002121320 & 3.600000e+00 & 0.0004242641 & 5.656854e-05 & 0.0002828427 & 1.000000e-01 & 2.121320e-05 & 7.000000e-01 & 1.000000e-01 & 3.535534e-05 &  1.10 & 170.0 & 0.0002121320 & 0.0005656854 & 0.010 & 0.30000000 & 0.082 & 140 & 0.0007000000 & 0.044 &  750 &  15 & 0.078 & 170 & 0.190 &  770 & 0.0002000000 & 0.580 & 129.0\\\\\n",
       "\t 58 & 'TD'  & 'Mother' &  2.000000000 & 1.131371e-04 & 7.900000e+00 & 2.000000e-01 & 0.0007071068 & 1.131371e-04 & 3.000000e-01 &  5.8 & 9.899495e-05 & 2.000000e-01 & 0.5000000000 & 2.300000e+00 & 0.0008485281 & 1.131371e-04 & 0.0005656854 & 2.000000e-01 & 4.242641e-05 & 2.200000e+00 & 4.000000e-01 & 7.071068e-05 &  2.70 &   4.2 & 0.0004242641 & 0.0011313708 & 0.008 & 0.14142136 & 0.036 &  61 & 0.0010000000 & 0.078 &  550 &  31 & 0.042 &  46 & 0.019 &  490 & 0.0002828427 & 0.430 & 154.0\\\\\n",
       "\t 59 & 'TD'  & 'Mother' &  7.200000000 & 1.131371e-04 & 4.242641e-03 & 4.000000e-01 & 0.0007071068 & 1.131371e-04 & 2.000000e-01 &  2.3 & 9.899495e-05 & 2.000000e-01 & 0.0004242641 & 3.100000e+00 & 0.0008485281 & 1.131371e-04 & 0.0005656854 & 1.000000e-01 & 4.242641e-05 & 1.100000e+00 & 2.000000e-01 & 7.071068e-05 &  0.94 &  95.0 & 0.0004242641 & 0.0011313708 & 0.008 & 0.20000000 & 0.030 &  74 & 0.0020000000 & 0.067 &  730 &  38 & 0.049 & 140 & 0.120 &  500 & 0.0002828427 & 0.140 & 204.0\\\\\n",
       "\t 60 & 'TD'  & 'Mother' &  1.300000000 & 1.131371e-04 & 2.800000e+00 & 2.200000e+00 & 0.0007071068 & 1.131371e-04 & 9.000000e-02 &  2.8 & 9.899495e-05 & 1.000000e-01 & 0.0004242641 & 1.500000e+00 & 0.0008485281 & 1.131371e-04 & 0.0005656854 & 6.000000e-02 & 4.242641e-05 & 1.000000e-01 & 1.000000e-01 & 7.071068e-05 &  0.67 &  61.0 & 0.0004242641 & 0.0011313708 & 0.006 & 0.12000000 & 0.046 &  56 & 0.0006000000 & 0.022 &  630 &  17 & 0.032 &  44 & 0.100 &  300 & 0.0002828427 & 0.052 & 253.0\\\\\n",
       "\t 61 & 'TD'  & 'Mother' &  1.600000000 & 1.131371e-04 & 2.200000e+01 & 9.000000e-01 & 0.0007071068 & 1.131371e-04 & 2.000000e-01 &  2.2 & 9.899495e-05 & 2.000000e-01 & 0.3000000000 & 2.000000e+00 & 0.0008485281 & 1.131371e-04 & 0.0005656854 & 2.000000e-01 & 4.242641e-05 & 6.000000e-01 & 2.000000e-01 & 7.071068e-05 &  1.10 &  70.0 & 0.0004242641 & 0.0011313708 & 0.009 & 0.14000000 & 0.072 &  83 & 0.0009000000 & 0.079 &  500 &  28 & 0.057 &  61 & 0.100 &  560 & 0.0002828427 & 0.095 & 231.0\\\\\n",
       "\t 62 & 'TD'  & 'Mother' &  2.100000000 & 5.656854e-05 & 7.100000e+00 & 1.000000e+00 & 0.0003535534 & 5.656854e-05 & 7.071068e-05 &  3.4 & 4.949747e-05 & 2.000000e-01 & 0.5000000000 & 2.500000e+00 & 0.0004242641 & 5.656854e-05 & 0.0002828427 & 3.000000e-01 & 2.121320e-05 & 4.000000e-01 & 8.000000e-02 & 3.535534e-05 &  0.64 &  87.0 & 0.0002121320 & 0.0010000000 & 0.008 & 0.18000000 & 0.062 &  61 & 0.0020000000 & 0.027 &  620 &  53 & 0.046 & 250 & 0.130 &  350 & 0.0004000000 & 0.260 &  72.7\\\\\n",
       "\t 63 & 'TD'  & 'Mother' &  4.000000000 & 5.656854e-05 & 1.100000e+01 & 9.000000e-01 & 0.0003535534 & 5.656854e-05 & 3.000000e-01 &  4.7 & 4.949747e-05 & 2.000000e-01 & 0.0002121320 & 3.300000e+00 & 0.0004242641 & 5.656854e-05 & 0.0002828427 & 2.000000e-01 & 2.121320e-05 & 1.000000e-01 & 8.000000e-02 & 3.535534e-05 &  3.80 &  62.0 & 0.0002121320 & 0.0020000000 & 0.010 & 0.12000000 & 0.099 &  36 & 0.0010000000 & 0.058 &  860 &  39 & 0.039 & 110 & 0.100 &  340 & 0.0001414214 & 0.460 & 108.0\\\\\n",
       "\t 65 & 'TD'  & 'Mother' &  2.400000000 & 1.131371e-04 & 4.242641e-03 & 1.200000e+00 & 0.0007071068 & 1.131371e-04 & 3.000000e-01 &  1.7 & 9.899495e-05 & 1.000000e-01 & 0.0004242641 & 2.700000e+00 & 0.0008485281 & 1.131371e-04 & 0.0005656854 & 7.000000e-02 & 4.242641e-05 & 3.000000e-01 & 1.000000e-01 & 7.071068e-05 &  0.94 & 110.0 & 0.0004242641 & 0.0007000000 & 0.008 & 0.21000000 & 0.023 &  65 & 0.0006000000 & 0.089 &  830 &  17 & 0.039 &  58 & 0.100 &  440 & 0.0002828427 & 0.430 & 246.0\\\\\n",
       "\t 66 & 'TD'  & 'Mother' &  5.100000000 & 1.131371e-04 & 5.200000e+00 & 1.500000e+00 & 0.0007071068 & 1.131371e-04 & 1.000000e-01 &  1.7 & 9.899495e-05 & 2.000000e-01 & 0.0004242641 & 4.000000e+00 & 0.0008485281 & 1.131371e-04 & 0.0005656854 & 5.000000e-02 & 4.242641e-05 & 5.000000e-01 & 1.000000e-01 & 5.000000e-02 &  0.82 & 210.0 & 0.0004242641 & 0.0008000000 & 0.010 & 0.35000000 & 0.060 & 110 & 0.0006000000 & 0.048 &  920 &  12 & 0.050 &  66 & 0.210 &  410 & 0.0003000000 & 0.490 & 216.0\\\\\n",
       "\t 67 & 'TD'  & 'Mother' &  5.400000000 & 1.131371e-04 & 4.700000e+00 & 1.400000e+00 & 0.0007071068 & 1.131371e-04 & 2.000000e-01 &  3.6 & 9.899495e-05 & 2.000000e-01 & 0.0004242641 & 3.300000e+00 & 0.0008485281 & 1.131371e-04 & 0.0005656854 & 8.000000e-02 & 4.242641e-05 & 1.131371e-04 & 1.000000e-01 & 7.071068e-05 &  1.00 & 120.0 & 0.0004242641 & 0.0020000000 & 0.010 & 0.22000000 & 0.035 &  60 & 0.0005000000 & 0.047 &  740 &  16 & 0.041 &  74 & 0.100 &  500 & 0.0002828427 & 0.310 & 184.0\\\\\n",
       "\t 68 & 'TD'  & 'Mother' &  1.600000000 & 5.656854e-05 & 4.200000e+01 & 1.400000e+00 & 0.0003535534 & 5.656854e-05 & 7.071068e-05 &  5.6 & 4.949747e-05 & 3.000000e-01 & 0.5000000000 & 2.400000e+00 & 0.0004242641 & 5.656854e-05 & 0.0002828427 & 2.000000e-01 & 2.121320e-05 & 6.000000e-01 & 3.535534e-05 & 3.535534e-05 &  1.50 &  32.0 & 0.0002121320 & 0.0005656854 & 0.045 & 0.07071068 & 0.080 &  44 & 0.0010000000 & 0.039 &  650 &  29 & 0.075 & 110 & 0.100 &  830 & 0.0001414214 & 0.200 & 144.0\\\\\n",
       "\t 70 & 'TD'  & 'Mother' &  9.900000000 & 1.131371e-04 & 5.200000e+00 & 3.000000e+00 & 0.0007071068 & 2.100000e+00 & 4.000000e-01 &  3.8 & 9.899495e-05 & 2.000000e-01 & 0.0004242641 & 3.300000e+00 & 0.0008485281 & 1.131371e-04 & 0.0005656854 & 7.000000e-02 & 4.242641e-05 & 4.000000e-01 & 2.000000e-01 & 7.071068e-05 &  0.75 & 150.0 & 0.0004242641 & 0.0011313708 & 0.008 & 0.28000000 & 0.032 &  76 & 0.0008000000 & 0.041 &  730 &  20 & 0.038 &  96 & 0.190 &  390 & 0.0002828427 & 0.660 & 170.0\\\\\n",
       "\t 71 & 'TD'  & 'Mother' &  2.400000000 & 5.656854e-05 & 1.500000e+01 & 2.300000e+00 & 0.0003535534 & 5.656854e-05 & 7.071068e-05 &  5.2 & 4.949747e-05 & 3.000000e-01 & 0.0002121320 & 2.000000e+00 & 0.0004242641 & 5.656854e-05 & 0.0002828427 & 1.000000e-01 & 2.121320e-05 & 3.000000e-01 & 3.535534e-05 & 3.535534e-05 &  2.80 &  80.0 & 0.0002121320 & 0.0005656854 & 0.011 & 0.07071068 & 0.078 &  74 & 0.0006000000 & 0.035 &  580 &  14 & 0.058 &  59 & 0.200 &  400 & 0.0001414214 & 0.570 &  62.9\\\\\n",
       "\\end{tabular}\n"
      ],
      "text/markdown": [
       "\n",
       "A tibble: 105 × 42\n",
       "\n",
       "| 'ID Number' &lt;dbl&gt; | 'Status' &lt;chr&gt; | 'Type' &lt;chr&gt; | 'Aluminum' &lt;dbl&gt; | 'Antimony' &lt;dbl&gt; | 'Arsenic' &lt;dbl&gt; | 'Barium' &lt;dbl&gt; | 'Beryllium' &lt;dbl&gt; | 'Bismuth' &lt;dbl&gt; | 'Cadmium' &lt;dbl&gt; | 'Cesium' &lt;dbl&gt; | 'Gadolinium' &lt;dbl&gt; | 'Lead' &lt;dbl&gt; | 'Mercury' &lt;dbl&gt; | 'Nickel' &lt;dbl&gt; | 'Palladium' &lt;dbl&gt; | 'Platinum' &lt;dbl&gt; | 'Tellurium' &lt;dbl&gt; | 'Thallium' &lt;dbl&gt; | 'Thorium' &lt;dbl&gt; | 'Tin' &lt;dbl&gt; | 'Tungsten' &lt;dbl&gt; | 'Uranium' &lt;dbl&gt; | 'Boron' &lt;dbl&gt; | 'Calcium' &lt;dbl&gt; | 'Chromium' &lt;dbl&gt; | 'Cobalt' &lt;dbl&gt; | 'Copper' &lt;dbl&gt; | 'Iron' &lt;dbl&gt; | 'Lithium' &lt;dbl&gt; | 'Magnesium' &lt;dbl&gt; | 'Manganese' &lt;dbl&gt; | 'Molybdenum' &lt;dbl&gt; | 'Phosphorus' &lt;dbl&gt; | 'Potassium' &lt;dbl&gt; | 'Selenium' &lt;dbl&gt; | 'Sodium' &lt;dbl&gt; | 'Strontium' &lt;dbl&gt; | 'Sulfur' &lt;dbl&gt; | 'Vanadium' &lt;dbl&gt; | 'Zinc' &lt;dbl&gt; | 'Creatinine' &lt;dbl&gt; |\n",
       "|---|---|---|---|---|---|---|---|---|---|---|---|---|---|---|---|---|---|---|---|---|---|---|---|---|---|---|---|---|---|---|---|---|---|---|---|---|---|---|---|---|---|\n",
       "|  1 | 'ASD' | 'Child'  |  7.000000000 | 2.000000e-01 | 1.100000e+01 | 2.100000e+00 | 0.0007071068 | 1.131371e-04 | 1.414214e-04 |  4.3 | 9.899495e-05 | 2.000000e-01 | 0.0004242641 | 4.900000e+00 | 0.0008485281 | 1.131371e-04 | 0.0005656854 | 1.000000e-01 | 4.242641e-05 | 1.600000e+00 | 3.000000e-01 | 7.071068e-05 |  2.30 | 140.0 | 0.0004242641 | 0.0011313708 | 0.014 | 0.24000000 | 0.083 | 200 | 0.0007000000 | 0.130 | 1180 |  24 | 0.110 |  56 | 0.130 |  680 | 0.0002828427 | 0.660 | 175.0 |\n",
       "|  3 | 'ASD' | 'Child'  | 19.000000000 | 2.000000e-01 | 8.100000e+00 | 8.000000e+00 | 0.0003535534 | 5.656854e-05 | 7.071068e-05 | 16.0 | 4.949747e-05 | 1.000000e+00 | 0.0002121320 | 2.900000e+00 | 0.0004242641 | 5.656854e-05 | 0.0002828427 | 6.000000e-01 | 2.121320e-05 | 1.000000e+00 | 2.000000e-01 | 3.535534e-05 |  4.90 |  81.0 | 0.0002121320 | 0.0005656854 | 0.018 | 0.20000000 | 0.170 | 170 | 0.0050000000 | 0.180 |  360 | 120 | 0.094 | 290 | 0.170 |  860 | 0.0005000000 | 0.480 |  76.0 |\n",
       "|  5 | 'ASD' | 'Child'  |  9.200000000 | 5.656854e-05 | 5.900000e+00 | 4.700000e+00 | 0.0003535534 | 2.000000e-01 | 7.071068e-05 | 11.0 | 4.949747e-05 | 5.000000e-01 | 0.0002121320 | 9.400000e+00 | 0.0004242641 | 5.656854e-05 | 0.0002828427 | 3.000000e-01 | 2.121320e-05 | 8.400000e+00 | 6.000000e-01 | 3.535534e-05 |  2.90 | 300.0 | 0.0006000000 | 0.0030000000 | 0.021 | 0.60000000 | 0.170 | 310 | 0.0040000000 | 0.170 | 1860 | 120 | 0.110 | 240 | 0.370 | 1050 | 0.0006000000 | 0.750 |  58.6 |\n",
       "|  6 | 'ASD' | 'Child'  |  8.400000000 | 5.656854e-05 | 1.400000e+01 | 3.000000e+00 | 0.0003535534 | 5.656854e-05 | 7.071068e-05 | 16.0 | 4.949747e-05 | 9.000000e-01 | 0.0002121320 | 1.500000e+01 | 0.0004242641 | 5.656854e-05 | 0.0002828427 | 4.000000e-01 | 2.121320e-05 | 1.400000e+00 | 3.000000e-01 | 3.535534e-05 |  8.60 | 200.0 | 0.0010000000 | 0.0005656854 | 0.024 | 0.43000000 | 0.061 | 390 | 0.0050000000 | 0.043 |  150 | 120 | 0.069 | 190 | 0.330 |  630 | 0.0004000000 | 0.240 |  54.3 |\n",
       "|  8 | 'ASD' | 'Child'  |  5.600000000 | 2.828427e-05 | 1.100000e+01 | 3.800000e+00 | 0.0001767767 | 2.828427e-05 | 3.535534e-05 |  4.5 | 2.474874e-05 | 4.000000e-01 | 1.0000000000 | 2.500000e+00 | 0.0002121320 | 2.828427e-05 | 0.0001414214 | 4.000000e-01 | 1.060660e-05 | 6.000000e-01 | 3.000000e-01 | 1.767767e-05 |  1.30 |  62.0 | 0.0010000000 | 0.0002828427 | 0.022 | 0.03535534 | 0.220 | 170 | 0.0070000000 | 0.085 |  910 | 180 | 0.140 | 190 | 0.120 | 1290 | 0.0008000000 | 0.270 |  30.6 |\n",
       "| 10 | 'ASD' | 'Child'  | 17.000000000 | 6.000000e-01 | 1.500000e+01 | 3.100000e+00 | 0.0003535534 | 5.656854e-05 | 7.071068e-05 | 10.0 | 4.949747e-05 | 5.000000e-01 | 0.0002121320 | 5.200000e+00 | 0.0004242641 | 5.656854e-05 | 0.0002828427 | 2.000000e-01 | 2.121320e-05 | 5.000000e-01 | 1.000000e-01 | 3.535534e-05 |  4.50 | 250.0 | 0.0010000000 | 0.0005656854 | 0.019 | 0.53000000 | 0.120 | 180 | 0.0020000000 | 0.110 | 1200 |  54 | 0.180 | 330 | 0.240 |  800 | 0.0005000000 | 1.100 |  70.6 |\n",
       "| 12 | 'ASD' | 'Child'  |  9.500000000 | 5.656854e-05 | 1.200000e+02 | 4.200000e+00 | 0.0003535534 | 5.656854e-05 | 2.000000e-01 |  5.7 | 4.949747e-05 | 3.000000e-01 | 0.0002121320 | 6.700000e+00 | 0.0004242641 | 5.656854e-05 | 0.0002828427 | 3.000000e-01 | 2.121320e-05 | 2.000000e-01 | 3.000000e-01 | 3.535534e-05 |  3.80 | 340.0 | 0.0005000000 | 0.0010000000 | 0.018 | 0.63000000 | 0.083 | 230 | 0.0020000000 | 0.100 | 1320 |  45 | 0.130 | 120 | 0.290 | 1090 | 0.0001414214 | 0.660 |  82.1 |\n",
       "| 17 | 'ASD' | 'Child'  |  6.800000000 | 2.000000e-01 | 3.500000e+01 | 4.000000e+00 | 0.0007071068 | 1.131371e-04 | 1.414214e-04 |  3.3 | 3.300000e+01 | 4.000000e-01 | 0.0004242641 | 9.700000e+00 | 0.0008485281 | 1.131371e-04 | 0.0005656854 | 9.000000e-02 | 4.242641e-05 | 4.000000e+00 | 1.200000e+00 | 7.071068e-05 |  2.20 | 170.0 | 0.0010000000 | 0.0009000000 | 0.018 | 0.30000000 | 0.140 | 120 | 0.0004000000 | 0.140 |  260 |  14 | 0.089 |  91 | 0.350 |  670 | 0.0009000000 | 0.690 | 172.0 |\n",
       "| 19 | 'ASD' | 'Child'  | 24.000000000 | 2.000000e-01 | 1.400000e+01 | 2.600000e+00 | 0.0003535534 | 5.656854e-05 | 7.071068e-05 |  4.4 | 4.949747e-05 | 5.000000e-01 | 0.0002121320 | 3.800000e+00 | 0.0004242641 | 5.656854e-05 | 0.0002828427 | 6.000000e-01 | 2.121320e-05 | 2.000000e+00 | 7.000000e-02 | 3.535534e-05 |  4.50 | 150.0 | 0.0002121320 | 0.0005656854 | 0.020 | 0.34000000 | 0.084 | 110 | 0.0060000000 | 0.058 |  810 | 120 | 0.091 | 200 | 0.260 |  690 | 0.0006000000 | 0.740 |  87.4 |\n",
       "| 20 | 'ASD' | 'Child'  | 21.000000000 | 7.000000e-02 | 1.200000e+01 | 1.800000e+00 | 0.0003535534 | 5.656854e-05 | 2.000000e-01 |  3.6 | 4.949747e-05 | 1.000000e-01 | 0.0002121320 | 1.300000e+00 | 0.0004242641 | 5.656854e-05 | 0.0002828427 | 2.000000e-01 | 2.121320e-05 | 2.000000e-01 | 2.000000e-01 | 3.535534e-05 |  2.40 |  38.0 | 0.0004000000 | 0.0005656854 | 0.020 | 0.07071068 | 0.055 | 150 | 0.0020000000 | 0.083 |  900 |  51 | 0.100 |  45 | 0.060 |  990 | 0.0002000000 | 0.500 | 123.0 |\n",
       "| 25 | 'ASD' | 'Child'  |  7.700000000 | 1.000000e-01 | 1.100000e+01 | 1.000000e+01 | 0.0003535534 | 1.000000e-01 | 7.071068e-05 |  6.9 | 4.949747e-05 | 5.000000e-01 | 0.7000000000 | 7.100000e+00 | 0.0004242641 | 5.656854e-05 | 0.0002828427 | 4.000000e-01 | 2.121320e-05 | 9.000000e-01 | 1.000000e-01 | 2.000000e-01 |  2.30 | 180.0 | 0.0002121320 | 0.0005656854 | 0.059 | 0.37000000 | 0.044 | 190 | 0.0040000000 | 0.097 | 1240 | 130 | 0.130 | 280 | 0.250 |  820 | 0.0005000000 | 0.790 |  73.8 |\n",
       "| 28 | 'ASD' | 'Child'  |  3.200000000 | 5.656854e-05 | 2.121320e-03 | 1.400000e+00 | 0.0003535534 | 5.656854e-05 | 7.071068e-05 |  5.0 | 4.949747e-05 | 3.000000e-01 | 0.0002121320 | 1.600000e+00 | 0.0004242641 | 5.656854e-05 | 0.0002828427 | 8.000000e-02 | 2.121320e-05 | 2.900000e+00 | 2.000000e-01 | 3.535534e-05 |  1.40 |  61.0 | 0.0002121320 | 0.0005656854 | 0.014 | 0.07071068 | 0.100 | 220 | 0.0007000000 | 0.068 |  820 |  23 | 0.057 |  79 | 0.120 |  610 | 0.0001414214 | 0.660 |  76.6 |\n",
       "| 29 | 'ASD' | 'Child'  |  3.500000000 | 5.656854e-05 | 1.500000e+01 | 4.200000e+00 | 0.0003535534 | 5.656854e-05 | 7.071068e-05 |  3.9 | 4.949747e-05 | 8.000000e-01 | 0.0002121320 | 4.600000e+00 | 0.0004242641 | 5.656854e-05 | 0.0002828427 | 2.000000e-01 | 2.121320e-05 | 5.000000e-01 | 6.000000e-02 | 1.000000e-01 |  3.50 | 220.0 | 0.0002121320 | 0.0005656854 | 0.013 | 0.40000000 | 0.066 | 290 | 0.0020000000 | 0.008 |  530 |  49 | 0.039 |  54 | 0.320 |  630 | 0.0001414214 | 0.530 |  84.8 |\n",
       "| 30 | 'ASD' | 'Child'  | 18.000000000 | 4.000000e-01 | 4.200000e+00 | 6.400000e+00 | 0.0003535534 | 5.656854e-05 | 7.071068e-05 |  6.6 | 4.949747e-05 | 4.000000e-01 | 0.0002121320 | 3.800000e+00 | 0.0004242641 | 5.656854e-05 | 0.0002828427 | 1.000000e-01 | 2.121320e-05 | 1.200000e+00 | 4.000000e-01 | 3.535534e-05 |  1.10 | 140.0 | 0.0003000000 | 0.0005656854 | 0.015 | 0.25000000 | 0.054 |  79 | 0.0006000000 | 0.090 |  610 |  17 | 0.074 | 170 | 0.210 |  730 | 0.0003000000 | 0.790 | 135.0 |\n",
       "| 31 | 'ASD' | 'Child'  | 15.000000000 | 5.656854e-05 | 2.121320e-03 | 5.000000e-01 | 0.0003535534 | 5.656854e-05 | 7.071068e-05 |  8.6 | 4.949747e-05 | 8.000000e-01 | 0.6000000000 | 1.600000e+00 | 0.0004242641 | 5.656854e-05 | 0.0002828427 | 5.000000e-01 | 2.121320e-05 | 2.000000e-01 | 2.000000e-01 | 3.535534e-05 |  3.30 |  14.0 | 0.0002121320 | 0.0005656854 | 0.020 | 0.07071068 | 0.043 |  60 | 0.0050000000 | 0.044 |  720 | 120 | 0.072 | 230 | 0.036 |  770 | 0.0006000000 | 0.330 |  68.2 |\n",
       "| 32 | 'ASD' | 'Child'  |  3.500000000 | 5.656854e-05 | 1.200000e+01 | 4.000000e+00 | 0.0003535534 | 5.656854e-05 | 7.071068e-05 | 11.0 | 4.949747e-05 | 5.000000e-01 | 0.3000000000 | 4.400000e+00 | 0.0004242641 | 5.656854e-05 | 0.0002828427 | 3.000000e-01 | 2.121320e-05 | 4.000000e-01 | 1.000000e-01 | 3.535534e-05 |  3.70 |  92.0 | 0.0002121320 | 0.0008000000 | 0.018 | 0.18000000 | 0.084 | 190 | 0.0020000000 | 0.045 | 1290 |  52 | 0.054 | 210 | 0.140 |  740 | 0.0004000000 | 0.280 | 110.0 |\n",
       "| 33 | 'ASD' | 'Child'  | 33.000000000 | 5.656854e-05 | 7.100000e+00 | 2.800000e+00 | 0.0003535534 | 5.656854e-05 | 7.071068e-05 |  8.4 | 4.949747e-05 | 3.000000e-01 | 0.0002121320 | 4.300000e+00 | 0.0004242641 | 5.656854e-05 | 0.0002828427 | 3.000000e-01 | 2.121320e-05 | 4.000000e-01 | 2.000000e-01 | 3.535534e-05 |  4.10 |  80.0 | 0.0002121320 | 0.0010000000 | 0.017 | 0.16000000 | 0.064 | 310 | 0.0020000000 | 0.048 | 1250 |  54 | 0.074 | 250 | 0.170 |  870 | 0.0003000000 | 0.520 |  85.4 |\n",
       "| 34 | 'ASD' | 'Child'  |  5.600000000 | 5.656854e-05 | 1.200000e+01 | 3.800000e+00 | 0.0003535534 | 5.656854e-05 | 7.071068e-05 | 10.0 | 4.949747e-05 | 6.000000e-01 | 0.0002121320 | 9.500000e+00 | 0.0004242641 | 5.656854e-05 | 0.0002828427 | 2.000000e-01 | 2.121320e-05 | 1.200000e+00 | 2.000000e-01 | 3.535534e-05 |  2.30 | 260.0 | 0.0002121320 | 0.0020000000 | 0.024 | 0.49000000 | 0.350 | 350 | 0.0030000000 | 0.085 | 1680 |  64 | 0.170 | 430 | 0.410 | 1870 | 0.0007000000 | 0.730 |  55.4 |\n",
       "| 35 | 'ASD' | 'Child'  |  1.900000000 | 5.656854e-05 | 1.600000e+01 | 5.400000e+00 | 0.0003535534 | 5.656854e-05 | 7.071068e-05 |  7.6 | 4.949747e-05 | 5.000000e-01 | 0.0002121320 | 5.400000e+00 | 0.0004242641 | 5.656854e-05 | 0.0002828427 | 3.000000e-01 | 2.121320e-05 | 3.000000e-01 | 2.000000e-01 | 3.535534e-05 |  3.20 | 150.0 | 0.0002121320 | 0.0005656854 | 0.020 | 0.30000000 | 0.110 | 170 | 0.0050000000 | 0.110 |  890 | 120 | 0.130 | 240 | 0.250 |  980 | 0.0005000000 | 0.093 |  83.7 |\n",
       "| 37 | 'ASD' | 'Child'  | 15.000000000 | 9.000000e-02 | 1.100000e+01 | 1.200000e+00 | 0.0003535534 | 5.656854e-05 | 1.000000e-01 |  6.3 | 4.949747e-05 | 3.000000e-01 | 0.0002121320 | 2.700000e+00 | 0.0004242641 | 5.656854e-05 | 0.0002828427 | 3.000000e-01 | 2.121320e-05 | 6.000000e-01 | 7.000000e-02 | 3.535534e-05 |  3.20 |  41.0 | 0.0002121320 | 0.0005656854 | 0.021 | 0.07071068 | 0.058 | 160 | 0.0030000000 | 0.060 |  950 |  79 | 0.083 | 170 | 0.120 |  730 | 0.0004000000 | 0.530 |  87.0 |\n",
       "| 39 | 'ASD' | 'Child'  | 74.000000000 | 3.000000e-01 | 2.500000e+01 | 1.500000e+01 | 0.0003535534 | 5.656854e-05 | 1.000000e-01 | 14.0 | 4.949747e-05 | 2.900000e+00 | 0.0002121320 | 7.800000e+00 | 0.0004242641 | 5.656854e-05 | 0.0002828427 | 4.000000e-01 | 2.121320e-05 | 3.700000e+00 | 1.000000e-01 | 8.000000e-02 | 11.00 | 330.0 | 0.0007000000 | 0.0010000000 | 0.023 | 0.72000000 | 0.110 | 200 | 0.0110000000 | 0.026 |  260 |  74 | 0.021 | 170 | 0.410 |  320 | 0.0006000000 | 0.630 | 102.0 |\n",
       "| 40 | 'TD'  | 'Child'  | 15.000000000 | 1.131371e-04 | 1.200000e+01 | 1.600000e+00 | 0.0007071068 | 1.131371e-04 | 1.414214e-04 |  3.4 | 9.899495e-05 | 3.000000e-01 | 0.0004242641 | 6.800000e+00 | 0.0008485281 | 1.131371e-04 | 0.0005656854 | 1.000000e-01 | 4.242641e-05 | 1.000000e+00 | 3.000000e-01 | 7.071068e-05 |  2.70 |  84.0 | 0.0004242641 | 0.0010000000 | 0.016 | 0.16000000 | 0.150 | 150 | 0.0010000000 | 0.150 |  990 |  38 | 0.075 | 130 | 0.170 |  790 | 0.0002000000 | 0.380 | 170.0 |\n",
       "| 41 | 'TD'  | 'Child'  | 59.000000000 | 3.000000e-01 | 1.100000e+01 | 7.200000e+00 | 0.0003535534 | 5.656854e-05 | 7.071068e-05 |  7.5 | 4.949747e-05 | 2.200000e+00 | 0.0002121320 | 6.700000e+00 | 0.0004242641 | 5.656854e-05 | 0.0002828427 | 2.000000e-01 | 2.121320e-05 | 2.200000e+00 | 7.000000e-01 | 3.535534e-05 |  3.30 | 180.0 | 0.0002121320 | 0.0005656854 | 0.030 | 0.35000000 | 0.130 | 200 | 0.0050000000 | 0.140 | 1830 |  76 | 0.130 | 180 | 0.270 | 1340 | 0.0005000000 | 0.730 |  50.9 |\n",
       "| 42 | 'TD'  | 'Child'  | 17.000000000 | 5.656854e-05 | 1.100000e+01 | 5.200000e+00 | 0.0003535534 | 5.656854e-05 | 7.071068e-05 |  5.8 | 4.949747e-05 | 8.000000e-01 | 0.0002121320 | 4.500000e+00 | 0.0004242641 | 5.656854e-05 | 0.0002828427 | 2.000000e-01 | 2.121320e-05 | 5.000000e+00 | 8.000000e-01 | 3.535534e-05 |  1.60 | 270.0 | 0.0002121320 | 0.0005656854 | 0.018 | 0.52000000 | 0.230 | 170 | 0.0020000000 | 0.110 | 1050 |  49 | 0.076 | 190 | 0.390 |  910 | 0.0001414214 | 0.860 |  56.8 |\n",
       "| 43 | 'TD'  | 'Child'  | 14.000000000 | 5.656854e-05 | 6.500000e+00 | 7.400000e+00 | 0.0003535534 | 5.656854e-05 | 7.071068e-05 |  8.9 | 4.949747e-05 | 1.100000e+00 | 0.0002121320 | 9.000000e+00 | 0.0004242641 | 5.656854e-05 | 0.0002828427 | 4.000000e-01 | 2.121320e-05 | 2.600000e+00 | 2.000000e-01 | 3.535534e-05 |  2.10 | 540.0 | 0.0002121320 | 0.0010000000 | 0.022 | 1.00000000 | 0.099 | 230 | 0.0030000000 | 0.062 | 1480 |  84 | 0.200 | 260 | 0.420 | 1930 | 0.0005000000 | 1.400 |  55.6 |\n",
       "| 45 | 'TD'  | 'Child'  |  6.100000000 | 5.656854e-05 | 1.100000e+01 | 2.900000e+00 | 0.0003535534 | 5.656854e-05 | 7.071068e-05 |  6.2 | 4.949747e-05 | 6.000000e-01 | 0.0002121320 | 2.900000e+00 | 0.0004242641 | 5.656854e-05 | 0.0002828427 | 2.000000e-01 | 2.121320e-05 | 9.000000e-01 | 2.000000e-01 | 3.535534e-05 |  2.70 | 100.0 | 0.0002121320 | 0.0008000000 | 0.017 | 0.21000000 | 0.092 | 230 | 0.0030000000 | 0.061 | 1270 |  87 | 0.110 | 280 | 0.170 | 1200 | 0.0004000000 | 0.480 |  97.9 |\n",
       "| 46 | 'TD'  | 'Child'  |  4.100000000 | 5.656854e-05 | 1.600000e+01 | 2.800000e+00 | 0.0003535534 | 5.656854e-05 | 7.071068e-05 |  7.0 | 4.949747e-05 | 4.000000e-01 | 0.0002121320 | 4.300000e+00 | 0.0004242641 | 5.656854e-05 | 0.0002828427 | 3.000000e-01 | 2.121320e-05 | 2.000000e-01 | 2.000000e-01 | 3.535534e-05 |  3.90 |  88.0 | 0.0002121320 | 0.0030000000 | 0.022 | 0.17000000 | 0.099 | 190 | 0.0020000000 | 0.096 | 1210 |  54 | 0.100 | 150 | 0.160 |  960 | 0.0003000000 | 0.380 |  83.7 |\n",
       "| 48 | 'TD'  | 'Child'  | 38.000000000 | 5.656854e-05 | 1.500000e+01 | 3.300000e+00 | 0.0003535534 | 5.656854e-05 | 7.071068e-05 |  3.7 | 4.949747e-05 | 2.000000e-01 | 0.0002121320 | 1.000000e+01 | 0.0004242641 | 5.656854e-05 | 0.0002828427 | 2.000000e-01 | 2.121320e-05 | 1.600000e+00 | 3.000000e-01 | 3.535534e-05 |  2.50 | 390.0 | 0.0002121320 | 0.0020000000 | 0.018 | 0.71000000 | 0.170 | 280 | 0.0008000000 | 0.150 | 1240 |  18 | 0.130 | 140 | 0.250 | 1490 | 0.0003000000 | 1.200 |  71.8 |\n",
       "| 49 | 'TD'  | 'Child'  | 46.000000000 | 9.000000e-01 | 1.060660e-03 | 1.100000e+01 | 0.0001767767 | 2.828427e-05 | 3.535534e-05 | 18.0 | 2.474874e-05 | 1.100000e+00 | 0.0001060660 | 5.600000e+00 | 0.0002121320 | 2.828427e-05 | 0.0001414214 | 8.000000e-01 | 1.060660e-05 | 6.000000e-01 | 3.000000e-01 | 1.767767e-05 |  8.90 | 190.0 | 0.0001060660 | 0.0002828427 | 0.037 | 0.03535534 | 0.130 | 340 | 0.0070000000 | 0.049 | 2980 | 130 | 0.210 | 700 | 0.300 | 1570 | 0.0010000000 | 0.590 |  10.6 |\n",
       "| 50 | 'TD'  | 'Child'  |  6.400000000 | 5.656854e-05 | 9.000000e+00 | 2.500000e+00 | 0.0003535534 | 5.656854e-05 | 7.071068e-05 |  7.7 | 4.949747e-05 | 4.000000e-01 | 0.0002121320 | 3.400000e+00 | 0.0004242641 | 5.656854e-05 | 0.0002828427 | 2.000000e-01 | 2.121320e-05 | 5.000000e-01 | 3.000000e-01 | 3.535534e-05 |  4.40 |  77.0 | 0.0002121320 | 0.0005656854 | 0.016 | 0.15000000 | 0.071 | 240 | 0.0010000000 | 0.140 | 1600 |  35 | 0.120 | 150 | 0.130 | 1270 | 0.0001414214 | 1.100 |  97.0 |\n",
       "| 51 | 'TD'  | 'Child'  | 16.000000000 | 3.000000e-01 | 2.500000e+01 | 7.000000e+00 | 0.0003535534 | 5.656854e-05 | 7.071068e-05 | 14.0 | 4.949747e-05 | 8.000000e-01 | 0.0002121320 | 9.900000e+00 | 0.0004242641 | 5.656854e-05 | 0.0002828427 | 3.535534e-05 | 2.121320e-05 | 9.900000e+00 | 2.000000e-01 | 3.535534e-05 |  4.10 | 480.0 | 0.0002121320 | 0.0005656854 | 0.026 | 0.86000000 | 0.300 | 330 | 0.0008000000 | 0.087 | 1940 |  18 | 0.130 | 210 | 0.550 | 1800 | 0.0001414214 | 0.800 |  46.9 |\n",
       "| 52 | 'TD'  | 'Child'  | 18.000000000 | 2.000000e-01 | 1.100000e+01 | 1.000000e+00 | 0.0003535534 | 5.656854e-05 | 7.071068e-05 | 16.0 | 4.949747e-05 | 7.000000e-01 | 0.0002121320 | 3.300000e+00 | 0.0004242641 | 5.656854e-05 | 0.0002828427 | 4.000000e-01 | 2.121320e-05 | 2.800000e+00 | 7.000000e-01 | 3.535534e-05 |  3.10 |  19.0 | 0.0004000000 | 0.0005656854 | 0.020 | 0.07071068 | 0.180 |  53 | 0.0070000000 | 0.240 | 1450 | 210 | 0.180 | 120 | 0.046 | 1930 | 0.0004000000 | 0.410 |  89.8 |\n",
       "| 53 | 'TD'  | 'Child'  | 11.000000000 | 2.000000e-01 | 2.800000e+01 | 9.800000e+00 | 0.0003535534 | 5.656854e-05 | 7.071068e-05 |  6.0 | 4.949747e-05 | 4.000000e-01 | 0.0002121320 | 6.100000e+00 | 0.0004242641 | 5.656854e-05 | 0.0002828427 | 2.000000e-01 | 2.121320e-05 | 1.800000e+00 | 3.000000e-01 | 3.535534e-05 |  2.70 | 200.0 | 0.0002121320 | 0.0005656854 | 0.016 | 0.38000000 | 0.073 | 390 | 0.0009000000 | 0.260 | 1680 |  29 | 0.100 | 210 | 0.330 | 1430 | 0.0003000000 | 0.700 |  85.7 |\n",
       "| 54 | 'TD'  | 'Child'  | 10.000000000 | 5.656854e-05 | 5.100000e+01 | 6.800000e+00 | 0.0003535534 | 5.656854e-05 | 7.071068e-05 |  7.6 | 4.949747e-05 | 6.000000e-01 | 0.0002121320 | 6.800000e+00 | 0.0004242641 | 5.656854e-05 | 0.0002828427 | 2.000000e-01 | 2.121320e-05 | 3.300000e+00 | 5.000000e-01 | 3.535534e-05 |  3.60 | 220.0 | 0.0002121320 | 0.0005656854 | 0.026 | 0.49000000 | 0.160 | 130 | 0.0050000000 | 0.130 |  820 | 130 | 0.130 | 680 | 0.340 |  980 | 0.0010000000 | 0.780 |  45.8 |\n",
       "| 56 | 'TD'  | 'Child'  | 12.000000000 | 8.000000e-02 | 5.200000e+00 | 3.000000e+00 | 0.0007071068 | 1.131371e-04 | 1.414214e-04 |  2.9 | 9.899495e-05 | 1.000000e-01 | 0.0004242641 | 2.600000e+00 | 0.0008485281 | 1.131371e-04 | 0.0005656854 | 9.000000e-02 | 4.242641e-05 | 4.200000e+00 | 2.000000e-01 | 7.071068e-05 |  1.80 |  72.0 | 0.0004242641 | 0.0011313708 | 0.016 | 0.13000000 | 0.037 | 170 | 0.0008000000 | 0.100 |  710 |  29 | 0.060 |  48 | 0.077 |  630 | 0.0002828427 | 0.740 | 209.0 |\n",
       "| 57 | 'TD'  | 'Child'  | 15.000000000 | 5.656854e-05 | 1.100000e+01 | 1.700000e+00 | 0.0003535534 | 6.000000e-01 | 2.000000e-01 |  6.1 | 4.949747e-05 | 4.000000e-01 | 0.0002121320 | 6.500000e+00 | 0.0004242641 | 5.656854e-05 | 0.0002828427 | 3.000000e-01 | 2.121320e-05 | 2.200000e+00 | 5.000000e-01 | 3.535534e-05 |  2.00 | 120.0 | 0.0002121320 | 0.0005656854 | 0.021 | 0.25000000 | 0.120 | 250 | 0.0030000000 | 0.092 | 1540 |  76 | 0.170 | 200 | 0.230 | 1630 | 0.0005000000 | 0.450 |  62.8 |\n",
       "| 58 | 'TD'  | 'Child'  | 14.000000000 | 5.656854e-05 | 2.300000e+01 | 2.700000e+00 | 0.0003535534 | 5.656854e-05 | 3.000000e-01 |  9.7 | 4.949747e-05 | 4.000000e-01 | 0.0002121320 | 8.300000e+00 | 0.0004242641 | 5.656854e-05 | 0.0002828427 | 3.000000e-01 | 2.121320e-05 | 1.400000e+00 | 6.000000e-01 | 3.535534e-05 |  4.50 | 170.0 | 0.0002121320 | 0.0020000000 | 0.037 | 0.32000000 | 0.140 | 440 | 0.0030000000 | 0.190 | 1540 |  64 | 0.170 | 180 | 0.310 | 1950 | 0.0006000000 | 1.500 |  48.5 |\n",
       "| 60 | 'TD'  | 'Child'  |  9.100000000 | 2.000000e-01 | 2.200000e+01 | 1.700000e+00 | 0.0003535534 | 5.656854e-05 | 7.071068e-05 |  5.9 | 4.949747e-05 | 4.000000e-01 | 0.0002121320 | 6.400000e+00 | 0.0004242641 | 5.656854e-05 | 0.0002828427 | 1.000000e-01 | 2.121320e-05 | 1.700000e+00 | 2.000000e-01 | 3.535534e-05 |  2.40 |  65.0 | 0.0002121320 | 0.0010000000 | 0.023 | 0.12000000 | 0.140 | 230 | 0.0020000000 | 0.066 |  770 |  43 | 0.160 | 110 | 0.150 | 1460 | 0.0001414214 | 0.220 |  82.1 |\n",
       "| 61 | 'TD'  | 'Child'  | 27.000000000 | 2.000000e-01 | 1.800000e+01 | 1.900000e+00 | 0.0003535534 | 5.656854e-05 | 7.071068e-05 |  5.3 | 4.949747e-05 | 7.000000e-01 | 0.0002121320 | 2.800000e+00 | 0.0004242641 | 5.656854e-05 | 0.0002828427 | 2.000000e-01 | 2.121320e-05 | 5.500000e+00 | 3.535534e-05 | 3.535534e-05 |  3.10 |  13.0 | 0.0002121320 | 0.0005656854 | 0.025 | 0.07071068 | 0.120 | 190 | 0.0030000000 | 0.063 | 1070 |  81 | 0.110 |  62 | 0.042 |  900 | 0.0001414214 | 1.000 |  47.7 |\n",
       "| 62 | 'TD'  | 'Child'  |  8.500000000 | 1.000000e-01 | 2.300000e+01 | 2.900000e+00 | 0.0003535534 | 5.656854e-05 | 7.071068e-05 |  5.7 | 4.949747e-05 | 3.000000e-01 | 0.0002121320 | 2.700000e+00 | 0.0004242641 | 5.656854e-05 | 0.0002828427 | 2.000000e-01 | 2.121320e-05 | 2.500000e+00 | 4.000000e-01 | 3.535534e-05 |  1.40 |  93.0 | 0.0002121320 | 0.0005656854 | 0.030 | 0.19000000 | 0.190 | 210 | 0.0020000000 | 0.091 |  860 |  42 | 0.160 | 110 | 0.180 | 1480 | 0.0005000000 | 0.960 |  82.0 |\n",
       "| 63 | 'TD'  | 'Child'  |  9.500000000 | 2.000000e-01 | 2.900000e+01 | 5.500000e+00 | 0.0003535534 | 5.656854e-05 | 7.071068e-05 |  7.7 | 4.949747e-05 | 7.000000e-01 | 0.0002121320 | 8.000000e+00 | 0.0004242641 | 5.656854e-05 | 0.0002828427 | 2.000000e-01 | 2.121320e-05 | 1.400000e+00 | 2.200000e+00 | 3.535534e-05 |  3.30 | 300.0 | 0.0002121320 | 0.0020000000 | 0.019 | 0.55000000 | 0.240 | 200 | 0.0010000000 | 0.260 | 1300 |  42 | 0.160 | 200 | 0.440 | 1690 | 0.0004000000 | 0.590 |  70.4 |\n",
       "| 65 | 'TD'  | 'Child'  |  6.300000000 | 9.000000e-02 | 7.900000e+00 | 1.800000e+00 | 0.0003535534 | 2.000000e-01 | 7.071068e-05 |  4.8 | 4.949747e-05 | 3.000000e-01 | 0.0002121320 | 6.000000e+00 | 0.0004242641 | 5.656854e-05 | 0.0002828427 | 1.000000e-01 | 2.121320e-05 | 2.500000e+00 | 1.000000e-01 | 3.535534e-05 |  2.10 | 170.0 | 0.0002121320 | 0.0005656854 | 0.022 | 0.30000000 | 0.066 | 170 | 0.0009000000 | 0.140 | 1600 |  30 | 0.120 | 130 | 0.240 | 1220 | 0.0001414214 | 0.580 |  94.0 |\n",
       "| 66 | 'TD'  | 'Child'  | 37.000000000 | 2.000000e-01 | 1.900000e+01 | 2.000000e+00 | 0.0003535534 | 5.656854e-05 | 7.071068e-05 |  6.9 | 4.949747e-05 | 8.000000e-01 | 0.0002121320 | 2.100000e+00 | 0.0004242641 | 5.656854e-05 | 0.0002828427 | 4.000000e-01 | 2.121320e-05 | 6.000000e+00 | 6.000000e-01 | 3.000000e-01 |  8.10 |  34.0 | 0.0030000000 | 0.0005656854 | 0.019 | 0.07071068 | 0.067 | 160 | 0.0040000000 | 0.100 | 1020 | 110 | 0.100 | 130 | 0.150 |  680 | 0.0020000000 | 1.100 |  88.5 |\n",
       "| 67 | 'TD'  | 'Child'  |  6.500000000 | 1.000000e-01 | 1.000000e+01 | 4.000000e+00 | 0.0003535534 | 5.656854e-05 | 7.071068e-05 |  5.7 | 4.949747e-05 | 4.000000e-01 | 0.0002121320 | 7.600000e+00 | 0.0004242641 | 5.656854e-05 | 0.0002828427 | 2.000000e-01 | 2.121320e-05 | 1.900000e+00 | 2.000000e-01 | 3.535534e-05 |  4.80 | 240.0 | 0.0005000000 | 0.0010000000 | 0.018 | 0.43000000 | 0.180 | 280 | 0.0010000000 | 0.170 | 2210 |  34 | 0.150 | 140 | 0.260 | 1370 | 0.0003000000 | 0.700 | 101.0 |\n",
       "| 68 | 'TD'  | 'Child'  |  3.200000000 | 1.000000e-01 | 1.300000e+01 | 2.800000e+00 | 0.0003535534 | 5.656854e-05 | 7.071068e-05 |  7.7 | 4.949747e-05 | 1.000000e+00 | 0.0002121320 | 3.800000e+00 | 0.0004242641 | 5.656854e-05 | 0.0002828427 | 2.000000e-01 | 2.121320e-05 | 3.100000e+00 | 2.000000e-01 | 3.535534e-05 |  1.70 | 120.0 | 0.0002121320 | 0.0005656854 | 0.027 | 0.24000000 | 0.075 | 210 | 0.0020000000 | 0.085 | 1430 |  74 | 0.120 | 300 | 0.200 | 1390 | 0.0004000000 | 0.510 |  74.9 |\n",
       "| 70 | 'TD'  | 'Child'  | 12.000000000 | 5.656854e-05 | 1.900000e+01 | 5.200000e+00 | 0.0003535534 | 4.000000e-01 | 7.071068e-05 |  5.6 | 4.949747e-05 | 5.000000e-01 | 0.0002121320 | 6.200000e+00 | 0.0004242641 | 5.656854e-05 | 0.0002828427 | 2.000000e-01 | 2.121320e-05 | 6.600000e+00 | 2.000000e-01 | 3.535534e-05 |  2.30 | 250.0 | 0.0002121320 | 0.0010000000 | 0.019 | 0.51000000 | 0.060 | 210 | 0.0030000000 | 0.130 | 1240 |  85 | 0.093 | 340 | 0.250 | 1080 | 0.0006000000 | 0.670 |  61.8 |\n",
       "| 71 | 'TD'  | 'Child'  | 11.000000000 | 2.000000e-01 | 2.000000e+01 | 2.100000e+00 | 0.0003535534 | 5.656854e-05 | 7.071068e-05 |  7.2 | 4.949747e-05 | 8.000000e-01 | 0.0002121320 | 1.800000e+00 | 0.0004242641 | 5.656854e-05 | 0.0002828427 | 3.000000e-01 | 2.121320e-05 | 6.700000e+00 | 3.000000e-01 | 8.000000e-02 |  6.40 |  44.0 | 0.0006000000 | 0.0005656854 | 0.014 | 0.07071068 | 0.150 | 210 | 0.0020000000 | 0.150 |  890 |  67 | 0.130 |  72 | 0.160 | 1310 | 0.0003000000 | 0.520 |  79.9 |\n",
       "|  1 | 'ASD' | 'Mother' |  1.400000000 | 1.131371e-04 | 6.100000e+01 | 1.300000e+00 | 0.0007071068 | 1.131371e-04 | 1.000000e-01 |  5.4 | 9.899495e-05 | 2.000000e-01 | 0.3000000000 | 3.100000e+00 | 0.0008485281 | 1.131371e-04 | 0.0005656854 | 1.000000e-01 | 4.242641e-05 | 4.000000e-01 | 8.000000e-02 | 7.071068e-05 |  2.20 | 140.0 | 0.0004242641 | 0.0011313708 | 0.007 | 0.25000000 | 0.055 |  77 | 0.0007000000 | 0.036 |  680 |  23 | 0.059 |  42 | 0.120 |  410 | 0.0002828427 | 0.160 | 250.0 |\n",
       "|  2 | 'ASD' | 'Mother' |  1.800000000 | 5.656854e-05 | 4.800000e+00 | 1.500000e+00 | 0.0003535534 | 5.656854e-05 | 9.000000e-02 |  3.1 | 4.949747e-05 | 1.000000e-01 | 0.0002121320 | 3.100000e+00 | 0.0004242641 | 5.656854e-05 | 0.0002828427 | 1.000000e-01 | 2.121320e-05 | 7.000000e-02 | 3.535534e-05 | 3.535534e-05 |  1.60 |  34.0 | 0.0002121320 | 0.0010000000 | 0.011 | 0.07071068 | 0.180 |  83 | 0.0006000000 | 0.012 |  860 |  15 | 0.056 | 110 | 0.067 |  590 | 0.0001414214 | 0.160 | 128.0 |\n",
       "|  3 | 'ASD' | 'Mother' |  3.300000000 | 5.656854e-05 | 2.900000e+00 | 5.000000e+00 | 0.0003535534 | 5.656854e-05 | 2.000000e-01 |  3.4 | 4.949747e-05 | 2.000000e-01 | 0.0002121320 | 3.500000e+00 | 0.0004242641 | 5.656854e-05 | 0.0002828427 | 6.000000e-02 | 2.121320e-05 | 1.700000e+00 | 2.000000e-01 | 3.535534e-05 |  0.68 | 160.0 | 0.0002121320 | 0.0005656854 | 0.010 | 0.30000000 | 0.210 |  91 | 0.0005000000 | 0.035 |  590 |  10 | 0.041 |  91 | 0.230 |  470 | 0.0001414214 | 0.210 | 106.0 |\n",
       "|  5 | 'ASD' | 'Mother' |  2.500000000 | 1.131371e-04 | 1.400000e+01 | 9.000000e-01 | 0.0007071068 | 1.131371e-04 | 3.000000e-01 |  2.5 | 9.000000e-02 | 3.000000e-01 | 0.0004242641 | 1.600000e+00 | 0.0008485281 | 1.131371e-04 | 0.0005656854 | 1.000000e-01 | 4.242641e-05 | 2.000000e-01 | 8.000000e-02 | 7.071068e-05 |  0.73 |  49.0 | 0.0004242641 | 0.0011313708 | 0.014 | 0.14142136 | 0.070 |  29 | 0.0008000000 | 0.140 |  600 |  19 | 0.080 |  83 | 0.081 |  550 | 0.0004000000 | 0.320 | 169.0 |\n",
       "|  6 | 'ASD' | 'Mother' |  5.200000000 | 1.131371e-04 | 3.000000e+00 | 1.200000e+00 | 0.0007071068 | 1.131371e-04 | 4.000000e-01 |  3.0 | 9.899495e-05 | 2.000000e-01 | 0.0004242641 | 5.100000e+00 | 0.0008485281 | 1.131371e-04 | 0.0005656854 | 3.000000e-01 | 4.242641e-05 | 5.000000e-01 | 1.000000e-01 | 7.071068e-05 |  2.00 | 170.0 | 0.0004242641 | 0.0010000000 | 0.010 | 0.30000000 | 0.035 | 110 | 0.0007000000 | 0.037 |  970 |  20 | 0.037 |  58 | 0.210 |  420 | 0.0002828427 | 0.400 | 251.0 |\n",
       "|  7 | 'ASD' | 'Mother' |  9.200000000 | 5.656854e-05 | 1.200000e+01 | 6.000000e-01 | 0.0003535534 | 5.656854e-05 | 7.071068e-05 |  4.2 | 4.949747e-05 | 7.071068e-05 | 0.0002121320 | 1.900000e+00 | 0.0004242641 | 5.656854e-05 | 0.0002828427 | 2.000000e-01 | 2.121320e-05 | 5.656854e-05 | 3.535534e-05 | 3.535534e-05 |  1.10 |  53.0 | 0.0002121320 | 0.0005656854 | 0.018 | 0.07071068 | 0.021 |  67 | 0.0020000000 | 0.035 |  190 |  27 | 0.039 |  43 | 0.062 |  290 | 0.0001414214 | 0.850 |  44.0 |\n",
       "|  8 | 'ASD' | 'Mother' |  0.001414214 | 1.131371e-04 | 1.800000e+01 | 9.000000e-01 | 0.0007071068 | 1.131371e-04 | 2.000000e-01 |  2.7 | 9.899495e-05 | 1.414214e-04 | 0.0004242641 | 1.800000e+00 | 0.0008485281 | 1.131371e-04 | 0.0005656854 | 1.000000e-01 | 4.242641e-05 | 1.131371e-04 | 7.071068e-05 | 7.071068e-05 |  0.71 |  63.0 | 0.0004242641 | 0.0011313708 | 0.009 | 0.13000000 | 0.096 |  47 | 0.0010000000 | 0.018 |  590 |  30 | 0.042 |  68 | 0.074 |  470 | 0.0002828427 | 0.210 | 157.0 |\n",
       "|  9 | 'ASD' | 'Mother' | 43.000000000 | 5.656854e-05 | 2.700000e+00 | 2.200000e+00 | 0.0003535534 | 5.656854e-05 | 9.000000e-02 |  2.6 | 4.949747e-05 | 3.000000e-01 | 0.0002121320 | 3.400000e+00 | 0.0004242641 | 5.656854e-05 | 0.0002828427 | 7.000000e-02 | 2.121320e-05 | 1.100000e+00 | 5.000000e-02 | 8.000000e-02 |  1.30 | 140.0 | 0.0002121320 | 0.0005656854 | 0.008 | 0.26000000 | 0.047 |  66 | 0.0007000000 | 0.014 |  520 |  14 | 0.033 |  66 | 0.260 |  820 | 0.0001414214 | 0.410 | 123.0 |\n",
       "| 10 | 'ASD' | 'Mother' |  3.200000000 | 4.000000e-01 | 3.600000e+00 | 6.000000e-01 | 0.0007071068 | 1.131371e-04 | 2.000000e-01 |  3.9 | 9.899495e-05 | 1.000000e-01 | 0.0004242641 | 5.500000e+00 | 0.0008485281 | 1.131371e-04 | 0.0005656854 | 1.000000e-01 | 4.242641e-05 | 2.000000e-01 | 7.071068e-05 | 7.071068e-05 |  0.99 |  87.0 | 0.0004242641 | 0.0011313708 | 0.008 | 0.17000000 | 0.019 |  45 | 0.0010000000 | 0.027 |  510 |  31 | 0.051 |  39 | 0.085 |  410 | 0.0002828427 | 0.600 | 249.0 |\n",
       "| 11 | 'ASD' | 'Mother' |  5.000000000 | 5.656854e-05 | 3.400000e+00 | 6.100000e+00 | 0.0003535534 | 5.656854e-05 | 7.071068e-05 |  6.4 | 4.949747e-05 | 2.000000e-01 | 0.0002121320 | 6.200000e+00 | 0.0004242641 | 5.656854e-05 | 0.0002828427 | 2.000000e-01 | 2.121320e-05 | 2.000000e-01 | 1.000000e-01 | 3.535534e-05 |  4.10 | 310.0 | 0.0002121320 | 0.0009000000 | 0.013 | 0.58000000 | 0.052 |  83 | 0.0010000000 | 0.046 |  610 |  26 | 0.047 | 110 | 0.320 |  900 | 0.0004000000 | 0.550 | 122.0 |\n",
       "| 12 | 'ASD' | 'Mother' |  5.700000000 | 5.656854e-05 | 8.300000e+01 | 3.000000e+00 | 0.0003535534 | 8.800000e+00 | 3.000000e-01 |  6.6 | 4.949747e-05 | 6.000000e-01 | 1.4000000000 | 5.700000e+00 | 0.0004242641 | 5.656854e-05 | 0.0002828427 | 4.000000e-01 | 2.121320e-05 | 3.000000e-01 | 3.535534e-05 | 3.535534e-05 |  3.80 | 280.0 | 0.0002121320 | 0.0005656854 | 0.020 | 0.52000000 | 0.100 |  95 | 0.0020000000 | 0.065 |  560 |  24 | 0.066 |  92 | 0.320 |  830 | 0.0001414214 | 0.760 |  46.4 |\n",
       "| 17 | 'ASD' | 'Mother' |  3.200000000 | 1.131371e-04 | 4.700000e+00 | 8.000000e-01 | 0.0007071068 | 1.131371e-04 | 3.000000e-01 |  3.5 | 9.899495e-05 | 2.000000e-01 | 0.4000000000 | 2.000000e+00 | 0.0008485281 | 1.131371e-04 | 0.0005656854 | 2.000000e-01 | 4.242641e-05 | 2.000000e-01 | 7.071068e-05 | 7.071068e-05 |  1.10 |  50.0 | 0.0004242641 | 0.0011313708 | 0.008 | 0.14142136 | 0.051 |  80 | 0.0020000000 | 0.030 |  370 |  48 | 0.038 | 150 | 0.083 |  470 | 0.0004000000 | 0.220 | 155.0 |\n",
       "| 18 | 'ASD' | 'Mother' |  3.100000000 | 5.656854e-05 | 1.600000e+01 | 6.000000e-01 | 0.0003535534 | 5.656854e-05 | 7.000000e-01 |  4.8 | 4.949747e-05 | 7.071068e-05 | 0.9000000000 | 5.000000e+00 | 0.0004242641 | 5.656854e-05 | 0.0002828427 | 1.000000e-01 | 2.121320e-05 | 2.000000e-01 | 1.000000e-01 | 3.535534e-05 |  1.20 | 160.0 | 0.0002121320 | 0.0020000000 | 0.012 | 0.30000000 | 0.044 |  50 | 0.0008000000 | 0.049 |  270 |  20 | 0.052 | 210 | 0.120 |  430 | 0.0001414214 | 0.330 |  57.3 |\n",
       "| 19 | 'ASD' | 'Mother' |  2.500000000 | 5.656854e-05 | 8.400000e+00 | 1.300000e+00 | 0.0003535534 | 8.000000e-01 | 1.000000e-01 |  1.9 | 4.949747e-05 | 7.071068e-05 | 0.5000000000 | 1.800000e+00 | 0.0004242641 | 5.656854e-05 | 0.0002828427 | 8.000000e-02 | 2.121320e-05 | 3.000000e-01 | 7.000000e-02 | 3.535534e-05 |  0.65 |  89.0 | 0.0002121320 | 0.0005656854 | 0.010 | 0.17000000 | 0.043 |  63 | 0.0005000000 | 0.022 |  400 |  12 | 0.030 | 120 | 0.160 |  340 | 0.0002000000 | 0.260 | 112.0 |\n",
       "| 20 | 'ASD' | 'Mother' |  2.400000000 | 1.131371e-04 | 8.300000e+00 | 1.500000e+00 | 0.0007071068 | 1.131371e-04 | 1.000000e-01 |  2.9 | 9.899495e-05 | 1.000000e-01 | 0.0004242641 | 2.300000e+00 | 0.0008485281 | 1.131371e-04 | 0.0005656854 | 2.000000e-01 | 4.242641e-05 | 3.000000e-01 | 3.000000e-01 | 7.071068e-05 |  1.00 | 110.0 | 0.0004242641 | 0.0011313708 | 0.017 | 0.22000000 | 0.033 |  83 | 0.0009000000 | 0.041 |  780 |  25 | 0.068 |  67 | 0.120 |  620 | 0.0002828427 | 0.570 | 190.0 |\n",
       "| 21 | 'ASD' | 'Mother' |  2.900000000 | 5.656854e-05 | 4.700000e+00 | 1.300000e+00 | 0.0003535534 | 5.656854e-05 | 3.000000e-01 |  5.8 | 4.949747e-05 | 2.000000e-01 | 0.0002121320 | 4.300000e+00 | 0.0004242641 | 5.656854e-05 | 0.0002828427 | 1.000000e-01 | 2.121320e-05 | 1.100000e+00 | 4.000000e-01 | 3.535534e-05 |  1.70 | 150.0 | 0.0002121320 | 0.0005656854 | 0.010 | 0.28000000 | 0.040 |  92 | 0.0010000000 | 0.058 |  640 |  24 | 0.046 |  88 | 0.180 |  630 | 0.0001414214 | 0.320 | 150.0 |\n",
       "| 22 | 'ASD' | 'Mother' |  5.600000000 | 1.131371e-04 | 9.300000e+00 | 2.500000e+00 | 0.0007071068 | 1.131371e-04 | 9.000000e-02 |  2.2 | 9.899495e-05 | 1.000000e-01 | 0.4000000000 | 3.500000e+00 | 0.0008485281 | 1.131371e-04 | 0.0005656854 | 7.000000e-02 | 4.242641e-05 | 2.000000e-01 | 9.000000e-02 | 7.071068e-05 |  0.95 | 150.0 | 0.0004242641 | 0.0011313708 | 0.008 | 0.29000000 | 0.100 |  83 | 0.0004000000 | 0.086 |  590 |  11 | 0.038 |  81 | 0.190 |  370 | 0.0002828427 | 0.310 | 216.0 |\n",
       "| 25 | 'ASD' | 'Mother' |  2.600000000 | 5.656854e-05 | 7.400000e+00 | 3.500000e+00 | 0.0003535534 | 5.656854e-05 | 2.000000e-01 |  9.5 | 4.949747e-05 | 5.000000e-01 | 0.9000000000 | 3.900000e+00 | 0.0004242641 | 5.656854e-05 | 0.0002828427 | 4.000000e-01 | 2.121320e-05 | 4.000000e-01 | 7.000000e-02 | 3.535534e-05 |  3.70 | 200.0 | 0.0002121320 | 0.0005656854 | 0.012 | 0.37000000 | 0.025 |  79 | 0.0030000000 | 0.019 |  470 |  47 | 0.046 |  36 | 0.180 |  550 | 0.0001414214 | 0.280 |  99.9 |\n",
       "| 28 | 'ASD' | 'Mother' |  2.000000000 | 1.131371e-04 | 5.000000e+00 | 7.000000e-01 | 0.0007071068 | 7.000000e-01 | 1.000000e-01 |  4.0 | 8.000000e-02 | 2.000000e-01 | 0.0004242641 | 2.100000e+00 | 0.0008485281 | 1.131371e-04 | 0.0005656854 | 3.000000e-01 | 4.242641e-05 | 4.000000e-01 | 7.000000e-02 | 7.071068e-05 |  2.20 |  61.0 | 0.0004242641 | 0.0011313708 | 0.010 | 0.12000000 | 0.043 |  70 | 0.0020000000 | 0.022 |  490 |  53 | 0.038 |  35 | 0.094 |  540 | 0.0002828427 | 0.170 | 210.0 |\n",
       "| 29 | 'ASD' | 'Mother' |  1.900000000 | 5.656854e-05 | 6.300000e+00 | 1.400000e+00 | 0.0003535534 | 5.656854e-05 | 7.071068e-05 |  3.5 | 4.949747e-05 | 4.000000e-01 | 0.0002121320 | 1.900000e+00 | 0.0004242641 | 5.656854e-05 | 0.0002828427 | 2.000000e-01 | 2.121320e-05 | 3.000000e-01 | 3.535534e-05 | 1.000000e-01 |  1.20 | 100.0 | 0.0002121320 | 0.0005656854 | 0.007 | 0.20000000 | 0.039 |  74 | 0.0008000000 | 0.010 |  480 |  18 | 0.052 | 140 | 0.150 |  610 | 0.0001414214 | 0.350 |  79.3 |\n",
       "| 30 | 'ASD' | 'Mother' | 10.000000000 | 7.000000e-02 | 3.200000e+00 | 3.000000e-01 | 0.0003535534 | 5.656854e-05 | 1.000000e-01 |  3.2 | 4.949747e-05 | 9.000000e-02 | 0.0002121320 | 1.100000e+00 | 0.0004242641 | 5.656854e-05 | 0.0002828427 | 2.000000e-01 | 2.121320e-05 | 3.000000e-01 | 1.000000e-01 | 3.535534e-05 |  0.78 |  24.0 | 0.0002121320 | 0.0005656854 | 0.006 | 0.07071068 | 0.040 |  26 | 0.0010000000 | 0.053 |  370 |  32 | 0.035 |  34 | 0.029 |  330 | 0.0001414214 | 0.082 | 137.0 |\n",
       "| 31 | 'ASD' | 'Mother' |  6.200000000 | 5.656854e-05 | 3.400000e+00 | 1.200000e+00 | 0.0003535534 | 5.656854e-05 | 7.071068e-05 |  4.0 | 4.949747e-05 | 2.000000e-01 | 0.0002121320 | 1.800000e+00 | 0.0004242641 | 5.656854e-05 | 0.0002828427 | 2.000000e-01 | 2.121320e-05 | 5.200000e+00 | 8.000000e-02 | 3.535534e-05 |  1.50 |  98.0 | 0.0002121320 | 0.0005656854 | 0.013 | 0.17000000 | 0.051 |  97 | 0.0006000000 | 0.010 | 1080 |  21 | 0.070 |  45 | 0.160 | 1580 | 0.0001414214 | 0.540 | 129.0 |\n",
       "| 32 | 'ASD' | 'Mother' |  1.800000000 | 5.656854e-05 | 1.100000e+01 | 2.700000e+00 | 0.0003535534 | 5.656854e-05 | 2.000000e-01 |  3.2 | 4.949747e-05 | 2.000000e-01 | 0.4000000000 | 4.000000e+00 | 0.0004242641 | 5.656854e-05 | 0.0002828427 | 2.000000e-01 | 2.121320e-05 | 2.000000e-01 | 6.000000e-02 | 3.535534e-05 |  1.60 | 190.0 | 0.0002121320 | 0.0010000000 | 0.009 | 0.35000000 | 0.033 | 110 | 0.0010000000 | 0.017 |  460 |  28 | 0.055 |  99 | 0.220 |  700 | 0.0001414214 | 0.110 |  99.5 |\n",
       "| 33 | 'ASD' | 'Mother' |  1.900000000 | 1.131371e-04 | 5.300000e+00 | 4.000000e-01 | 0.0007071068 | 1.131371e-04 | 1.000000e-01 |  1.9 | 9.899495e-05 | 1.414214e-04 | 0.0004242641 | 8.000000e-01 | 0.0008485281 | 1.131371e-04 | 0.0005656854 | 9.000000e-02 | 4.242641e-05 | 4.000000e-01 | 7.071068e-05 | 7.071068e-05 |  0.82 |  32.0 | 0.0004242641 | 0.0011313708 | 0.008 | 0.14142136 | 0.046 |  69 | 0.0006000000 | 0.036 |  860 |  15 | 0.034 |  78 | 0.047 |  370 | 0.0002828427 | 0.280 | 167.0 |\n",
       "| 34 | 'ASD' | 'Mother' |  1.900000000 | 1.131371e-04 | 4.400000e+00 | 2.700000e+00 | 0.0007071068 | 1.131371e-04 | 1.414214e-04 |  2.6 | 9.899495e-05 | 1.414214e-04 | 0.0004242641 | 2.600000e+00 | 0.0008485281 | 1.131371e-04 | 0.0005656854 | 1.000000e-01 | 4.242641e-05 | 1.000000e-01 | 7.071068e-05 | 7.071068e-05 |  2.20 |  81.0 | 0.0004242641 | 0.0011313708 | 0.007 | 0.15000000 | 0.075 |  92 | 0.0010000000 | 0.003 |  900 |  29 | 0.041 | 110 | 0.150 |  500 | 0.0002828427 | 0.082 | 173.0 |\n",
       "| 35 | 'ASD' | 'Mother' |  2.200000000 | 5.656854e-05 | 7.400000e+00 | 2.700000e+00 | 0.0003535534 | 5.656854e-05 | 2.000000e-01 |  3.7 | 4.949747e-05 | 3.000000e-01 | 0.0002121320 | 1.800000e+00 | 0.0004242641 | 5.656854e-05 | 0.0002828427 | 2.000000e-01 | 2.121320e-05 | 6.000000e-01 | 3.535534e-05 | 3.535534e-05 |  1.30 |  84.0 | 0.0002121320 | 0.0005656854 | 0.011 | 0.16000000 | 0.068 |  35 | 0.0010000000 | 0.031 |  560 |  32 | 0.047 |  73 | 0.180 |  510 | 0.0001414214 | 0.230 | 149.0 |\n",
       "| 36 | 'ASD' | 'Mother' |  1.900000000 | 5.656854e-05 | 6.800000e+00 | 3.000000e-01 | 0.0003535534 | 5.656854e-05 | 1.000000e-01 |  3.9 | 4.949747e-05 | 9.000000e-02 | 0.0002121320 | 1.900000e+00 | 0.0004242641 | 5.656854e-05 | 0.0002828427 | 1.000000e-01 | 2.121320e-05 | 1.000000e-01 | 1.000000e-01 | 3.535534e-05 |  1.40 |  29.0 | 0.0002121320 | 0.0005656854 | 0.009 | 0.07071068 | 0.026 |  72 | 0.0009000000 | 0.030 |  330 |  25 | 0.040 |  98 | 0.036 |  540 | 0.0001414214 | 0.057 | 139.0 |\n",
       "| 37 | 'ASD' | 'Mother' |  2.300000000 | 5.656854e-05 | 2.121320e-03 | 1.100000e+00 | 0.0003535534 | 5.656854e-05 | 7.071068e-05 |  2.0 | 4.949747e-05 | 1.000000e-01 | 0.0002121320 | 2.800000e+00 | 0.0004242641 | 5.656854e-05 | 0.0002828427 | 1.000000e-01 | 2.121320e-05 | 7.000000e-02 | 5.000000e-02 | 3.535534e-05 |  0.84 |  75.0 | 0.0002121320 | 0.0005656854 | 0.008 | 0.16000000 | 0.035 |  76 | 0.0010000000 | 0.054 |  460 |  29 | 0.053 | 110 | 0.086 |  480 | 0.0002000000 | 0.150 | 121.0 |\n",
       "| 39 | 'ASD' | 'Mother' |  2.500000000 | 5.656854e-05 | 1.900000e+01 | 1.500000e+00 | 0.0003535534 | 5.656854e-05 | 7.071068e-05 |  6.3 | 4.949747e-05 | 4.000000e-01 | 0.0002121320 | 6.900000e+00 | 0.0004242641 | 5.656854e-05 | 0.0002828427 | 3.000000e-01 | 2.121320e-05 | 5.000000e-01 | 3.535534e-05 | 3.535534e-05 |  2.80 | 210.0 | 0.0002121320 | 0.0005656854 | 0.013 | 0.43000000 | 0.091 |  99 | 0.0020000000 | 0.099 |  860 |  60 | 0.060 | 310 | 0.210 |  470 | 0.0005000000 | 0.120 |  42.9 |\n",
       "| 40 | 'TD'  | 'Mother' |  6.000000000 | 5.656854e-05 | 1.100000e+01 | 2.800000e+00 | 0.0003535534 | 5.656854e-05 | 2.000000e-01 |  2.5 | 4.949747e-05 | 2.000000e-01 | 0.0002121320 | 6.500000e+00 | 0.0004242641 | 5.656854e-05 | 0.0002828427 | 9.000000e-02 | 2.121320e-05 | 4.000000e-01 | 9.000000e-02 | 3.535534e-05 |  1.10 | 240.0 | 0.0002121320 | 0.0030000000 | 0.011 | 0.45000000 | 0.160 | 110 | 0.0006000000 | 0.031 |  860 |  10 | 0.048 | 100 | 0.240 |  790 | 0.0002000000 | 0.420 |  96.3 |\n",
       "| 41 | 'TD'  | 'Mother' |  6.100000000 | 5.656854e-05 | 8.000000e+00 | 3.500000e+00 | 0.0003535534 | 5.656854e-05 | 7.071068e-05 |  2.1 | 4.949747e-05 | 7.071068e-05 | 0.0002121320 | 3.700000e+00 | 0.0004242641 | 5.656854e-05 | 0.0002828427 | 3.535534e-05 | 2.121320e-05 | 2.000000e-01 | 4.000000e-01 | 3.535534e-05 |  1.70 | 200.0 | 0.0002121320 | 0.0005656854 | 0.008 | 0.37000000 | 0.044 | 110 | 0.0001414214 | 0.095 |  310 |  10 | 0.040 |  57 | 0.200 |  430 | 0.0001414214 | 0.250 |  50.2 |\n",
       "| 42 | 'TD'  | 'Mother' |  7.100000000 | 1.131371e-04 | 3.600000e+00 | 1.100000e+00 | 0.0007071068 | 1.131371e-04 | 1.000000e-01 |  2.6 | 9.899495e-05 | 2.000000e-01 | 0.0004242641 | 4.100000e+00 | 0.0008485281 | 1.131371e-04 | 0.0005656854 | 6.000000e-02 | 4.242641e-05 | 4.000000e-01 | 1.000000e-01 | 7.071068e-05 |  1.50 | 100.0 | 0.0004242641 | 0.0011313708 | 0.007 | 0.20000000 | 0.130 |  84 | 0.0009000000 | 0.044 |  730 |  25 | 0.028 |  93 | 0.120 |  350 | 0.0002828427 | 0.230 | 207.0 |\n",
       "| 43 | 'TD'  | 'Mother' |  3.100000000 | 5.656854e-05 | 5.200000e+00 | 8.000000e-01 | 0.0003535534 | 5.656854e-05 | 7.071068e-05 |  3.9 | 4.949747e-05 | 2.000000e-01 | 0.0002121320 | 2.100000e+00 | 0.0004242641 | 5.656854e-05 | 0.0002828427 | 1.000000e-01 | 2.121320e-05 | 7.000000e-01 | 3.535534e-05 | 3.535534e-05 |  1.20 | 100.0 | 0.0002121320 | 0.0005656854 | 0.010 | 0.20000000 | 0.086 |  51 | 0.0010000000 | 0.015 |  550 |  25 | 0.064 | 100 | 0.170 |  820 | 0.0001414214 | 0.200 |  60.1 |\n",
       "| 44 | 'TD'  | 'Mother' |  3.800000000 | 1.131371e-04 | 1.100000e+01 | 8.000000e-01 | 0.0007071068 | 1.131371e-04 | 2.000000e-01 |  2.0 | 9.899495e-05 | 1.000000e-01 | 0.0004242641 | 1.400000e+00 | 0.0008485281 | 1.131371e-04 | 0.0005656854 | 6.000000e-02 | 4.242641e-05 | 1.500000e+00 | 2.000000e-01 | 7.071068e-05 |  0.91 |  66.0 | 0.0004242641 | 0.0011313708 | 0.008 | 0.12000000 | 0.035 |  33 | 0.0006000000 | 0.024 |  730 |  21 | 0.036 |  52 | 0.088 |  310 | 0.0002828427 | 0.160 | 240.0 |\n",
       "| 45 | 'TD'  | 'Mother' |  2.600000000 | 1.131371e-04 | 6.900000e+00 | 6.000000e-01 | 0.0007071068 | 1.131371e-04 | 3.000000e-01 |  2.8 | 9.899495e-05 | 1.000000e-01 | 0.0004242641 | 2.800000e+00 | 0.0008485281 | 1.131371e-04 | 0.0005656854 | 1.000000e-01 | 4.242641e-05 | 9.000000e-01 | 7.071068e-05 | 7.071068e-05 |  1.30 | 110.0 | 0.0004242641 | 0.0011313708 | 0.009 | 0.19000000 | 0.052 |  66 | 0.0006000000 | 0.007 |  740 |  20 | 0.066 |  42 | 0.140 |  620 | 0.0002828427 | 0.390 | 188.0 |\n",
       "| 46 | 'TD'  | 'Mother' |  1.000000000 | 1.131371e-04 | 1.300000e+01 | 7.000000e-01 | 0.0007071068 | 1.131371e-04 | 1.414214e-04 |  3.9 | 9.899495e-05 | 2.000000e-01 | 0.3000000000 | 2.600000e+00 | 0.0008485281 | 1.131371e-04 | 0.0005656854 | 2.000000e-01 | 4.242641e-05 | 3.000000e-01 | 3.000000e-01 | 7.071068e-05 |  1.20 |  57.0 | 0.0004242641 | 0.0010000000 | 0.007 | 0.10000000 | 0.045 |  52 | 0.0007000000 | 0.076 |  540 |  23 | 0.037 |  52 | 0.110 |  550 | 0.0002828427 | 0.210 | 225.0 |\n",
       "| 47 | 'TD'  | 'Mother' |  2.900000000 | 1.131371e-04 | 4.000000e+00 | 1.600000e+00 | 0.0007071068 | 1.131371e-04 | 1.000000e-01 |  2.3 | 9.899495e-05 | 1.414214e-04 | 0.4000000000 | 2.300000e+00 | 0.0008485281 | 1.131371e-04 | 0.0005656854 | 1.000000e-01 | 4.242641e-05 | 2.000000e-01 | 7.071068e-05 | 7.071068e-05 |  0.93 |  82.0 | 0.0004242641 | 0.0011313708 | 0.009 | 0.15000000 | 0.044 |  49 | 0.0007000000 | 0.034 |  400 |  18 | 0.053 |  54 | 0.100 |  510 | 0.0002828427 | 0.450 | 172.0 |\n",
       "| 48 | 'TD'  | 'Mother' |  8.600000000 | 5.656854e-05 | 6.000000e+01 | 1.400000e+00 | 0.0003535534 | 5.656854e-05 | 7.071068e-05 |  3.8 | 4.949747e-05 | 2.000000e-01 | 0.0002121320 | 4.200000e+00 | 0.0004242641 | 5.656854e-05 | 0.0002828427 | 3.000000e-01 | 2.121320e-05 | 8.000000e-01 | 1.000000e-01 | 3.535534e-05 |  1.50 | 150.0 | 0.0002121320 | 0.0010000000 | 0.012 | 0.30000000 | 0.130 |  87 | 0.0020000000 | 0.120 |  940 |  47 | 0.089 | 190 | 0.200 | 1050 | 0.0003000000 | 0.320 | 123.0 |\n",
       "| 49 | 'TD'  | 'Mother' |  1.900000000 | 1.131371e-04 | 4.242641e-03 | 9.000000e-01 | 0.0007071068 | 2.000000e-01 | 1.414214e-04 |  1.2 | 9.899495e-05 | 1.414214e-04 | 0.0004242641 | 1.700000e+00 | 0.0008485281 | 1.131371e-04 | 0.0005656854 | 8.000000e-02 | 4.242641e-05 | 2.000000e-01 | 1.000000e-01 | 7.071068e-05 |  0.48 |  38.0 | 0.0006000000 | 0.0011313708 | 0.007 | 0.14142136 | 0.009 |  45 | 0.0004000000 | 0.027 |  370 |  16 | 0.036 |  21 | 0.066 |  330 | 0.0002828427 | 0.320 | 158.0 |\n",
       "| 50 | 'TD'  | 'Mother' |  2.000000000 | 5.656854e-05 | 1.200000e+01 | 7.000000e-01 | 0.0003535534 | 1.300000e+01 | 1.000000e-01 |  2.9 | 4.949747e-05 | 2.000000e-01 | 0.6000000000 | 3.000000e+00 | 0.0004242641 | 5.656854e-05 | 0.0002828427 | 2.000000e-01 | 2.121320e-05 | 3.000000e-01 | 3.535534e-05 | 3.535534e-05 |  0.84 |  94.0 | 0.0002121320 | 0.0005656854 | 0.009 | 0.19000000 | 0.027 |  57 | 0.0009000000 | 0.047 |  710 |  26 | 0.062 | 150 | 0.075 |  470 | 0.0002000000 | 0.250 | 118.0 |\n",
       "| 51 | 'TD'  | 'Mother' |  4.300000000 | 1.131371e-04 | 2.400000e+01 | 1.000000e+00 | 0.0007071068 | 1.131371e-04 | 1.414214e-04 |  4.5 | 9.899495e-05 | 2.000000e-01 | 0.0004242641 | 1.600000e+00 | 0.0008485281 | 1.131371e-04 | 0.0005656854 | 2.000000e-01 | 4.242641e-05 | 4.000000e-01 | 1.000000e-01 | 7.071068e-05 |  1.20 |  49.0 | 0.0004242641 | 0.0011313708 | 0.008 | 0.14142136 | 0.091 |  69 | 0.0007000000 | 0.065 | 1180 |  23 | 0.074 |  74 | 0.150 |  670 | 0.0002828427 | 0.210 | 157.0 |\n",
       "| 52 | 'TD'  | 'Mother' |  4.300000000 | 5.656854e-05 | 2.121320e-03 | 7.071068e-05 | 0.0003535534 | 5.656854e-05 | 7.071068e-05 |  2.9 | 4.949747e-05 | 7.071068e-05 | 0.0002121320 | 3.535534e-04 | 0.0004242641 | 5.656854e-05 | 0.0002828427 | 3.535534e-05 | 2.121320e-05 | 5.656854e-05 | 2.000000e-01 | 3.535534e-05 |  1.30 |  13.0 | 0.0002121320 | 0.0005656854 | 0.006 | 0.07071068 | 0.067 |  42 | 0.0001414214 | 0.056 |  660 |  20 | 0.026 |  46 | 0.027 |  340 | 0.0001414214 | 0.170 |  41.3 |\n",
       "| 53 | 'TD'  | 'Mother' |  1.700000000 | 1.131371e-04 | 7.100000e+00 | 1.700000e+00 | 0.0007071068 | 1.131371e-04 | 1.000000e-01 |  2.8 | 9.899495e-05 | 1.000000e-01 | 0.0004242641 | 1.600000e+00 | 0.0008485281 | 1.131371e-04 | 0.0005656854 | 2.000000e-01 | 4.242641e-05 | 2.000000e-01 | 5.000000e-02 | 7.071068e-05 |  0.91 |  31.0 | 0.0004242641 | 0.0010000000 | 0.007 | 0.14142136 | 0.037 |  63 | 0.0010000000 | 0.064 |  550 |  34 | 0.046 |  93 | 0.059 |  480 | 0.0002828427 | 0.100 | 186.0 |\n",
       "| 54 | 'TD'  | 'Mother' |  2.400000000 | 5.656854e-05 | 1.500000e+01 | 2.300000e+00 | 0.0003535534 | 5.300000e+00 | 7.071068e-05 |  3.7 | 4.949747e-05 | 2.000000e-01 | 0.0002121320 | 1.300000e+00 | 0.0004242641 | 5.656854e-05 | 0.0002828427 | 2.000000e-01 | 2.121320e-05 | 3.000000e-01 | 3.535534e-05 | 3.535534e-05 |  2.20 |  53.0 | 0.0002121320 | 0.0005656854 | 0.009 | 0.07071068 | 0.280 |  48 | 0.0010000000 | 0.035 |  260 |  31 | 0.032 |  65 | 0.170 |  490 | 0.0001414214 | 0.270 |  48.7 |\n",
       "| 56 | 'TD'  | 'Mother' |  0.001414214 | 1.131371e-04 | 4.900000e+00 | 3.000000e-01 | 0.0007071068 | 1.131371e-04 | 1.414214e-04 |  3.6 | 9.899495e-05 | 2.000000e-01 | 0.0004242641 | 6.000000e-01 | 0.0008485281 | 1.131371e-04 | 0.0005656854 | 9.000000e-02 | 4.242641e-05 | 1.200000e+00 | 7.071068e-05 | 7.071068e-05 |  1.70 |  18.0 | 0.0004242641 | 0.0011313708 | 0.008 | 0.14142136 | 0.050 |  17 | 0.0009000000 | 0.040 |  470 |  31 | 0.029 |  43 | 0.025 |  310 | 0.0002828427 | 0.110 | 177.0 |\n",
       "| 57 | 'TD'  | 'Mother' |  4.100000000 | 5.656854e-05 | 4.100000e+00 | 1.200000e+00 | 0.0003535534 | 7.000000e-01 | 1.000000e-01 |  2.1 | 4.949747e-05 | 4.000000e-01 | 0.0002121320 | 3.600000e+00 | 0.0004242641 | 5.656854e-05 | 0.0002828427 | 1.000000e-01 | 2.121320e-05 | 7.000000e-01 | 1.000000e-01 | 3.535534e-05 |  1.10 | 170.0 | 0.0002121320 | 0.0005656854 | 0.010 | 0.30000000 | 0.082 | 140 | 0.0007000000 | 0.044 |  750 |  15 | 0.078 | 170 | 0.190 |  770 | 0.0002000000 | 0.580 | 129.0 |\n",
       "| 58 | 'TD'  | 'Mother' |  2.000000000 | 1.131371e-04 | 7.900000e+00 | 2.000000e-01 | 0.0007071068 | 1.131371e-04 | 3.000000e-01 |  5.8 | 9.899495e-05 | 2.000000e-01 | 0.5000000000 | 2.300000e+00 | 0.0008485281 | 1.131371e-04 | 0.0005656854 | 2.000000e-01 | 4.242641e-05 | 2.200000e+00 | 4.000000e-01 | 7.071068e-05 |  2.70 |   4.2 | 0.0004242641 | 0.0011313708 | 0.008 | 0.14142136 | 0.036 |  61 | 0.0010000000 | 0.078 |  550 |  31 | 0.042 |  46 | 0.019 |  490 | 0.0002828427 | 0.430 | 154.0 |\n",
       "| 59 | 'TD'  | 'Mother' |  7.200000000 | 1.131371e-04 | 4.242641e-03 | 4.000000e-01 | 0.0007071068 | 1.131371e-04 | 2.000000e-01 |  2.3 | 9.899495e-05 | 2.000000e-01 | 0.0004242641 | 3.100000e+00 | 0.0008485281 | 1.131371e-04 | 0.0005656854 | 1.000000e-01 | 4.242641e-05 | 1.100000e+00 | 2.000000e-01 | 7.071068e-05 |  0.94 |  95.0 | 0.0004242641 | 0.0011313708 | 0.008 | 0.20000000 | 0.030 |  74 | 0.0020000000 | 0.067 |  730 |  38 | 0.049 | 140 | 0.120 |  500 | 0.0002828427 | 0.140 | 204.0 |\n",
       "| 60 | 'TD'  | 'Mother' |  1.300000000 | 1.131371e-04 | 2.800000e+00 | 2.200000e+00 | 0.0007071068 | 1.131371e-04 | 9.000000e-02 |  2.8 | 9.899495e-05 | 1.000000e-01 | 0.0004242641 | 1.500000e+00 | 0.0008485281 | 1.131371e-04 | 0.0005656854 | 6.000000e-02 | 4.242641e-05 | 1.000000e-01 | 1.000000e-01 | 7.071068e-05 |  0.67 |  61.0 | 0.0004242641 | 0.0011313708 | 0.006 | 0.12000000 | 0.046 |  56 | 0.0006000000 | 0.022 |  630 |  17 | 0.032 |  44 | 0.100 |  300 | 0.0002828427 | 0.052 | 253.0 |\n",
       "| 61 | 'TD'  | 'Mother' |  1.600000000 | 1.131371e-04 | 2.200000e+01 | 9.000000e-01 | 0.0007071068 | 1.131371e-04 | 2.000000e-01 |  2.2 | 9.899495e-05 | 2.000000e-01 | 0.3000000000 | 2.000000e+00 | 0.0008485281 | 1.131371e-04 | 0.0005656854 | 2.000000e-01 | 4.242641e-05 | 6.000000e-01 | 2.000000e-01 | 7.071068e-05 |  1.10 |  70.0 | 0.0004242641 | 0.0011313708 | 0.009 | 0.14000000 | 0.072 |  83 | 0.0009000000 | 0.079 |  500 |  28 | 0.057 |  61 | 0.100 |  560 | 0.0002828427 | 0.095 | 231.0 |\n",
       "| 62 | 'TD'  | 'Mother' |  2.100000000 | 5.656854e-05 | 7.100000e+00 | 1.000000e+00 | 0.0003535534 | 5.656854e-05 | 7.071068e-05 |  3.4 | 4.949747e-05 | 2.000000e-01 | 0.5000000000 | 2.500000e+00 | 0.0004242641 | 5.656854e-05 | 0.0002828427 | 3.000000e-01 | 2.121320e-05 | 4.000000e-01 | 8.000000e-02 | 3.535534e-05 |  0.64 |  87.0 | 0.0002121320 | 0.0010000000 | 0.008 | 0.18000000 | 0.062 |  61 | 0.0020000000 | 0.027 |  620 |  53 | 0.046 | 250 | 0.130 |  350 | 0.0004000000 | 0.260 |  72.7 |\n",
       "| 63 | 'TD'  | 'Mother' |  4.000000000 | 5.656854e-05 | 1.100000e+01 | 9.000000e-01 | 0.0003535534 | 5.656854e-05 | 3.000000e-01 |  4.7 | 4.949747e-05 | 2.000000e-01 | 0.0002121320 | 3.300000e+00 | 0.0004242641 | 5.656854e-05 | 0.0002828427 | 2.000000e-01 | 2.121320e-05 | 1.000000e-01 | 8.000000e-02 | 3.535534e-05 |  3.80 |  62.0 | 0.0002121320 | 0.0020000000 | 0.010 | 0.12000000 | 0.099 |  36 | 0.0010000000 | 0.058 |  860 |  39 | 0.039 | 110 | 0.100 |  340 | 0.0001414214 | 0.460 | 108.0 |\n",
       "| 65 | 'TD'  | 'Mother' |  2.400000000 | 1.131371e-04 | 4.242641e-03 | 1.200000e+00 | 0.0007071068 | 1.131371e-04 | 3.000000e-01 |  1.7 | 9.899495e-05 | 1.000000e-01 | 0.0004242641 | 2.700000e+00 | 0.0008485281 | 1.131371e-04 | 0.0005656854 | 7.000000e-02 | 4.242641e-05 | 3.000000e-01 | 1.000000e-01 | 7.071068e-05 |  0.94 | 110.0 | 0.0004242641 | 0.0007000000 | 0.008 | 0.21000000 | 0.023 |  65 | 0.0006000000 | 0.089 |  830 |  17 | 0.039 |  58 | 0.100 |  440 | 0.0002828427 | 0.430 | 246.0 |\n",
       "| 66 | 'TD'  | 'Mother' |  5.100000000 | 1.131371e-04 | 5.200000e+00 | 1.500000e+00 | 0.0007071068 | 1.131371e-04 | 1.000000e-01 |  1.7 | 9.899495e-05 | 2.000000e-01 | 0.0004242641 | 4.000000e+00 | 0.0008485281 | 1.131371e-04 | 0.0005656854 | 5.000000e-02 | 4.242641e-05 | 5.000000e-01 | 1.000000e-01 | 5.000000e-02 |  0.82 | 210.0 | 0.0004242641 | 0.0008000000 | 0.010 | 0.35000000 | 0.060 | 110 | 0.0006000000 | 0.048 |  920 |  12 | 0.050 |  66 | 0.210 |  410 | 0.0003000000 | 0.490 | 216.0 |\n",
       "| 67 | 'TD'  | 'Mother' |  5.400000000 | 1.131371e-04 | 4.700000e+00 | 1.400000e+00 | 0.0007071068 | 1.131371e-04 | 2.000000e-01 |  3.6 | 9.899495e-05 | 2.000000e-01 | 0.0004242641 | 3.300000e+00 | 0.0008485281 | 1.131371e-04 | 0.0005656854 | 8.000000e-02 | 4.242641e-05 | 1.131371e-04 | 1.000000e-01 | 7.071068e-05 |  1.00 | 120.0 | 0.0004242641 | 0.0020000000 | 0.010 | 0.22000000 | 0.035 |  60 | 0.0005000000 | 0.047 |  740 |  16 | 0.041 |  74 | 0.100 |  500 | 0.0002828427 | 0.310 | 184.0 |\n",
       "| 68 | 'TD'  | 'Mother' |  1.600000000 | 5.656854e-05 | 4.200000e+01 | 1.400000e+00 | 0.0003535534 | 5.656854e-05 | 7.071068e-05 |  5.6 | 4.949747e-05 | 3.000000e-01 | 0.5000000000 | 2.400000e+00 | 0.0004242641 | 5.656854e-05 | 0.0002828427 | 2.000000e-01 | 2.121320e-05 | 6.000000e-01 | 3.535534e-05 | 3.535534e-05 |  1.50 |  32.0 | 0.0002121320 | 0.0005656854 | 0.045 | 0.07071068 | 0.080 |  44 | 0.0010000000 | 0.039 |  650 |  29 | 0.075 | 110 | 0.100 |  830 | 0.0001414214 | 0.200 | 144.0 |\n",
       "| 70 | 'TD'  | 'Mother' |  9.900000000 | 1.131371e-04 | 5.200000e+00 | 3.000000e+00 | 0.0007071068 | 2.100000e+00 | 4.000000e-01 |  3.8 | 9.899495e-05 | 2.000000e-01 | 0.0004242641 | 3.300000e+00 | 0.0008485281 | 1.131371e-04 | 0.0005656854 | 7.000000e-02 | 4.242641e-05 | 4.000000e-01 | 2.000000e-01 | 7.071068e-05 |  0.75 | 150.0 | 0.0004242641 | 0.0011313708 | 0.008 | 0.28000000 | 0.032 |  76 | 0.0008000000 | 0.041 |  730 |  20 | 0.038 |  96 | 0.190 |  390 | 0.0002828427 | 0.660 | 170.0 |\n",
       "| 71 | 'TD'  | 'Mother' |  2.400000000 | 5.656854e-05 | 1.500000e+01 | 2.300000e+00 | 0.0003535534 | 5.656854e-05 | 7.071068e-05 |  5.2 | 4.949747e-05 | 3.000000e-01 | 0.0002121320 | 2.000000e+00 | 0.0004242641 | 5.656854e-05 | 0.0002828427 | 1.000000e-01 | 2.121320e-05 | 3.000000e-01 | 3.535534e-05 | 3.535534e-05 |  2.80 |  80.0 | 0.0002121320 | 0.0005656854 | 0.011 | 0.07071068 | 0.078 |  74 | 0.0006000000 | 0.035 |  580 |  14 | 0.058 |  59 | 0.200 |  400 | 0.0001414214 | 0.570 |  62.9 |\n",
       "\n"
      ],
      "text/plain": [
       "    'ID Number' 'Status' 'Type'   'Aluminum'   'Antimony'   'Arsenic'   \n",
       "1    1          'ASD'    'Child'   7.000000000 2.000000e-01 1.100000e+01\n",
       "2    3          'ASD'    'Child'  19.000000000 2.000000e-01 8.100000e+00\n",
       "    'Barium'     'Beryllium'  'Bismuth'    'Cadmium'    'Cesium' 'Gadolinium'\n",
       "1   2.100000e+00 0.0007071068 1.131371e-04 1.414214e-04  4.3     9.899495e-05\n",
       "2   8.000000e+00 0.0003535534 5.656854e-05 7.071068e-05 16.0     4.949747e-05\n",
       "    'Lead'       'Mercury'    'Nickel'     'Palladium'  'Platinum'  \n",
       "1   2.000000e-01 0.0004242641 4.900000e+00 0.0008485281 1.131371e-04\n",
       "2   1.000000e+00 0.0002121320 2.900000e+00 0.0004242641 5.656854e-05\n",
       "    'Tellurium'  'Thallium'   'Thorium'    'Tin'        'Tungsten'  \n",
       "1   0.0005656854 1.000000e-01 4.242641e-05 1.600000e+00 3.000000e-01\n",
       "2   0.0002828427 6.000000e-01 2.121320e-05 1.000000e+00 2.000000e-01\n",
       "    'Uranium'    'Boron' 'Calcium' 'Chromium'   'Cobalt'     'Copper'\n",
       "1   7.071068e-05  2.30   140.0     0.0004242641 0.0011313708 0.014   \n",
       "2   3.535534e-05  4.90    81.0     0.0002121320 0.0005656854 0.018   \n",
       "    'Iron'     'Lithium' 'Magnesium' 'Manganese'  'Molybdenum' 'Phosphorus'\n",
       "1   0.24000000 0.083     200         0.0007000000 0.130        1180        \n",
       "2   0.20000000 0.170     170         0.0050000000 0.180         360        \n",
       "    'Potassium' 'Selenium' 'Sodium' 'Strontium' 'Sulfur' 'Vanadium'   'Zinc'\n",
       "1    24         0.110       56      0.130        680     0.0002828427 0.660 \n",
       "2   120         0.094      290      0.170        860     0.0005000000 0.480 \n",
       "    'Creatinine'\n",
       "1   175.0       \n",
       "2    76.0       \n",
       " [ reached getOption(\"max.print\") -- omitted 103 rows ]"
      ]
     },
     "metadata": {},
     "output_type": "display_data"
    }
   ],
   "source": [
    "data"
   ]
  },
  {
   "cell_type": "markdown",
   "id": "ef29cbd7",
   "metadata": {},
   "source": [
    "<hr style=\"height:5px;border-width:0;color:MediumAquamarine;background-color:MediumBlue\">\n",
    "\n",
    "# Page 6 - Checking the Column Names<a class=\"anchor\" id=\"PAN_page_6\"></a>\n",
    "\n",
    "[Back to Top](#PAN_toc)\n",
    "\n",
    "<hr style=\"height:5px;border-width:0;color:MediumAquamarine;background-color:MediumBlue\">"
   ]
  },
  {
   "cell_type": "code",
   "execution_count": 21,
   "id": "727f4dde-60b2-4b40-90f9-b489a7af2ab1",
   "metadata": {},
   "outputs": [
    {
     "data": {
      "text/html": [
       "<style>\n",
       ".list-inline {list-style: none; margin:0; padding: 0}\n",
       ".list-inline>li {display: inline-block}\n",
       ".list-inline>li:not(:last-child)::after {content: \"\\00b7\"; padding: 0 .5ex}\n",
       "</style>\n",
       "<ol class=list-inline><li>'\\'ID Number\\''</li><li>'\\'Status\\''</li><li>'\\'Type\\''</li><li>'\\'Aluminum\\''</li><li>'\\'Antimony\\''</li><li>'\\'Arsenic\\''</li><li>'\\'Barium\\''</li><li>'\\'Beryllium\\''</li><li>'\\'Bismuth\\''</li><li>'\\'Cadmium\\''</li><li>'\\'Cesium\\''</li><li>'\\'Gadolinium\\''</li><li>'\\'Lead\\''</li><li>'\\'Mercury\\''</li><li>'\\'Nickel\\''</li><li>'\\'Palladium\\''</li><li>'\\'Platinum\\''</li><li>'\\'Tellurium\\''</li><li>'\\'Thallium\\''</li><li>'\\'Thorium\\''</li><li>'\\'Tin\\''</li><li>'\\'Tungsten\\''</li><li>'\\'Uranium\\''</li><li>'\\'Boron\\''</li><li>'\\'Calcium\\''</li><li>'\\'Chromium\\''</li><li>'\\'Cobalt\\''</li><li>'\\'Copper\\''</li><li>'\\'Iron\\''</li><li>'\\'Lithium\\''</li><li>'\\'Magnesium\\''</li><li>'\\'Manganese\\''</li><li>'\\'Molybdenum\\''</li><li>'\\'Phosphorus\\''</li><li>'\\'Potassium\\''</li><li>'\\'Selenium\\''</li><li>'\\'Sodium\\''</li><li>'\\'Strontium\\''</li><li>'\\'Sulfur\\''</li><li>'\\'Vanadium\\''</li><li>'\\'Zinc\\''</li><li>'\\'Creatinine\\''</li></ol>\n"
      ],
      "text/latex": [
       "\\begin{enumerate*}\n",
       "\\item '\\textbackslash{}'ID Number\\textbackslash{}''\n",
       "\\item '\\textbackslash{}'Status\\textbackslash{}''\n",
       "\\item '\\textbackslash{}'Type\\textbackslash{}''\n",
       "\\item '\\textbackslash{}'Aluminum\\textbackslash{}''\n",
       "\\item '\\textbackslash{}'Antimony\\textbackslash{}''\n",
       "\\item '\\textbackslash{}'Arsenic\\textbackslash{}''\n",
       "\\item '\\textbackslash{}'Barium\\textbackslash{}''\n",
       "\\item '\\textbackslash{}'Beryllium\\textbackslash{}''\n",
       "\\item '\\textbackslash{}'Bismuth\\textbackslash{}''\n",
       "\\item '\\textbackslash{}'Cadmium\\textbackslash{}''\n",
       "\\item '\\textbackslash{}'Cesium\\textbackslash{}''\n",
       "\\item '\\textbackslash{}'Gadolinium\\textbackslash{}''\n",
       "\\item '\\textbackslash{}'Lead\\textbackslash{}''\n",
       "\\item '\\textbackslash{}'Mercury\\textbackslash{}''\n",
       "\\item '\\textbackslash{}'Nickel\\textbackslash{}''\n",
       "\\item '\\textbackslash{}'Palladium\\textbackslash{}''\n",
       "\\item '\\textbackslash{}'Platinum\\textbackslash{}''\n",
       "\\item '\\textbackslash{}'Tellurium\\textbackslash{}''\n",
       "\\item '\\textbackslash{}'Thallium\\textbackslash{}''\n",
       "\\item '\\textbackslash{}'Thorium\\textbackslash{}''\n",
       "\\item '\\textbackslash{}'Tin\\textbackslash{}''\n",
       "\\item '\\textbackslash{}'Tungsten\\textbackslash{}''\n",
       "\\item '\\textbackslash{}'Uranium\\textbackslash{}''\n",
       "\\item '\\textbackslash{}'Boron\\textbackslash{}''\n",
       "\\item '\\textbackslash{}'Calcium\\textbackslash{}''\n",
       "\\item '\\textbackslash{}'Chromium\\textbackslash{}''\n",
       "\\item '\\textbackslash{}'Cobalt\\textbackslash{}''\n",
       "\\item '\\textbackslash{}'Copper\\textbackslash{}''\n",
       "\\item '\\textbackslash{}'Iron\\textbackslash{}''\n",
       "\\item '\\textbackslash{}'Lithium\\textbackslash{}''\n",
       "\\item '\\textbackslash{}'Magnesium\\textbackslash{}''\n",
       "\\item '\\textbackslash{}'Manganese\\textbackslash{}''\n",
       "\\item '\\textbackslash{}'Molybdenum\\textbackslash{}''\n",
       "\\item '\\textbackslash{}'Phosphorus\\textbackslash{}''\n",
       "\\item '\\textbackslash{}'Potassium\\textbackslash{}''\n",
       "\\item '\\textbackslash{}'Selenium\\textbackslash{}''\n",
       "\\item '\\textbackslash{}'Sodium\\textbackslash{}''\n",
       "\\item '\\textbackslash{}'Strontium\\textbackslash{}''\n",
       "\\item '\\textbackslash{}'Sulfur\\textbackslash{}''\n",
       "\\item '\\textbackslash{}'Vanadium\\textbackslash{}''\n",
       "\\item '\\textbackslash{}'Zinc\\textbackslash{}''\n",
       "\\item '\\textbackslash{}'Creatinine\\textbackslash{}''\n",
       "\\end{enumerate*}\n"
      ],
      "text/markdown": [
       "1. '\\'ID Number\\''\n",
       "2. '\\'Status\\''\n",
       "3. '\\'Type\\''\n",
       "4. '\\'Aluminum\\''\n",
       "5. '\\'Antimony\\''\n",
       "6. '\\'Arsenic\\''\n",
       "7. '\\'Barium\\''\n",
       "8. '\\'Beryllium\\''\n",
       "9. '\\'Bismuth\\''\n",
       "10. '\\'Cadmium\\''\n",
       "11. '\\'Cesium\\''\n",
       "12. '\\'Gadolinium\\''\n",
       "13. '\\'Lead\\''\n",
       "14. '\\'Mercury\\''\n",
       "15. '\\'Nickel\\''\n",
       "16. '\\'Palladium\\''\n",
       "17. '\\'Platinum\\''\n",
       "18. '\\'Tellurium\\''\n",
       "19. '\\'Thallium\\''\n",
       "20. '\\'Thorium\\''\n",
       "21. '\\'Tin\\''\n",
       "22. '\\'Tungsten\\''\n",
       "23. '\\'Uranium\\''\n",
       "24. '\\'Boron\\''\n",
       "25. '\\'Calcium\\''\n",
       "26. '\\'Chromium\\''\n",
       "27. '\\'Cobalt\\''\n",
       "28. '\\'Copper\\''\n",
       "29. '\\'Iron\\''\n",
       "30. '\\'Lithium\\''\n",
       "31. '\\'Magnesium\\''\n",
       "32. '\\'Manganese\\''\n",
       "33. '\\'Molybdenum\\''\n",
       "34. '\\'Phosphorus\\''\n",
       "35. '\\'Potassium\\''\n",
       "36. '\\'Selenium\\''\n",
       "37. '\\'Sodium\\''\n",
       "38. '\\'Strontium\\''\n",
       "39. '\\'Sulfur\\''\n",
       "40. '\\'Vanadium\\''\n",
       "41. '\\'Zinc\\''\n",
       "42. '\\'Creatinine\\''\n",
       "\n",
       "\n"
      ],
      "text/plain": [
       " [1] \"'ID Number'\"  \"'Status'\"     \"'Type'\"       \"'Aluminum'\"   \"'Antimony'\"  \n",
       " [6] \"'Arsenic'\"    \"'Barium'\"     \"'Beryllium'\"  \"'Bismuth'\"    \"'Cadmium'\"   \n",
       "[11] \"'Cesium'\"     \"'Gadolinium'\" \"'Lead'\"       \"'Mercury'\"    \"'Nickel'\"    \n",
       "[16] \"'Palladium'\"  \"'Platinum'\"   \"'Tellurium'\"  \"'Thallium'\"   \"'Thorium'\"   \n",
       "[21] \"'Tin'\"        \"'Tungsten'\"   \"'Uranium'\"    \"'Boron'\"      \"'Calcium'\"   \n",
       "[26] \"'Chromium'\"   \"'Cobalt'\"     \"'Copper'\"     \"'Iron'\"       \"'Lithium'\"   \n",
       "[31] \"'Magnesium'\"  \"'Manganese'\"  \"'Molybdenum'\" \"'Phosphorus'\" \"'Potassium'\" \n",
       "[36] \"'Selenium'\"   \"'Sodium'\"     \"'Strontium'\"  \"'Sulfur'\"     \"'Vanadium'\"  \n",
       "[41] \"'Zinc'\"       \"'Creatinine'\""
      ]
     },
     "metadata": {},
     "output_type": "display_data"
    }
   ],
   "source": [
    "# check the column names - notice the extra ' single quote\n",
    "names(data)"
   ]
  },
  {
   "cell_type": "markdown",
   "id": "f9f0f2a0",
   "metadata": {},
   "source": [
    "<hr style=\"height:5px;border-width:0;color:MediumAquamarine;background-color:MediumBlue\">\n",
    "\n",
    "# Page 7 - Cleaning the Column Names<a class=\"anchor\" id=\"PAN_page_7\"></a>\n",
    "\n",
    "[Back to Top](#PAN_toc)\n",
    "\n",
    "<hr style=\"height:5px;border-width:0;color:MediumAquamarine;background-color:MediumBlue\">"
   ]
  },
  {
   "cell_type": "code",
   "execution_count": 22,
   "id": "389955a5-8483-4f16-be8a-e4efb14e4304",
   "metadata": {
    "scrolled": true,
    "tags": []
   },
   "outputs": [
    {
     "data": {
      "text/html": [
       "<style>\n",
       ".list-inline {list-style: none; margin:0; padding: 0}\n",
       ".list-inline>li {display: inline-block}\n",
       ".list-inline>li:not(:last-child)::after {content: \"\\00b7\"; padding: 0 .5ex}\n",
       "</style>\n",
       "<ol class=list-inline><li>'ID'</li><li>'Status'</li><li>'Type'</li><li>'Aluminum'</li><li>'Antimony'</li><li>'Arsenic'</li><li>'Barium'</li><li>'Beryllium'</li><li>'Bismuth'</li><li>'Cadmium'</li><li>'Cesium'</li><li>'Gadolinium'</li><li>'Lead'</li><li>'Mercury'</li><li>'Nickel'</li><li>'Palladium'</li><li>'Platinum'</li><li>'Tellurium'</li><li>'Thallium'</li><li>'Thorium'</li><li>'Tin'</li><li>'Tungsten'</li><li>'Uranium'</li><li>'Boron'</li><li>'Calcium'</li><li>'Chromium'</li><li>'Cobalt'</li><li>'Copper'</li><li>'Iron'</li><li>'Lithium'</li><li>'Magnesium'</li><li>'Manganese'</li><li>'Molybdenum'</li><li>'Phosphorus'</li><li>'Potassium'</li><li>'Selenium'</li><li>'Sodium'</li><li>'Strontium'</li><li>'Sulfur'</li><li>'Vanadium'</li><li>'Zinc'</li><li>'Creatinine'</li></ol>\n"
      ],
      "text/latex": [
       "\\begin{enumerate*}\n",
       "\\item 'ID'\n",
       "\\item 'Status'\n",
       "\\item 'Type'\n",
       "\\item 'Aluminum'\n",
       "\\item 'Antimony'\n",
       "\\item 'Arsenic'\n",
       "\\item 'Barium'\n",
       "\\item 'Beryllium'\n",
       "\\item 'Bismuth'\n",
       "\\item 'Cadmium'\n",
       "\\item 'Cesium'\n",
       "\\item 'Gadolinium'\n",
       "\\item 'Lead'\n",
       "\\item 'Mercury'\n",
       "\\item 'Nickel'\n",
       "\\item 'Palladium'\n",
       "\\item 'Platinum'\n",
       "\\item 'Tellurium'\n",
       "\\item 'Thallium'\n",
       "\\item 'Thorium'\n",
       "\\item 'Tin'\n",
       "\\item 'Tungsten'\n",
       "\\item 'Uranium'\n",
       "\\item 'Boron'\n",
       "\\item 'Calcium'\n",
       "\\item 'Chromium'\n",
       "\\item 'Cobalt'\n",
       "\\item 'Copper'\n",
       "\\item 'Iron'\n",
       "\\item 'Lithium'\n",
       "\\item 'Magnesium'\n",
       "\\item 'Manganese'\n",
       "\\item 'Molybdenum'\n",
       "\\item 'Phosphorus'\n",
       "\\item 'Potassium'\n",
       "\\item 'Selenium'\n",
       "\\item 'Sodium'\n",
       "\\item 'Strontium'\n",
       "\\item 'Sulfur'\n",
       "\\item 'Vanadium'\n",
       "\\item 'Zinc'\n",
       "\\item 'Creatinine'\n",
       "\\end{enumerate*}\n"
      ],
      "text/markdown": [
       "1. 'ID'\n",
       "2. 'Status'\n",
       "3. 'Type'\n",
       "4. 'Aluminum'\n",
       "5. 'Antimony'\n",
       "6. 'Arsenic'\n",
       "7. 'Barium'\n",
       "8. 'Beryllium'\n",
       "9. 'Bismuth'\n",
       "10. 'Cadmium'\n",
       "11. 'Cesium'\n",
       "12. 'Gadolinium'\n",
       "13. 'Lead'\n",
       "14. 'Mercury'\n",
       "15. 'Nickel'\n",
       "16. 'Palladium'\n",
       "17. 'Platinum'\n",
       "18. 'Tellurium'\n",
       "19. 'Thallium'\n",
       "20. 'Thorium'\n",
       "21. 'Tin'\n",
       "22. 'Tungsten'\n",
       "23. 'Uranium'\n",
       "24. 'Boron'\n",
       "25. 'Calcium'\n",
       "26. 'Chromium'\n",
       "27. 'Cobalt'\n",
       "28. 'Copper'\n",
       "29. 'Iron'\n",
       "30. 'Lithium'\n",
       "31. 'Magnesium'\n",
       "32. 'Manganese'\n",
       "33. 'Molybdenum'\n",
       "34. 'Phosphorus'\n",
       "35. 'Potassium'\n",
       "36. 'Selenium'\n",
       "37. 'Sodium'\n",
       "38. 'Strontium'\n",
       "39. 'Sulfur'\n",
       "40. 'Vanadium'\n",
       "41. 'Zinc'\n",
       "42. 'Creatinine'\n",
       "\n",
       "\n"
      ],
      "text/plain": [
       " [1] \"ID\"         \"Status\"     \"Type\"       \"Aluminum\"   \"Antimony\"  \n",
       " [6] \"Arsenic\"    \"Barium\"     \"Beryllium\"  \"Bismuth\"    \"Cadmium\"   \n",
       "[11] \"Cesium\"     \"Gadolinium\" \"Lead\"       \"Mercury\"    \"Nickel\"    \n",
       "[16] \"Palladium\"  \"Platinum\"   \"Tellurium\"  \"Thallium\"   \"Thorium\"   \n",
       "[21] \"Tin\"        \"Tungsten\"   \"Uranium\"    \"Boron\"      \"Calcium\"   \n",
       "[26] \"Chromium\"   \"Cobalt\"     \"Copper\"     \"Iron\"       \"Lithium\"   \n",
       "[31] \"Magnesium\"  \"Manganese\"  \"Molybdenum\" \"Phosphorus\" \"Potassium\" \n",
       "[36] \"Selenium\"   \"Sodium\"     \"Strontium\"  \"Sulfur\"     \"Vanadium\"  \n",
       "[41] \"Zinc\"       \"Creatinine\""
      ]
     },
     "metadata": {},
     "output_type": "display_data"
    }
   ],
   "source": [
    "# Remove the extra quotes from the column names\n",
    "colnames(data) <- gsub(\"'\", \"\", colnames(data))\n",
    "\n",
    "# Change 'ID Number' to 'ID'\n",
    "names(data)[names(data)==\"ID Number\"] <- \"ID\"\n",
    "\n",
    "# Print the cleaned data frame with the updated column names\n",
    "names(data)"
   ]
  },
  {
   "cell_type": "markdown",
   "id": "468b48a9",
   "metadata": {},
   "source": [
    "<hr style=\"height:5px;border-width:0;color:MediumBlue;background-color:MediumBlue\">\n",
    "\n",
    "# Page 8 - Counting Columns <a class=\"anchor\" id=\"PAN_page_8\"></a>\n",
    "\n",
    "[Back to Top](#PAN_toc)\n",
    "\n",
    "<hr style=\"height:5px;border-width:0;color:MediumBlue;background-color:MediumBlue\">\n"
   ]
  },
  {
   "cell_type": "code",
   "execution_count": 23,
   "id": "1313dd3f",
   "metadata": {},
   "outputs": [
    {
     "name": "stdout",
     "output_type": "stream",
     "text": [
      "[1] 42\n"
     ]
    }
   ],
   "source": [
    "# Count the number of columns\n",
    "num_cols = ncol(data)\n",
    "\n",
    "print(num_cols)"
   ]
  },
  {
   "cell_type": "markdown",
   "id": "879ff8b1",
   "metadata": {},
   "source": [
    "<hr style=\"height:5px;border-width:0;color:MediumAquamarine;background-color:MediumBlue\">\n",
    "\n",
    "# Page 9 - Get Info about the Dataset<a class=\"anchor\" id=\"PAN_page_9\"></a>\n",
    "\n",
    "[Back to Top](#PAN_toc)\n",
    "\n",
    "<hr style=\"height:5px;border-width:0;color:MediumAquamarine;background-color:MediumBlue\">\n"
   ]
  },
  {
   "cell_type": "code",
   "execution_count": 24,
   "id": "c2fe8d40",
   "metadata": {},
   "outputs": [
    {
     "name": "stdout",
     "output_type": "stream",
     "text": [
      "tibble [105 × 42] (S3: tbl_df/tbl/data.frame)\n",
      " $ ID        : num [1:105] 1 3 5 6 8 10 12 17 19 20 ...\n",
      " $ Status    : chr [1:105] \"'ASD'\" \"'ASD'\" \"'ASD'\" \"'ASD'\" ...\n",
      " $ Type      : chr [1:105] \"'Child'\" \"'Child'\" \"'Child'\" \"'Child'\" ...\n",
      " $ Aluminum  : num [1:105] 7 19 9.2 8.4 5.6 17 9.5 6.8 24 21 ...\n",
      " $ Antimony  : num [1:105] 2.00e-01 2.00e-01 5.66e-05 5.66e-05 2.83e-05 ...\n",
      " $ Arsenic   : num [1:105] 11 8.1 5.9 14 11 15 120 35 14 12 ...\n",
      " $ Barium    : num [1:105] 2.1 8 4.7 3 3.8 3.1 4.2 4 2.6 1.8 ...\n",
      " $ Beryllium : num [1:105] 0.000707 0.000354 0.000354 0.000354 0.000177 ...\n",
      " $ Bismuth   : num [1:105] 1.13e-04 5.66e-05 2.00e-01 5.66e-05 2.83e-05 ...\n",
      " $ Cadmium   : num [1:105] 1.41e-04 7.07e-05 7.07e-05 7.07e-05 3.54e-05 ...\n",
      " $ Cesium    : num [1:105] 4.3 16 11 16 4.5 10 5.7 3.3 4.4 3.6 ...\n",
      " $ Gadolinium: num [1:105] 9.90e-05 4.95e-05 4.95e-05 4.95e-05 2.47e-05 ...\n",
      " $ Lead      : num [1:105] 0.2 1 0.5 0.9 0.4 0.5 0.3 0.4 0.5 0.1 ...\n",
      " $ Mercury   : num [1:105] 0.000424 0.000212 0.000212 0.000212 1 ...\n",
      " $ Nickel    : num [1:105] 4.9 2.9 9.4 15 2.5 5.2 6.7 9.7 3.8 1.3 ...\n",
      " $ Palladium : num [1:105] 0.000849 0.000424 0.000424 0.000424 0.000212 ...\n",
      " $ Platinum  : num [1:105] 1.13e-04 5.66e-05 5.66e-05 5.66e-05 2.83e-05 ...\n",
      " $ Tellurium : num [1:105] 0.000566 0.000283 0.000283 0.000283 0.000141 ...\n",
      " $ Thallium  : num [1:105] 0.1 0.6 0.3 0.4 0.4 0.2 0.3 0.09 0.6 0.2 ...\n",
      " $ Thorium   : num [1:105] 4.24e-05 2.12e-05 2.12e-05 2.12e-05 1.06e-05 ...\n",
      " $ Tin       : num [1:105] 1.6 1 8.4 1.4 0.6 0.5 0.2 4 2 0.2 ...\n",
      " $ Tungsten  : num [1:105] 0.3 0.2 0.6 0.3 0.3 0.1 0.3 1.2 0.07 0.2 ...\n",
      " $ Uranium   : num [1:105] 7.07e-05 3.54e-05 3.54e-05 3.54e-05 1.77e-05 ...\n",
      " $ Boron     : num [1:105] 2.3 4.9 2.9 8.6 1.3 4.5 3.8 2.2 4.5 2.4 ...\n",
      " $ Calcium   : num [1:105] 140 81 300 200 62 250 340 170 150 38 ...\n",
      " $ Chromium  : num [1:105] 0.000424 0.000212 0.0006 0.001 0.001 ...\n",
      " $ Cobalt    : num [1:105] 0.001131 0.000566 0.003 0.000566 0.000283 ...\n",
      " $ Copper    : num [1:105] 0.014 0.018 0.021 0.024 0.022 0.019 0.018 0.018 0.02 0.02 ...\n",
      " $ Iron      : num [1:105] 0.24 0.2 0.6 0.43 0.0354 ...\n",
      " $ Lithium   : num [1:105] 0.083 0.17 0.17 0.061 0.22 0.12 0.083 0.14 0.084 0.055 ...\n",
      " $ Magnesium : num [1:105] 200 170 310 390 170 180 230 120 110 150 ...\n",
      " $ Manganese : num [1:105] 7e-04 5e-03 4e-03 5e-03 7e-03 2e-03 2e-03 4e-04 6e-03 2e-03 ...\n",
      " $ Molybdenum: num [1:105] 0.13 0.18 0.17 0.043 0.085 0.11 0.1 0.14 0.058 0.083 ...\n",
      " $ Phosphorus: num [1:105] 1180 360 1860 150 910 1200 1320 260 810 900 ...\n",
      " $ Potassium : num [1:105] 24 120 120 120 180 54 45 14 120 51 ...\n",
      " $ Selenium  : num [1:105] 0.11 0.094 0.11 0.069 0.14 0.18 0.13 0.089 0.091 0.1 ...\n",
      " $ Sodium    : num [1:105] 56 290 240 190 190 330 120 91 200 45 ...\n",
      " $ Strontium : num [1:105] 0.13 0.17 0.37 0.33 0.12 0.24 0.29 0.35 0.26 0.06 ...\n",
      " $ Sulfur    : num [1:105] 680 860 1050 630 1290 800 1090 670 690 990 ...\n",
      " $ Vanadium  : num [1:105] 0.000283 0.0005 0.0006 0.0004 0.0008 ...\n",
      " $ Zinc      : num [1:105] 0.66 0.48 0.75 0.24 0.27 1.1 0.66 0.69 0.74 0.5 ...\n",
      " $ Creatinine: num [1:105] 175 76 58.6 54.3 30.6 70.6 82.1 172 87.4 123 ...\n"
     ]
    }
   ],
   "source": [
    "str(data)"
   ]
  },
  {
   "cell_type": "markdown",
   "id": "dde60836",
   "metadata": {},
   "source": [
    "<hr style=\"height:5px;border-width:0;color:MediumAquamarine;background-color:MediumBlue\">\n",
    "\n",
    "# Page 10 - Get Descriptive Statistics about the Dataset<a class=\"anchor\" id=\"PAN_page_10\"></a>\n",
    "\n",
    "[Back to Top](#PAN_toc)\n",
    "\n",
    "<hr style=\"height:5px;border-width:0;color:MediumAquamarine;background-color:MediumBlue\">"
   ]
  },
  {
   "cell_type": "markdown",
   "id": "d0d49c42",
   "metadata": {},
   "source": [
    "# Descriptive statistics:\n",
    "Basic descriptive statistics such as mean, median, mode, standard deviation, variance, range, and percentiles can be computed for each element to summarize its distribution."
   ]
  },
  {
   "cell_type": "code",
   "execution_count": 25,
   "id": "98a219a0",
   "metadata": {},
   "outputs": [
    {
     "data": {
      "text/plain": [
       "       ID           Status              Type              Aluminum       \n",
       " Min.   : 1.00   Length:105         Length:105         Min.   : 0.00141  \n",
       " 1st Qu.:22.00   Class :character   Class :character   1st Qu.: 2.50000  \n",
       "    Antimony            Arsenic              Barium         \n",
       " Min.   :0.0000283   Min.   :  0.00106   Min.   : 0.000071  \n",
       " 1st Qu.:0.0000566   1st Qu.:  5.00000   1st Qu.: 1.100000  \n",
       "   Beryllium            Bismuth             Cadmium              Cesium      \n",
       " Min.   :0.0001768   Min.   : 0.000028   Min.   :0.0000354   Min.   : 1.200  \n",
       " 1st Qu.:0.0003536   1st Qu.: 0.000057   1st Qu.:0.0000707   1st Qu.: 3.000  \n",
       "   Gadolinium            Lead              Mercury              Nickel        \n",
       " Min.   : 0.00002   Min.   :0.0000707   Min.   :0.0001061   Min.   :3.54e-04  \n",
       " 1st Qu.: 0.00005   1st Qu.:0.2000000   1st Qu.:0.0002121   1st Qu.:2.10e+00  \n",
       "   Palladium            Platinum           Tellurium        \n",
       " Min.   :0.0002121   Min.   :2.828e-05   Min.   :0.0001414  \n",
       " 1st Qu.:0.0004243   1st Qu.:5.657e-05   1st Qu.:0.0002828  \n",
       "    Thallium            Thorium               Tin              Tungsten        \n",
       " Min.   :0.0000354   Min.   :1.061e-05   Min.   :0.000057   Min.   :0.0000354  \n",
       " 1st Qu.:0.1000000   1st Qu.:2.121e-05   1st Qu.:0.300000   1st Qu.:0.0700000  \n",
       "    Uranium              Boron           Calcium         Chromium        \n",
       " Min.   :1.768e-05   Min.   : 0.480   Min.   :  4.2   Min.   :0.0001061  \n",
       " 1st Qu.:3.536e-05   1st Qu.: 1.100   1st Qu.: 62.0   1st Qu.:0.0002121  \n",
       "     Cobalt              Copper             Iron            Lithium       \n",
       " Min.   :0.0002828   Min.   :0.00600   Min.   :0.03536   Min.   :0.00900  \n",
       " 1st Qu.:0.0005657   1st Qu.:0.00900   1st Qu.:0.14000   1st Qu.:0.04400  \n",
       "   Magnesium     Manganese           Molybdenum        Phosphorus    \n",
       " Min.   : 17   Min.   :0.0001414   Min.   :0.00300   Min.   : 150.0  \n",
       " 1st Qu.: 66   1st Qu.:0.0007000   1st Qu.:0.03500   1st Qu.: 550.0  \n",
       "   Potassium         Selenium           Sodium        Strontium    \n",
       " Min.   : 10.00   Min.   :0.02100   Min.   : 21.0   Min.   :0.019  \n",
       " 1st Qu.: 20.00   1st Qu.:0.04100   1st Qu.: 65.0   1st Qu.:0.100  \n",
       "     Sulfur          Vanadium              Zinc          Creatinine   \n",
       " Min.   : 290.0   Min.   :0.0001414   Min.   :0.0520   Min.   : 10.6  \n",
       " 1st Qu.: 470.0   1st Qu.:0.0001414   1st Qu.:0.2300   1st Qu.: 71.8  \n",
       " [ reached getOption(\"max.print\") -- omitted 4 rows ]"
      ]
     },
     "metadata": {},
     "output_type": "display_data"
    }
   ],
   "source": [
    "summary(data)"
   ]
  },
  {
   "cell_type": "code",
   "execution_count": 26,
   "id": "c7775cd7",
   "metadata": {},
   "outputs": [
    {
     "data": {
      "text/plain": [
       "\n",
       "'ASD'  'TD' \n",
       "   50    55 "
      ]
     },
     "metadata": {},
     "output_type": "display_data"
    }
   ],
   "source": [
    "#Distribution of Status Variable\n",
    "table(data$Status)"
   ]
  },
  {
   "cell_type": "code",
   "execution_count": 27,
   "id": "4d71fa08",
   "metadata": {},
   "outputs": [
    {
     "data": {
      "text/plain": [
       "\n",
       " 'Child' 'Mother' \n",
       "      47       58 "
      ]
     },
     "metadata": {},
     "output_type": "display_data"
    }
   ],
   "source": [
    "#Distribution of Type Variable\n",
    "table(data$Type)"
   ]
  },
  {
   "cell_type": "markdown",
   "id": "88d766dc",
   "metadata": {},
   "source": [
    "<hr style=\"height:5px;border-width:0;color:MediumAquamarine;background-color:MediumBlue\">\n",
    "\n",
    "# Page 11 - Counting Rows and Removing any NANs<a class=\"anchor\" id=\"PAN_page_11\"></a>\n",
    "\n",
    "[Back to Top](#PAN_toc)\n",
    "\n",
    "<hr style=\"height:5px;border-width:0;color:MediumAquamarine;background-color:MediumBlue\">"
   ]
  },
  {
   "cell_type": "code",
   "execution_count": 28,
   "id": "78bb1676",
   "metadata": {},
   "outputs": [
    {
     "name": "stdout",
     "output_type": "stream",
     "text": [
      "[1] 105\n"
     ]
    }
   ],
   "source": [
    "#Count the number of rows using nrow()\n",
    "print(nrow(data))"
   ]
  },
  {
   "cell_type": "code",
   "execution_count": 29,
   "id": "29aa0f1a",
   "metadata": {},
   "outputs": [],
   "source": [
    "#Drop rows with missing values if there are any\n",
    "data = na.omit(data)"
   ]
  },
  {
   "cell_type": "code",
   "execution_count": 30,
   "id": "d1288934",
   "metadata": {},
   "outputs": [
    {
     "name": "stdout",
     "output_type": "stream",
     "text": [
      "[1] 105\n"
     ]
    }
   ],
   "source": [
    "#Recount the number of rows to assess any losses after dropping missing data\n",
    "print(nrow(data))"
   ]
  },
  {
   "cell_type": "markdown",
   "id": "7be8c390",
   "metadata": {},
   "source": [
    "<hr style=\"height:5px;border-width:0;color:MediumAquamarine;background-color:MediumBlue\">\n",
    "\n",
    "# Page 12 - Q1: Does the increase of toxic elements or decrease of essential elements predict the status of ASD? <a class=\"anchor\" id=\"PAN_page_12\"></a>\n",
    "\n",
    "[Back to Top](#PAN_toc)\n",
    "\n",
    "<hr style=\"height:5px;border-width:0;color:MediumAquamarine;background-color:MediumBlue\">"
   ]
  },
  {
   "cell_type": "markdown",
   "id": "ec9437aa",
   "metadata": {},
   "source": [
    "# Subgroup Analysis:\n",
    "The data shows urine test result levels of toxic and non-toxic essential elements for children with ASD or TD type, as well as their ASD or TD type mothers. \n",
    "Before analyzing which elements have the greatest influence on the prediction of ASD in either kids or their moms, we must first start by evaluating correlations between high and low levels of toxic and non-toxic essential elements and their corresponding status (ASD/TD).  \n",
    "An aditional correlation between children type and mother type should be evaluated to see if generational factors might also be present in the data.\n",
    "\n",
    "# Subgroups:\n",
    "\n",
    "-child  \n",
    "-childToxic (containing children ASD + TD only toxic elements)  \n",
    "-childEssential (containing children ASD + TD only non-toxic essential elements)  \n",
    "\n",
    "-mother  \n",
    "-motherToxic (containing Mother ASD + TD only toxic elements)  \n",
    "-motherEssential (containing Mother ASD + TD only non-toxic essential elements)  "
   ]
  },
  {
   "cell_type": "markdown",
   "id": "0508ded2",
   "metadata": {},
   "source": [
    "# Set up Child Subgroup Data"
   ]
  },
  {
   "cell_type": "code",
   "execution_count": 31,
   "id": "e6dd6022",
   "metadata": {},
   "outputs": [
    {
     "data": {
      "text/html": [
       "<table class=\"dataframe\">\n",
       "<caption>A tibble: 47 × 42</caption>\n",
       "<thead>\n",
       "\t<tr><th scope=col>ID</th><th scope=col>Status</th><th scope=col>Type</th><th scope=col>Aluminum</th><th scope=col>Antimony</th><th scope=col>Arsenic</th><th scope=col>Barium</th><th scope=col>Beryllium</th><th scope=col>Bismuth</th><th scope=col>Cadmium</th><th scope=col>Cesium</th><th scope=col>Gadolinium</th><th scope=col>Lead</th><th scope=col>Mercury</th><th scope=col>Nickel</th><th scope=col>Palladium</th><th scope=col>Platinum</th><th scope=col>Tellurium</th><th scope=col>Thallium</th><th scope=col>Thorium</th><th scope=col>Tin</th><th scope=col>Tungsten</th><th scope=col>Uranium</th><th scope=col>Boron</th><th scope=col>Calcium</th><th scope=col>Chromium</th><th scope=col>Cobalt</th><th scope=col>Copper</th><th scope=col>Iron</th><th scope=col>Lithium</th><th scope=col>Magnesium</th><th scope=col>Manganese</th><th scope=col>Molybdenum</th><th scope=col>Phosphorus</th><th scope=col>Potassium</th><th scope=col>Selenium</th><th scope=col>Sodium</th><th scope=col>Strontium</th><th scope=col>Sulfur</th><th scope=col>Vanadium</th><th scope=col>Zinc</th><th scope=col>Creatinine</th></tr>\n",
       "\t<tr><th scope=col>&lt;dbl&gt;</th><th scope=col>&lt;chr&gt;</th><th scope=col>&lt;chr&gt;</th><th scope=col>&lt;dbl&gt;</th><th scope=col>&lt;dbl&gt;</th><th scope=col>&lt;dbl&gt;</th><th scope=col>&lt;dbl&gt;</th><th scope=col>&lt;dbl&gt;</th><th scope=col>&lt;dbl&gt;</th><th scope=col>&lt;dbl&gt;</th><th scope=col>&lt;dbl&gt;</th><th scope=col>&lt;dbl&gt;</th><th scope=col>&lt;dbl&gt;</th><th scope=col>&lt;dbl&gt;</th><th scope=col>&lt;dbl&gt;</th><th scope=col>&lt;dbl&gt;</th><th scope=col>&lt;dbl&gt;</th><th scope=col>&lt;dbl&gt;</th><th scope=col>&lt;dbl&gt;</th><th scope=col>&lt;dbl&gt;</th><th scope=col>&lt;dbl&gt;</th><th scope=col>&lt;dbl&gt;</th><th scope=col>&lt;dbl&gt;</th><th scope=col>&lt;dbl&gt;</th><th scope=col>&lt;dbl&gt;</th><th scope=col>&lt;dbl&gt;</th><th scope=col>&lt;dbl&gt;</th><th scope=col>&lt;dbl&gt;</th><th scope=col>&lt;dbl&gt;</th><th scope=col>&lt;dbl&gt;</th><th scope=col>&lt;dbl&gt;</th><th scope=col>&lt;dbl&gt;</th><th scope=col>&lt;dbl&gt;</th><th scope=col>&lt;dbl&gt;</th><th scope=col>&lt;dbl&gt;</th><th scope=col>&lt;dbl&gt;</th><th scope=col>&lt;dbl&gt;</th><th scope=col>&lt;dbl&gt;</th><th scope=col>&lt;dbl&gt;</th><th scope=col>&lt;dbl&gt;</th><th scope=col>&lt;dbl&gt;</th><th scope=col>&lt;dbl&gt;</th></tr>\n",
       "</thead>\n",
       "<tbody>\n",
       "\t<tr><td> 1</td><td>'ASD'</td><td>'Child'</td><td> 7.0</td><td>2.000000e-01</td><td>1.10000e+01</td><td> 2.1</td><td>0.0007071068</td><td>1.131371e-04</td><td>1.414214e-04</td><td> 4.3</td><td>9.899495e-05</td><td>0.2</td><td>0.0004242641</td><td> 4.9</td><td>0.0008485281</td><td>1.131371e-04</td><td>0.0005656854</td><td>1.000000e-01</td><td>4.242641e-05</td><td>1.6</td><td>3.000000e-01</td><td>7.071068e-05</td><td> 2.3</td><td>140</td><td>0.0004242641</td><td>0.0011313708</td><td>0.014</td><td>0.24000000</td><td>0.083</td><td>200</td><td>0.0007</td><td>0.130</td><td>1180</td><td> 24</td><td>0.110</td><td> 56</td><td>0.130</td><td> 680</td><td>0.0002828427</td><td>0.660</td><td>175.0</td></tr>\n",
       "\t<tr><td> 3</td><td>'ASD'</td><td>'Child'</td><td>19.0</td><td>2.000000e-01</td><td>8.10000e+00</td><td> 8.0</td><td>0.0003535534</td><td>5.656854e-05</td><td>7.071068e-05</td><td>16.0</td><td>4.949747e-05</td><td>1.0</td><td>0.0002121320</td><td> 2.9</td><td>0.0004242641</td><td>5.656854e-05</td><td>0.0002828427</td><td>6.000000e-01</td><td>2.121320e-05</td><td>1.0</td><td>2.000000e-01</td><td>3.535534e-05</td><td> 4.9</td><td> 81</td><td>0.0002121320</td><td>0.0005656854</td><td>0.018</td><td>0.20000000</td><td>0.170</td><td>170</td><td>0.0050</td><td>0.180</td><td> 360</td><td>120</td><td>0.094</td><td>290</td><td>0.170</td><td> 860</td><td>0.0005000000</td><td>0.480</td><td> 76.0</td></tr>\n",
       "\t<tr><td> 5</td><td>'ASD'</td><td>'Child'</td><td> 9.2</td><td>5.656854e-05</td><td>5.90000e+00</td><td> 4.7</td><td>0.0003535534</td><td>2.000000e-01</td><td>7.071068e-05</td><td>11.0</td><td>4.949747e-05</td><td>0.5</td><td>0.0002121320</td><td> 9.4</td><td>0.0004242641</td><td>5.656854e-05</td><td>0.0002828427</td><td>3.000000e-01</td><td>2.121320e-05</td><td>8.4</td><td>6.000000e-01</td><td>3.535534e-05</td><td> 2.9</td><td>300</td><td>0.0006000000</td><td>0.0030000000</td><td>0.021</td><td>0.60000000</td><td>0.170</td><td>310</td><td>0.0040</td><td>0.170</td><td>1860</td><td>120</td><td>0.110</td><td>240</td><td>0.370</td><td>1050</td><td>0.0006000000</td><td>0.750</td><td> 58.6</td></tr>\n",
       "\t<tr><td> 6</td><td>'ASD'</td><td>'Child'</td><td> 8.4</td><td>5.656854e-05</td><td>1.40000e+01</td><td> 3.0</td><td>0.0003535534</td><td>5.656854e-05</td><td>7.071068e-05</td><td>16.0</td><td>4.949747e-05</td><td>0.9</td><td>0.0002121320</td><td>15.0</td><td>0.0004242641</td><td>5.656854e-05</td><td>0.0002828427</td><td>4.000000e-01</td><td>2.121320e-05</td><td>1.4</td><td>3.000000e-01</td><td>3.535534e-05</td><td> 8.6</td><td>200</td><td>0.0010000000</td><td>0.0005656854</td><td>0.024</td><td>0.43000000</td><td>0.061</td><td>390</td><td>0.0050</td><td>0.043</td><td> 150</td><td>120</td><td>0.069</td><td>190</td><td>0.330</td><td> 630</td><td>0.0004000000</td><td>0.240</td><td> 54.3</td></tr>\n",
       "\t<tr><td> 8</td><td>'ASD'</td><td>'Child'</td><td> 5.6</td><td>2.828427e-05</td><td>1.10000e+01</td><td> 3.8</td><td>0.0001767767</td><td>2.828427e-05</td><td>3.535534e-05</td><td> 4.5</td><td>2.474874e-05</td><td>0.4</td><td>1.0000000000</td><td> 2.5</td><td>0.0002121320</td><td>2.828427e-05</td><td>0.0001414214</td><td>4.000000e-01</td><td>1.060660e-05</td><td>0.6</td><td>3.000000e-01</td><td>1.767767e-05</td><td> 1.3</td><td> 62</td><td>0.0010000000</td><td>0.0002828427</td><td>0.022</td><td>0.03535534</td><td>0.220</td><td>170</td><td>0.0070</td><td>0.085</td><td> 910</td><td>180</td><td>0.140</td><td>190</td><td>0.120</td><td>1290</td><td>0.0008000000</td><td>0.270</td><td> 30.6</td></tr>\n",
       "\t<tr><td>10</td><td>'ASD'</td><td>'Child'</td><td>17.0</td><td>6.000000e-01</td><td>1.50000e+01</td><td> 3.1</td><td>0.0003535534</td><td>5.656854e-05</td><td>7.071068e-05</td><td>10.0</td><td>4.949747e-05</td><td>0.5</td><td>0.0002121320</td><td> 5.2</td><td>0.0004242641</td><td>5.656854e-05</td><td>0.0002828427</td><td>2.000000e-01</td><td>2.121320e-05</td><td>0.5</td><td>1.000000e-01</td><td>3.535534e-05</td><td> 4.5</td><td>250</td><td>0.0010000000</td><td>0.0005656854</td><td>0.019</td><td>0.53000000</td><td>0.120</td><td>180</td><td>0.0020</td><td>0.110</td><td>1200</td><td> 54</td><td>0.180</td><td>330</td><td>0.240</td><td> 800</td><td>0.0005000000</td><td>1.100</td><td> 70.6</td></tr>\n",
       "\t<tr><td>12</td><td>'ASD'</td><td>'Child'</td><td> 9.5</td><td>5.656854e-05</td><td>1.20000e+02</td><td> 4.2</td><td>0.0003535534</td><td>5.656854e-05</td><td>2.000000e-01</td><td> 5.7</td><td>4.949747e-05</td><td>0.3</td><td>0.0002121320</td><td> 6.7</td><td>0.0004242641</td><td>5.656854e-05</td><td>0.0002828427</td><td>3.000000e-01</td><td>2.121320e-05</td><td>0.2</td><td>3.000000e-01</td><td>3.535534e-05</td><td> 3.8</td><td>340</td><td>0.0005000000</td><td>0.0010000000</td><td>0.018</td><td>0.63000000</td><td>0.083</td><td>230</td><td>0.0020</td><td>0.100</td><td>1320</td><td> 45</td><td>0.130</td><td>120</td><td>0.290</td><td>1090</td><td>0.0001414214</td><td>0.660</td><td> 82.1</td></tr>\n",
       "\t<tr><td>17</td><td>'ASD'</td><td>'Child'</td><td> 6.8</td><td>2.000000e-01</td><td>3.50000e+01</td><td> 4.0</td><td>0.0007071068</td><td>1.131371e-04</td><td>1.414214e-04</td><td> 3.3</td><td>3.300000e+01</td><td>0.4</td><td>0.0004242641</td><td> 9.7</td><td>0.0008485281</td><td>1.131371e-04</td><td>0.0005656854</td><td>9.000000e-02</td><td>4.242641e-05</td><td>4.0</td><td>1.200000e+00</td><td>7.071068e-05</td><td> 2.2</td><td>170</td><td>0.0010000000</td><td>0.0009000000</td><td>0.018</td><td>0.30000000</td><td>0.140</td><td>120</td><td>0.0004</td><td>0.140</td><td> 260</td><td> 14</td><td>0.089</td><td> 91</td><td>0.350</td><td> 670</td><td>0.0009000000</td><td>0.690</td><td>172.0</td></tr>\n",
       "\t<tr><td>19</td><td>'ASD'</td><td>'Child'</td><td>24.0</td><td>2.000000e-01</td><td>1.40000e+01</td><td> 2.6</td><td>0.0003535534</td><td>5.656854e-05</td><td>7.071068e-05</td><td> 4.4</td><td>4.949747e-05</td><td>0.5</td><td>0.0002121320</td><td> 3.8</td><td>0.0004242641</td><td>5.656854e-05</td><td>0.0002828427</td><td>6.000000e-01</td><td>2.121320e-05</td><td>2.0</td><td>7.000000e-02</td><td>3.535534e-05</td><td> 4.5</td><td>150</td><td>0.0002121320</td><td>0.0005656854</td><td>0.020</td><td>0.34000000</td><td>0.084</td><td>110</td><td>0.0060</td><td>0.058</td><td> 810</td><td>120</td><td>0.091</td><td>200</td><td>0.260</td><td> 690</td><td>0.0006000000</td><td>0.740</td><td> 87.4</td></tr>\n",
       "\t<tr><td>20</td><td>'ASD'</td><td>'Child'</td><td>21.0</td><td>7.000000e-02</td><td>1.20000e+01</td><td> 1.8</td><td>0.0003535534</td><td>5.656854e-05</td><td>2.000000e-01</td><td> 3.6</td><td>4.949747e-05</td><td>0.1</td><td>0.0002121320</td><td> 1.3</td><td>0.0004242641</td><td>5.656854e-05</td><td>0.0002828427</td><td>2.000000e-01</td><td>2.121320e-05</td><td>0.2</td><td>2.000000e-01</td><td>3.535534e-05</td><td> 2.4</td><td> 38</td><td>0.0004000000</td><td>0.0005656854</td><td>0.020</td><td>0.07071068</td><td>0.055</td><td>150</td><td>0.0020</td><td>0.083</td><td> 900</td><td> 51</td><td>0.100</td><td> 45</td><td>0.060</td><td> 990</td><td>0.0002000000</td><td>0.500</td><td>123.0</td></tr>\n",
       "\t<tr><td>25</td><td>'ASD'</td><td>'Child'</td><td> 7.7</td><td>1.000000e-01</td><td>1.10000e+01</td><td>10.0</td><td>0.0003535534</td><td>1.000000e-01</td><td>7.071068e-05</td><td> 6.9</td><td>4.949747e-05</td><td>0.5</td><td>0.7000000000</td><td> 7.1</td><td>0.0004242641</td><td>5.656854e-05</td><td>0.0002828427</td><td>4.000000e-01</td><td>2.121320e-05</td><td>0.9</td><td>1.000000e-01</td><td>2.000000e-01</td><td> 2.3</td><td>180</td><td>0.0002121320</td><td>0.0005656854</td><td>0.059</td><td>0.37000000</td><td>0.044</td><td>190</td><td>0.0040</td><td>0.097</td><td>1240</td><td>130</td><td>0.130</td><td>280</td><td>0.250</td><td> 820</td><td>0.0005000000</td><td>0.790</td><td> 73.8</td></tr>\n",
       "\t<tr><td>28</td><td>'ASD'</td><td>'Child'</td><td> 3.2</td><td>5.656854e-05</td><td>2.12132e-03</td><td> 1.4</td><td>0.0003535534</td><td>5.656854e-05</td><td>7.071068e-05</td><td> 5.0</td><td>4.949747e-05</td><td>0.3</td><td>0.0002121320</td><td> 1.6</td><td>0.0004242641</td><td>5.656854e-05</td><td>0.0002828427</td><td>8.000000e-02</td><td>2.121320e-05</td><td>2.9</td><td>2.000000e-01</td><td>3.535534e-05</td><td> 1.4</td><td> 61</td><td>0.0002121320</td><td>0.0005656854</td><td>0.014</td><td>0.07071068</td><td>0.100</td><td>220</td><td>0.0007</td><td>0.068</td><td> 820</td><td> 23</td><td>0.057</td><td> 79</td><td>0.120</td><td> 610</td><td>0.0001414214</td><td>0.660</td><td> 76.6</td></tr>\n",
       "\t<tr><td>29</td><td>'ASD'</td><td>'Child'</td><td> 3.5</td><td>5.656854e-05</td><td>1.50000e+01</td><td> 4.2</td><td>0.0003535534</td><td>5.656854e-05</td><td>7.071068e-05</td><td> 3.9</td><td>4.949747e-05</td><td>0.8</td><td>0.0002121320</td><td> 4.6</td><td>0.0004242641</td><td>5.656854e-05</td><td>0.0002828427</td><td>2.000000e-01</td><td>2.121320e-05</td><td>0.5</td><td>6.000000e-02</td><td>1.000000e-01</td><td> 3.5</td><td>220</td><td>0.0002121320</td><td>0.0005656854</td><td>0.013</td><td>0.40000000</td><td>0.066</td><td>290</td><td>0.0020</td><td>0.008</td><td> 530</td><td> 49</td><td>0.039</td><td> 54</td><td>0.320</td><td> 630</td><td>0.0001414214</td><td>0.530</td><td> 84.8</td></tr>\n",
       "\t<tr><td>30</td><td>'ASD'</td><td>'Child'</td><td>18.0</td><td>4.000000e-01</td><td>4.20000e+00</td><td> 6.4</td><td>0.0003535534</td><td>5.656854e-05</td><td>7.071068e-05</td><td> 6.6</td><td>4.949747e-05</td><td>0.4</td><td>0.0002121320</td><td> 3.8</td><td>0.0004242641</td><td>5.656854e-05</td><td>0.0002828427</td><td>1.000000e-01</td><td>2.121320e-05</td><td>1.2</td><td>4.000000e-01</td><td>3.535534e-05</td><td> 1.1</td><td>140</td><td>0.0003000000</td><td>0.0005656854</td><td>0.015</td><td>0.25000000</td><td>0.054</td><td> 79</td><td>0.0006</td><td>0.090</td><td> 610</td><td> 17</td><td>0.074</td><td>170</td><td>0.210</td><td> 730</td><td>0.0003000000</td><td>0.790</td><td>135.0</td></tr>\n",
       "\t<tr><td>31</td><td>'ASD'</td><td>'Child'</td><td>15.0</td><td>5.656854e-05</td><td>2.12132e-03</td><td> 0.5</td><td>0.0003535534</td><td>5.656854e-05</td><td>7.071068e-05</td><td> 8.6</td><td>4.949747e-05</td><td>0.8</td><td>0.6000000000</td><td> 1.6</td><td>0.0004242641</td><td>5.656854e-05</td><td>0.0002828427</td><td>5.000000e-01</td><td>2.121320e-05</td><td>0.2</td><td>2.000000e-01</td><td>3.535534e-05</td><td> 3.3</td><td> 14</td><td>0.0002121320</td><td>0.0005656854</td><td>0.020</td><td>0.07071068</td><td>0.043</td><td> 60</td><td>0.0050</td><td>0.044</td><td> 720</td><td>120</td><td>0.072</td><td>230</td><td>0.036</td><td> 770</td><td>0.0006000000</td><td>0.330</td><td> 68.2</td></tr>\n",
       "\t<tr><td>32</td><td>'ASD'</td><td>'Child'</td><td> 3.5</td><td>5.656854e-05</td><td>1.20000e+01</td><td> 4.0</td><td>0.0003535534</td><td>5.656854e-05</td><td>7.071068e-05</td><td>11.0</td><td>4.949747e-05</td><td>0.5</td><td>0.3000000000</td><td> 4.4</td><td>0.0004242641</td><td>5.656854e-05</td><td>0.0002828427</td><td>3.000000e-01</td><td>2.121320e-05</td><td>0.4</td><td>1.000000e-01</td><td>3.535534e-05</td><td> 3.7</td><td> 92</td><td>0.0002121320</td><td>0.0008000000</td><td>0.018</td><td>0.18000000</td><td>0.084</td><td>190</td><td>0.0020</td><td>0.045</td><td>1290</td><td> 52</td><td>0.054</td><td>210</td><td>0.140</td><td> 740</td><td>0.0004000000</td><td>0.280</td><td>110.0</td></tr>\n",
       "\t<tr><td>33</td><td>'ASD'</td><td>'Child'</td><td>33.0</td><td>5.656854e-05</td><td>7.10000e+00</td><td> 2.8</td><td>0.0003535534</td><td>5.656854e-05</td><td>7.071068e-05</td><td> 8.4</td><td>4.949747e-05</td><td>0.3</td><td>0.0002121320</td><td> 4.3</td><td>0.0004242641</td><td>5.656854e-05</td><td>0.0002828427</td><td>3.000000e-01</td><td>2.121320e-05</td><td>0.4</td><td>2.000000e-01</td><td>3.535534e-05</td><td> 4.1</td><td> 80</td><td>0.0002121320</td><td>0.0010000000</td><td>0.017</td><td>0.16000000</td><td>0.064</td><td>310</td><td>0.0020</td><td>0.048</td><td>1250</td><td> 54</td><td>0.074</td><td>250</td><td>0.170</td><td> 870</td><td>0.0003000000</td><td>0.520</td><td> 85.4</td></tr>\n",
       "\t<tr><td>34</td><td>'ASD'</td><td>'Child'</td><td> 5.6</td><td>5.656854e-05</td><td>1.20000e+01</td><td> 3.8</td><td>0.0003535534</td><td>5.656854e-05</td><td>7.071068e-05</td><td>10.0</td><td>4.949747e-05</td><td>0.6</td><td>0.0002121320</td><td> 9.5</td><td>0.0004242641</td><td>5.656854e-05</td><td>0.0002828427</td><td>2.000000e-01</td><td>2.121320e-05</td><td>1.2</td><td>2.000000e-01</td><td>3.535534e-05</td><td> 2.3</td><td>260</td><td>0.0002121320</td><td>0.0020000000</td><td>0.024</td><td>0.49000000</td><td>0.350</td><td>350</td><td>0.0030</td><td>0.085</td><td>1680</td><td> 64</td><td>0.170</td><td>430</td><td>0.410</td><td>1870</td><td>0.0007000000</td><td>0.730</td><td> 55.4</td></tr>\n",
       "\t<tr><td>35</td><td>'ASD'</td><td>'Child'</td><td> 1.9</td><td>5.656854e-05</td><td>1.60000e+01</td><td> 5.4</td><td>0.0003535534</td><td>5.656854e-05</td><td>7.071068e-05</td><td> 7.6</td><td>4.949747e-05</td><td>0.5</td><td>0.0002121320</td><td> 5.4</td><td>0.0004242641</td><td>5.656854e-05</td><td>0.0002828427</td><td>3.000000e-01</td><td>2.121320e-05</td><td>0.3</td><td>2.000000e-01</td><td>3.535534e-05</td><td> 3.2</td><td>150</td><td>0.0002121320</td><td>0.0005656854</td><td>0.020</td><td>0.30000000</td><td>0.110</td><td>170</td><td>0.0050</td><td>0.110</td><td> 890</td><td>120</td><td>0.130</td><td>240</td><td>0.250</td><td> 980</td><td>0.0005000000</td><td>0.093</td><td> 83.7</td></tr>\n",
       "\t<tr><td>37</td><td>'ASD'</td><td>'Child'</td><td>15.0</td><td>9.000000e-02</td><td>1.10000e+01</td><td> 1.2</td><td>0.0003535534</td><td>5.656854e-05</td><td>1.000000e-01</td><td> 6.3</td><td>4.949747e-05</td><td>0.3</td><td>0.0002121320</td><td> 2.7</td><td>0.0004242641</td><td>5.656854e-05</td><td>0.0002828427</td><td>3.000000e-01</td><td>2.121320e-05</td><td>0.6</td><td>7.000000e-02</td><td>3.535534e-05</td><td> 3.2</td><td> 41</td><td>0.0002121320</td><td>0.0005656854</td><td>0.021</td><td>0.07071068</td><td>0.058</td><td>160</td><td>0.0030</td><td>0.060</td><td> 950</td><td> 79</td><td>0.083</td><td>170</td><td>0.120</td><td> 730</td><td>0.0004000000</td><td>0.530</td><td> 87.0</td></tr>\n",
       "\t<tr><td>39</td><td>'ASD'</td><td>'Child'</td><td>74.0</td><td>3.000000e-01</td><td>2.50000e+01</td><td>15.0</td><td>0.0003535534</td><td>5.656854e-05</td><td>1.000000e-01</td><td>14.0</td><td>4.949747e-05</td><td>2.9</td><td>0.0002121320</td><td> 7.8</td><td>0.0004242641</td><td>5.656854e-05</td><td>0.0002828427</td><td>4.000000e-01</td><td>2.121320e-05</td><td>3.7</td><td>1.000000e-01</td><td>8.000000e-02</td><td>11.0</td><td>330</td><td>0.0007000000</td><td>0.0010000000</td><td>0.023</td><td>0.72000000</td><td>0.110</td><td>200</td><td>0.0110</td><td>0.026</td><td> 260</td><td> 74</td><td>0.021</td><td>170</td><td>0.410</td><td> 320</td><td>0.0006000000</td><td>0.630</td><td>102.0</td></tr>\n",
       "\t<tr><td>40</td><td>'TD' </td><td>'Child'</td><td>15.0</td><td>1.131371e-04</td><td>1.20000e+01</td><td> 1.6</td><td>0.0007071068</td><td>1.131371e-04</td><td>1.414214e-04</td><td> 3.4</td><td>9.899495e-05</td><td>0.3</td><td>0.0004242641</td><td> 6.8</td><td>0.0008485281</td><td>1.131371e-04</td><td>0.0005656854</td><td>1.000000e-01</td><td>4.242641e-05</td><td>1.0</td><td>3.000000e-01</td><td>7.071068e-05</td><td> 2.7</td><td> 84</td><td>0.0004242641</td><td>0.0010000000</td><td>0.016</td><td>0.16000000</td><td>0.150</td><td>150</td><td>0.0010</td><td>0.150</td><td> 990</td><td> 38</td><td>0.075</td><td>130</td><td>0.170</td><td> 790</td><td>0.0002000000</td><td>0.380</td><td>170.0</td></tr>\n",
       "\t<tr><td>41</td><td>'TD' </td><td>'Child'</td><td>59.0</td><td>3.000000e-01</td><td>1.10000e+01</td><td> 7.2</td><td>0.0003535534</td><td>5.656854e-05</td><td>7.071068e-05</td><td> 7.5</td><td>4.949747e-05</td><td>2.2</td><td>0.0002121320</td><td> 6.7</td><td>0.0004242641</td><td>5.656854e-05</td><td>0.0002828427</td><td>2.000000e-01</td><td>2.121320e-05</td><td>2.2</td><td>7.000000e-01</td><td>3.535534e-05</td><td> 3.3</td><td>180</td><td>0.0002121320</td><td>0.0005656854</td><td>0.030</td><td>0.35000000</td><td>0.130</td><td>200</td><td>0.0050</td><td>0.140</td><td>1830</td><td> 76</td><td>0.130</td><td>180</td><td>0.270</td><td>1340</td><td>0.0005000000</td><td>0.730</td><td> 50.9</td></tr>\n",
       "\t<tr><td>42</td><td>'TD' </td><td>'Child'</td><td>17.0</td><td>5.656854e-05</td><td>1.10000e+01</td><td> 5.2</td><td>0.0003535534</td><td>5.656854e-05</td><td>7.071068e-05</td><td> 5.8</td><td>4.949747e-05</td><td>0.8</td><td>0.0002121320</td><td> 4.5</td><td>0.0004242641</td><td>5.656854e-05</td><td>0.0002828427</td><td>2.000000e-01</td><td>2.121320e-05</td><td>5.0</td><td>8.000000e-01</td><td>3.535534e-05</td><td> 1.6</td><td>270</td><td>0.0002121320</td><td>0.0005656854</td><td>0.018</td><td>0.52000000</td><td>0.230</td><td>170</td><td>0.0020</td><td>0.110</td><td>1050</td><td> 49</td><td>0.076</td><td>190</td><td>0.390</td><td> 910</td><td>0.0001414214</td><td>0.860</td><td> 56.8</td></tr>\n",
       "\t<tr><td>43</td><td>'TD' </td><td>'Child'</td><td>14.0</td><td>5.656854e-05</td><td>6.50000e+00</td><td> 7.4</td><td>0.0003535534</td><td>5.656854e-05</td><td>7.071068e-05</td><td> 8.9</td><td>4.949747e-05</td><td>1.1</td><td>0.0002121320</td><td> 9.0</td><td>0.0004242641</td><td>5.656854e-05</td><td>0.0002828427</td><td>4.000000e-01</td><td>2.121320e-05</td><td>2.6</td><td>2.000000e-01</td><td>3.535534e-05</td><td> 2.1</td><td>540</td><td>0.0002121320</td><td>0.0010000000</td><td>0.022</td><td>1.00000000</td><td>0.099</td><td>230</td><td>0.0030</td><td>0.062</td><td>1480</td><td> 84</td><td>0.200</td><td>260</td><td>0.420</td><td>1930</td><td>0.0005000000</td><td>1.400</td><td> 55.6</td></tr>\n",
       "\t<tr><td>45</td><td>'TD' </td><td>'Child'</td><td> 6.1</td><td>5.656854e-05</td><td>1.10000e+01</td><td> 2.9</td><td>0.0003535534</td><td>5.656854e-05</td><td>7.071068e-05</td><td> 6.2</td><td>4.949747e-05</td><td>0.6</td><td>0.0002121320</td><td> 2.9</td><td>0.0004242641</td><td>5.656854e-05</td><td>0.0002828427</td><td>2.000000e-01</td><td>2.121320e-05</td><td>0.9</td><td>2.000000e-01</td><td>3.535534e-05</td><td> 2.7</td><td>100</td><td>0.0002121320</td><td>0.0008000000</td><td>0.017</td><td>0.21000000</td><td>0.092</td><td>230</td><td>0.0030</td><td>0.061</td><td>1270</td><td> 87</td><td>0.110</td><td>280</td><td>0.170</td><td>1200</td><td>0.0004000000</td><td>0.480</td><td> 97.9</td></tr>\n",
       "\t<tr><td>46</td><td>'TD' </td><td>'Child'</td><td> 4.1</td><td>5.656854e-05</td><td>1.60000e+01</td><td> 2.8</td><td>0.0003535534</td><td>5.656854e-05</td><td>7.071068e-05</td><td> 7.0</td><td>4.949747e-05</td><td>0.4</td><td>0.0002121320</td><td> 4.3</td><td>0.0004242641</td><td>5.656854e-05</td><td>0.0002828427</td><td>3.000000e-01</td><td>2.121320e-05</td><td>0.2</td><td>2.000000e-01</td><td>3.535534e-05</td><td> 3.9</td><td> 88</td><td>0.0002121320</td><td>0.0030000000</td><td>0.022</td><td>0.17000000</td><td>0.099</td><td>190</td><td>0.0020</td><td>0.096</td><td>1210</td><td> 54</td><td>0.100</td><td>150</td><td>0.160</td><td> 960</td><td>0.0003000000</td><td>0.380</td><td> 83.7</td></tr>\n",
       "\t<tr><td>48</td><td>'TD' </td><td>'Child'</td><td>38.0</td><td>5.656854e-05</td><td>1.50000e+01</td><td> 3.3</td><td>0.0003535534</td><td>5.656854e-05</td><td>7.071068e-05</td><td> 3.7</td><td>4.949747e-05</td><td>0.2</td><td>0.0002121320</td><td>10.0</td><td>0.0004242641</td><td>5.656854e-05</td><td>0.0002828427</td><td>2.000000e-01</td><td>2.121320e-05</td><td>1.6</td><td>3.000000e-01</td><td>3.535534e-05</td><td> 2.5</td><td>390</td><td>0.0002121320</td><td>0.0020000000</td><td>0.018</td><td>0.71000000</td><td>0.170</td><td>280</td><td>0.0008</td><td>0.150</td><td>1240</td><td> 18</td><td>0.130</td><td>140</td><td>0.250</td><td>1490</td><td>0.0003000000</td><td>1.200</td><td> 71.8</td></tr>\n",
       "\t<tr><td>49</td><td>'TD' </td><td>'Child'</td><td>46.0</td><td>9.000000e-01</td><td>1.06066e-03</td><td>11.0</td><td>0.0001767767</td><td>2.828427e-05</td><td>3.535534e-05</td><td>18.0</td><td>2.474874e-05</td><td>1.1</td><td>0.0001060660</td><td> 5.6</td><td>0.0002121320</td><td>2.828427e-05</td><td>0.0001414214</td><td>8.000000e-01</td><td>1.060660e-05</td><td>0.6</td><td>3.000000e-01</td><td>1.767767e-05</td><td> 8.9</td><td>190</td><td>0.0001060660</td><td>0.0002828427</td><td>0.037</td><td>0.03535534</td><td>0.130</td><td>340</td><td>0.0070</td><td>0.049</td><td>2980</td><td>130</td><td>0.210</td><td>700</td><td>0.300</td><td>1570</td><td>0.0010000000</td><td>0.590</td><td> 10.6</td></tr>\n",
       "\t<tr><td>50</td><td>'TD' </td><td>'Child'</td><td> 6.4</td><td>5.656854e-05</td><td>9.00000e+00</td><td> 2.5</td><td>0.0003535534</td><td>5.656854e-05</td><td>7.071068e-05</td><td> 7.7</td><td>4.949747e-05</td><td>0.4</td><td>0.0002121320</td><td> 3.4</td><td>0.0004242641</td><td>5.656854e-05</td><td>0.0002828427</td><td>2.000000e-01</td><td>2.121320e-05</td><td>0.5</td><td>3.000000e-01</td><td>3.535534e-05</td><td> 4.4</td><td> 77</td><td>0.0002121320</td><td>0.0005656854</td><td>0.016</td><td>0.15000000</td><td>0.071</td><td>240</td><td>0.0010</td><td>0.140</td><td>1600</td><td> 35</td><td>0.120</td><td>150</td><td>0.130</td><td>1270</td><td>0.0001414214</td><td>1.100</td><td> 97.0</td></tr>\n",
       "\t<tr><td>51</td><td>'TD' </td><td>'Child'</td><td>16.0</td><td>3.000000e-01</td><td>2.50000e+01</td><td> 7.0</td><td>0.0003535534</td><td>5.656854e-05</td><td>7.071068e-05</td><td>14.0</td><td>4.949747e-05</td><td>0.8</td><td>0.0002121320</td><td> 9.9</td><td>0.0004242641</td><td>5.656854e-05</td><td>0.0002828427</td><td>3.535534e-05</td><td>2.121320e-05</td><td>9.9</td><td>2.000000e-01</td><td>3.535534e-05</td><td> 4.1</td><td>480</td><td>0.0002121320</td><td>0.0005656854</td><td>0.026</td><td>0.86000000</td><td>0.300</td><td>330</td><td>0.0008</td><td>0.087</td><td>1940</td><td> 18</td><td>0.130</td><td>210</td><td>0.550</td><td>1800</td><td>0.0001414214</td><td>0.800</td><td> 46.9</td></tr>\n",
       "\t<tr><td>52</td><td>'TD' </td><td>'Child'</td><td>18.0</td><td>2.000000e-01</td><td>1.10000e+01</td><td> 1.0</td><td>0.0003535534</td><td>5.656854e-05</td><td>7.071068e-05</td><td>16.0</td><td>4.949747e-05</td><td>0.7</td><td>0.0002121320</td><td> 3.3</td><td>0.0004242641</td><td>5.656854e-05</td><td>0.0002828427</td><td>4.000000e-01</td><td>2.121320e-05</td><td>2.8</td><td>7.000000e-01</td><td>3.535534e-05</td><td> 3.1</td><td> 19</td><td>0.0004000000</td><td>0.0005656854</td><td>0.020</td><td>0.07071068</td><td>0.180</td><td> 53</td><td>0.0070</td><td>0.240</td><td>1450</td><td>210</td><td>0.180</td><td>120</td><td>0.046</td><td>1930</td><td>0.0004000000</td><td>0.410</td><td> 89.8</td></tr>\n",
       "\t<tr><td>53</td><td>'TD' </td><td>'Child'</td><td>11.0</td><td>2.000000e-01</td><td>2.80000e+01</td><td> 9.8</td><td>0.0003535534</td><td>5.656854e-05</td><td>7.071068e-05</td><td> 6.0</td><td>4.949747e-05</td><td>0.4</td><td>0.0002121320</td><td> 6.1</td><td>0.0004242641</td><td>5.656854e-05</td><td>0.0002828427</td><td>2.000000e-01</td><td>2.121320e-05</td><td>1.8</td><td>3.000000e-01</td><td>3.535534e-05</td><td> 2.7</td><td>200</td><td>0.0002121320</td><td>0.0005656854</td><td>0.016</td><td>0.38000000</td><td>0.073</td><td>390</td><td>0.0009</td><td>0.260</td><td>1680</td><td> 29</td><td>0.100</td><td>210</td><td>0.330</td><td>1430</td><td>0.0003000000</td><td>0.700</td><td> 85.7</td></tr>\n",
       "\t<tr><td>54</td><td>'TD' </td><td>'Child'</td><td>10.0</td><td>5.656854e-05</td><td>5.10000e+01</td><td> 6.8</td><td>0.0003535534</td><td>5.656854e-05</td><td>7.071068e-05</td><td> 7.6</td><td>4.949747e-05</td><td>0.6</td><td>0.0002121320</td><td> 6.8</td><td>0.0004242641</td><td>5.656854e-05</td><td>0.0002828427</td><td>2.000000e-01</td><td>2.121320e-05</td><td>3.3</td><td>5.000000e-01</td><td>3.535534e-05</td><td> 3.6</td><td>220</td><td>0.0002121320</td><td>0.0005656854</td><td>0.026</td><td>0.49000000</td><td>0.160</td><td>130</td><td>0.0050</td><td>0.130</td><td> 820</td><td>130</td><td>0.130</td><td>680</td><td>0.340</td><td> 980</td><td>0.0010000000</td><td>0.780</td><td> 45.8</td></tr>\n",
       "\t<tr><td>56</td><td>'TD' </td><td>'Child'</td><td>12.0</td><td>8.000000e-02</td><td>5.20000e+00</td><td> 3.0</td><td>0.0007071068</td><td>1.131371e-04</td><td>1.414214e-04</td><td> 2.9</td><td>9.899495e-05</td><td>0.1</td><td>0.0004242641</td><td> 2.6</td><td>0.0008485281</td><td>1.131371e-04</td><td>0.0005656854</td><td>9.000000e-02</td><td>4.242641e-05</td><td>4.2</td><td>2.000000e-01</td><td>7.071068e-05</td><td> 1.8</td><td> 72</td><td>0.0004242641</td><td>0.0011313708</td><td>0.016</td><td>0.13000000</td><td>0.037</td><td>170</td><td>0.0008</td><td>0.100</td><td> 710</td><td> 29</td><td>0.060</td><td> 48</td><td>0.077</td><td> 630</td><td>0.0002828427</td><td>0.740</td><td>209.0</td></tr>\n",
       "\t<tr><td>57</td><td>'TD' </td><td>'Child'</td><td>15.0</td><td>5.656854e-05</td><td>1.10000e+01</td><td> 1.7</td><td>0.0003535534</td><td>6.000000e-01</td><td>2.000000e-01</td><td> 6.1</td><td>4.949747e-05</td><td>0.4</td><td>0.0002121320</td><td> 6.5</td><td>0.0004242641</td><td>5.656854e-05</td><td>0.0002828427</td><td>3.000000e-01</td><td>2.121320e-05</td><td>2.2</td><td>5.000000e-01</td><td>3.535534e-05</td><td> 2.0</td><td>120</td><td>0.0002121320</td><td>0.0005656854</td><td>0.021</td><td>0.25000000</td><td>0.120</td><td>250</td><td>0.0030</td><td>0.092</td><td>1540</td><td> 76</td><td>0.170</td><td>200</td><td>0.230</td><td>1630</td><td>0.0005000000</td><td>0.450</td><td> 62.8</td></tr>\n",
       "\t<tr><td>58</td><td>'TD' </td><td>'Child'</td><td>14.0</td><td>5.656854e-05</td><td>2.30000e+01</td><td> 2.7</td><td>0.0003535534</td><td>5.656854e-05</td><td>3.000000e-01</td><td> 9.7</td><td>4.949747e-05</td><td>0.4</td><td>0.0002121320</td><td> 8.3</td><td>0.0004242641</td><td>5.656854e-05</td><td>0.0002828427</td><td>3.000000e-01</td><td>2.121320e-05</td><td>1.4</td><td>6.000000e-01</td><td>3.535534e-05</td><td> 4.5</td><td>170</td><td>0.0002121320</td><td>0.0020000000</td><td>0.037</td><td>0.32000000</td><td>0.140</td><td>440</td><td>0.0030</td><td>0.190</td><td>1540</td><td> 64</td><td>0.170</td><td>180</td><td>0.310</td><td>1950</td><td>0.0006000000</td><td>1.500</td><td> 48.5</td></tr>\n",
       "\t<tr><td>60</td><td>'TD' </td><td>'Child'</td><td> 9.1</td><td>2.000000e-01</td><td>2.20000e+01</td><td> 1.7</td><td>0.0003535534</td><td>5.656854e-05</td><td>7.071068e-05</td><td> 5.9</td><td>4.949747e-05</td><td>0.4</td><td>0.0002121320</td><td> 6.4</td><td>0.0004242641</td><td>5.656854e-05</td><td>0.0002828427</td><td>1.000000e-01</td><td>2.121320e-05</td><td>1.7</td><td>2.000000e-01</td><td>3.535534e-05</td><td> 2.4</td><td> 65</td><td>0.0002121320</td><td>0.0010000000</td><td>0.023</td><td>0.12000000</td><td>0.140</td><td>230</td><td>0.0020</td><td>0.066</td><td> 770</td><td> 43</td><td>0.160</td><td>110</td><td>0.150</td><td>1460</td><td>0.0001414214</td><td>0.220</td><td> 82.1</td></tr>\n",
       "\t<tr><td>61</td><td>'TD' </td><td>'Child'</td><td>27.0</td><td>2.000000e-01</td><td>1.80000e+01</td><td> 1.9</td><td>0.0003535534</td><td>5.656854e-05</td><td>7.071068e-05</td><td> 5.3</td><td>4.949747e-05</td><td>0.7</td><td>0.0002121320</td><td> 2.8</td><td>0.0004242641</td><td>5.656854e-05</td><td>0.0002828427</td><td>2.000000e-01</td><td>2.121320e-05</td><td>5.5</td><td>3.535534e-05</td><td>3.535534e-05</td><td> 3.1</td><td> 13</td><td>0.0002121320</td><td>0.0005656854</td><td>0.025</td><td>0.07071068</td><td>0.120</td><td>190</td><td>0.0030</td><td>0.063</td><td>1070</td><td> 81</td><td>0.110</td><td> 62</td><td>0.042</td><td> 900</td><td>0.0001414214</td><td>1.000</td><td> 47.7</td></tr>\n",
       "\t<tr><td>62</td><td>'TD' </td><td>'Child'</td><td> 8.5</td><td>1.000000e-01</td><td>2.30000e+01</td><td> 2.9</td><td>0.0003535534</td><td>5.656854e-05</td><td>7.071068e-05</td><td> 5.7</td><td>4.949747e-05</td><td>0.3</td><td>0.0002121320</td><td> 2.7</td><td>0.0004242641</td><td>5.656854e-05</td><td>0.0002828427</td><td>2.000000e-01</td><td>2.121320e-05</td><td>2.5</td><td>4.000000e-01</td><td>3.535534e-05</td><td> 1.4</td><td> 93</td><td>0.0002121320</td><td>0.0005656854</td><td>0.030</td><td>0.19000000</td><td>0.190</td><td>210</td><td>0.0020</td><td>0.091</td><td> 860</td><td> 42</td><td>0.160</td><td>110</td><td>0.180</td><td>1480</td><td>0.0005000000</td><td>0.960</td><td> 82.0</td></tr>\n",
       "\t<tr><td>63</td><td>'TD' </td><td>'Child'</td><td> 9.5</td><td>2.000000e-01</td><td>2.90000e+01</td><td> 5.5</td><td>0.0003535534</td><td>5.656854e-05</td><td>7.071068e-05</td><td> 7.7</td><td>4.949747e-05</td><td>0.7</td><td>0.0002121320</td><td> 8.0</td><td>0.0004242641</td><td>5.656854e-05</td><td>0.0002828427</td><td>2.000000e-01</td><td>2.121320e-05</td><td>1.4</td><td>2.200000e+00</td><td>3.535534e-05</td><td> 3.3</td><td>300</td><td>0.0002121320</td><td>0.0020000000</td><td>0.019</td><td>0.55000000</td><td>0.240</td><td>200</td><td>0.0010</td><td>0.260</td><td>1300</td><td> 42</td><td>0.160</td><td>200</td><td>0.440</td><td>1690</td><td>0.0004000000</td><td>0.590</td><td> 70.4</td></tr>\n",
       "\t<tr><td>65</td><td>'TD' </td><td>'Child'</td><td> 6.3</td><td>9.000000e-02</td><td>7.90000e+00</td><td> 1.8</td><td>0.0003535534</td><td>2.000000e-01</td><td>7.071068e-05</td><td> 4.8</td><td>4.949747e-05</td><td>0.3</td><td>0.0002121320</td><td> 6.0</td><td>0.0004242641</td><td>5.656854e-05</td><td>0.0002828427</td><td>1.000000e-01</td><td>2.121320e-05</td><td>2.5</td><td>1.000000e-01</td><td>3.535534e-05</td><td> 2.1</td><td>170</td><td>0.0002121320</td><td>0.0005656854</td><td>0.022</td><td>0.30000000</td><td>0.066</td><td>170</td><td>0.0009</td><td>0.140</td><td>1600</td><td> 30</td><td>0.120</td><td>130</td><td>0.240</td><td>1220</td><td>0.0001414214</td><td>0.580</td><td> 94.0</td></tr>\n",
       "\t<tr><td>66</td><td>'TD' </td><td>'Child'</td><td>37.0</td><td>2.000000e-01</td><td>1.90000e+01</td><td> 2.0</td><td>0.0003535534</td><td>5.656854e-05</td><td>7.071068e-05</td><td> 6.9</td><td>4.949747e-05</td><td>0.8</td><td>0.0002121320</td><td> 2.1</td><td>0.0004242641</td><td>5.656854e-05</td><td>0.0002828427</td><td>4.000000e-01</td><td>2.121320e-05</td><td>6.0</td><td>6.000000e-01</td><td>3.000000e-01</td><td> 8.1</td><td> 34</td><td>0.0030000000</td><td>0.0005656854</td><td>0.019</td><td>0.07071068</td><td>0.067</td><td>160</td><td>0.0040</td><td>0.100</td><td>1020</td><td>110</td><td>0.100</td><td>130</td><td>0.150</td><td> 680</td><td>0.0020000000</td><td>1.100</td><td> 88.5</td></tr>\n",
       "\t<tr><td>67</td><td>'TD' </td><td>'Child'</td><td> 6.5</td><td>1.000000e-01</td><td>1.00000e+01</td><td> 4.0</td><td>0.0003535534</td><td>5.656854e-05</td><td>7.071068e-05</td><td> 5.7</td><td>4.949747e-05</td><td>0.4</td><td>0.0002121320</td><td> 7.6</td><td>0.0004242641</td><td>5.656854e-05</td><td>0.0002828427</td><td>2.000000e-01</td><td>2.121320e-05</td><td>1.9</td><td>2.000000e-01</td><td>3.535534e-05</td><td> 4.8</td><td>240</td><td>0.0005000000</td><td>0.0010000000</td><td>0.018</td><td>0.43000000</td><td>0.180</td><td>280</td><td>0.0010</td><td>0.170</td><td>2210</td><td> 34</td><td>0.150</td><td>140</td><td>0.260</td><td>1370</td><td>0.0003000000</td><td>0.700</td><td>101.0</td></tr>\n",
       "\t<tr><td>68</td><td>'TD' </td><td>'Child'</td><td> 3.2</td><td>1.000000e-01</td><td>1.30000e+01</td><td> 2.8</td><td>0.0003535534</td><td>5.656854e-05</td><td>7.071068e-05</td><td> 7.7</td><td>4.949747e-05</td><td>1.0</td><td>0.0002121320</td><td> 3.8</td><td>0.0004242641</td><td>5.656854e-05</td><td>0.0002828427</td><td>2.000000e-01</td><td>2.121320e-05</td><td>3.1</td><td>2.000000e-01</td><td>3.535534e-05</td><td> 1.7</td><td>120</td><td>0.0002121320</td><td>0.0005656854</td><td>0.027</td><td>0.24000000</td><td>0.075</td><td>210</td><td>0.0020</td><td>0.085</td><td>1430</td><td> 74</td><td>0.120</td><td>300</td><td>0.200</td><td>1390</td><td>0.0004000000</td><td>0.510</td><td> 74.9</td></tr>\n",
       "\t<tr><td>70</td><td>'TD' </td><td>'Child'</td><td>12.0</td><td>5.656854e-05</td><td>1.90000e+01</td><td> 5.2</td><td>0.0003535534</td><td>4.000000e-01</td><td>7.071068e-05</td><td> 5.6</td><td>4.949747e-05</td><td>0.5</td><td>0.0002121320</td><td> 6.2</td><td>0.0004242641</td><td>5.656854e-05</td><td>0.0002828427</td><td>2.000000e-01</td><td>2.121320e-05</td><td>6.6</td><td>2.000000e-01</td><td>3.535534e-05</td><td> 2.3</td><td>250</td><td>0.0002121320</td><td>0.0010000000</td><td>0.019</td><td>0.51000000</td><td>0.060</td><td>210</td><td>0.0030</td><td>0.130</td><td>1240</td><td> 85</td><td>0.093</td><td>340</td><td>0.250</td><td>1080</td><td>0.0006000000</td><td>0.670</td><td> 61.8</td></tr>\n",
       "\t<tr><td>71</td><td>'TD' </td><td>'Child'</td><td>11.0</td><td>2.000000e-01</td><td>2.00000e+01</td><td> 2.1</td><td>0.0003535534</td><td>5.656854e-05</td><td>7.071068e-05</td><td> 7.2</td><td>4.949747e-05</td><td>0.8</td><td>0.0002121320</td><td> 1.8</td><td>0.0004242641</td><td>5.656854e-05</td><td>0.0002828427</td><td>3.000000e-01</td><td>2.121320e-05</td><td>6.7</td><td>3.000000e-01</td><td>8.000000e-02</td><td> 6.4</td><td> 44</td><td>0.0006000000</td><td>0.0005656854</td><td>0.014</td><td>0.07071068</td><td>0.150</td><td>210</td><td>0.0020</td><td>0.150</td><td> 890</td><td> 67</td><td>0.130</td><td> 72</td><td>0.160</td><td>1310</td><td>0.0003000000</td><td>0.520</td><td> 79.9</td></tr>\n",
       "</tbody>\n",
       "</table>\n"
      ],
      "text/latex": [
       "A tibble: 47 × 42\n",
       "\\begin{tabular}{llllllllllllllllllllllllllllllllllllllllll}\n",
       " ID & Status & Type & Aluminum & Antimony & Arsenic & Barium & Beryllium & Bismuth & Cadmium & Cesium & Gadolinium & Lead & Mercury & Nickel & Palladium & Platinum & Tellurium & Thallium & Thorium & Tin & Tungsten & Uranium & Boron & Calcium & Chromium & Cobalt & Copper & Iron & Lithium & Magnesium & Manganese & Molybdenum & Phosphorus & Potassium & Selenium & Sodium & Strontium & Sulfur & Vanadium & Zinc & Creatinine\\\\\n",
       " <dbl> & <chr> & <chr> & <dbl> & <dbl> & <dbl> & <dbl> & <dbl> & <dbl> & <dbl> & <dbl> & <dbl> & <dbl> & <dbl> & <dbl> & <dbl> & <dbl> & <dbl> & <dbl> & <dbl> & <dbl> & <dbl> & <dbl> & <dbl> & <dbl> & <dbl> & <dbl> & <dbl> & <dbl> & <dbl> & <dbl> & <dbl> & <dbl> & <dbl> & <dbl> & <dbl> & <dbl> & <dbl> & <dbl> & <dbl> & <dbl> & <dbl>\\\\\n",
       "\\hline\n",
       "\t  1 & 'ASD' & 'Child' &  7.0 & 2.000000e-01 & 1.10000e+01 &  2.1 & 0.0007071068 & 1.131371e-04 & 1.414214e-04 &  4.3 & 9.899495e-05 & 0.2 & 0.0004242641 &  4.9 & 0.0008485281 & 1.131371e-04 & 0.0005656854 & 1.000000e-01 & 4.242641e-05 & 1.6 & 3.000000e-01 & 7.071068e-05 &  2.3 & 140 & 0.0004242641 & 0.0011313708 & 0.014 & 0.24000000 & 0.083 & 200 & 0.0007 & 0.130 & 1180 &  24 & 0.110 &  56 & 0.130 &  680 & 0.0002828427 & 0.660 & 175.0\\\\\n",
       "\t  3 & 'ASD' & 'Child' & 19.0 & 2.000000e-01 & 8.10000e+00 &  8.0 & 0.0003535534 & 5.656854e-05 & 7.071068e-05 & 16.0 & 4.949747e-05 & 1.0 & 0.0002121320 &  2.9 & 0.0004242641 & 5.656854e-05 & 0.0002828427 & 6.000000e-01 & 2.121320e-05 & 1.0 & 2.000000e-01 & 3.535534e-05 &  4.9 &  81 & 0.0002121320 & 0.0005656854 & 0.018 & 0.20000000 & 0.170 & 170 & 0.0050 & 0.180 &  360 & 120 & 0.094 & 290 & 0.170 &  860 & 0.0005000000 & 0.480 &  76.0\\\\\n",
       "\t  5 & 'ASD' & 'Child' &  9.2 & 5.656854e-05 & 5.90000e+00 &  4.7 & 0.0003535534 & 2.000000e-01 & 7.071068e-05 & 11.0 & 4.949747e-05 & 0.5 & 0.0002121320 &  9.4 & 0.0004242641 & 5.656854e-05 & 0.0002828427 & 3.000000e-01 & 2.121320e-05 & 8.4 & 6.000000e-01 & 3.535534e-05 &  2.9 & 300 & 0.0006000000 & 0.0030000000 & 0.021 & 0.60000000 & 0.170 & 310 & 0.0040 & 0.170 & 1860 & 120 & 0.110 & 240 & 0.370 & 1050 & 0.0006000000 & 0.750 &  58.6\\\\\n",
       "\t  6 & 'ASD' & 'Child' &  8.4 & 5.656854e-05 & 1.40000e+01 &  3.0 & 0.0003535534 & 5.656854e-05 & 7.071068e-05 & 16.0 & 4.949747e-05 & 0.9 & 0.0002121320 & 15.0 & 0.0004242641 & 5.656854e-05 & 0.0002828427 & 4.000000e-01 & 2.121320e-05 & 1.4 & 3.000000e-01 & 3.535534e-05 &  8.6 & 200 & 0.0010000000 & 0.0005656854 & 0.024 & 0.43000000 & 0.061 & 390 & 0.0050 & 0.043 &  150 & 120 & 0.069 & 190 & 0.330 &  630 & 0.0004000000 & 0.240 &  54.3\\\\\n",
       "\t  8 & 'ASD' & 'Child' &  5.6 & 2.828427e-05 & 1.10000e+01 &  3.8 & 0.0001767767 & 2.828427e-05 & 3.535534e-05 &  4.5 & 2.474874e-05 & 0.4 & 1.0000000000 &  2.5 & 0.0002121320 & 2.828427e-05 & 0.0001414214 & 4.000000e-01 & 1.060660e-05 & 0.6 & 3.000000e-01 & 1.767767e-05 &  1.3 &  62 & 0.0010000000 & 0.0002828427 & 0.022 & 0.03535534 & 0.220 & 170 & 0.0070 & 0.085 &  910 & 180 & 0.140 & 190 & 0.120 & 1290 & 0.0008000000 & 0.270 &  30.6\\\\\n",
       "\t 10 & 'ASD' & 'Child' & 17.0 & 6.000000e-01 & 1.50000e+01 &  3.1 & 0.0003535534 & 5.656854e-05 & 7.071068e-05 & 10.0 & 4.949747e-05 & 0.5 & 0.0002121320 &  5.2 & 0.0004242641 & 5.656854e-05 & 0.0002828427 & 2.000000e-01 & 2.121320e-05 & 0.5 & 1.000000e-01 & 3.535534e-05 &  4.5 & 250 & 0.0010000000 & 0.0005656854 & 0.019 & 0.53000000 & 0.120 & 180 & 0.0020 & 0.110 & 1200 &  54 & 0.180 & 330 & 0.240 &  800 & 0.0005000000 & 1.100 &  70.6\\\\\n",
       "\t 12 & 'ASD' & 'Child' &  9.5 & 5.656854e-05 & 1.20000e+02 &  4.2 & 0.0003535534 & 5.656854e-05 & 2.000000e-01 &  5.7 & 4.949747e-05 & 0.3 & 0.0002121320 &  6.7 & 0.0004242641 & 5.656854e-05 & 0.0002828427 & 3.000000e-01 & 2.121320e-05 & 0.2 & 3.000000e-01 & 3.535534e-05 &  3.8 & 340 & 0.0005000000 & 0.0010000000 & 0.018 & 0.63000000 & 0.083 & 230 & 0.0020 & 0.100 & 1320 &  45 & 0.130 & 120 & 0.290 & 1090 & 0.0001414214 & 0.660 &  82.1\\\\\n",
       "\t 17 & 'ASD' & 'Child' &  6.8 & 2.000000e-01 & 3.50000e+01 &  4.0 & 0.0007071068 & 1.131371e-04 & 1.414214e-04 &  3.3 & 3.300000e+01 & 0.4 & 0.0004242641 &  9.7 & 0.0008485281 & 1.131371e-04 & 0.0005656854 & 9.000000e-02 & 4.242641e-05 & 4.0 & 1.200000e+00 & 7.071068e-05 &  2.2 & 170 & 0.0010000000 & 0.0009000000 & 0.018 & 0.30000000 & 0.140 & 120 & 0.0004 & 0.140 &  260 &  14 & 0.089 &  91 & 0.350 &  670 & 0.0009000000 & 0.690 & 172.0\\\\\n",
       "\t 19 & 'ASD' & 'Child' & 24.0 & 2.000000e-01 & 1.40000e+01 &  2.6 & 0.0003535534 & 5.656854e-05 & 7.071068e-05 &  4.4 & 4.949747e-05 & 0.5 & 0.0002121320 &  3.8 & 0.0004242641 & 5.656854e-05 & 0.0002828427 & 6.000000e-01 & 2.121320e-05 & 2.0 & 7.000000e-02 & 3.535534e-05 &  4.5 & 150 & 0.0002121320 & 0.0005656854 & 0.020 & 0.34000000 & 0.084 & 110 & 0.0060 & 0.058 &  810 & 120 & 0.091 & 200 & 0.260 &  690 & 0.0006000000 & 0.740 &  87.4\\\\\n",
       "\t 20 & 'ASD' & 'Child' & 21.0 & 7.000000e-02 & 1.20000e+01 &  1.8 & 0.0003535534 & 5.656854e-05 & 2.000000e-01 &  3.6 & 4.949747e-05 & 0.1 & 0.0002121320 &  1.3 & 0.0004242641 & 5.656854e-05 & 0.0002828427 & 2.000000e-01 & 2.121320e-05 & 0.2 & 2.000000e-01 & 3.535534e-05 &  2.4 &  38 & 0.0004000000 & 0.0005656854 & 0.020 & 0.07071068 & 0.055 & 150 & 0.0020 & 0.083 &  900 &  51 & 0.100 &  45 & 0.060 &  990 & 0.0002000000 & 0.500 & 123.0\\\\\n",
       "\t 25 & 'ASD' & 'Child' &  7.7 & 1.000000e-01 & 1.10000e+01 & 10.0 & 0.0003535534 & 1.000000e-01 & 7.071068e-05 &  6.9 & 4.949747e-05 & 0.5 & 0.7000000000 &  7.1 & 0.0004242641 & 5.656854e-05 & 0.0002828427 & 4.000000e-01 & 2.121320e-05 & 0.9 & 1.000000e-01 & 2.000000e-01 &  2.3 & 180 & 0.0002121320 & 0.0005656854 & 0.059 & 0.37000000 & 0.044 & 190 & 0.0040 & 0.097 & 1240 & 130 & 0.130 & 280 & 0.250 &  820 & 0.0005000000 & 0.790 &  73.8\\\\\n",
       "\t 28 & 'ASD' & 'Child' &  3.2 & 5.656854e-05 & 2.12132e-03 &  1.4 & 0.0003535534 & 5.656854e-05 & 7.071068e-05 &  5.0 & 4.949747e-05 & 0.3 & 0.0002121320 &  1.6 & 0.0004242641 & 5.656854e-05 & 0.0002828427 & 8.000000e-02 & 2.121320e-05 & 2.9 & 2.000000e-01 & 3.535534e-05 &  1.4 &  61 & 0.0002121320 & 0.0005656854 & 0.014 & 0.07071068 & 0.100 & 220 & 0.0007 & 0.068 &  820 &  23 & 0.057 &  79 & 0.120 &  610 & 0.0001414214 & 0.660 &  76.6\\\\\n",
       "\t 29 & 'ASD' & 'Child' &  3.5 & 5.656854e-05 & 1.50000e+01 &  4.2 & 0.0003535534 & 5.656854e-05 & 7.071068e-05 &  3.9 & 4.949747e-05 & 0.8 & 0.0002121320 &  4.6 & 0.0004242641 & 5.656854e-05 & 0.0002828427 & 2.000000e-01 & 2.121320e-05 & 0.5 & 6.000000e-02 & 1.000000e-01 &  3.5 & 220 & 0.0002121320 & 0.0005656854 & 0.013 & 0.40000000 & 0.066 & 290 & 0.0020 & 0.008 &  530 &  49 & 0.039 &  54 & 0.320 &  630 & 0.0001414214 & 0.530 &  84.8\\\\\n",
       "\t 30 & 'ASD' & 'Child' & 18.0 & 4.000000e-01 & 4.20000e+00 &  6.4 & 0.0003535534 & 5.656854e-05 & 7.071068e-05 &  6.6 & 4.949747e-05 & 0.4 & 0.0002121320 &  3.8 & 0.0004242641 & 5.656854e-05 & 0.0002828427 & 1.000000e-01 & 2.121320e-05 & 1.2 & 4.000000e-01 & 3.535534e-05 &  1.1 & 140 & 0.0003000000 & 0.0005656854 & 0.015 & 0.25000000 & 0.054 &  79 & 0.0006 & 0.090 &  610 &  17 & 0.074 & 170 & 0.210 &  730 & 0.0003000000 & 0.790 & 135.0\\\\\n",
       "\t 31 & 'ASD' & 'Child' & 15.0 & 5.656854e-05 & 2.12132e-03 &  0.5 & 0.0003535534 & 5.656854e-05 & 7.071068e-05 &  8.6 & 4.949747e-05 & 0.8 & 0.6000000000 &  1.6 & 0.0004242641 & 5.656854e-05 & 0.0002828427 & 5.000000e-01 & 2.121320e-05 & 0.2 & 2.000000e-01 & 3.535534e-05 &  3.3 &  14 & 0.0002121320 & 0.0005656854 & 0.020 & 0.07071068 & 0.043 &  60 & 0.0050 & 0.044 &  720 & 120 & 0.072 & 230 & 0.036 &  770 & 0.0006000000 & 0.330 &  68.2\\\\\n",
       "\t 32 & 'ASD' & 'Child' &  3.5 & 5.656854e-05 & 1.20000e+01 &  4.0 & 0.0003535534 & 5.656854e-05 & 7.071068e-05 & 11.0 & 4.949747e-05 & 0.5 & 0.3000000000 &  4.4 & 0.0004242641 & 5.656854e-05 & 0.0002828427 & 3.000000e-01 & 2.121320e-05 & 0.4 & 1.000000e-01 & 3.535534e-05 &  3.7 &  92 & 0.0002121320 & 0.0008000000 & 0.018 & 0.18000000 & 0.084 & 190 & 0.0020 & 0.045 & 1290 &  52 & 0.054 & 210 & 0.140 &  740 & 0.0004000000 & 0.280 & 110.0\\\\\n",
       "\t 33 & 'ASD' & 'Child' & 33.0 & 5.656854e-05 & 7.10000e+00 &  2.8 & 0.0003535534 & 5.656854e-05 & 7.071068e-05 &  8.4 & 4.949747e-05 & 0.3 & 0.0002121320 &  4.3 & 0.0004242641 & 5.656854e-05 & 0.0002828427 & 3.000000e-01 & 2.121320e-05 & 0.4 & 2.000000e-01 & 3.535534e-05 &  4.1 &  80 & 0.0002121320 & 0.0010000000 & 0.017 & 0.16000000 & 0.064 & 310 & 0.0020 & 0.048 & 1250 &  54 & 0.074 & 250 & 0.170 &  870 & 0.0003000000 & 0.520 &  85.4\\\\\n",
       "\t 34 & 'ASD' & 'Child' &  5.6 & 5.656854e-05 & 1.20000e+01 &  3.8 & 0.0003535534 & 5.656854e-05 & 7.071068e-05 & 10.0 & 4.949747e-05 & 0.6 & 0.0002121320 &  9.5 & 0.0004242641 & 5.656854e-05 & 0.0002828427 & 2.000000e-01 & 2.121320e-05 & 1.2 & 2.000000e-01 & 3.535534e-05 &  2.3 & 260 & 0.0002121320 & 0.0020000000 & 0.024 & 0.49000000 & 0.350 & 350 & 0.0030 & 0.085 & 1680 &  64 & 0.170 & 430 & 0.410 & 1870 & 0.0007000000 & 0.730 &  55.4\\\\\n",
       "\t 35 & 'ASD' & 'Child' &  1.9 & 5.656854e-05 & 1.60000e+01 &  5.4 & 0.0003535534 & 5.656854e-05 & 7.071068e-05 &  7.6 & 4.949747e-05 & 0.5 & 0.0002121320 &  5.4 & 0.0004242641 & 5.656854e-05 & 0.0002828427 & 3.000000e-01 & 2.121320e-05 & 0.3 & 2.000000e-01 & 3.535534e-05 &  3.2 & 150 & 0.0002121320 & 0.0005656854 & 0.020 & 0.30000000 & 0.110 & 170 & 0.0050 & 0.110 &  890 & 120 & 0.130 & 240 & 0.250 &  980 & 0.0005000000 & 0.093 &  83.7\\\\\n",
       "\t 37 & 'ASD' & 'Child' & 15.0 & 9.000000e-02 & 1.10000e+01 &  1.2 & 0.0003535534 & 5.656854e-05 & 1.000000e-01 &  6.3 & 4.949747e-05 & 0.3 & 0.0002121320 &  2.7 & 0.0004242641 & 5.656854e-05 & 0.0002828427 & 3.000000e-01 & 2.121320e-05 & 0.6 & 7.000000e-02 & 3.535534e-05 &  3.2 &  41 & 0.0002121320 & 0.0005656854 & 0.021 & 0.07071068 & 0.058 & 160 & 0.0030 & 0.060 &  950 &  79 & 0.083 & 170 & 0.120 &  730 & 0.0004000000 & 0.530 &  87.0\\\\\n",
       "\t 39 & 'ASD' & 'Child' & 74.0 & 3.000000e-01 & 2.50000e+01 & 15.0 & 0.0003535534 & 5.656854e-05 & 1.000000e-01 & 14.0 & 4.949747e-05 & 2.9 & 0.0002121320 &  7.8 & 0.0004242641 & 5.656854e-05 & 0.0002828427 & 4.000000e-01 & 2.121320e-05 & 3.7 & 1.000000e-01 & 8.000000e-02 & 11.0 & 330 & 0.0007000000 & 0.0010000000 & 0.023 & 0.72000000 & 0.110 & 200 & 0.0110 & 0.026 &  260 &  74 & 0.021 & 170 & 0.410 &  320 & 0.0006000000 & 0.630 & 102.0\\\\\n",
       "\t 40 & 'TD'  & 'Child' & 15.0 & 1.131371e-04 & 1.20000e+01 &  1.6 & 0.0007071068 & 1.131371e-04 & 1.414214e-04 &  3.4 & 9.899495e-05 & 0.3 & 0.0004242641 &  6.8 & 0.0008485281 & 1.131371e-04 & 0.0005656854 & 1.000000e-01 & 4.242641e-05 & 1.0 & 3.000000e-01 & 7.071068e-05 &  2.7 &  84 & 0.0004242641 & 0.0010000000 & 0.016 & 0.16000000 & 0.150 & 150 & 0.0010 & 0.150 &  990 &  38 & 0.075 & 130 & 0.170 &  790 & 0.0002000000 & 0.380 & 170.0\\\\\n",
       "\t 41 & 'TD'  & 'Child' & 59.0 & 3.000000e-01 & 1.10000e+01 &  7.2 & 0.0003535534 & 5.656854e-05 & 7.071068e-05 &  7.5 & 4.949747e-05 & 2.2 & 0.0002121320 &  6.7 & 0.0004242641 & 5.656854e-05 & 0.0002828427 & 2.000000e-01 & 2.121320e-05 & 2.2 & 7.000000e-01 & 3.535534e-05 &  3.3 & 180 & 0.0002121320 & 0.0005656854 & 0.030 & 0.35000000 & 0.130 & 200 & 0.0050 & 0.140 & 1830 &  76 & 0.130 & 180 & 0.270 & 1340 & 0.0005000000 & 0.730 &  50.9\\\\\n",
       "\t 42 & 'TD'  & 'Child' & 17.0 & 5.656854e-05 & 1.10000e+01 &  5.2 & 0.0003535534 & 5.656854e-05 & 7.071068e-05 &  5.8 & 4.949747e-05 & 0.8 & 0.0002121320 &  4.5 & 0.0004242641 & 5.656854e-05 & 0.0002828427 & 2.000000e-01 & 2.121320e-05 & 5.0 & 8.000000e-01 & 3.535534e-05 &  1.6 & 270 & 0.0002121320 & 0.0005656854 & 0.018 & 0.52000000 & 0.230 & 170 & 0.0020 & 0.110 & 1050 &  49 & 0.076 & 190 & 0.390 &  910 & 0.0001414214 & 0.860 &  56.8\\\\\n",
       "\t 43 & 'TD'  & 'Child' & 14.0 & 5.656854e-05 & 6.50000e+00 &  7.4 & 0.0003535534 & 5.656854e-05 & 7.071068e-05 &  8.9 & 4.949747e-05 & 1.1 & 0.0002121320 &  9.0 & 0.0004242641 & 5.656854e-05 & 0.0002828427 & 4.000000e-01 & 2.121320e-05 & 2.6 & 2.000000e-01 & 3.535534e-05 &  2.1 & 540 & 0.0002121320 & 0.0010000000 & 0.022 & 1.00000000 & 0.099 & 230 & 0.0030 & 0.062 & 1480 &  84 & 0.200 & 260 & 0.420 & 1930 & 0.0005000000 & 1.400 &  55.6\\\\\n",
       "\t 45 & 'TD'  & 'Child' &  6.1 & 5.656854e-05 & 1.10000e+01 &  2.9 & 0.0003535534 & 5.656854e-05 & 7.071068e-05 &  6.2 & 4.949747e-05 & 0.6 & 0.0002121320 &  2.9 & 0.0004242641 & 5.656854e-05 & 0.0002828427 & 2.000000e-01 & 2.121320e-05 & 0.9 & 2.000000e-01 & 3.535534e-05 &  2.7 & 100 & 0.0002121320 & 0.0008000000 & 0.017 & 0.21000000 & 0.092 & 230 & 0.0030 & 0.061 & 1270 &  87 & 0.110 & 280 & 0.170 & 1200 & 0.0004000000 & 0.480 &  97.9\\\\\n",
       "\t 46 & 'TD'  & 'Child' &  4.1 & 5.656854e-05 & 1.60000e+01 &  2.8 & 0.0003535534 & 5.656854e-05 & 7.071068e-05 &  7.0 & 4.949747e-05 & 0.4 & 0.0002121320 &  4.3 & 0.0004242641 & 5.656854e-05 & 0.0002828427 & 3.000000e-01 & 2.121320e-05 & 0.2 & 2.000000e-01 & 3.535534e-05 &  3.9 &  88 & 0.0002121320 & 0.0030000000 & 0.022 & 0.17000000 & 0.099 & 190 & 0.0020 & 0.096 & 1210 &  54 & 0.100 & 150 & 0.160 &  960 & 0.0003000000 & 0.380 &  83.7\\\\\n",
       "\t 48 & 'TD'  & 'Child' & 38.0 & 5.656854e-05 & 1.50000e+01 &  3.3 & 0.0003535534 & 5.656854e-05 & 7.071068e-05 &  3.7 & 4.949747e-05 & 0.2 & 0.0002121320 & 10.0 & 0.0004242641 & 5.656854e-05 & 0.0002828427 & 2.000000e-01 & 2.121320e-05 & 1.6 & 3.000000e-01 & 3.535534e-05 &  2.5 & 390 & 0.0002121320 & 0.0020000000 & 0.018 & 0.71000000 & 0.170 & 280 & 0.0008 & 0.150 & 1240 &  18 & 0.130 & 140 & 0.250 & 1490 & 0.0003000000 & 1.200 &  71.8\\\\\n",
       "\t 49 & 'TD'  & 'Child' & 46.0 & 9.000000e-01 & 1.06066e-03 & 11.0 & 0.0001767767 & 2.828427e-05 & 3.535534e-05 & 18.0 & 2.474874e-05 & 1.1 & 0.0001060660 &  5.6 & 0.0002121320 & 2.828427e-05 & 0.0001414214 & 8.000000e-01 & 1.060660e-05 & 0.6 & 3.000000e-01 & 1.767767e-05 &  8.9 & 190 & 0.0001060660 & 0.0002828427 & 0.037 & 0.03535534 & 0.130 & 340 & 0.0070 & 0.049 & 2980 & 130 & 0.210 & 700 & 0.300 & 1570 & 0.0010000000 & 0.590 &  10.6\\\\\n",
       "\t 50 & 'TD'  & 'Child' &  6.4 & 5.656854e-05 & 9.00000e+00 &  2.5 & 0.0003535534 & 5.656854e-05 & 7.071068e-05 &  7.7 & 4.949747e-05 & 0.4 & 0.0002121320 &  3.4 & 0.0004242641 & 5.656854e-05 & 0.0002828427 & 2.000000e-01 & 2.121320e-05 & 0.5 & 3.000000e-01 & 3.535534e-05 &  4.4 &  77 & 0.0002121320 & 0.0005656854 & 0.016 & 0.15000000 & 0.071 & 240 & 0.0010 & 0.140 & 1600 &  35 & 0.120 & 150 & 0.130 & 1270 & 0.0001414214 & 1.100 &  97.0\\\\\n",
       "\t 51 & 'TD'  & 'Child' & 16.0 & 3.000000e-01 & 2.50000e+01 &  7.0 & 0.0003535534 & 5.656854e-05 & 7.071068e-05 & 14.0 & 4.949747e-05 & 0.8 & 0.0002121320 &  9.9 & 0.0004242641 & 5.656854e-05 & 0.0002828427 & 3.535534e-05 & 2.121320e-05 & 9.9 & 2.000000e-01 & 3.535534e-05 &  4.1 & 480 & 0.0002121320 & 0.0005656854 & 0.026 & 0.86000000 & 0.300 & 330 & 0.0008 & 0.087 & 1940 &  18 & 0.130 & 210 & 0.550 & 1800 & 0.0001414214 & 0.800 &  46.9\\\\\n",
       "\t 52 & 'TD'  & 'Child' & 18.0 & 2.000000e-01 & 1.10000e+01 &  1.0 & 0.0003535534 & 5.656854e-05 & 7.071068e-05 & 16.0 & 4.949747e-05 & 0.7 & 0.0002121320 &  3.3 & 0.0004242641 & 5.656854e-05 & 0.0002828427 & 4.000000e-01 & 2.121320e-05 & 2.8 & 7.000000e-01 & 3.535534e-05 &  3.1 &  19 & 0.0004000000 & 0.0005656854 & 0.020 & 0.07071068 & 0.180 &  53 & 0.0070 & 0.240 & 1450 & 210 & 0.180 & 120 & 0.046 & 1930 & 0.0004000000 & 0.410 &  89.8\\\\\n",
       "\t 53 & 'TD'  & 'Child' & 11.0 & 2.000000e-01 & 2.80000e+01 &  9.8 & 0.0003535534 & 5.656854e-05 & 7.071068e-05 &  6.0 & 4.949747e-05 & 0.4 & 0.0002121320 &  6.1 & 0.0004242641 & 5.656854e-05 & 0.0002828427 & 2.000000e-01 & 2.121320e-05 & 1.8 & 3.000000e-01 & 3.535534e-05 &  2.7 & 200 & 0.0002121320 & 0.0005656854 & 0.016 & 0.38000000 & 0.073 & 390 & 0.0009 & 0.260 & 1680 &  29 & 0.100 & 210 & 0.330 & 1430 & 0.0003000000 & 0.700 &  85.7\\\\\n",
       "\t 54 & 'TD'  & 'Child' & 10.0 & 5.656854e-05 & 5.10000e+01 &  6.8 & 0.0003535534 & 5.656854e-05 & 7.071068e-05 &  7.6 & 4.949747e-05 & 0.6 & 0.0002121320 &  6.8 & 0.0004242641 & 5.656854e-05 & 0.0002828427 & 2.000000e-01 & 2.121320e-05 & 3.3 & 5.000000e-01 & 3.535534e-05 &  3.6 & 220 & 0.0002121320 & 0.0005656854 & 0.026 & 0.49000000 & 0.160 & 130 & 0.0050 & 0.130 &  820 & 130 & 0.130 & 680 & 0.340 &  980 & 0.0010000000 & 0.780 &  45.8\\\\\n",
       "\t 56 & 'TD'  & 'Child' & 12.0 & 8.000000e-02 & 5.20000e+00 &  3.0 & 0.0007071068 & 1.131371e-04 & 1.414214e-04 &  2.9 & 9.899495e-05 & 0.1 & 0.0004242641 &  2.6 & 0.0008485281 & 1.131371e-04 & 0.0005656854 & 9.000000e-02 & 4.242641e-05 & 4.2 & 2.000000e-01 & 7.071068e-05 &  1.8 &  72 & 0.0004242641 & 0.0011313708 & 0.016 & 0.13000000 & 0.037 & 170 & 0.0008 & 0.100 &  710 &  29 & 0.060 &  48 & 0.077 &  630 & 0.0002828427 & 0.740 & 209.0\\\\\n",
       "\t 57 & 'TD'  & 'Child' & 15.0 & 5.656854e-05 & 1.10000e+01 &  1.7 & 0.0003535534 & 6.000000e-01 & 2.000000e-01 &  6.1 & 4.949747e-05 & 0.4 & 0.0002121320 &  6.5 & 0.0004242641 & 5.656854e-05 & 0.0002828427 & 3.000000e-01 & 2.121320e-05 & 2.2 & 5.000000e-01 & 3.535534e-05 &  2.0 & 120 & 0.0002121320 & 0.0005656854 & 0.021 & 0.25000000 & 0.120 & 250 & 0.0030 & 0.092 & 1540 &  76 & 0.170 & 200 & 0.230 & 1630 & 0.0005000000 & 0.450 &  62.8\\\\\n",
       "\t 58 & 'TD'  & 'Child' & 14.0 & 5.656854e-05 & 2.30000e+01 &  2.7 & 0.0003535534 & 5.656854e-05 & 3.000000e-01 &  9.7 & 4.949747e-05 & 0.4 & 0.0002121320 &  8.3 & 0.0004242641 & 5.656854e-05 & 0.0002828427 & 3.000000e-01 & 2.121320e-05 & 1.4 & 6.000000e-01 & 3.535534e-05 &  4.5 & 170 & 0.0002121320 & 0.0020000000 & 0.037 & 0.32000000 & 0.140 & 440 & 0.0030 & 0.190 & 1540 &  64 & 0.170 & 180 & 0.310 & 1950 & 0.0006000000 & 1.500 &  48.5\\\\\n",
       "\t 60 & 'TD'  & 'Child' &  9.1 & 2.000000e-01 & 2.20000e+01 &  1.7 & 0.0003535534 & 5.656854e-05 & 7.071068e-05 &  5.9 & 4.949747e-05 & 0.4 & 0.0002121320 &  6.4 & 0.0004242641 & 5.656854e-05 & 0.0002828427 & 1.000000e-01 & 2.121320e-05 & 1.7 & 2.000000e-01 & 3.535534e-05 &  2.4 &  65 & 0.0002121320 & 0.0010000000 & 0.023 & 0.12000000 & 0.140 & 230 & 0.0020 & 0.066 &  770 &  43 & 0.160 & 110 & 0.150 & 1460 & 0.0001414214 & 0.220 &  82.1\\\\\n",
       "\t 61 & 'TD'  & 'Child' & 27.0 & 2.000000e-01 & 1.80000e+01 &  1.9 & 0.0003535534 & 5.656854e-05 & 7.071068e-05 &  5.3 & 4.949747e-05 & 0.7 & 0.0002121320 &  2.8 & 0.0004242641 & 5.656854e-05 & 0.0002828427 & 2.000000e-01 & 2.121320e-05 & 5.5 & 3.535534e-05 & 3.535534e-05 &  3.1 &  13 & 0.0002121320 & 0.0005656854 & 0.025 & 0.07071068 & 0.120 & 190 & 0.0030 & 0.063 & 1070 &  81 & 0.110 &  62 & 0.042 &  900 & 0.0001414214 & 1.000 &  47.7\\\\\n",
       "\t 62 & 'TD'  & 'Child' &  8.5 & 1.000000e-01 & 2.30000e+01 &  2.9 & 0.0003535534 & 5.656854e-05 & 7.071068e-05 &  5.7 & 4.949747e-05 & 0.3 & 0.0002121320 &  2.7 & 0.0004242641 & 5.656854e-05 & 0.0002828427 & 2.000000e-01 & 2.121320e-05 & 2.5 & 4.000000e-01 & 3.535534e-05 &  1.4 &  93 & 0.0002121320 & 0.0005656854 & 0.030 & 0.19000000 & 0.190 & 210 & 0.0020 & 0.091 &  860 &  42 & 0.160 & 110 & 0.180 & 1480 & 0.0005000000 & 0.960 &  82.0\\\\\n",
       "\t 63 & 'TD'  & 'Child' &  9.5 & 2.000000e-01 & 2.90000e+01 &  5.5 & 0.0003535534 & 5.656854e-05 & 7.071068e-05 &  7.7 & 4.949747e-05 & 0.7 & 0.0002121320 &  8.0 & 0.0004242641 & 5.656854e-05 & 0.0002828427 & 2.000000e-01 & 2.121320e-05 & 1.4 & 2.200000e+00 & 3.535534e-05 &  3.3 & 300 & 0.0002121320 & 0.0020000000 & 0.019 & 0.55000000 & 0.240 & 200 & 0.0010 & 0.260 & 1300 &  42 & 0.160 & 200 & 0.440 & 1690 & 0.0004000000 & 0.590 &  70.4\\\\\n",
       "\t 65 & 'TD'  & 'Child' &  6.3 & 9.000000e-02 & 7.90000e+00 &  1.8 & 0.0003535534 & 2.000000e-01 & 7.071068e-05 &  4.8 & 4.949747e-05 & 0.3 & 0.0002121320 &  6.0 & 0.0004242641 & 5.656854e-05 & 0.0002828427 & 1.000000e-01 & 2.121320e-05 & 2.5 & 1.000000e-01 & 3.535534e-05 &  2.1 & 170 & 0.0002121320 & 0.0005656854 & 0.022 & 0.30000000 & 0.066 & 170 & 0.0009 & 0.140 & 1600 &  30 & 0.120 & 130 & 0.240 & 1220 & 0.0001414214 & 0.580 &  94.0\\\\\n",
       "\t 66 & 'TD'  & 'Child' & 37.0 & 2.000000e-01 & 1.90000e+01 &  2.0 & 0.0003535534 & 5.656854e-05 & 7.071068e-05 &  6.9 & 4.949747e-05 & 0.8 & 0.0002121320 &  2.1 & 0.0004242641 & 5.656854e-05 & 0.0002828427 & 4.000000e-01 & 2.121320e-05 & 6.0 & 6.000000e-01 & 3.000000e-01 &  8.1 &  34 & 0.0030000000 & 0.0005656854 & 0.019 & 0.07071068 & 0.067 & 160 & 0.0040 & 0.100 & 1020 & 110 & 0.100 & 130 & 0.150 &  680 & 0.0020000000 & 1.100 &  88.5\\\\\n",
       "\t 67 & 'TD'  & 'Child' &  6.5 & 1.000000e-01 & 1.00000e+01 &  4.0 & 0.0003535534 & 5.656854e-05 & 7.071068e-05 &  5.7 & 4.949747e-05 & 0.4 & 0.0002121320 &  7.6 & 0.0004242641 & 5.656854e-05 & 0.0002828427 & 2.000000e-01 & 2.121320e-05 & 1.9 & 2.000000e-01 & 3.535534e-05 &  4.8 & 240 & 0.0005000000 & 0.0010000000 & 0.018 & 0.43000000 & 0.180 & 280 & 0.0010 & 0.170 & 2210 &  34 & 0.150 & 140 & 0.260 & 1370 & 0.0003000000 & 0.700 & 101.0\\\\\n",
       "\t 68 & 'TD'  & 'Child' &  3.2 & 1.000000e-01 & 1.30000e+01 &  2.8 & 0.0003535534 & 5.656854e-05 & 7.071068e-05 &  7.7 & 4.949747e-05 & 1.0 & 0.0002121320 &  3.8 & 0.0004242641 & 5.656854e-05 & 0.0002828427 & 2.000000e-01 & 2.121320e-05 & 3.1 & 2.000000e-01 & 3.535534e-05 &  1.7 & 120 & 0.0002121320 & 0.0005656854 & 0.027 & 0.24000000 & 0.075 & 210 & 0.0020 & 0.085 & 1430 &  74 & 0.120 & 300 & 0.200 & 1390 & 0.0004000000 & 0.510 &  74.9\\\\\n",
       "\t 70 & 'TD'  & 'Child' & 12.0 & 5.656854e-05 & 1.90000e+01 &  5.2 & 0.0003535534 & 4.000000e-01 & 7.071068e-05 &  5.6 & 4.949747e-05 & 0.5 & 0.0002121320 &  6.2 & 0.0004242641 & 5.656854e-05 & 0.0002828427 & 2.000000e-01 & 2.121320e-05 & 6.6 & 2.000000e-01 & 3.535534e-05 &  2.3 & 250 & 0.0002121320 & 0.0010000000 & 0.019 & 0.51000000 & 0.060 & 210 & 0.0030 & 0.130 & 1240 &  85 & 0.093 & 340 & 0.250 & 1080 & 0.0006000000 & 0.670 &  61.8\\\\\n",
       "\t 71 & 'TD'  & 'Child' & 11.0 & 2.000000e-01 & 2.00000e+01 &  2.1 & 0.0003535534 & 5.656854e-05 & 7.071068e-05 &  7.2 & 4.949747e-05 & 0.8 & 0.0002121320 &  1.8 & 0.0004242641 & 5.656854e-05 & 0.0002828427 & 3.000000e-01 & 2.121320e-05 & 6.7 & 3.000000e-01 & 8.000000e-02 &  6.4 &  44 & 0.0006000000 & 0.0005656854 & 0.014 & 0.07071068 & 0.150 & 210 & 0.0020 & 0.150 &  890 &  67 & 0.130 &  72 & 0.160 & 1310 & 0.0003000000 & 0.520 &  79.9\\\\\n",
       "\\end{tabular}\n"
      ],
      "text/markdown": [
       "\n",
       "A tibble: 47 × 42\n",
       "\n",
       "| ID &lt;dbl&gt; | Status &lt;chr&gt; | Type &lt;chr&gt; | Aluminum &lt;dbl&gt; | Antimony &lt;dbl&gt; | Arsenic &lt;dbl&gt; | Barium &lt;dbl&gt; | Beryllium &lt;dbl&gt; | Bismuth &lt;dbl&gt; | Cadmium &lt;dbl&gt; | Cesium &lt;dbl&gt; | Gadolinium &lt;dbl&gt; | Lead &lt;dbl&gt; | Mercury &lt;dbl&gt; | Nickel &lt;dbl&gt; | Palladium &lt;dbl&gt; | Platinum &lt;dbl&gt; | Tellurium &lt;dbl&gt; | Thallium &lt;dbl&gt; | Thorium &lt;dbl&gt; | Tin &lt;dbl&gt; | Tungsten &lt;dbl&gt; | Uranium &lt;dbl&gt; | Boron &lt;dbl&gt; | Calcium &lt;dbl&gt; | Chromium &lt;dbl&gt; | Cobalt &lt;dbl&gt; | Copper &lt;dbl&gt; | Iron &lt;dbl&gt; | Lithium &lt;dbl&gt; | Magnesium &lt;dbl&gt; | Manganese &lt;dbl&gt; | Molybdenum &lt;dbl&gt; | Phosphorus &lt;dbl&gt; | Potassium &lt;dbl&gt; | Selenium &lt;dbl&gt; | Sodium &lt;dbl&gt; | Strontium &lt;dbl&gt; | Sulfur &lt;dbl&gt; | Vanadium &lt;dbl&gt; | Zinc &lt;dbl&gt; | Creatinine &lt;dbl&gt; |\n",
       "|---|---|---|---|---|---|---|---|---|---|---|---|---|---|---|---|---|---|---|---|---|---|---|---|---|---|---|---|---|---|---|---|---|---|---|---|---|---|---|---|---|---|\n",
       "|  1 | 'ASD' | 'Child' |  7.0 | 2.000000e-01 | 1.10000e+01 |  2.1 | 0.0007071068 | 1.131371e-04 | 1.414214e-04 |  4.3 | 9.899495e-05 | 0.2 | 0.0004242641 |  4.9 | 0.0008485281 | 1.131371e-04 | 0.0005656854 | 1.000000e-01 | 4.242641e-05 | 1.6 | 3.000000e-01 | 7.071068e-05 |  2.3 | 140 | 0.0004242641 | 0.0011313708 | 0.014 | 0.24000000 | 0.083 | 200 | 0.0007 | 0.130 | 1180 |  24 | 0.110 |  56 | 0.130 |  680 | 0.0002828427 | 0.660 | 175.0 |\n",
       "|  3 | 'ASD' | 'Child' | 19.0 | 2.000000e-01 | 8.10000e+00 |  8.0 | 0.0003535534 | 5.656854e-05 | 7.071068e-05 | 16.0 | 4.949747e-05 | 1.0 | 0.0002121320 |  2.9 | 0.0004242641 | 5.656854e-05 | 0.0002828427 | 6.000000e-01 | 2.121320e-05 | 1.0 | 2.000000e-01 | 3.535534e-05 |  4.9 |  81 | 0.0002121320 | 0.0005656854 | 0.018 | 0.20000000 | 0.170 | 170 | 0.0050 | 0.180 |  360 | 120 | 0.094 | 290 | 0.170 |  860 | 0.0005000000 | 0.480 |  76.0 |\n",
       "|  5 | 'ASD' | 'Child' |  9.2 | 5.656854e-05 | 5.90000e+00 |  4.7 | 0.0003535534 | 2.000000e-01 | 7.071068e-05 | 11.0 | 4.949747e-05 | 0.5 | 0.0002121320 |  9.4 | 0.0004242641 | 5.656854e-05 | 0.0002828427 | 3.000000e-01 | 2.121320e-05 | 8.4 | 6.000000e-01 | 3.535534e-05 |  2.9 | 300 | 0.0006000000 | 0.0030000000 | 0.021 | 0.60000000 | 0.170 | 310 | 0.0040 | 0.170 | 1860 | 120 | 0.110 | 240 | 0.370 | 1050 | 0.0006000000 | 0.750 |  58.6 |\n",
       "|  6 | 'ASD' | 'Child' |  8.4 | 5.656854e-05 | 1.40000e+01 |  3.0 | 0.0003535534 | 5.656854e-05 | 7.071068e-05 | 16.0 | 4.949747e-05 | 0.9 | 0.0002121320 | 15.0 | 0.0004242641 | 5.656854e-05 | 0.0002828427 | 4.000000e-01 | 2.121320e-05 | 1.4 | 3.000000e-01 | 3.535534e-05 |  8.6 | 200 | 0.0010000000 | 0.0005656854 | 0.024 | 0.43000000 | 0.061 | 390 | 0.0050 | 0.043 |  150 | 120 | 0.069 | 190 | 0.330 |  630 | 0.0004000000 | 0.240 |  54.3 |\n",
       "|  8 | 'ASD' | 'Child' |  5.6 | 2.828427e-05 | 1.10000e+01 |  3.8 | 0.0001767767 | 2.828427e-05 | 3.535534e-05 |  4.5 | 2.474874e-05 | 0.4 | 1.0000000000 |  2.5 | 0.0002121320 | 2.828427e-05 | 0.0001414214 | 4.000000e-01 | 1.060660e-05 | 0.6 | 3.000000e-01 | 1.767767e-05 |  1.3 |  62 | 0.0010000000 | 0.0002828427 | 0.022 | 0.03535534 | 0.220 | 170 | 0.0070 | 0.085 |  910 | 180 | 0.140 | 190 | 0.120 | 1290 | 0.0008000000 | 0.270 |  30.6 |\n",
       "| 10 | 'ASD' | 'Child' | 17.0 | 6.000000e-01 | 1.50000e+01 |  3.1 | 0.0003535534 | 5.656854e-05 | 7.071068e-05 | 10.0 | 4.949747e-05 | 0.5 | 0.0002121320 |  5.2 | 0.0004242641 | 5.656854e-05 | 0.0002828427 | 2.000000e-01 | 2.121320e-05 | 0.5 | 1.000000e-01 | 3.535534e-05 |  4.5 | 250 | 0.0010000000 | 0.0005656854 | 0.019 | 0.53000000 | 0.120 | 180 | 0.0020 | 0.110 | 1200 |  54 | 0.180 | 330 | 0.240 |  800 | 0.0005000000 | 1.100 |  70.6 |\n",
       "| 12 | 'ASD' | 'Child' |  9.5 | 5.656854e-05 | 1.20000e+02 |  4.2 | 0.0003535534 | 5.656854e-05 | 2.000000e-01 |  5.7 | 4.949747e-05 | 0.3 | 0.0002121320 |  6.7 | 0.0004242641 | 5.656854e-05 | 0.0002828427 | 3.000000e-01 | 2.121320e-05 | 0.2 | 3.000000e-01 | 3.535534e-05 |  3.8 | 340 | 0.0005000000 | 0.0010000000 | 0.018 | 0.63000000 | 0.083 | 230 | 0.0020 | 0.100 | 1320 |  45 | 0.130 | 120 | 0.290 | 1090 | 0.0001414214 | 0.660 |  82.1 |\n",
       "| 17 | 'ASD' | 'Child' |  6.8 | 2.000000e-01 | 3.50000e+01 |  4.0 | 0.0007071068 | 1.131371e-04 | 1.414214e-04 |  3.3 | 3.300000e+01 | 0.4 | 0.0004242641 |  9.7 | 0.0008485281 | 1.131371e-04 | 0.0005656854 | 9.000000e-02 | 4.242641e-05 | 4.0 | 1.200000e+00 | 7.071068e-05 |  2.2 | 170 | 0.0010000000 | 0.0009000000 | 0.018 | 0.30000000 | 0.140 | 120 | 0.0004 | 0.140 |  260 |  14 | 0.089 |  91 | 0.350 |  670 | 0.0009000000 | 0.690 | 172.0 |\n",
       "| 19 | 'ASD' | 'Child' | 24.0 | 2.000000e-01 | 1.40000e+01 |  2.6 | 0.0003535534 | 5.656854e-05 | 7.071068e-05 |  4.4 | 4.949747e-05 | 0.5 | 0.0002121320 |  3.8 | 0.0004242641 | 5.656854e-05 | 0.0002828427 | 6.000000e-01 | 2.121320e-05 | 2.0 | 7.000000e-02 | 3.535534e-05 |  4.5 | 150 | 0.0002121320 | 0.0005656854 | 0.020 | 0.34000000 | 0.084 | 110 | 0.0060 | 0.058 |  810 | 120 | 0.091 | 200 | 0.260 |  690 | 0.0006000000 | 0.740 |  87.4 |\n",
       "| 20 | 'ASD' | 'Child' | 21.0 | 7.000000e-02 | 1.20000e+01 |  1.8 | 0.0003535534 | 5.656854e-05 | 2.000000e-01 |  3.6 | 4.949747e-05 | 0.1 | 0.0002121320 |  1.3 | 0.0004242641 | 5.656854e-05 | 0.0002828427 | 2.000000e-01 | 2.121320e-05 | 0.2 | 2.000000e-01 | 3.535534e-05 |  2.4 |  38 | 0.0004000000 | 0.0005656854 | 0.020 | 0.07071068 | 0.055 | 150 | 0.0020 | 0.083 |  900 |  51 | 0.100 |  45 | 0.060 |  990 | 0.0002000000 | 0.500 | 123.0 |\n",
       "| 25 | 'ASD' | 'Child' |  7.7 | 1.000000e-01 | 1.10000e+01 | 10.0 | 0.0003535534 | 1.000000e-01 | 7.071068e-05 |  6.9 | 4.949747e-05 | 0.5 | 0.7000000000 |  7.1 | 0.0004242641 | 5.656854e-05 | 0.0002828427 | 4.000000e-01 | 2.121320e-05 | 0.9 | 1.000000e-01 | 2.000000e-01 |  2.3 | 180 | 0.0002121320 | 0.0005656854 | 0.059 | 0.37000000 | 0.044 | 190 | 0.0040 | 0.097 | 1240 | 130 | 0.130 | 280 | 0.250 |  820 | 0.0005000000 | 0.790 |  73.8 |\n",
       "| 28 | 'ASD' | 'Child' |  3.2 | 5.656854e-05 | 2.12132e-03 |  1.4 | 0.0003535534 | 5.656854e-05 | 7.071068e-05 |  5.0 | 4.949747e-05 | 0.3 | 0.0002121320 |  1.6 | 0.0004242641 | 5.656854e-05 | 0.0002828427 | 8.000000e-02 | 2.121320e-05 | 2.9 | 2.000000e-01 | 3.535534e-05 |  1.4 |  61 | 0.0002121320 | 0.0005656854 | 0.014 | 0.07071068 | 0.100 | 220 | 0.0007 | 0.068 |  820 |  23 | 0.057 |  79 | 0.120 |  610 | 0.0001414214 | 0.660 |  76.6 |\n",
       "| 29 | 'ASD' | 'Child' |  3.5 | 5.656854e-05 | 1.50000e+01 |  4.2 | 0.0003535534 | 5.656854e-05 | 7.071068e-05 |  3.9 | 4.949747e-05 | 0.8 | 0.0002121320 |  4.6 | 0.0004242641 | 5.656854e-05 | 0.0002828427 | 2.000000e-01 | 2.121320e-05 | 0.5 | 6.000000e-02 | 1.000000e-01 |  3.5 | 220 | 0.0002121320 | 0.0005656854 | 0.013 | 0.40000000 | 0.066 | 290 | 0.0020 | 0.008 |  530 |  49 | 0.039 |  54 | 0.320 |  630 | 0.0001414214 | 0.530 |  84.8 |\n",
       "| 30 | 'ASD' | 'Child' | 18.0 | 4.000000e-01 | 4.20000e+00 |  6.4 | 0.0003535534 | 5.656854e-05 | 7.071068e-05 |  6.6 | 4.949747e-05 | 0.4 | 0.0002121320 |  3.8 | 0.0004242641 | 5.656854e-05 | 0.0002828427 | 1.000000e-01 | 2.121320e-05 | 1.2 | 4.000000e-01 | 3.535534e-05 |  1.1 | 140 | 0.0003000000 | 0.0005656854 | 0.015 | 0.25000000 | 0.054 |  79 | 0.0006 | 0.090 |  610 |  17 | 0.074 | 170 | 0.210 |  730 | 0.0003000000 | 0.790 | 135.0 |\n",
       "| 31 | 'ASD' | 'Child' | 15.0 | 5.656854e-05 | 2.12132e-03 |  0.5 | 0.0003535534 | 5.656854e-05 | 7.071068e-05 |  8.6 | 4.949747e-05 | 0.8 | 0.6000000000 |  1.6 | 0.0004242641 | 5.656854e-05 | 0.0002828427 | 5.000000e-01 | 2.121320e-05 | 0.2 | 2.000000e-01 | 3.535534e-05 |  3.3 |  14 | 0.0002121320 | 0.0005656854 | 0.020 | 0.07071068 | 0.043 |  60 | 0.0050 | 0.044 |  720 | 120 | 0.072 | 230 | 0.036 |  770 | 0.0006000000 | 0.330 |  68.2 |\n",
       "| 32 | 'ASD' | 'Child' |  3.5 | 5.656854e-05 | 1.20000e+01 |  4.0 | 0.0003535534 | 5.656854e-05 | 7.071068e-05 | 11.0 | 4.949747e-05 | 0.5 | 0.3000000000 |  4.4 | 0.0004242641 | 5.656854e-05 | 0.0002828427 | 3.000000e-01 | 2.121320e-05 | 0.4 | 1.000000e-01 | 3.535534e-05 |  3.7 |  92 | 0.0002121320 | 0.0008000000 | 0.018 | 0.18000000 | 0.084 | 190 | 0.0020 | 0.045 | 1290 |  52 | 0.054 | 210 | 0.140 |  740 | 0.0004000000 | 0.280 | 110.0 |\n",
       "| 33 | 'ASD' | 'Child' | 33.0 | 5.656854e-05 | 7.10000e+00 |  2.8 | 0.0003535534 | 5.656854e-05 | 7.071068e-05 |  8.4 | 4.949747e-05 | 0.3 | 0.0002121320 |  4.3 | 0.0004242641 | 5.656854e-05 | 0.0002828427 | 3.000000e-01 | 2.121320e-05 | 0.4 | 2.000000e-01 | 3.535534e-05 |  4.1 |  80 | 0.0002121320 | 0.0010000000 | 0.017 | 0.16000000 | 0.064 | 310 | 0.0020 | 0.048 | 1250 |  54 | 0.074 | 250 | 0.170 |  870 | 0.0003000000 | 0.520 |  85.4 |\n",
       "| 34 | 'ASD' | 'Child' |  5.6 | 5.656854e-05 | 1.20000e+01 |  3.8 | 0.0003535534 | 5.656854e-05 | 7.071068e-05 | 10.0 | 4.949747e-05 | 0.6 | 0.0002121320 |  9.5 | 0.0004242641 | 5.656854e-05 | 0.0002828427 | 2.000000e-01 | 2.121320e-05 | 1.2 | 2.000000e-01 | 3.535534e-05 |  2.3 | 260 | 0.0002121320 | 0.0020000000 | 0.024 | 0.49000000 | 0.350 | 350 | 0.0030 | 0.085 | 1680 |  64 | 0.170 | 430 | 0.410 | 1870 | 0.0007000000 | 0.730 |  55.4 |\n",
       "| 35 | 'ASD' | 'Child' |  1.9 | 5.656854e-05 | 1.60000e+01 |  5.4 | 0.0003535534 | 5.656854e-05 | 7.071068e-05 |  7.6 | 4.949747e-05 | 0.5 | 0.0002121320 |  5.4 | 0.0004242641 | 5.656854e-05 | 0.0002828427 | 3.000000e-01 | 2.121320e-05 | 0.3 | 2.000000e-01 | 3.535534e-05 |  3.2 | 150 | 0.0002121320 | 0.0005656854 | 0.020 | 0.30000000 | 0.110 | 170 | 0.0050 | 0.110 |  890 | 120 | 0.130 | 240 | 0.250 |  980 | 0.0005000000 | 0.093 |  83.7 |\n",
       "| 37 | 'ASD' | 'Child' | 15.0 | 9.000000e-02 | 1.10000e+01 |  1.2 | 0.0003535534 | 5.656854e-05 | 1.000000e-01 |  6.3 | 4.949747e-05 | 0.3 | 0.0002121320 |  2.7 | 0.0004242641 | 5.656854e-05 | 0.0002828427 | 3.000000e-01 | 2.121320e-05 | 0.6 | 7.000000e-02 | 3.535534e-05 |  3.2 |  41 | 0.0002121320 | 0.0005656854 | 0.021 | 0.07071068 | 0.058 | 160 | 0.0030 | 0.060 |  950 |  79 | 0.083 | 170 | 0.120 |  730 | 0.0004000000 | 0.530 |  87.0 |\n",
       "| 39 | 'ASD' | 'Child' | 74.0 | 3.000000e-01 | 2.50000e+01 | 15.0 | 0.0003535534 | 5.656854e-05 | 1.000000e-01 | 14.0 | 4.949747e-05 | 2.9 | 0.0002121320 |  7.8 | 0.0004242641 | 5.656854e-05 | 0.0002828427 | 4.000000e-01 | 2.121320e-05 | 3.7 | 1.000000e-01 | 8.000000e-02 | 11.0 | 330 | 0.0007000000 | 0.0010000000 | 0.023 | 0.72000000 | 0.110 | 200 | 0.0110 | 0.026 |  260 |  74 | 0.021 | 170 | 0.410 |  320 | 0.0006000000 | 0.630 | 102.0 |\n",
       "| 40 | 'TD'  | 'Child' | 15.0 | 1.131371e-04 | 1.20000e+01 |  1.6 | 0.0007071068 | 1.131371e-04 | 1.414214e-04 |  3.4 | 9.899495e-05 | 0.3 | 0.0004242641 |  6.8 | 0.0008485281 | 1.131371e-04 | 0.0005656854 | 1.000000e-01 | 4.242641e-05 | 1.0 | 3.000000e-01 | 7.071068e-05 |  2.7 |  84 | 0.0004242641 | 0.0010000000 | 0.016 | 0.16000000 | 0.150 | 150 | 0.0010 | 0.150 |  990 |  38 | 0.075 | 130 | 0.170 |  790 | 0.0002000000 | 0.380 | 170.0 |\n",
       "| 41 | 'TD'  | 'Child' | 59.0 | 3.000000e-01 | 1.10000e+01 |  7.2 | 0.0003535534 | 5.656854e-05 | 7.071068e-05 |  7.5 | 4.949747e-05 | 2.2 | 0.0002121320 |  6.7 | 0.0004242641 | 5.656854e-05 | 0.0002828427 | 2.000000e-01 | 2.121320e-05 | 2.2 | 7.000000e-01 | 3.535534e-05 |  3.3 | 180 | 0.0002121320 | 0.0005656854 | 0.030 | 0.35000000 | 0.130 | 200 | 0.0050 | 0.140 | 1830 |  76 | 0.130 | 180 | 0.270 | 1340 | 0.0005000000 | 0.730 |  50.9 |\n",
       "| 42 | 'TD'  | 'Child' | 17.0 | 5.656854e-05 | 1.10000e+01 |  5.2 | 0.0003535534 | 5.656854e-05 | 7.071068e-05 |  5.8 | 4.949747e-05 | 0.8 | 0.0002121320 |  4.5 | 0.0004242641 | 5.656854e-05 | 0.0002828427 | 2.000000e-01 | 2.121320e-05 | 5.0 | 8.000000e-01 | 3.535534e-05 |  1.6 | 270 | 0.0002121320 | 0.0005656854 | 0.018 | 0.52000000 | 0.230 | 170 | 0.0020 | 0.110 | 1050 |  49 | 0.076 | 190 | 0.390 |  910 | 0.0001414214 | 0.860 |  56.8 |\n",
       "| 43 | 'TD'  | 'Child' | 14.0 | 5.656854e-05 | 6.50000e+00 |  7.4 | 0.0003535534 | 5.656854e-05 | 7.071068e-05 |  8.9 | 4.949747e-05 | 1.1 | 0.0002121320 |  9.0 | 0.0004242641 | 5.656854e-05 | 0.0002828427 | 4.000000e-01 | 2.121320e-05 | 2.6 | 2.000000e-01 | 3.535534e-05 |  2.1 | 540 | 0.0002121320 | 0.0010000000 | 0.022 | 1.00000000 | 0.099 | 230 | 0.0030 | 0.062 | 1480 |  84 | 0.200 | 260 | 0.420 | 1930 | 0.0005000000 | 1.400 |  55.6 |\n",
       "| 45 | 'TD'  | 'Child' |  6.1 | 5.656854e-05 | 1.10000e+01 |  2.9 | 0.0003535534 | 5.656854e-05 | 7.071068e-05 |  6.2 | 4.949747e-05 | 0.6 | 0.0002121320 |  2.9 | 0.0004242641 | 5.656854e-05 | 0.0002828427 | 2.000000e-01 | 2.121320e-05 | 0.9 | 2.000000e-01 | 3.535534e-05 |  2.7 | 100 | 0.0002121320 | 0.0008000000 | 0.017 | 0.21000000 | 0.092 | 230 | 0.0030 | 0.061 | 1270 |  87 | 0.110 | 280 | 0.170 | 1200 | 0.0004000000 | 0.480 |  97.9 |\n",
       "| 46 | 'TD'  | 'Child' |  4.1 | 5.656854e-05 | 1.60000e+01 |  2.8 | 0.0003535534 | 5.656854e-05 | 7.071068e-05 |  7.0 | 4.949747e-05 | 0.4 | 0.0002121320 |  4.3 | 0.0004242641 | 5.656854e-05 | 0.0002828427 | 3.000000e-01 | 2.121320e-05 | 0.2 | 2.000000e-01 | 3.535534e-05 |  3.9 |  88 | 0.0002121320 | 0.0030000000 | 0.022 | 0.17000000 | 0.099 | 190 | 0.0020 | 0.096 | 1210 |  54 | 0.100 | 150 | 0.160 |  960 | 0.0003000000 | 0.380 |  83.7 |\n",
       "| 48 | 'TD'  | 'Child' | 38.0 | 5.656854e-05 | 1.50000e+01 |  3.3 | 0.0003535534 | 5.656854e-05 | 7.071068e-05 |  3.7 | 4.949747e-05 | 0.2 | 0.0002121320 | 10.0 | 0.0004242641 | 5.656854e-05 | 0.0002828427 | 2.000000e-01 | 2.121320e-05 | 1.6 | 3.000000e-01 | 3.535534e-05 |  2.5 | 390 | 0.0002121320 | 0.0020000000 | 0.018 | 0.71000000 | 0.170 | 280 | 0.0008 | 0.150 | 1240 |  18 | 0.130 | 140 | 0.250 | 1490 | 0.0003000000 | 1.200 |  71.8 |\n",
       "| 49 | 'TD'  | 'Child' | 46.0 | 9.000000e-01 | 1.06066e-03 | 11.0 | 0.0001767767 | 2.828427e-05 | 3.535534e-05 | 18.0 | 2.474874e-05 | 1.1 | 0.0001060660 |  5.6 | 0.0002121320 | 2.828427e-05 | 0.0001414214 | 8.000000e-01 | 1.060660e-05 | 0.6 | 3.000000e-01 | 1.767767e-05 |  8.9 | 190 | 0.0001060660 | 0.0002828427 | 0.037 | 0.03535534 | 0.130 | 340 | 0.0070 | 0.049 | 2980 | 130 | 0.210 | 700 | 0.300 | 1570 | 0.0010000000 | 0.590 |  10.6 |\n",
       "| 50 | 'TD'  | 'Child' |  6.4 | 5.656854e-05 | 9.00000e+00 |  2.5 | 0.0003535534 | 5.656854e-05 | 7.071068e-05 |  7.7 | 4.949747e-05 | 0.4 | 0.0002121320 |  3.4 | 0.0004242641 | 5.656854e-05 | 0.0002828427 | 2.000000e-01 | 2.121320e-05 | 0.5 | 3.000000e-01 | 3.535534e-05 |  4.4 |  77 | 0.0002121320 | 0.0005656854 | 0.016 | 0.15000000 | 0.071 | 240 | 0.0010 | 0.140 | 1600 |  35 | 0.120 | 150 | 0.130 | 1270 | 0.0001414214 | 1.100 |  97.0 |\n",
       "| 51 | 'TD'  | 'Child' | 16.0 | 3.000000e-01 | 2.50000e+01 |  7.0 | 0.0003535534 | 5.656854e-05 | 7.071068e-05 | 14.0 | 4.949747e-05 | 0.8 | 0.0002121320 |  9.9 | 0.0004242641 | 5.656854e-05 | 0.0002828427 | 3.535534e-05 | 2.121320e-05 | 9.9 | 2.000000e-01 | 3.535534e-05 |  4.1 | 480 | 0.0002121320 | 0.0005656854 | 0.026 | 0.86000000 | 0.300 | 330 | 0.0008 | 0.087 | 1940 |  18 | 0.130 | 210 | 0.550 | 1800 | 0.0001414214 | 0.800 |  46.9 |\n",
       "| 52 | 'TD'  | 'Child' | 18.0 | 2.000000e-01 | 1.10000e+01 |  1.0 | 0.0003535534 | 5.656854e-05 | 7.071068e-05 | 16.0 | 4.949747e-05 | 0.7 | 0.0002121320 |  3.3 | 0.0004242641 | 5.656854e-05 | 0.0002828427 | 4.000000e-01 | 2.121320e-05 | 2.8 | 7.000000e-01 | 3.535534e-05 |  3.1 |  19 | 0.0004000000 | 0.0005656854 | 0.020 | 0.07071068 | 0.180 |  53 | 0.0070 | 0.240 | 1450 | 210 | 0.180 | 120 | 0.046 | 1930 | 0.0004000000 | 0.410 |  89.8 |\n",
       "| 53 | 'TD'  | 'Child' | 11.0 | 2.000000e-01 | 2.80000e+01 |  9.8 | 0.0003535534 | 5.656854e-05 | 7.071068e-05 |  6.0 | 4.949747e-05 | 0.4 | 0.0002121320 |  6.1 | 0.0004242641 | 5.656854e-05 | 0.0002828427 | 2.000000e-01 | 2.121320e-05 | 1.8 | 3.000000e-01 | 3.535534e-05 |  2.7 | 200 | 0.0002121320 | 0.0005656854 | 0.016 | 0.38000000 | 0.073 | 390 | 0.0009 | 0.260 | 1680 |  29 | 0.100 | 210 | 0.330 | 1430 | 0.0003000000 | 0.700 |  85.7 |\n",
       "| 54 | 'TD'  | 'Child' | 10.0 | 5.656854e-05 | 5.10000e+01 |  6.8 | 0.0003535534 | 5.656854e-05 | 7.071068e-05 |  7.6 | 4.949747e-05 | 0.6 | 0.0002121320 |  6.8 | 0.0004242641 | 5.656854e-05 | 0.0002828427 | 2.000000e-01 | 2.121320e-05 | 3.3 | 5.000000e-01 | 3.535534e-05 |  3.6 | 220 | 0.0002121320 | 0.0005656854 | 0.026 | 0.49000000 | 0.160 | 130 | 0.0050 | 0.130 |  820 | 130 | 0.130 | 680 | 0.340 |  980 | 0.0010000000 | 0.780 |  45.8 |\n",
       "| 56 | 'TD'  | 'Child' | 12.0 | 8.000000e-02 | 5.20000e+00 |  3.0 | 0.0007071068 | 1.131371e-04 | 1.414214e-04 |  2.9 | 9.899495e-05 | 0.1 | 0.0004242641 |  2.6 | 0.0008485281 | 1.131371e-04 | 0.0005656854 | 9.000000e-02 | 4.242641e-05 | 4.2 | 2.000000e-01 | 7.071068e-05 |  1.8 |  72 | 0.0004242641 | 0.0011313708 | 0.016 | 0.13000000 | 0.037 | 170 | 0.0008 | 0.100 |  710 |  29 | 0.060 |  48 | 0.077 |  630 | 0.0002828427 | 0.740 | 209.0 |\n",
       "| 57 | 'TD'  | 'Child' | 15.0 | 5.656854e-05 | 1.10000e+01 |  1.7 | 0.0003535534 | 6.000000e-01 | 2.000000e-01 |  6.1 | 4.949747e-05 | 0.4 | 0.0002121320 |  6.5 | 0.0004242641 | 5.656854e-05 | 0.0002828427 | 3.000000e-01 | 2.121320e-05 | 2.2 | 5.000000e-01 | 3.535534e-05 |  2.0 | 120 | 0.0002121320 | 0.0005656854 | 0.021 | 0.25000000 | 0.120 | 250 | 0.0030 | 0.092 | 1540 |  76 | 0.170 | 200 | 0.230 | 1630 | 0.0005000000 | 0.450 |  62.8 |\n",
       "| 58 | 'TD'  | 'Child' | 14.0 | 5.656854e-05 | 2.30000e+01 |  2.7 | 0.0003535534 | 5.656854e-05 | 3.000000e-01 |  9.7 | 4.949747e-05 | 0.4 | 0.0002121320 |  8.3 | 0.0004242641 | 5.656854e-05 | 0.0002828427 | 3.000000e-01 | 2.121320e-05 | 1.4 | 6.000000e-01 | 3.535534e-05 |  4.5 | 170 | 0.0002121320 | 0.0020000000 | 0.037 | 0.32000000 | 0.140 | 440 | 0.0030 | 0.190 | 1540 |  64 | 0.170 | 180 | 0.310 | 1950 | 0.0006000000 | 1.500 |  48.5 |\n",
       "| 60 | 'TD'  | 'Child' |  9.1 | 2.000000e-01 | 2.20000e+01 |  1.7 | 0.0003535534 | 5.656854e-05 | 7.071068e-05 |  5.9 | 4.949747e-05 | 0.4 | 0.0002121320 |  6.4 | 0.0004242641 | 5.656854e-05 | 0.0002828427 | 1.000000e-01 | 2.121320e-05 | 1.7 | 2.000000e-01 | 3.535534e-05 |  2.4 |  65 | 0.0002121320 | 0.0010000000 | 0.023 | 0.12000000 | 0.140 | 230 | 0.0020 | 0.066 |  770 |  43 | 0.160 | 110 | 0.150 | 1460 | 0.0001414214 | 0.220 |  82.1 |\n",
       "| 61 | 'TD'  | 'Child' | 27.0 | 2.000000e-01 | 1.80000e+01 |  1.9 | 0.0003535534 | 5.656854e-05 | 7.071068e-05 |  5.3 | 4.949747e-05 | 0.7 | 0.0002121320 |  2.8 | 0.0004242641 | 5.656854e-05 | 0.0002828427 | 2.000000e-01 | 2.121320e-05 | 5.5 | 3.535534e-05 | 3.535534e-05 |  3.1 |  13 | 0.0002121320 | 0.0005656854 | 0.025 | 0.07071068 | 0.120 | 190 | 0.0030 | 0.063 | 1070 |  81 | 0.110 |  62 | 0.042 |  900 | 0.0001414214 | 1.000 |  47.7 |\n",
       "| 62 | 'TD'  | 'Child' |  8.5 | 1.000000e-01 | 2.30000e+01 |  2.9 | 0.0003535534 | 5.656854e-05 | 7.071068e-05 |  5.7 | 4.949747e-05 | 0.3 | 0.0002121320 |  2.7 | 0.0004242641 | 5.656854e-05 | 0.0002828427 | 2.000000e-01 | 2.121320e-05 | 2.5 | 4.000000e-01 | 3.535534e-05 |  1.4 |  93 | 0.0002121320 | 0.0005656854 | 0.030 | 0.19000000 | 0.190 | 210 | 0.0020 | 0.091 |  860 |  42 | 0.160 | 110 | 0.180 | 1480 | 0.0005000000 | 0.960 |  82.0 |\n",
       "| 63 | 'TD'  | 'Child' |  9.5 | 2.000000e-01 | 2.90000e+01 |  5.5 | 0.0003535534 | 5.656854e-05 | 7.071068e-05 |  7.7 | 4.949747e-05 | 0.7 | 0.0002121320 |  8.0 | 0.0004242641 | 5.656854e-05 | 0.0002828427 | 2.000000e-01 | 2.121320e-05 | 1.4 | 2.200000e+00 | 3.535534e-05 |  3.3 | 300 | 0.0002121320 | 0.0020000000 | 0.019 | 0.55000000 | 0.240 | 200 | 0.0010 | 0.260 | 1300 |  42 | 0.160 | 200 | 0.440 | 1690 | 0.0004000000 | 0.590 |  70.4 |\n",
       "| 65 | 'TD'  | 'Child' |  6.3 | 9.000000e-02 | 7.90000e+00 |  1.8 | 0.0003535534 | 2.000000e-01 | 7.071068e-05 |  4.8 | 4.949747e-05 | 0.3 | 0.0002121320 |  6.0 | 0.0004242641 | 5.656854e-05 | 0.0002828427 | 1.000000e-01 | 2.121320e-05 | 2.5 | 1.000000e-01 | 3.535534e-05 |  2.1 | 170 | 0.0002121320 | 0.0005656854 | 0.022 | 0.30000000 | 0.066 | 170 | 0.0009 | 0.140 | 1600 |  30 | 0.120 | 130 | 0.240 | 1220 | 0.0001414214 | 0.580 |  94.0 |\n",
       "| 66 | 'TD'  | 'Child' | 37.0 | 2.000000e-01 | 1.90000e+01 |  2.0 | 0.0003535534 | 5.656854e-05 | 7.071068e-05 |  6.9 | 4.949747e-05 | 0.8 | 0.0002121320 |  2.1 | 0.0004242641 | 5.656854e-05 | 0.0002828427 | 4.000000e-01 | 2.121320e-05 | 6.0 | 6.000000e-01 | 3.000000e-01 |  8.1 |  34 | 0.0030000000 | 0.0005656854 | 0.019 | 0.07071068 | 0.067 | 160 | 0.0040 | 0.100 | 1020 | 110 | 0.100 | 130 | 0.150 |  680 | 0.0020000000 | 1.100 |  88.5 |\n",
       "| 67 | 'TD'  | 'Child' |  6.5 | 1.000000e-01 | 1.00000e+01 |  4.0 | 0.0003535534 | 5.656854e-05 | 7.071068e-05 |  5.7 | 4.949747e-05 | 0.4 | 0.0002121320 |  7.6 | 0.0004242641 | 5.656854e-05 | 0.0002828427 | 2.000000e-01 | 2.121320e-05 | 1.9 | 2.000000e-01 | 3.535534e-05 |  4.8 | 240 | 0.0005000000 | 0.0010000000 | 0.018 | 0.43000000 | 0.180 | 280 | 0.0010 | 0.170 | 2210 |  34 | 0.150 | 140 | 0.260 | 1370 | 0.0003000000 | 0.700 | 101.0 |\n",
       "| 68 | 'TD'  | 'Child' |  3.2 | 1.000000e-01 | 1.30000e+01 |  2.8 | 0.0003535534 | 5.656854e-05 | 7.071068e-05 |  7.7 | 4.949747e-05 | 1.0 | 0.0002121320 |  3.8 | 0.0004242641 | 5.656854e-05 | 0.0002828427 | 2.000000e-01 | 2.121320e-05 | 3.1 | 2.000000e-01 | 3.535534e-05 |  1.7 | 120 | 0.0002121320 | 0.0005656854 | 0.027 | 0.24000000 | 0.075 | 210 | 0.0020 | 0.085 | 1430 |  74 | 0.120 | 300 | 0.200 | 1390 | 0.0004000000 | 0.510 |  74.9 |\n",
       "| 70 | 'TD'  | 'Child' | 12.0 | 5.656854e-05 | 1.90000e+01 |  5.2 | 0.0003535534 | 4.000000e-01 | 7.071068e-05 |  5.6 | 4.949747e-05 | 0.5 | 0.0002121320 |  6.2 | 0.0004242641 | 5.656854e-05 | 0.0002828427 | 2.000000e-01 | 2.121320e-05 | 6.6 | 2.000000e-01 | 3.535534e-05 |  2.3 | 250 | 0.0002121320 | 0.0010000000 | 0.019 | 0.51000000 | 0.060 | 210 | 0.0030 | 0.130 | 1240 |  85 | 0.093 | 340 | 0.250 | 1080 | 0.0006000000 | 0.670 |  61.8 |\n",
       "| 71 | 'TD'  | 'Child' | 11.0 | 2.000000e-01 | 2.00000e+01 |  2.1 | 0.0003535534 | 5.656854e-05 | 7.071068e-05 |  7.2 | 4.949747e-05 | 0.8 | 0.0002121320 |  1.8 | 0.0004242641 | 5.656854e-05 | 0.0002828427 | 3.000000e-01 | 2.121320e-05 | 6.7 | 3.000000e-01 | 8.000000e-02 |  6.4 |  44 | 0.0006000000 | 0.0005656854 | 0.014 | 0.07071068 | 0.150 | 210 | 0.0020 | 0.150 |  890 |  67 | 0.130 |  72 | 0.160 | 1310 | 0.0003000000 | 0.520 |  79.9 |\n",
       "\n"
      ],
      "text/plain": [
       "   ID Status Type    Aluminum Antimony     Arsenic     Barium Beryllium   \n",
       "1   1 'ASD'  'Child'  7.0     2.000000e-01 1.10000e+01  2.1   0.0007071068\n",
       "2   3 'ASD'  'Child' 19.0     2.000000e-01 8.10000e+00  8.0   0.0003535534\n",
       "   Bismuth      Cadmium      Cesium Gadolinium   Lead Mercury      Nickel\n",
       "1  1.131371e-04 1.414214e-04  4.3   9.899495e-05 0.2  0.0004242641  4.9  \n",
       "2  5.656854e-05 7.071068e-05 16.0   4.949747e-05 1.0  0.0002121320  2.9  \n",
       "   Palladium    Platinum     Tellurium    Thallium     Thorium      Tin\n",
       "1  0.0008485281 1.131371e-04 0.0005656854 1.000000e-01 4.242641e-05 1.6\n",
       "2  0.0004242641 5.656854e-05 0.0002828427 6.000000e-01 2.121320e-05 1.0\n",
       "   Tungsten     Uranium      Boron Calcium Chromium     Cobalt       Copper\n",
       "1  3.000000e-01 7.071068e-05  2.3  140     0.0004242641 0.0011313708 0.014 \n",
       "2  2.000000e-01 3.535534e-05  4.9   81     0.0002121320 0.0005656854 0.018 \n",
       "   Iron       Lithium Magnesium Manganese Molybdenum Phosphorus Potassium\n",
       "1  0.24000000 0.083   200       0.0007    0.130      1180        24      \n",
       "2  0.20000000 0.170   170       0.0050    0.180       360       120      \n",
       "   Selenium Sodium Strontium Sulfur Vanadium     Zinc  Creatinine\n",
       "1  0.110     56    0.130      680   0.0002828427 0.660 175.0     \n",
       "2  0.094    290    0.170      860   0.0005000000 0.480  76.0     \n",
       " [ reached getOption(\"max.print\") -- omitted 45 rows ]"
      ]
     },
     "metadata": {},
     "output_type": "display_data"
    }
   ],
   "source": [
    "# Create subset: child\n",
    "child <- (data[0:47 , 1:42])\n",
    "child"
   ]
  },
  {
   "cell_type": "code",
   "execution_count": 32,
   "id": "5b71135f",
   "metadata": {},
   "outputs": [
    {
     "data": {
      "text/html": [
       "<style>\n",
       ".list-inline {list-style: none; margin:0; padding: 0}\n",
       ".list-inline>li {display: inline-block}\n",
       ".list-inline>li:not(:last-child)::after {content: \"\\00b7\"; padding: 0 .5ex}\n",
       "</style>\n",
       "<ol class=list-inline><li>'\\'ASD\\''</li><li>'\\'TD\\''</li></ol>\n"
      ],
      "text/latex": [
       "\\begin{enumerate*}\n",
       "\\item '\\textbackslash{}'ASD\\textbackslash{}''\n",
       "\\item '\\textbackslash{}'TD\\textbackslash{}''\n",
       "\\end{enumerate*}\n"
      ],
      "text/markdown": [
       "1. '\\'ASD\\''\n",
       "2. '\\'TD\\''\n",
       "\n",
       "\n"
      ],
      "text/plain": [
       "[1] \"'ASD'\" \"'TD'\" "
      ]
     },
     "metadata": {},
     "output_type": "display_data"
    }
   ],
   "source": [
    "unique(child$Status)"
   ]
  },
  {
   "cell_type": "code",
   "execution_count": 33,
   "id": "10d351ec",
   "metadata": {},
   "outputs": [],
   "source": [
    "#Recoding IV - Status into numeric\n",
    "child$Status[child$Status == '\\'ASD\\''] <- 0\n",
    "child$Status[child$Status == '\\'TD\\''] <- 1"
   ]
  },
  {
   "cell_type": "markdown",
   "id": "ecdfeec9",
   "metadata": {},
   "source": [
    "# Set up Child Toxic Subgroup Data"
   ]
  },
  {
   "cell_type": "code",
   "execution_count": 34,
   "id": "cbf41377",
   "metadata": {},
   "outputs": [
    {
     "data": {
      "text/html": [
       "<table class=\"dataframe\">\n",
       "<caption>A tibble: 47 × 21</caption>\n",
       "<thead>\n",
       "\t<tr><th scope=col>Status</th><th scope=col>Aluminum</th><th scope=col>Antimony</th><th scope=col>Arsenic</th><th scope=col>Barium</th><th scope=col>Beryllium</th><th scope=col>Bismuth</th><th scope=col>Cadmium</th><th scope=col>Cesium</th><th scope=col>Gadolinium</th><th scope=col>Lead</th><th scope=col>Mercury</th><th scope=col>Nickel</th><th scope=col>Palladium</th><th scope=col>Platinum</th><th scope=col>Tellurium</th><th scope=col>Thallium</th><th scope=col>Thorium</th><th scope=col>Tin</th><th scope=col>Tungsten</th><th scope=col>Uranium</th></tr>\n",
       "\t<tr><th scope=col>&lt;chr&gt;</th><th scope=col>&lt;dbl&gt;</th><th scope=col>&lt;dbl&gt;</th><th scope=col>&lt;dbl&gt;</th><th scope=col>&lt;dbl&gt;</th><th scope=col>&lt;dbl&gt;</th><th scope=col>&lt;dbl&gt;</th><th scope=col>&lt;dbl&gt;</th><th scope=col>&lt;dbl&gt;</th><th scope=col>&lt;dbl&gt;</th><th scope=col>&lt;dbl&gt;</th><th scope=col>&lt;dbl&gt;</th><th scope=col>&lt;dbl&gt;</th><th scope=col>&lt;dbl&gt;</th><th scope=col>&lt;dbl&gt;</th><th scope=col>&lt;dbl&gt;</th><th scope=col>&lt;dbl&gt;</th><th scope=col>&lt;dbl&gt;</th><th scope=col>&lt;dbl&gt;</th><th scope=col>&lt;dbl&gt;</th><th scope=col>&lt;dbl&gt;</th></tr>\n",
       "</thead>\n",
       "<tbody>\n",
       "\t<tr><td>0</td><td> 7.0</td><td>2.000000e-01</td><td>1.10000e+01</td><td> 2.1</td><td>0.0007071068</td><td>1.131371e-04</td><td>1.414214e-04</td><td> 4.3</td><td>9.899495e-05</td><td>0.2</td><td>0.0004242641</td><td> 4.9</td><td>0.0008485281</td><td>1.131371e-04</td><td>0.0005656854</td><td>1.000000e-01</td><td>4.242641e-05</td><td>1.6</td><td>3.000000e-01</td><td>7.071068e-05</td></tr>\n",
       "\t<tr><td>0</td><td>19.0</td><td>2.000000e-01</td><td>8.10000e+00</td><td> 8.0</td><td>0.0003535534</td><td>5.656854e-05</td><td>7.071068e-05</td><td>16.0</td><td>4.949747e-05</td><td>1.0</td><td>0.0002121320</td><td> 2.9</td><td>0.0004242641</td><td>5.656854e-05</td><td>0.0002828427</td><td>6.000000e-01</td><td>2.121320e-05</td><td>1.0</td><td>2.000000e-01</td><td>3.535534e-05</td></tr>\n",
       "\t<tr><td>0</td><td> 9.2</td><td>5.656854e-05</td><td>5.90000e+00</td><td> 4.7</td><td>0.0003535534</td><td>2.000000e-01</td><td>7.071068e-05</td><td>11.0</td><td>4.949747e-05</td><td>0.5</td><td>0.0002121320</td><td> 9.4</td><td>0.0004242641</td><td>5.656854e-05</td><td>0.0002828427</td><td>3.000000e-01</td><td>2.121320e-05</td><td>8.4</td><td>6.000000e-01</td><td>3.535534e-05</td></tr>\n",
       "\t<tr><td>0</td><td> 8.4</td><td>5.656854e-05</td><td>1.40000e+01</td><td> 3.0</td><td>0.0003535534</td><td>5.656854e-05</td><td>7.071068e-05</td><td>16.0</td><td>4.949747e-05</td><td>0.9</td><td>0.0002121320</td><td>15.0</td><td>0.0004242641</td><td>5.656854e-05</td><td>0.0002828427</td><td>4.000000e-01</td><td>2.121320e-05</td><td>1.4</td><td>3.000000e-01</td><td>3.535534e-05</td></tr>\n",
       "\t<tr><td>0</td><td> 5.6</td><td>2.828427e-05</td><td>1.10000e+01</td><td> 3.8</td><td>0.0001767767</td><td>2.828427e-05</td><td>3.535534e-05</td><td> 4.5</td><td>2.474874e-05</td><td>0.4</td><td>1.0000000000</td><td> 2.5</td><td>0.0002121320</td><td>2.828427e-05</td><td>0.0001414214</td><td>4.000000e-01</td><td>1.060660e-05</td><td>0.6</td><td>3.000000e-01</td><td>1.767767e-05</td></tr>\n",
       "\t<tr><td>0</td><td>17.0</td><td>6.000000e-01</td><td>1.50000e+01</td><td> 3.1</td><td>0.0003535534</td><td>5.656854e-05</td><td>7.071068e-05</td><td>10.0</td><td>4.949747e-05</td><td>0.5</td><td>0.0002121320</td><td> 5.2</td><td>0.0004242641</td><td>5.656854e-05</td><td>0.0002828427</td><td>2.000000e-01</td><td>2.121320e-05</td><td>0.5</td><td>1.000000e-01</td><td>3.535534e-05</td></tr>\n",
       "\t<tr><td>0</td><td> 9.5</td><td>5.656854e-05</td><td>1.20000e+02</td><td> 4.2</td><td>0.0003535534</td><td>5.656854e-05</td><td>2.000000e-01</td><td> 5.7</td><td>4.949747e-05</td><td>0.3</td><td>0.0002121320</td><td> 6.7</td><td>0.0004242641</td><td>5.656854e-05</td><td>0.0002828427</td><td>3.000000e-01</td><td>2.121320e-05</td><td>0.2</td><td>3.000000e-01</td><td>3.535534e-05</td></tr>\n",
       "\t<tr><td>0</td><td> 6.8</td><td>2.000000e-01</td><td>3.50000e+01</td><td> 4.0</td><td>0.0007071068</td><td>1.131371e-04</td><td>1.414214e-04</td><td> 3.3</td><td>3.300000e+01</td><td>0.4</td><td>0.0004242641</td><td> 9.7</td><td>0.0008485281</td><td>1.131371e-04</td><td>0.0005656854</td><td>9.000000e-02</td><td>4.242641e-05</td><td>4.0</td><td>1.200000e+00</td><td>7.071068e-05</td></tr>\n",
       "\t<tr><td>0</td><td>24.0</td><td>2.000000e-01</td><td>1.40000e+01</td><td> 2.6</td><td>0.0003535534</td><td>5.656854e-05</td><td>7.071068e-05</td><td> 4.4</td><td>4.949747e-05</td><td>0.5</td><td>0.0002121320</td><td> 3.8</td><td>0.0004242641</td><td>5.656854e-05</td><td>0.0002828427</td><td>6.000000e-01</td><td>2.121320e-05</td><td>2.0</td><td>7.000000e-02</td><td>3.535534e-05</td></tr>\n",
       "\t<tr><td>0</td><td>21.0</td><td>7.000000e-02</td><td>1.20000e+01</td><td> 1.8</td><td>0.0003535534</td><td>5.656854e-05</td><td>2.000000e-01</td><td> 3.6</td><td>4.949747e-05</td><td>0.1</td><td>0.0002121320</td><td> 1.3</td><td>0.0004242641</td><td>5.656854e-05</td><td>0.0002828427</td><td>2.000000e-01</td><td>2.121320e-05</td><td>0.2</td><td>2.000000e-01</td><td>3.535534e-05</td></tr>\n",
       "\t<tr><td>0</td><td> 7.7</td><td>1.000000e-01</td><td>1.10000e+01</td><td>10.0</td><td>0.0003535534</td><td>1.000000e-01</td><td>7.071068e-05</td><td> 6.9</td><td>4.949747e-05</td><td>0.5</td><td>0.7000000000</td><td> 7.1</td><td>0.0004242641</td><td>5.656854e-05</td><td>0.0002828427</td><td>4.000000e-01</td><td>2.121320e-05</td><td>0.9</td><td>1.000000e-01</td><td>2.000000e-01</td></tr>\n",
       "\t<tr><td>0</td><td> 3.2</td><td>5.656854e-05</td><td>2.12132e-03</td><td> 1.4</td><td>0.0003535534</td><td>5.656854e-05</td><td>7.071068e-05</td><td> 5.0</td><td>4.949747e-05</td><td>0.3</td><td>0.0002121320</td><td> 1.6</td><td>0.0004242641</td><td>5.656854e-05</td><td>0.0002828427</td><td>8.000000e-02</td><td>2.121320e-05</td><td>2.9</td><td>2.000000e-01</td><td>3.535534e-05</td></tr>\n",
       "\t<tr><td>0</td><td> 3.5</td><td>5.656854e-05</td><td>1.50000e+01</td><td> 4.2</td><td>0.0003535534</td><td>5.656854e-05</td><td>7.071068e-05</td><td> 3.9</td><td>4.949747e-05</td><td>0.8</td><td>0.0002121320</td><td> 4.6</td><td>0.0004242641</td><td>5.656854e-05</td><td>0.0002828427</td><td>2.000000e-01</td><td>2.121320e-05</td><td>0.5</td><td>6.000000e-02</td><td>1.000000e-01</td></tr>\n",
       "\t<tr><td>0</td><td>18.0</td><td>4.000000e-01</td><td>4.20000e+00</td><td> 6.4</td><td>0.0003535534</td><td>5.656854e-05</td><td>7.071068e-05</td><td> 6.6</td><td>4.949747e-05</td><td>0.4</td><td>0.0002121320</td><td> 3.8</td><td>0.0004242641</td><td>5.656854e-05</td><td>0.0002828427</td><td>1.000000e-01</td><td>2.121320e-05</td><td>1.2</td><td>4.000000e-01</td><td>3.535534e-05</td></tr>\n",
       "\t<tr><td>0</td><td>15.0</td><td>5.656854e-05</td><td>2.12132e-03</td><td> 0.5</td><td>0.0003535534</td><td>5.656854e-05</td><td>7.071068e-05</td><td> 8.6</td><td>4.949747e-05</td><td>0.8</td><td>0.6000000000</td><td> 1.6</td><td>0.0004242641</td><td>5.656854e-05</td><td>0.0002828427</td><td>5.000000e-01</td><td>2.121320e-05</td><td>0.2</td><td>2.000000e-01</td><td>3.535534e-05</td></tr>\n",
       "\t<tr><td>0</td><td> 3.5</td><td>5.656854e-05</td><td>1.20000e+01</td><td> 4.0</td><td>0.0003535534</td><td>5.656854e-05</td><td>7.071068e-05</td><td>11.0</td><td>4.949747e-05</td><td>0.5</td><td>0.3000000000</td><td> 4.4</td><td>0.0004242641</td><td>5.656854e-05</td><td>0.0002828427</td><td>3.000000e-01</td><td>2.121320e-05</td><td>0.4</td><td>1.000000e-01</td><td>3.535534e-05</td></tr>\n",
       "\t<tr><td>0</td><td>33.0</td><td>5.656854e-05</td><td>7.10000e+00</td><td> 2.8</td><td>0.0003535534</td><td>5.656854e-05</td><td>7.071068e-05</td><td> 8.4</td><td>4.949747e-05</td><td>0.3</td><td>0.0002121320</td><td> 4.3</td><td>0.0004242641</td><td>5.656854e-05</td><td>0.0002828427</td><td>3.000000e-01</td><td>2.121320e-05</td><td>0.4</td><td>2.000000e-01</td><td>3.535534e-05</td></tr>\n",
       "\t<tr><td>0</td><td> 5.6</td><td>5.656854e-05</td><td>1.20000e+01</td><td> 3.8</td><td>0.0003535534</td><td>5.656854e-05</td><td>7.071068e-05</td><td>10.0</td><td>4.949747e-05</td><td>0.6</td><td>0.0002121320</td><td> 9.5</td><td>0.0004242641</td><td>5.656854e-05</td><td>0.0002828427</td><td>2.000000e-01</td><td>2.121320e-05</td><td>1.2</td><td>2.000000e-01</td><td>3.535534e-05</td></tr>\n",
       "\t<tr><td>0</td><td> 1.9</td><td>5.656854e-05</td><td>1.60000e+01</td><td> 5.4</td><td>0.0003535534</td><td>5.656854e-05</td><td>7.071068e-05</td><td> 7.6</td><td>4.949747e-05</td><td>0.5</td><td>0.0002121320</td><td> 5.4</td><td>0.0004242641</td><td>5.656854e-05</td><td>0.0002828427</td><td>3.000000e-01</td><td>2.121320e-05</td><td>0.3</td><td>2.000000e-01</td><td>3.535534e-05</td></tr>\n",
       "\t<tr><td>0</td><td>15.0</td><td>9.000000e-02</td><td>1.10000e+01</td><td> 1.2</td><td>0.0003535534</td><td>5.656854e-05</td><td>1.000000e-01</td><td> 6.3</td><td>4.949747e-05</td><td>0.3</td><td>0.0002121320</td><td> 2.7</td><td>0.0004242641</td><td>5.656854e-05</td><td>0.0002828427</td><td>3.000000e-01</td><td>2.121320e-05</td><td>0.6</td><td>7.000000e-02</td><td>3.535534e-05</td></tr>\n",
       "\t<tr><td>0</td><td>74.0</td><td>3.000000e-01</td><td>2.50000e+01</td><td>15.0</td><td>0.0003535534</td><td>5.656854e-05</td><td>1.000000e-01</td><td>14.0</td><td>4.949747e-05</td><td>2.9</td><td>0.0002121320</td><td> 7.8</td><td>0.0004242641</td><td>5.656854e-05</td><td>0.0002828427</td><td>4.000000e-01</td><td>2.121320e-05</td><td>3.7</td><td>1.000000e-01</td><td>8.000000e-02</td></tr>\n",
       "\t<tr><td>1</td><td>15.0</td><td>1.131371e-04</td><td>1.20000e+01</td><td> 1.6</td><td>0.0007071068</td><td>1.131371e-04</td><td>1.414214e-04</td><td> 3.4</td><td>9.899495e-05</td><td>0.3</td><td>0.0004242641</td><td> 6.8</td><td>0.0008485281</td><td>1.131371e-04</td><td>0.0005656854</td><td>1.000000e-01</td><td>4.242641e-05</td><td>1.0</td><td>3.000000e-01</td><td>7.071068e-05</td></tr>\n",
       "\t<tr><td>1</td><td>59.0</td><td>3.000000e-01</td><td>1.10000e+01</td><td> 7.2</td><td>0.0003535534</td><td>5.656854e-05</td><td>7.071068e-05</td><td> 7.5</td><td>4.949747e-05</td><td>2.2</td><td>0.0002121320</td><td> 6.7</td><td>0.0004242641</td><td>5.656854e-05</td><td>0.0002828427</td><td>2.000000e-01</td><td>2.121320e-05</td><td>2.2</td><td>7.000000e-01</td><td>3.535534e-05</td></tr>\n",
       "\t<tr><td>1</td><td>17.0</td><td>5.656854e-05</td><td>1.10000e+01</td><td> 5.2</td><td>0.0003535534</td><td>5.656854e-05</td><td>7.071068e-05</td><td> 5.8</td><td>4.949747e-05</td><td>0.8</td><td>0.0002121320</td><td> 4.5</td><td>0.0004242641</td><td>5.656854e-05</td><td>0.0002828427</td><td>2.000000e-01</td><td>2.121320e-05</td><td>5.0</td><td>8.000000e-01</td><td>3.535534e-05</td></tr>\n",
       "\t<tr><td>1</td><td>14.0</td><td>5.656854e-05</td><td>6.50000e+00</td><td> 7.4</td><td>0.0003535534</td><td>5.656854e-05</td><td>7.071068e-05</td><td> 8.9</td><td>4.949747e-05</td><td>1.1</td><td>0.0002121320</td><td> 9.0</td><td>0.0004242641</td><td>5.656854e-05</td><td>0.0002828427</td><td>4.000000e-01</td><td>2.121320e-05</td><td>2.6</td><td>2.000000e-01</td><td>3.535534e-05</td></tr>\n",
       "\t<tr><td>1</td><td> 6.1</td><td>5.656854e-05</td><td>1.10000e+01</td><td> 2.9</td><td>0.0003535534</td><td>5.656854e-05</td><td>7.071068e-05</td><td> 6.2</td><td>4.949747e-05</td><td>0.6</td><td>0.0002121320</td><td> 2.9</td><td>0.0004242641</td><td>5.656854e-05</td><td>0.0002828427</td><td>2.000000e-01</td><td>2.121320e-05</td><td>0.9</td><td>2.000000e-01</td><td>3.535534e-05</td></tr>\n",
       "\t<tr><td>1</td><td> 4.1</td><td>5.656854e-05</td><td>1.60000e+01</td><td> 2.8</td><td>0.0003535534</td><td>5.656854e-05</td><td>7.071068e-05</td><td> 7.0</td><td>4.949747e-05</td><td>0.4</td><td>0.0002121320</td><td> 4.3</td><td>0.0004242641</td><td>5.656854e-05</td><td>0.0002828427</td><td>3.000000e-01</td><td>2.121320e-05</td><td>0.2</td><td>2.000000e-01</td><td>3.535534e-05</td></tr>\n",
       "\t<tr><td>1</td><td>38.0</td><td>5.656854e-05</td><td>1.50000e+01</td><td> 3.3</td><td>0.0003535534</td><td>5.656854e-05</td><td>7.071068e-05</td><td> 3.7</td><td>4.949747e-05</td><td>0.2</td><td>0.0002121320</td><td>10.0</td><td>0.0004242641</td><td>5.656854e-05</td><td>0.0002828427</td><td>2.000000e-01</td><td>2.121320e-05</td><td>1.6</td><td>3.000000e-01</td><td>3.535534e-05</td></tr>\n",
       "\t<tr><td>1</td><td>46.0</td><td>9.000000e-01</td><td>1.06066e-03</td><td>11.0</td><td>0.0001767767</td><td>2.828427e-05</td><td>3.535534e-05</td><td>18.0</td><td>2.474874e-05</td><td>1.1</td><td>0.0001060660</td><td> 5.6</td><td>0.0002121320</td><td>2.828427e-05</td><td>0.0001414214</td><td>8.000000e-01</td><td>1.060660e-05</td><td>0.6</td><td>3.000000e-01</td><td>1.767767e-05</td></tr>\n",
       "\t<tr><td>1</td><td> 6.4</td><td>5.656854e-05</td><td>9.00000e+00</td><td> 2.5</td><td>0.0003535534</td><td>5.656854e-05</td><td>7.071068e-05</td><td> 7.7</td><td>4.949747e-05</td><td>0.4</td><td>0.0002121320</td><td> 3.4</td><td>0.0004242641</td><td>5.656854e-05</td><td>0.0002828427</td><td>2.000000e-01</td><td>2.121320e-05</td><td>0.5</td><td>3.000000e-01</td><td>3.535534e-05</td></tr>\n",
       "\t<tr><td>1</td><td>16.0</td><td>3.000000e-01</td><td>2.50000e+01</td><td> 7.0</td><td>0.0003535534</td><td>5.656854e-05</td><td>7.071068e-05</td><td>14.0</td><td>4.949747e-05</td><td>0.8</td><td>0.0002121320</td><td> 9.9</td><td>0.0004242641</td><td>5.656854e-05</td><td>0.0002828427</td><td>3.535534e-05</td><td>2.121320e-05</td><td>9.9</td><td>2.000000e-01</td><td>3.535534e-05</td></tr>\n",
       "\t<tr><td>1</td><td>18.0</td><td>2.000000e-01</td><td>1.10000e+01</td><td> 1.0</td><td>0.0003535534</td><td>5.656854e-05</td><td>7.071068e-05</td><td>16.0</td><td>4.949747e-05</td><td>0.7</td><td>0.0002121320</td><td> 3.3</td><td>0.0004242641</td><td>5.656854e-05</td><td>0.0002828427</td><td>4.000000e-01</td><td>2.121320e-05</td><td>2.8</td><td>7.000000e-01</td><td>3.535534e-05</td></tr>\n",
       "\t<tr><td>1</td><td>11.0</td><td>2.000000e-01</td><td>2.80000e+01</td><td> 9.8</td><td>0.0003535534</td><td>5.656854e-05</td><td>7.071068e-05</td><td> 6.0</td><td>4.949747e-05</td><td>0.4</td><td>0.0002121320</td><td> 6.1</td><td>0.0004242641</td><td>5.656854e-05</td><td>0.0002828427</td><td>2.000000e-01</td><td>2.121320e-05</td><td>1.8</td><td>3.000000e-01</td><td>3.535534e-05</td></tr>\n",
       "\t<tr><td>1</td><td>10.0</td><td>5.656854e-05</td><td>5.10000e+01</td><td> 6.8</td><td>0.0003535534</td><td>5.656854e-05</td><td>7.071068e-05</td><td> 7.6</td><td>4.949747e-05</td><td>0.6</td><td>0.0002121320</td><td> 6.8</td><td>0.0004242641</td><td>5.656854e-05</td><td>0.0002828427</td><td>2.000000e-01</td><td>2.121320e-05</td><td>3.3</td><td>5.000000e-01</td><td>3.535534e-05</td></tr>\n",
       "\t<tr><td>1</td><td>12.0</td><td>8.000000e-02</td><td>5.20000e+00</td><td> 3.0</td><td>0.0007071068</td><td>1.131371e-04</td><td>1.414214e-04</td><td> 2.9</td><td>9.899495e-05</td><td>0.1</td><td>0.0004242641</td><td> 2.6</td><td>0.0008485281</td><td>1.131371e-04</td><td>0.0005656854</td><td>9.000000e-02</td><td>4.242641e-05</td><td>4.2</td><td>2.000000e-01</td><td>7.071068e-05</td></tr>\n",
       "\t<tr><td>1</td><td>15.0</td><td>5.656854e-05</td><td>1.10000e+01</td><td> 1.7</td><td>0.0003535534</td><td>6.000000e-01</td><td>2.000000e-01</td><td> 6.1</td><td>4.949747e-05</td><td>0.4</td><td>0.0002121320</td><td> 6.5</td><td>0.0004242641</td><td>5.656854e-05</td><td>0.0002828427</td><td>3.000000e-01</td><td>2.121320e-05</td><td>2.2</td><td>5.000000e-01</td><td>3.535534e-05</td></tr>\n",
       "\t<tr><td>1</td><td>14.0</td><td>5.656854e-05</td><td>2.30000e+01</td><td> 2.7</td><td>0.0003535534</td><td>5.656854e-05</td><td>3.000000e-01</td><td> 9.7</td><td>4.949747e-05</td><td>0.4</td><td>0.0002121320</td><td> 8.3</td><td>0.0004242641</td><td>5.656854e-05</td><td>0.0002828427</td><td>3.000000e-01</td><td>2.121320e-05</td><td>1.4</td><td>6.000000e-01</td><td>3.535534e-05</td></tr>\n",
       "\t<tr><td>1</td><td> 9.1</td><td>2.000000e-01</td><td>2.20000e+01</td><td> 1.7</td><td>0.0003535534</td><td>5.656854e-05</td><td>7.071068e-05</td><td> 5.9</td><td>4.949747e-05</td><td>0.4</td><td>0.0002121320</td><td> 6.4</td><td>0.0004242641</td><td>5.656854e-05</td><td>0.0002828427</td><td>1.000000e-01</td><td>2.121320e-05</td><td>1.7</td><td>2.000000e-01</td><td>3.535534e-05</td></tr>\n",
       "\t<tr><td>1</td><td>27.0</td><td>2.000000e-01</td><td>1.80000e+01</td><td> 1.9</td><td>0.0003535534</td><td>5.656854e-05</td><td>7.071068e-05</td><td> 5.3</td><td>4.949747e-05</td><td>0.7</td><td>0.0002121320</td><td> 2.8</td><td>0.0004242641</td><td>5.656854e-05</td><td>0.0002828427</td><td>2.000000e-01</td><td>2.121320e-05</td><td>5.5</td><td>3.535534e-05</td><td>3.535534e-05</td></tr>\n",
       "\t<tr><td>1</td><td> 8.5</td><td>1.000000e-01</td><td>2.30000e+01</td><td> 2.9</td><td>0.0003535534</td><td>5.656854e-05</td><td>7.071068e-05</td><td> 5.7</td><td>4.949747e-05</td><td>0.3</td><td>0.0002121320</td><td> 2.7</td><td>0.0004242641</td><td>5.656854e-05</td><td>0.0002828427</td><td>2.000000e-01</td><td>2.121320e-05</td><td>2.5</td><td>4.000000e-01</td><td>3.535534e-05</td></tr>\n",
       "\t<tr><td>1</td><td> 9.5</td><td>2.000000e-01</td><td>2.90000e+01</td><td> 5.5</td><td>0.0003535534</td><td>5.656854e-05</td><td>7.071068e-05</td><td> 7.7</td><td>4.949747e-05</td><td>0.7</td><td>0.0002121320</td><td> 8.0</td><td>0.0004242641</td><td>5.656854e-05</td><td>0.0002828427</td><td>2.000000e-01</td><td>2.121320e-05</td><td>1.4</td><td>2.200000e+00</td><td>3.535534e-05</td></tr>\n",
       "\t<tr><td>1</td><td> 6.3</td><td>9.000000e-02</td><td>7.90000e+00</td><td> 1.8</td><td>0.0003535534</td><td>2.000000e-01</td><td>7.071068e-05</td><td> 4.8</td><td>4.949747e-05</td><td>0.3</td><td>0.0002121320</td><td> 6.0</td><td>0.0004242641</td><td>5.656854e-05</td><td>0.0002828427</td><td>1.000000e-01</td><td>2.121320e-05</td><td>2.5</td><td>1.000000e-01</td><td>3.535534e-05</td></tr>\n",
       "\t<tr><td>1</td><td>37.0</td><td>2.000000e-01</td><td>1.90000e+01</td><td> 2.0</td><td>0.0003535534</td><td>5.656854e-05</td><td>7.071068e-05</td><td> 6.9</td><td>4.949747e-05</td><td>0.8</td><td>0.0002121320</td><td> 2.1</td><td>0.0004242641</td><td>5.656854e-05</td><td>0.0002828427</td><td>4.000000e-01</td><td>2.121320e-05</td><td>6.0</td><td>6.000000e-01</td><td>3.000000e-01</td></tr>\n",
       "\t<tr><td>1</td><td> 6.5</td><td>1.000000e-01</td><td>1.00000e+01</td><td> 4.0</td><td>0.0003535534</td><td>5.656854e-05</td><td>7.071068e-05</td><td> 5.7</td><td>4.949747e-05</td><td>0.4</td><td>0.0002121320</td><td> 7.6</td><td>0.0004242641</td><td>5.656854e-05</td><td>0.0002828427</td><td>2.000000e-01</td><td>2.121320e-05</td><td>1.9</td><td>2.000000e-01</td><td>3.535534e-05</td></tr>\n",
       "\t<tr><td>1</td><td> 3.2</td><td>1.000000e-01</td><td>1.30000e+01</td><td> 2.8</td><td>0.0003535534</td><td>5.656854e-05</td><td>7.071068e-05</td><td> 7.7</td><td>4.949747e-05</td><td>1.0</td><td>0.0002121320</td><td> 3.8</td><td>0.0004242641</td><td>5.656854e-05</td><td>0.0002828427</td><td>2.000000e-01</td><td>2.121320e-05</td><td>3.1</td><td>2.000000e-01</td><td>3.535534e-05</td></tr>\n",
       "\t<tr><td>1</td><td>12.0</td><td>5.656854e-05</td><td>1.90000e+01</td><td> 5.2</td><td>0.0003535534</td><td>4.000000e-01</td><td>7.071068e-05</td><td> 5.6</td><td>4.949747e-05</td><td>0.5</td><td>0.0002121320</td><td> 6.2</td><td>0.0004242641</td><td>5.656854e-05</td><td>0.0002828427</td><td>2.000000e-01</td><td>2.121320e-05</td><td>6.6</td><td>2.000000e-01</td><td>3.535534e-05</td></tr>\n",
       "\t<tr><td>1</td><td>11.0</td><td>2.000000e-01</td><td>2.00000e+01</td><td> 2.1</td><td>0.0003535534</td><td>5.656854e-05</td><td>7.071068e-05</td><td> 7.2</td><td>4.949747e-05</td><td>0.8</td><td>0.0002121320</td><td> 1.8</td><td>0.0004242641</td><td>5.656854e-05</td><td>0.0002828427</td><td>3.000000e-01</td><td>2.121320e-05</td><td>6.7</td><td>3.000000e-01</td><td>8.000000e-02</td></tr>\n",
       "</tbody>\n",
       "</table>\n"
      ],
      "text/latex": [
       "A tibble: 47 × 21\n",
       "\\begin{tabular}{lllllllllllllllllllll}\n",
       " Status & Aluminum & Antimony & Arsenic & Barium & Beryllium & Bismuth & Cadmium & Cesium & Gadolinium & Lead & Mercury & Nickel & Palladium & Platinum & Tellurium & Thallium & Thorium & Tin & Tungsten & Uranium\\\\\n",
       " <chr> & <dbl> & <dbl> & <dbl> & <dbl> & <dbl> & <dbl> & <dbl> & <dbl> & <dbl> & <dbl> & <dbl> & <dbl> & <dbl> & <dbl> & <dbl> & <dbl> & <dbl> & <dbl> & <dbl> & <dbl>\\\\\n",
       "\\hline\n",
       "\t 0 &  7.0 & 2.000000e-01 & 1.10000e+01 &  2.1 & 0.0007071068 & 1.131371e-04 & 1.414214e-04 &  4.3 & 9.899495e-05 & 0.2 & 0.0004242641 &  4.9 & 0.0008485281 & 1.131371e-04 & 0.0005656854 & 1.000000e-01 & 4.242641e-05 & 1.6 & 3.000000e-01 & 7.071068e-05\\\\\n",
       "\t 0 & 19.0 & 2.000000e-01 & 8.10000e+00 &  8.0 & 0.0003535534 & 5.656854e-05 & 7.071068e-05 & 16.0 & 4.949747e-05 & 1.0 & 0.0002121320 &  2.9 & 0.0004242641 & 5.656854e-05 & 0.0002828427 & 6.000000e-01 & 2.121320e-05 & 1.0 & 2.000000e-01 & 3.535534e-05\\\\\n",
       "\t 0 &  9.2 & 5.656854e-05 & 5.90000e+00 &  4.7 & 0.0003535534 & 2.000000e-01 & 7.071068e-05 & 11.0 & 4.949747e-05 & 0.5 & 0.0002121320 &  9.4 & 0.0004242641 & 5.656854e-05 & 0.0002828427 & 3.000000e-01 & 2.121320e-05 & 8.4 & 6.000000e-01 & 3.535534e-05\\\\\n",
       "\t 0 &  8.4 & 5.656854e-05 & 1.40000e+01 &  3.0 & 0.0003535534 & 5.656854e-05 & 7.071068e-05 & 16.0 & 4.949747e-05 & 0.9 & 0.0002121320 & 15.0 & 0.0004242641 & 5.656854e-05 & 0.0002828427 & 4.000000e-01 & 2.121320e-05 & 1.4 & 3.000000e-01 & 3.535534e-05\\\\\n",
       "\t 0 &  5.6 & 2.828427e-05 & 1.10000e+01 &  3.8 & 0.0001767767 & 2.828427e-05 & 3.535534e-05 &  4.5 & 2.474874e-05 & 0.4 & 1.0000000000 &  2.5 & 0.0002121320 & 2.828427e-05 & 0.0001414214 & 4.000000e-01 & 1.060660e-05 & 0.6 & 3.000000e-01 & 1.767767e-05\\\\\n",
       "\t 0 & 17.0 & 6.000000e-01 & 1.50000e+01 &  3.1 & 0.0003535534 & 5.656854e-05 & 7.071068e-05 & 10.0 & 4.949747e-05 & 0.5 & 0.0002121320 &  5.2 & 0.0004242641 & 5.656854e-05 & 0.0002828427 & 2.000000e-01 & 2.121320e-05 & 0.5 & 1.000000e-01 & 3.535534e-05\\\\\n",
       "\t 0 &  9.5 & 5.656854e-05 & 1.20000e+02 &  4.2 & 0.0003535534 & 5.656854e-05 & 2.000000e-01 &  5.7 & 4.949747e-05 & 0.3 & 0.0002121320 &  6.7 & 0.0004242641 & 5.656854e-05 & 0.0002828427 & 3.000000e-01 & 2.121320e-05 & 0.2 & 3.000000e-01 & 3.535534e-05\\\\\n",
       "\t 0 &  6.8 & 2.000000e-01 & 3.50000e+01 &  4.0 & 0.0007071068 & 1.131371e-04 & 1.414214e-04 &  3.3 & 3.300000e+01 & 0.4 & 0.0004242641 &  9.7 & 0.0008485281 & 1.131371e-04 & 0.0005656854 & 9.000000e-02 & 4.242641e-05 & 4.0 & 1.200000e+00 & 7.071068e-05\\\\\n",
       "\t 0 & 24.0 & 2.000000e-01 & 1.40000e+01 &  2.6 & 0.0003535534 & 5.656854e-05 & 7.071068e-05 &  4.4 & 4.949747e-05 & 0.5 & 0.0002121320 &  3.8 & 0.0004242641 & 5.656854e-05 & 0.0002828427 & 6.000000e-01 & 2.121320e-05 & 2.0 & 7.000000e-02 & 3.535534e-05\\\\\n",
       "\t 0 & 21.0 & 7.000000e-02 & 1.20000e+01 &  1.8 & 0.0003535534 & 5.656854e-05 & 2.000000e-01 &  3.6 & 4.949747e-05 & 0.1 & 0.0002121320 &  1.3 & 0.0004242641 & 5.656854e-05 & 0.0002828427 & 2.000000e-01 & 2.121320e-05 & 0.2 & 2.000000e-01 & 3.535534e-05\\\\\n",
       "\t 0 &  7.7 & 1.000000e-01 & 1.10000e+01 & 10.0 & 0.0003535534 & 1.000000e-01 & 7.071068e-05 &  6.9 & 4.949747e-05 & 0.5 & 0.7000000000 &  7.1 & 0.0004242641 & 5.656854e-05 & 0.0002828427 & 4.000000e-01 & 2.121320e-05 & 0.9 & 1.000000e-01 & 2.000000e-01\\\\\n",
       "\t 0 &  3.2 & 5.656854e-05 & 2.12132e-03 &  1.4 & 0.0003535534 & 5.656854e-05 & 7.071068e-05 &  5.0 & 4.949747e-05 & 0.3 & 0.0002121320 &  1.6 & 0.0004242641 & 5.656854e-05 & 0.0002828427 & 8.000000e-02 & 2.121320e-05 & 2.9 & 2.000000e-01 & 3.535534e-05\\\\\n",
       "\t 0 &  3.5 & 5.656854e-05 & 1.50000e+01 &  4.2 & 0.0003535534 & 5.656854e-05 & 7.071068e-05 &  3.9 & 4.949747e-05 & 0.8 & 0.0002121320 &  4.6 & 0.0004242641 & 5.656854e-05 & 0.0002828427 & 2.000000e-01 & 2.121320e-05 & 0.5 & 6.000000e-02 & 1.000000e-01\\\\\n",
       "\t 0 & 18.0 & 4.000000e-01 & 4.20000e+00 &  6.4 & 0.0003535534 & 5.656854e-05 & 7.071068e-05 &  6.6 & 4.949747e-05 & 0.4 & 0.0002121320 &  3.8 & 0.0004242641 & 5.656854e-05 & 0.0002828427 & 1.000000e-01 & 2.121320e-05 & 1.2 & 4.000000e-01 & 3.535534e-05\\\\\n",
       "\t 0 & 15.0 & 5.656854e-05 & 2.12132e-03 &  0.5 & 0.0003535534 & 5.656854e-05 & 7.071068e-05 &  8.6 & 4.949747e-05 & 0.8 & 0.6000000000 &  1.6 & 0.0004242641 & 5.656854e-05 & 0.0002828427 & 5.000000e-01 & 2.121320e-05 & 0.2 & 2.000000e-01 & 3.535534e-05\\\\\n",
       "\t 0 &  3.5 & 5.656854e-05 & 1.20000e+01 &  4.0 & 0.0003535534 & 5.656854e-05 & 7.071068e-05 & 11.0 & 4.949747e-05 & 0.5 & 0.3000000000 &  4.4 & 0.0004242641 & 5.656854e-05 & 0.0002828427 & 3.000000e-01 & 2.121320e-05 & 0.4 & 1.000000e-01 & 3.535534e-05\\\\\n",
       "\t 0 & 33.0 & 5.656854e-05 & 7.10000e+00 &  2.8 & 0.0003535534 & 5.656854e-05 & 7.071068e-05 &  8.4 & 4.949747e-05 & 0.3 & 0.0002121320 &  4.3 & 0.0004242641 & 5.656854e-05 & 0.0002828427 & 3.000000e-01 & 2.121320e-05 & 0.4 & 2.000000e-01 & 3.535534e-05\\\\\n",
       "\t 0 &  5.6 & 5.656854e-05 & 1.20000e+01 &  3.8 & 0.0003535534 & 5.656854e-05 & 7.071068e-05 & 10.0 & 4.949747e-05 & 0.6 & 0.0002121320 &  9.5 & 0.0004242641 & 5.656854e-05 & 0.0002828427 & 2.000000e-01 & 2.121320e-05 & 1.2 & 2.000000e-01 & 3.535534e-05\\\\\n",
       "\t 0 &  1.9 & 5.656854e-05 & 1.60000e+01 &  5.4 & 0.0003535534 & 5.656854e-05 & 7.071068e-05 &  7.6 & 4.949747e-05 & 0.5 & 0.0002121320 &  5.4 & 0.0004242641 & 5.656854e-05 & 0.0002828427 & 3.000000e-01 & 2.121320e-05 & 0.3 & 2.000000e-01 & 3.535534e-05\\\\\n",
       "\t 0 & 15.0 & 9.000000e-02 & 1.10000e+01 &  1.2 & 0.0003535534 & 5.656854e-05 & 1.000000e-01 &  6.3 & 4.949747e-05 & 0.3 & 0.0002121320 &  2.7 & 0.0004242641 & 5.656854e-05 & 0.0002828427 & 3.000000e-01 & 2.121320e-05 & 0.6 & 7.000000e-02 & 3.535534e-05\\\\\n",
       "\t 0 & 74.0 & 3.000000e-01 & 2.50000e+01 & 15.0 & 0.0003535534 & 5.656854e-05 & 1.000000e-01 & 14.0 & 4.949747e-05 & 2.9 & 0.0002121320 &  7.8 & 0.0004242641 & 5.656854e-05 & 0.0002828427 & 4.000000e-01 & 2.121320e-05 & 3.7 & 1.000000e-01 & 8.000000e-02\\\\\n",
       "\t 1 & 15.0 & 1.131371e-04 & 1.20000e+01 &  1.6 & 0.0007071068 & 1.131371e-04 & 1.414214e-04 &  3.4 & 9.899495e-05 & 0.3 & 0.0004242641 &  6.8 & 0.0008485281 & 1.131371e-04 & 0.0005656854 & 1.000000e-01 & 4.242641e-05 & 1.0 & 3.000000e-01 & 7.071068e-05\\\\\n",
       "\t 1 & 59.0 & 3.000000e-01 & 1.10000e+01 &  7.2 & 0.0003535534 & 5.656854e-05 & 7.071068e-05 &  7.5 & 4.949747e-05 & 2.2 & 0.0002121320 &  6.7 & 0.0004242641 & 5.656854e-05 & 0.0002828427 & 2.000000e-01 & 2.121320e-05 & 2.2 & 7.000000e-01 & 3.535534e-05\\\\\n",
       "\t 1 & 17.0 & 5.656854e-05 & 1.10000e+01 &  5.2 & 0.0003535534 & 5.656854e-05 & 7.071068e-05 &  5.8 & 4.949747e-05 & 0.8 & 0.0002121320 &  4.5 & 0.0004242641 & 5.656854e-05 & 0.0002828427 & 2.000000e-01 & 2.121320e-05 & 5.0 & 8.000000e-01 & 3.535534e-05\\\\\n",
       "\t 1 & 14.0 & 5.656854e-05 & 6.50000e+00 &  7.4 & 0.0003535534 & 5.656854e-05 & 7.071068e-05 &  8.9 & 4.949747e-05 & 1.1 & 0.0002121320 &  9.0 & 0.0004242641 & 5.656854e-05 & 0.0002828427 & 4.000000e-01 & 2.121320e-05 & 2.6 & 2.000000e-01 & 3.535534e-05\\\\\n",
       "\t 1 &  6.1 & 5.656854e-05 & 1.10000e+01 &  2.9 & 0.0003535534 & 5.656854e-05 & 7.071068e-05 &  6.2 & 4.949747e-05 & 0.6 & 0.0002121320 &  2.9 & 0.0004242641 & 5.656854e-05 & 0.0002828427 & 2.000000e-01 & 2.121320e-05 & 0.9 & 2.000000e-01 & 3.535534e-05\\\\\n",
       "\t 1 &  4.1 & 5.656854e-05 & 1.60000e+01 &  2.8 & 0.0003535534 & 5.656854e-05 & 7.071068e-05 &  7.0 & 4.949747e-05 & 0.4 & 0.0002121320 &  4.3 & 0.0004242641 & 5.656854e-05 & 0.0002828427 & 3.000000e-01 & 2.121320e-05 & 0.2 & 2.000000e-01 & 3.535534e-05\\\\\n",
       "\t 1 & 38.0 & 5.656854e-05 & 1.50000e+01 &  3.3 & 0.0003535534 & 5.656854e-05 & 7.071068e-05 &  3.7 & 4.949747e-05 & 0.2 & 0.0002121320 & 10.0 & 0.0004242641 & 5.656854e-05 & 0.0002828427 & 2.000000e-01 & 2.121320e-05 & 1.6 & 3.000000e-01 & 3.535534e-05\\\\\n",
       "\t 1 & 46.0 & 9.000000e-01 & 1.06066e-03 & 11.0 & 0.0001767767 & 2.828427e-05 & 3.535534e-05 & 18.0 & 2.474874e-05 & 1.1 & 0.0001060660 &  5.6 & 0.0002121320 & 2.828427e-05 & 0.0001414214 & 8.000000e-01 & 1.060660e-05 & 0.6 & 3.000000e-01 & 1.767767e-05\\\\\n",
       "\t 1 &  6.4 & 5.656854e-05 & 9.00000e+00 &  2.5 & 0.0003535534 & 5.656854e-05 & 7.071068e-05 &  7.7 & 4.949747e-05 & 0.4 & 0.0002121320 &  3.4 & 0.0004242641 & 5.656854e-05 & 0.0002828427 & 2.000000e-01 & 2.121320e-05 & 0.5 & 3.000000e-01 & 3.535534e-05\\\\\n",
       "\t 1 & 16.0 & 3.000000e-01 & 2.50000e+01 &  7.0 & 0.0003535534 & 5.656854e-05 & 7.071068e-05 & 14.0 & 4.949747e-05 & 0.8 & 0.0002121320 &  9.9 & 0.0004242641 & 5.656854e-05 & 0.0002828427 & 3.535534e-05 & 2.121320e-05 & 9.9 & 2.000000e-01 & 3.535534e-05\\\\\n",
       "\t 1 & 18.0 & 2.000000e-01 & 1.10000e+01 &  1.0 & 0.0003535534 & 5.656854e-05 & 7.071068e-05 & 16.0 & 4.949747e-05 & 0.7 & 0.0002121320 &  3.3 & 0.0004242641 & 5.656854e-05 & 0.0002828427 & 4.000000e-01 & 2.121320e-05 & 2.8 & 7.000000e-01 & 3.535534e-05\\\\\n",
       "\t 1 & 11.0 & 2.000000e-01 & 2.80000e+01 &  9.8 & 0.0003535534 & 5.656854e-05 & 7.071068e-05 &  6.0 & 4.949747e-05 & 0.4 & 0.0002121320 &  6.1 & 0.0004242641 & 5.656854e-05 & 0.0002828427 & 2.000000e-01 & 2.121320e-05 & 1.8 & 3.000000e-01 & 3.535534e-05\\\\\n",
       "\t 1 & 10.0 & 5.656854e-05 & 5.10000e+01 &  6.8 & 0.0003535534 & 5.656854e-05 & 7.071068e-05 &  7.6 & 4.949747e-05 & 0.6 & 0.0002121320 &  6.8 & 0.0004242641 & 5.656854e-05 & 0.0002828427 & 2.000000e-01 & 2.121320e-05 & 3.3 & 5.000000e-01 & 3.535534e-05\\\\\n",
       "\t 1 & 12.0 & 8.000000e-02 & 5.20000e+00 &  3.0 & 0.0007071068 & 1.131371e-04 & 1.414214e-04 &  2.9 & 9.899495e-05 & 0.1 & 0.0004242641 &  2.6 & 0.0008485281 & 1.131371e-04 & 0.0005656854 & 9.000000e-02 & 4.242641e-05 & 4.2 & 2.000000e-01 & 7.071068e-05\\\\\n",
       "\t 1 & 15.0 & 5.656854e-05 & 1.10000e+01 &  1.7 & 0.0003535534 & 6.000000e-01 & 2.000000e-01 &  6.1 & 4.949747e-05 & 0.4 & 0.0002121320 &  6.5 & 0.0004242641 & 5.656854e-05 & 0.0002828427 & 3.000000e-01 & 2.121320e-05 & 2.2 & 5.000000e-01 & 3.535534e-05\\\\\n",
       "\t 1 & 14.0 & 5.656854e-05 & 2.30000e+01 &  2.7 & 0.0003535534 & 5.656854e-05 & 3.000000e-01 &  9.7 & 4.949747e-05 & 0.4 & 0.0002121320 &  8.3 & 0.0004242641 & 5.656854e-05 & 0.0002828427 & 3.000000e-01 & 2.121320e-05 & 1.4 & 6.000000e-01 & 3.535534e-05\\\\\n",
       "\t 1 &  9.1 & 2.000000e-01 & 2.20000e+01 &  1.7 & 0.0003535534 & 5.656854e-05 & 7.071068e-05 &  5.9 & 4.949747e-05 & 0.4 & 0.0002121320 &  6.4 & 0.0004242641 & 5.656854e-05 & 0.0002828427 & 1.000000e-01 & 2.121320e-05 & 1.7 & 2.000000e-01 & 3.535534e-05\\\\\n",
       "\t 1 & 27.0 & 2.000000e-01 & 1.80000e+01 &  1.9 & 0.0003535534 & 5.656854e-05 & 7.071068e-05 &  5.3 & 4.949747e-05 & 0.7 & 0.0002121320 &  2.8 & 0.0004242641 & 5.656854e-05 & 0.0002828427 & 2.000000e-01 & 2.121320e-05 & 5.5 & 3.535534e-05 & 3.535534e-05\\\\\n",
       "\t 1 &  8.5 & 1.000000e-01 & 2.30000e+01 &  2.9 & 0.0003535534 & 5.656854e-05 & 7.071068e-05 &  5.7 & 4.949747e-05 & 0.3 & 0.0002121320 &  2.7 & 0.0004242641 & 5.656854e-05 & 0.0002828427 & 2.000000e-01 & 2.121320e-05 & 2.5 & 4.000000e-01 & 3.535534e-05\\\\\n",
       "\t 1 &  9.5 & 2.000000e-01 & 2.90000e+01 &  5.5 & 0.0003535534 & 5.656854e-05 & 7.071068e-05 &  7.7 & 4.949747e-05 & 0.7 & 0.0002121320 &  8.0 & 0.0004242641 & 5.656854e-05 & 0.0002828427 & 2.000000e-01 & 2.121320e-05 & 1.4 & 2.200000e+00 & 3.535534e-05\\\\\n",
       "\t 1 &  6.3 & 9.000000e-02 & 7.90000e+00 &  1.8 & 0.0003535534 & 2.000000e-01 & 7.071068e-05 &  4.8 & 4.949747e-05 & 0.3 & 0.0002121320 &  6.0 & 0.0004242641 & 5.656854e-05 & 0.0002828427 & 1.000000e-01 & 2.121320e-05 & 2.5 & 1.000000e-01 & 3.535534e-05\\\\\n",
       "\t 1 & 37.0 & 2.000000e-01 & 1.90000e+01 &  2.0 & 0.0003535534 & 5.656854e-05 & 7.071068e-05 &  6.9 & 4.949747e-05 & 0.8 & 0.0002121320 &  2.1 & 0.0004242641 & 5.656854e-05 & 0.0002828427 & 4.000000e-01 & 2.121320e-05 & 6.0 & 6.000000e-01 & 3.000000e-01\\\\\n",
       "\t 1 &  6.5 & 1.000000e-01 & 1.00000e+01 &  4.0 & 0.0003535534 & 5.656854e-05 & 7.071068e-05 &  5.7 & 4.949747e-05 & 0.4 & 0.0002121320 &  7.6 & 0.0004242641 & 5.656854e-05 & 0.0002828427 & 2.000000e-01 & 2.121320e-05 & 1.9 & 2.000000e-01 & 3.535534e-05\\\\\n",
       "\t 1 &  3.2 & 1.000000e-01 & 1.30000e+01 &  2.8 & 0.0003535534 & 5.656854e-05 & 7.071068e-05 &  7.7 & 4.949747e-05 & 1.0 & 0.0002121320 &  3.8 & 0.0004242641 & 5.656854e-05 & 0.0002828427 & 2.000000e-01 & 2.121320e-05 & 3.1 & 2.000000e-01 & 3.535534e-05\\\\\n",
       "\t 1 & 12.0 & 5.656854e-05 & 1.90000e+01 &  5.2 & 0.0003535534 & 4.000000e-01 & 7.071068e-05 &  5.6 & 4.949747e-05 & 0.5 & 0.0002121320 &  6.2 & 0.0004242641 & 5.656854e-05 & 0.0002828427 & 2.000000e-01 & 2.121320e-05 & 6.6 & 2.000000e-01 & 3.535534e-05\\\\\n",
       "\t 1 & 11.0 & 2.000000e-01 & 2.00000e+01 &  2.1 & 0.0003535534 & 5.656854e-05 & 7.071068e-05 &  7.2 & 4.949747e-05 & 0.8 & 0.0002121320 &  1.8 & 0.0004242641 & 5.656854e-05 & 0.0002828427 & 3.000000e-01 & 2.121320e-05 & 6.7 & 3.000000e-01 & 8.000000e-02\\\\\n",
       "\\end{tabular}\n"
      ],
      "text/markdown": [
       "\n",
       "A tibble: 47 × 21\n",
       "\n",
       "| Status &lt;chr&gt; | Aluminum &lt;dbl&gt; | Antimony &lt;dbl&gt; | Arsenic &lt;dbl&gt; | Barium &lt;dbl&gt; | Beryllium &lt;dbl&gt; | Bismuth &lt;dbl&gt; | Cadmium &lt;dbl&gt; | Cesium &lt;dbl&gt; | Gadolinium &lt;dbl&gt; | Lead &lt;dbl&gt; | Mercury &lt;dbl&gt; | Nickel &lt;dbl&gt; | Palladium &lt;dbl&gt; | Platinum &lt;dbl&gt; | Tellurium &lt;dbl&gt; | Thallium &lt;dbl&gt; | Thorium &lt;dbl&gt; | Tin &lt;dbl&gt; | Tungsten &lt;dbl&gt; | Uranium &lt;dbl&gt; |\n",
       "|---|---|---|---|---|---|---|---|---|---|---|---|---|---|---|---|---|---|---|---|---|\n",
       "| 0 |  7.0 | 2.000000e-01 | 1.10000e+01 |  2.1 | 0.0007071068 | 1.131371e-04 | 1.414214e-04 |  4.3 | 9.899495e-05 | 0.2 | 0.0004242641 |  4.9 | 0.0008485281 | 1.131371e-04 | 0.0005656854 | 1.000000e-01 | 4.242641e-05 | 1.6 | 3.000000e-01 | 7.071068e-05 |\n",
       "| 0 | 19.0 | 2.000000e-01 | 8.10000e+00 |  8.0 | 0.0003535534 | 5.656854e-05 | 7.071068e-05 | 16.0 | 4.949747e-05 | 1.0 | 0.0002121320 |  2.9 | 0.0004242641 | 5.656854e-05 | 0.0002828427 | 6.000000e-01 | 2.121320e-05 | 1.0 | 2.000000e-01 | 3.535534e-05 |\n",
       "| 0 |  9.2 | 5.656854e-05 | 5.90000e+00 |  4.7 | 0.0003535534 | 2.000000e-01 | 7.071068e-05 | 11.0 | 4.949747e-05 | 0.5 | 0.0002121320 |  9.4 | 0.0004242641 | 5.656854e-05 | 0.0002828427 | 3.000000e-01 | 2.121320e-05 | 8.4 | 6.000000e-01 | 3.535534e-05 |\n",
       "| 0 |  8.4 | 5.656854e-05 | 1.40000e+01 |  3.0 | 0.0003535534 | 5.656854e-05 | 7.071068e-05 | 16.0 | 4.949747e-05 | 0.9 | 0.0002121320 | 15.0 | 0.0004242641 | 5.656854e-05 | 0.0002828427 | 4.000000e-01 | 2.121320e-05 | 1.4 | 3.000000e-01 | 3.535534e-05 |\n",
       "| 0 |  5.6 | 2.828427e-05 | 1.10000e+01 |  3.8 | 0.0001767767 | 2.828427e-05 | 3.535534e-05 |  4.5 | 2.474874e-05 | 0.4 | 1.0000000000 |  2.5 | 0.0002121320 | 2.828427e-05 | 0.0001414214 | 4.000000e-01 | 1.060660e-05 | 0.6 | 3.000000e-01 | 1.767767e-05 |\n",
       "| 0 | 17.0 | 6.000000e-01 | 1.50000e+01 |  3.1 | 0.0003535534 | 5.656854e-05 | 7.071068e-05 | 10.0 | 4.949747e-05 | 0.5 | 0.0002121320 |  5.2 | 0.0004242641 | 5.656854e-05 | 0.0002828427 | 2.000000e-01 | 2.121320e-05 | 0.5 | 1.000000e-01 | 3.535534e-05 |\n",
       "| 0 |  9.5 | 5.656854e-05 | 1.20000e+02 |  4.2 | 0.0003535534 | 5.656854e-05 | 2.000000e-01 |  5.7 | 4.949747e-05 | 0.3 | 0.0002121320 |  6.7 | 0.0004242641 | 5.656854e-05 | 0.0002828427 | 3.000000e-01 | 2.121320e-05 | 0.2 | 3.000000e-01 | 3.535534e-05 |\n",
       "| 0 |  6.8 | 2.000000e-01 | 3.50000e+01 |  4.0 | 0.0007071068 | 1.131371e-04 | 1.414214e-04 |  3.3 | 3.300000e+01 | 0.4 | 0.0004242641 |  9.7 | 0.0008485281 | 1.131371e-04 | 0.0005656854 | 9.000000e-02 | 4.242641e-05 | 4.0 | 1.200000e+00 | 7.071068e-05 |\n",
       "| 0 | 24.0 | 2.000000e-01 | 1.40000e+01 |  2.6 | 0.0003535534 | 5.656854e-05 | 7.071068e-05 |  4.4 | 4.949747e-05 | 0.5 | 0.0002121320 |  3.8 | 0.0004242641 | 5.656854e-05 | 0.0002828427 | 6.000000e-01 | 2.121320e-05 | 2.0 | 7.000000e-02 | 3.535534e-05 |\n",
       "| 0 | 21.0 | 7.000000e-02 | 1.20000e+01 |  1.8 | 0.0003535534 | 5.656854e-05 | 2.000000e-01 |  3.6 | 4.949747e-05 | 0.1 | 0.0002121320 |  1.3 | 0.0004242641 | 5.656854e-05 | 0.0002828427 | 2.000000e-01 | 2.121320e-05 | 0.2 | 2.000000e-01 | 3.535534e-05 |\n",
       "| 0 |  7.7 | 1.000000e-01 | 1.10000e+01 | 10.0 | 0.0003535534 | 1.000000e-01 | 7.071068e-05 |  6.9 | 4.949747e-05 | 0.5 | 0.7000000000 |  7.1 | 0.0004242641 | 5.656854e-05 | 0.0002828427 | 4.000000e-01 | 2.121320e-05 | 0.9 | 1.000000e-01 | 2.000000e-01 |\n",
       "| 0 |  3.2 | 5.656854e-05 | 2.12132e-03 |  1.4 | 0.0003535534 | 5.656854e-05 | 7.071068e-05 |  5.0 | 4.949747e-05 | 0.3 | 0.0002121320 |  1.6 | 0.0004242641 | 5.656854e-05 | 0.0002828427 | 8.000000e-02 | 2.121320e-05 | 2.9 | 2.000000e-01 | 3.535534e-05 |\n",
       "| 0 |  3.5 | 5.656854e-05 | 1.50000e+01 |  4.2 | 0.0003535534 | 5.656854e-05 | 7.071068e-05 |  3.9 | 4.949747e-05 | 0.8 | 0.0002121320 |  4.6 | 0.0004242641 | 5.656854e-05 | 0.0002828427 | 2.000000e-01 | 2.121320e-05 | 0.5 | 6.000000e-02 | 1.000000e-01 |\n",
       "| 0 | 18.0 | 4.000000e-01 | 4.20000e+00 |  6.4 | 0.0003535534 | 5.656854e-05 | 7.071068e-05 |  6.6 | 4.949747e-05 | 0.4 | 0.0002121320 |  3.8 | 0.0004242641 | 5.656854e-05 | 0.0002828427 | 1.000000e-01 | 2.121320e-05 | 1.2 | 4.000000e-01 | 3.535534e-05 |\n",
       "| 0 | 15.0 | 5.656854e-05 | 2.12132e-03 |  0.5 | 0.0003535534 | 5.656854e-05 | 7.071068e-05 |  8.6 | 4.949747e-05 | 0.8 | 0.6000000000 |  1.6 | 0.0004242641 | 5.656854e-05 | 0.0002828427 | 5.000000e-01 | 2.121320e-05 | 0.2 | 2.000000e-01 | 3.535534e-05 |\n",
       "| 0 |  3.5 | 5.656854e-05 | 1.20000e+01 |  4.0 | 0.0003535534 | 5.656854e-05 | 7.071068e-05 | 11.0 | 4.949747e-05 | 0.5 | 0.3000000000 |  4.4 | 0.0004242641 | 5.656854e-05 | 0.0002828427 | 3.000000e-01 | 2.121320e-05 | 0.4 | 1.000000e-01 | 3.535534e-05 |\n",
       "| 0 | 33.0 | 5.656854e-05 | 7.10000e+00 |  2.8 | 0.0003535534 | 5.656854e-05 | 7.071068e-05 |  8.4 | 4.949747e-05 | 0.3 | 0.0002121320 |  4.3 | 0.0004242641 | 5.656854e-05 | 0.0002828427 | 3.000000e-01 | 2.121320e-05 | 0.4 | 2.000000e-01 | 3.535534e-05 |\n",
       "| 0 |  5.6 | 5.656854e-05 | 1.20000e+01 |  3.8 | 0.0003535534 | 5.656854e-05 | 7.071068e-05 | 10.0 | 4.949747e-05 | 0.6 | 0.0002121320 |  9.5 | 0.0004242641 | 5.656854e-05 | 0.0002828427 | 2.000000e-01 | 2.121320e-05 | 1.2 | 2.000000e-01 | 3.535534e-05 |\n",
       "| 0 |  1.9 | 5.656854e-05 | 1.60000e+01 |  5.4 | 0.0003535534 | 5.656854e-05 | 7.071068e-05 |  7.6 | 4.949747e-05 | 0.5 | 0.0002121320 |  5.4 | 0.0004242641 | 5.656854e-05 | 0.0002828427 | 3.000000e-01 | 2.121320e-05 | 0.3 | 2.000000e-01 | 3.535534e-05 |\n",
       "| 0 | 15.0 | 9.000000e-02 | 1.10000e+01 |  1.2 | 0.0003535534 | 5.656854e-05 | 1.000000e-01 |  6.3 | 4.949747e-05 | 0.3 | 0.0002121320 |  2.7 | 0.0004242641 | 5.656854e-05 | 0.0002828427 | 3.000000e-01 | 2.121320e-05 | 0.6 | 7.000000e-02 | 3.535534e-05 |\n",
       "| 0 | 74.0 | 3.000000e-01 | 2.50000e+01 | 15.0 | 0.0003535534 | 5.656854e-05 | 1.000000e-01 | 14.0 | 4.949747e-05 | 2.9 | 0.0002121320 |  7.8 | 0.0004242641 | 5.656854e-05 | 0.0002828427 | 4.000000e-01 | 2.121320e-05 | 3.7 | 1.000000e-01 | 8.000000e-02 |\n",
       "| 1 | 15.0 | 1.131371e-04 | 1.20000e+01 |  1.6 | 0.0007071068 | 1.131371e-04 | 1.414214e-04 |  3.4 | 9.899495e-05 | 0.3 | 0.0004242641 |  6.8 | 0.0008485281 | 1.131371e-04 | 0.0005656854 | 1.000000e-01 | 4.242641e-05 | 1.0 | 3.000000e-01 | 7.071068e-05 |\n",
       "| 1 | 59.0 | 3.000000e-01 | 1.10000e+01 |  7.2 | 0.0003535534 | 5.656854e-05 | 7.071068e-05 |  7.5 | 4.949747e-05 | 2.2 | 0.0002121320 |  6.7 | 0.0004242641 | 5.656854e-05 | 0.0002828427 | 2.000000e-01 | 2.121320e-05 | 2.2 | 7.000000e-01 | 3.535534e-05 |\n",
       "| 1 | 17.0 | 5.656854e-05 | 1.10000e+01 |  5.2 | 0.0003535534 | 5.656854e-05 | 7.071068e-05 |  5.8 | 4.949747e-05 | 0.8 | 0.0002121320 |  4.5 | 0.0004242641 | 5.656854e-05 | 0.0002828427 | 2.000000e-01 | 2.121320e-05 | 5.0 | 8.000000e-01 | 3.535534e-05 |\n",
       "| 1 | 14.0 | 5.656854e-05 | 6.50000e+00 |  7.4 | 0.0003535534 | 5.656854e-05 | 7.071068e-05 |  8.9 | 4.949747e-05 | 1.1 | 0.0002121320 |  9.0 | 0.0004242641 | 5.656854e-05 | 0.0002828427 | 4.000000e-01 | 2.121320e-05 | 2.6 | 2.000000e-01 | 3.535534e-05 |\n",
       "| 1 |  6.1 | 5.656854e-05 | 1.10000e+01 |  2.9 | 0.0003535534 | 5.656854e-05 | 7.071068e-05 |  6.2 | 4.949747e-05 | 0.6 | 0.0002121320 |  2.9 | 0.0004242641 | 5.656854e-05 | 0.0002828427 | 2.000000e-01 | 2.121320e-05 | 0.9 | 2.000000e-01 | 3.535534e-05 |\n",
       "| 1 |  4.1 | 5.656854e-05 | 1.60000e+01 |  2.8 | 0.0003535534 | 5.656854e-05 | 7.071068e-05 |  7.0 | 4.949747e-05 | 0.4 | 0.0002121320 |  4.3 | 0.0004242641 | 5.656854e-05 | 0.0002828427 | 3.000000e-01 | 2.121320e-05 | 0.2 | 2.000000e-01 | 3.535534e-05 |\n",
       "| 1 | 38.0 | 5.656854e-05 | 1.50000e+01 |  3.3 | 0.0003535534 | 5.656854e-05 | 7.071068e-05 |  3.7 | 4.949747e-05 | 0.2 | 0.0002121320 | 10.0 | 0.0004242641 | 5.656854e-05 | 0.0002828427 | 2.000000e-01 | 2.121320e-05 | 1.6 | 3.000000e-01 | 3.535534e-05 |\n",
       "| 1 | 46.0 | 9.000000e-01 | 1.06066e-03 | 11.0 | 0.0001767767 | 2.828427e-05 | 3.535534e-05 | 18.0 | 2.474874e-05 | 1.1 | 0.0001060660 |  5.6 | 0.0002121320 | 2.828427e-05 | 0.0001414214 | 8.000000e-01 | 1.060660e-05 | 0.6 | 3.000000e-01 | 1.767767e-05 |\n",
       "| 1 |  6.4 | 5.656854e-05 | 9.00000e+00 |  2.5 | 0.0003535534 | 5.656854e-05 | 7.071068e-05 |  7.7 | 4.949747e-05 | 0.4 | 0.0002121320 |  3.4 | 0.0004242641 | 5.656854e-05 | 0.0002828427 | 2.000000e-01 | 2.121320e-05 | 0.5 | 3.000000e-01 | 3.535534e-05 |\n",
       "| 1 | 16.0 | 3.000000e-01 | 2.50000e+01 |  7.0 | 0.0003535534 | 5.656854e-05 | 7.071068e-05 | 14.0 | 4.949747e-05 | 0.8 | 0.0002121320 |  9.9 | 0.0004242641 | 5.656854e-05 | 0.0002828427 | 3.535534e-05 | 2.121320e-05 | 9.9 | 2.000000e-01 | 3.535534e-05 |\n",
       "| 1 | 18.0 | 2.000000e-01 | 1.10000e+01 |  1.0 | 0.0003535534 | 5.656854e-05 | 7.071068e-05 | 16.0 | 4.949747e-05 | 0.7 | 0.0002121320 |  3.3 | 0.0004242641 | 5.656854e-05 | 0.0002828427 | 4.000000e-01 | 2.121320e-05 | 2.8 | 7.000000e-01 | 3.535534e-05 |\n",
       "| 1 | 11.0 | 2.000000e-01 | 2.80000e+01 |  9.8 | 0.0003535534 | 5.656854e-05 | 7.071068e-05 |  6.0 | 4.949747e-05 | 0.4 | 0.0002121320 |  6.1 | 0.0004242641 | 5.656854e-05 | 0.0002828427 | 2.000000e-01 | 2.121320e-05 | 1.8 | 3.000000e-01 | 3.535534e-05 |\n",
       "| 1 | 10.0 | 5.656854e-05 | 5.10000e+01 |  6.8 | 0.0003535534 | 5.656854e-05 | 7.071068e-05 |  7.6 | 4.949747e-05 | 0.6 | 0.0002121320 |  6.8 | 0.0004242641 | 5.656854e-05 | 0.0002828427 | 2.000000e-01 | 2.121320e-05 | 3.3 | 5.000000e-01 | 3.535534e-05 |\n",
       "| 1 | 12.0 | 8.000000e-02 | 5.20000e+00 |  3.0 | 0.0007071068 | 1.131371e-04 | 1.414214e-04 |  2.9 | 9.899495e-05 | 0.1 | 0.0004242641 |  2.6 | 0.0008485281 | 1.131371e-04 | 0.0005656854 | 9.000000e-02 | 4.242641e-05 | 4.2 | 2.000000e-01 | 7.071068e-05 |\n",
       "| 1 | 15.0 | 5.656854e-05 | 1.10000e+01 |  1.7 | 0.0003535534 | 6.000000e-01 | 2.000000e-01 |  6.1 | 4.949747e-05 | 0.4 | 0.0002121320 |  6.5 | 0.0004242641 | 5.656854e-05 | 0.0002828427 | 3.000000e-01 | 2.121320e-05 | 2.2 | 5.000000e-01 | 3.535534e-05 |\n",
       "| 1 | 14.0 | 5.656854e-05 | 2.30000e+01 |  2.7 | 0.0003535534 | 5.656854e-05 | 3.000000e-01 |  9.7 | 4.949747e-05 | 0.4 | 0.0002121320 |  8.3 | 0.0004242641 | 5.656854e-05 | 0.0002828427 | 3.000000e-01 | 2.121320e-05 | 1.4 | 6.000000e-01 | 3.535534e-05 |\n",
       "| 1 |  9.1 | 2.000000e-01 | 2.20000e+01 |  1.7 | 0.0003535534 | 5.656854e-05 | 7.071068e-05 |  5.9 | 4.949747e-05 | 0.4 | 0.0002121320 |  6.4 | 0.0004242641 | 5.656854e-05 | 0.0002828427 | 1.000000e-01 | 2.121320e-05 | 1.7 | 2.000000e-01 | 3.535534e-05 |\n",
       "| 1 | 27.0 | 2.000000e-01 | 1.80000e+01 |  1.9 | 0.0003535534 | 5.656854e-05 | 7.071068e-05 |  5.3 | 4.949747e-05 | 0.7 | 0.0002121320 |  2.8 | 0.0004242641 | 5.656854e-05 | 0.0002828427 | 2.000000e-01 | 2.121320e-05 | 5.5 | 3.535534e-05 | 3.535534e-05 |\n",
       "| 1 |  8.5 | 1.000000e-01 | 2.30000e+01 |  2.9 | 0.0003535534 | 5.656854e-05 | 7.071068e-05 |  5.7 | 4.949747e-05 | 0.3 | 0.0002121320 |  2.7 | 0.0004242641 | 5.656854e-05 | 0.0002828427 | 2.000000e-01 | 2.121320e-05 | 2.5 | 4.000000e-01 | 3.535534e-05 |\n",
       "| 1 |  9.5 | 2.000000e-01 | 2.90000e+01 |  5.5 | 0.0003535534 | 5.656854e-05 | 7.071068e-05 |  7.7 | 4.949747e-05 | 0.7 | 0.0002121320 |  8.0 | 0.0004242641 | 5.656854e-05 | 0.0002828427 | 2.000000e-01 | 2.121320e-05 | 1.4 | 2.200000e+00 | 3.535534e-05 |\n",
       "| 1 |  6.3 | 9.000000e-02 | 7.90000e+00 |  1.8 | 0.0003535534 | 2.000000e-01 | 7.071068e-05 |  4.8 | 4.949747e-05 | 0.3 | 0.0002121320 |  6.0 | 0.0004242641 | 5.656854e-05 | 0.0002828427 | 1.000000e-01 | 2.121320e-05 | 2.5 | 1.000000e-01 | 3.535534e-05 |\n",
       "| 1 | 37.0 | 2.000000e-01 | 1.90000e+01 |  2.0 | 0.0003535534 | 5.656854e-05 | 7.071068e-05 |  6.9 | 4.949747e-05 | 0.8 | 0.0002121320 |  2.1 | 0.0004242641 | 5.656854e-05 | 0.0002828427 | 4.000000e-01 | 2.121320e-05 | 6.0 | 6.000000e-01 | 3.000000e-01 |\n",
       "| 1 |  6.5 | 1.000000e-01 | 1.00000e+01 |  4.0 | 0.0003535534 | 5.656854e-05 | 7.071068e-05 |  5.7 | 4.949747e-05 | 0.4 | 0.0002121320 |  7.6 | 0.0004242641 | 5.656854e-05 | 0.0002828427 | 2.000000e-01 | 2.121320e-05 | 1.9 | 2.000000e-01 | 3.535534e-05 |\n",
       "| 1 |  3.2 | 1.000000e-01 | 1.30000e+01 |  2.8 | 0.0003535534 | 5.656854e-05 | 7.071068e-05 |  7.7 | 4.949747e-05 | 1.0 | 0.0002121320 |  3.8 | 0.0004242641 | 5.656854e-05 | 0.0002828427 | 2.000000e-01 | 2.121320e-05 | 3.1 | 2.000000e-01 | 3.535534e-05 |\n",
       "| 1 | 12.0 | 5.656854e-05 | 1.90000e+01 |  5.2 | 0.0003535534 | 4.000000e-01 | 7.071068e-05 |  5.6 | 4.949747e-05 | 0.5 | 0.0002121320 |  6.2 | 0.0004242641 | 5.656854e-05 | 0.0002828427 | 2.000000e-01 | 2.121320e-05 | 6.6 | 2.000000e-01 | 3.535534e-05 |\n",
       "| 1 | 11.0 | 2.000000e-01 | 2.00000e+01 |  2.1 | 0.0003535534 | 5.656854e-05 | 7.071068e-05 |  7.2 | 4.949747e-05 | 0.8 | 0.0002121320 |  1.8 | 0.0004242641 | 5.656854e-05 | 0.0002828427 | 3.000000e-01 | 2.121320e-05 | 6.7 | 3.000000e-01 | 8.000000e-02 |\n",
       "\n"
      ],
      "text/plain": [
       "   Status Aluminum Antimony     Arsenic     Barium Beryllium    Bismuth     \n",
       "1  0       7.0     2.000000e-01 1.10000e+01  2.1   0.0007071068 1.131371e-04\n",
       "2  0      19.0     2.000000e-01 8.10000e+00  8.0   0.0003535534 5.656854e-05\n",
       "3  0       9.2     5.656854e-05 5.90000e+00  4.7   0.0003535534 2.000000e-01\n",
       "4  0       8.4     5.656854e-05 1.40000e+01  3.0   0.0003535534 5.656854e-05\n",
       "5  0       5.6     2.828427e-05 1.10000e+01  3.8   0.0001767767 2.828427e-05\n",
       "   Cadmium      Cesium Gadolinium   Lead Mercury      Nickel Palladium   \n",
       "1  1.414214e-04  4.3   9.899495e-05 0.2  0.0004242641  4.9   0.0008485281\n",
       "2  7.071068e-05 16.0   4.949747e-05 1.0  0.0002121320  2.9   0.0004242641\n",
       "3  7.071068e-05 11.0   4.949747e-05 0.5  0.0002121320  9.4   0.0004242641\n",
       "4  7.071068e-05 16.0   4.949747e-05 0.9  0.0002121320 15.0   0.0004242641\n",
       "5  3.535534e-05  4.5   2.474874e-05 0.4  1.0000000000  2.5   0.0002121320\n",
       "   Platinum     Tellurium    Thallium     Thorium      Tin Tungsten    \n",
       "1  1.131371e-04 0.0005656854 1.000000e-01 4.242641e-05 1.6 3.000000e-01\n",
       "2  5.656854e-05 0.0002828427 6.000000e-01 2.121320e-05 1.0 2.000000e-01\n",
       "3  5.656854e-05 0.0002828427 3.000000e-01 2.121320e-05 8.4 6.000000e-01\n",
       "4  5.656854e-05 0.0002828427 4.000000e-01 2.121320e-05 1.4 3.000000e-01\n",
       "5  2.828427e-05 0.0001414214 4.000000e-01 1.060660e-05 0.6 3.000000e-01\n",
       "   Uranium     \n",
       "1  7.071068e-05\n",
       "2  3.535534e-05\n",
       "3  3.535534e-05\n",
       "4  3.535534e-05\n",
       "5  1.767767e-05\n",
       " [ reached getOption(\"max.print\") -- omitted 42 rows ]"
      ]
     },
     "metadata": {},
     "output_type": "display_data"
    }
   ],
   "source": [
    "#Create subset: child with Toxic elements only\n",
    "childToxic <- (child[0:47 , 1:23])\n",
    "#Subset to drop 'ID'\n",
    "childToxic1 <- childToxic[, -1]\n",
    "#Subset to drop 'Type'\n",
    "childToxic2 <- childToxic1[,-2]\n",
    "childToxic2"
   ]
  },
  {
   "cell_type": "markdown",
   "id": "a70a7739",
   "metadata": {},
   "source": [
    "# Set up Child Essential Subgroup Data"
   ]
  },
  {
   "cell_type": "code",
   "execution_count": 35,
   "id": "0b0d5733",
   "metadata": {},
   "outputs": [
    {
     "data": {
      "text/html": [
       "<table class=\"dataframe\">\n",
       "<caption>A tibble: 47 × 19</caption>\n",
       "<thead>\n",
       "\t<tr><th scope=col>Status</th><th scope=col>Boron</th><th scope=col>Calcium</th><th scope=col>Chromium</th><th scope=col>Cobalt</th><th scope=col>Iron</th><th scope=col>Lithium</th><th scope=col>Magnesium</th><th scope=col>Manganese</th><th scope=col>Molybdenum</th><th scope=col>Phosphorus</th><th scope=col>Potassium</th><th scope=col>Selenium</th><th scope=col>Sodium</th><th scope=col>Strontium</th><th scope=col>Sulfur</th><th scope=col>Vanadium</th><th scope=col>Zinc</th><th scope=col>Creatinine</th></tr>\n",
       "\t<tr><th scope=col>&lt;chr&gt;</th><th scope=col>&lt;dbl&gt;</th><th scope=col>&lt;dbl&gt;</th><th scope=col>&lt;dbl&gt;</th><th scope=col>&lt;dbl&gt;</th><th scope=col>&lt;dbl&gt;</th><th scope=col>&lt;dbl&gt;</th><th scope=col>&lt;dbl&gt;</th><th scope=col>&lt;dbl&gt;</th><th scope=col>&lt;dbl&gt;</th><th scope=col>&lt;dbl&gt;</th><th scope=col>&lt;dbl&gt;</th><th scope=col>&lt;dbl&gt;</th><th scope=col>&lt;dbl&gt;</th><th scope=col>&lt;dbl&gt;</th><th scope=col>&lt;dbl&gt;</th><th scope=col>&lt;dbl&gt;</th><th scope=col>&lt;dbl&gt;</th><th scope=col>&lt;dbl&gt;</th></tr>\n",
       "</thead>\n",
       "<tbody>\n",
       "\t<tr><td>0</td><td> 2.3</td><td>140</td><td>0.0004242641</td><td>0.0011313708</td><td>0.24000000</td><td>0.083</td><td>200</td><td>0.0007</td><td>0.130</td><td>1180</td><td> 24</td><td>0.110</td><td> 56</td><td>0.130</td><td> 680</td><td>0.0002828427</td><td>0.660</td><td>175.0</td></tr>\n",
       "\t<tr><td>0</td><td> 4.9</td><td> 81</td><td>0.0002121320</td><td>0.0005656854</td><td>0.20000000</td><td>0.170</td><td>170</td><td>0.0050</td><td>0.180</td><td> 360</td><td>120</td><td>0.094</td><td>290</td><td>0.170</td><td> 860</td><td>0.0005000000</td><td>0.480</td><td> 76.0</td></tr>\n",
       "\t<tr><td>0</td><td> 2.9</td><td>300</td><td>0.0006000000</td><td>0.0030000000</td><td>0.60000000</td><td>0.170</td><td>310</td><td>0.0040</td><td>0.170</td><td>1860</td><td>120</td><td>0.110</td><td>240</td><td>0.370</td><td>1050</td><td>0.0006000000</td><td>0.750</td><td> 58.6</td></tr>\n",
       "\t<tr><td>0</td><td> 8.6</td><td>200</td><td>0.0010000000</td><td>0.0005656854</td><td>0.43000000</td><td>0.061</td><td>390</td><td>0.0050</td><td>0.043</td><td> 150</td><td>120</td><td>0.069</td><td>190</td><td>0.330</td><td> 630</td><td>0.0004000000</td><td>0.240</td><td> 54.3</td></tr>\n",
       "\t<tr><td>0</td><td> 1.3</td><td> 62</td><td>0.0010000000</td><td>0.0002828427</td><td>0.03535534</td><td>0.220</td><td>170</td><td>0.0070</td><td>0.085</td><td> 910</td><td>180</td><td>0.140</td><td>190</td><td>0.120</td><td>1290</td><td>0.0008000000</td><td>0.270</td><td> 30.6</td></tr>\n",
       "\t<tr><td>0</td><td> 4.5</td><td>250</td><td>0.0010000000</td><td>0.0005656854</td><td>0.53000000</td><td>0.120</td><td>180</td><td>0.0020</td><td>0.110</td><td>1200</td><td> 54</td><td>0.180</td><td>330</td><td>0.240</td><td> 800</td><td>0.0005000000</td><td>1.100</td><td> 70.6</td></tr>\n",
       "\t<tr><td>0</td><td> 3.8</td><td>340</td><td>0.0005000000</td><td>0.0010000000</td><td>0.63000000</td><td>0.083</td><td>230</td><td>0.0020</td><td>0.100</td><td>1320</td><td> 45</td><td>0.130</td><td>120</td><td>0.290</td><td>1090</td><td>0.0001414214</td><td>0.660</td><td> 82.1</td></tr>\n",
       "\t<tr><td>0</td><td> 2.2</td><td>170</td><td>0.0010000000</td><td>0.0009000000</td><td>0.30000000</td><td>0.140</td><td>120</td><td>0.0004</td><td>0.140</td><td> 260</td><td> 14</td><td>0.089</td><td> 91</td><td>0.350</td><td> 670</td><td>0.0009000000</td><td>0.690</td><td>172.0</td></tr>\n",
       "\t<tr><td>0</td><td> 4.5</td><td>150</td><td>0.0002121320</td><td>0.0005656854</td><td>0.34000000</td><td>0.084</td><td>110</td><td>0.0060</td><td>0.058</td><td> 810</td><td>120</td><td>0.091</td><td>200</td><td>0.260</td><td> 690</td><td>0.0006000000</td><td>0.740</td><td> 87.4</td></tr>\n",
       "\t<tr><td>0</td><td> 2.4</td><td> 38</td><td>0.0004000000</td><td>0.0005656854</td><td>0.07071068</td><td>0.055</td><td>150</td><td>0.0020</td><td>0.083</td><td> 900</td><td> 51</td><td>0.100</td><td> 45</td><td>0.060</td><td> 990</td><td>0.0002000000</td><td>0.500</td><td>123.0</td></tr>\n",
       "\t<tr><td>0</td><td> 2.3</td><td>180</td><td>0.0002121320</td><td>0.0005656854</td><td>0.37000000</td><td>0.044</td><td>190</td><td>0.0040</td><td>0.097</td><td>1240</td><td>130</td><td>0.130</td><td>280</td><td>0.250</td><td> 820</td><td>0.0005000000</td><td>0.790</td><td> 73.8</td></tr>\n",
       "\t<tr><td>0</td><td> 1.4</td><td> 61</td><td>0.0002121320</td><td>0.0005656854</td><td>0.07071068</td><td>0.100</td><td>220</td><td>0.0007</td><td>0.068</td><td> 820</td><td> 23</td><td>0.057</td><td> 79</td><td>0.120</td><td> 610</td><td>0.0001414214</td><td>0.660</td><td> 76.6</td></tr>\n",
       "\t<tr><td>0</td><td> 3.5</td><td>220</td><td>0.0002121320</td><td>0.0005656854</td><td>0.40000000</td><td>0.066</td><td>290</td><td>0.0020</td><td>0.008</td><td> 530</td><td> 49</td><td>0.039</td><td> 54</td><td>0.320</td><td> 630</td><td>0.0001414214</td><td>0.530</td><td> 84.8</td></tr>\n",
       "\t<tr><td>0</td><td> 1.1</td><td>140</td><td>0.0003000000</td><td>0.0005656854</td><td>0.25000000</td><td>0.054</td><td> 79</td><td>0.0006</td><td>0.090</td><td> 610</td><td> 17</td><td>0.074</td><td>170</td><td>0.210</td><td> 730</td><td>0.0003000000</td><td>0.790</td><td>135.0</td></tr>\n",
       "\t<tr><td>0</td><td> 3.3</td><td> 14</td><td>0.0002121320</td><td>0.0005656854</td><td>0.07071068</td><td>0.043</td><td> 60</td><td>0.0050</td><td>0.044</td><td> 720</td><td>120</td><td>0.072</td><td>230</td><td>0.036</td><td> 770</td><td>0.0006000000</td><td>0.330</td><td> 68.2</td></tr>\n",
       "\t<tr><td>0</td><td> 3.7</td><td> 92</td><td>0.0002121320</td><td>0.0008000000</td><td>0.18000000</td><td>0.084</td><td>190</td><td>0.0020</td><td>0.045</td><td>1290</td><td> 52</td><td>0.054</td><td>210</td><td>0.140</td><td> 740</td><td>0.0004000000</td><td>0.280</td><td>110.0</td></tr>\n",
       "\t<tr><td>0</td><td> 4.1</td><td> 80</td><td>0.0002121320</td><td>0.0010000000</td><td>0.16000000</td><td>0.064</td><td>310</td><td>0.0020</td><td>0.048</td><td>1250</td><td> 54</td><td>0.074</td><td>250</td><td>0.170</td><td> 870</td><td>0.0003000000</td><td>0.520</td><td> 85.4</td></tr>\n",
       "\t<tr><td>0</td><td> 2.3</td><td>260</td><td>0.0002121320</td><td>0.0020000000</td><td>0.49000000</td><td>0.350</td><td>350</td><td>0.0030</td><td>0.085</td><td>1680</td><td> 64</td><td>0.170</td><td>430</td><td>0.410</td><td>1870</td><td>0.0007000000</td><td>0.730</td><td> 55.4</td></tr>\n",
       "\t<tr><td>0</td><td> 3.2</td><td>150</td><td>0.0002121320</td><td>0.0005656854</td><td>0.30000000</td><td>0.110</td><td>170</td><td>0.0050</td><td>0.110</td><td> 890</td><td>120</td><td>0.130</td><td>240</td><td>0.250</td><td> 980</td><td>0.0005000000</td><td>0.093</td><td> 83.7</td></tr>\n",
       "\t<tr><td>0</td><td> 3.2</td><td> 41</td><td>0.0002121320</td><td>0.0005656854</td><td>0.07071068</td><td>0.058</td><td>160</td><td>0.0030</td><td>0.060</td><td> 950</td><td> 79</td><td>0.083</td><td>170</td><td>0.120</td><td> 730</td><td>0.0004000000</td><td>0.530</td><td> 87.0</td></tr>\n",
       "\t<tr><td>0</td><td>11.0</td><td>330</td><td>0.0007000000</td><td>0.0010000000</td><td>0.72000000</td><td>0.110</td><td>200</td><td>0.0110</td><td>0.026</td><td> 260</td><td> 74</td><td>0.021</td><td>170</td><td>0.410</td><td> 320</td><td>0.0006000000</td><td>0.630</td><td>102.0</td></tr>\n",
       "\t<tr><td>1</td><td> 2.7</td><td> 84</td><td>0.0004242641</td><td>0.0010000000</td><td>0.16000000</td><td>0.150</td><td>150</td><td>0.0010</td><td>0.150</td><td> 990</td><td> 38</td><td>0.075</td><td>130</td><td>0.170</td><td> 790</td><td>0.0002000000</td><td>0.380</td><td>170.0</td></tr>\n",
       "\t<tr><td>1</td><td> 3.3</td><td>180</td><td>0.0002121320</td><td>0.0005656854</td><td>0.35000000</td><td>0.130</td><td>200</td><td>0.0050</td><td>0.140</td><td>1830</td><td> 76</td><td>0.130</td><td>180</td><td>0.270</td><td>1340</td><td>0.0005000000</td><td>0.730</td><td> 50.9</td></tr>\n",
       "\t<tr><td>1</td><td> 1.6</td><td>270</td><td>0.0002121320</td><td>0.0005656854</td><td>0.52000000</td><td>0.230</td><td>170</td><td>0.0020</td><td>0.110</td><td>1050</td><td> 49</td><td>0.076</td><td>190</td><td>0.390</td><td> 910</td><td>0.0001414214</td><td>0.860</td><td> 56.8</td></tr>\n",
       "\t<tr><td>1</td><td> 2.1</td><td>540</td><td>0.0002121320</td><td>0.0010000000</td><td>1.00000000</td><td>0.099</td><td>230</td><td>0.0030</td><td>0.062</td><td>1480</td><td> 84</td><td>0.200</td><td>260</td><td>0.420</td><td>1930</td><td>0.0005000000</td><td>1.400</td><td> 55.6</td></tr>\n",
       "\t<tr><td>1</td><td> 2.7</td><td>100</td><td>0.0002121320</td><td>0.0008000000</td><td>0.21000000</td><td>0.092</td><td>230</td><td>0.0030</td><td>0.061</td><td>1270</td><td> 87</td><td>0.110</td><td>280</td><td>0.170</td><td>1200</td><td>0.0004000000</td><td>0.480</td><td> 97.9</td></tr>\n",
       "\t<tr><td>1</td><td> 3.9</td><td> 88</td><td>0.0002121320</td><td>0.0030000000</td><td>0.17000000</td><td>0.099</td><td>190</td><td>0.0020</td><td>0.096</td><td>1210</td><td> 54</td><td>0.100</td><td>150</td><td>0.160</td><td> 960</td><td>0.0003000000</td><td>0.380</td><td> 83.7</td></tr>\n",
       "\t<tr><td>1</td><td> 2.5</td><td>390</td><td>0.0002121320</td><td>0.0020000000</td><td>0.71000000</td><td>0.170</td><td>280</td><td>0.0008</td><td>0.150</td><td>1240</td><td> 18</td><td>0.130</td><td>140</td><td>0.250</td><td>1490</td><td>0.0003000000</td><td>1.200</td><td> 71.8</td></tr>\n",
       "\t<tr><td>1</td><td> 8.9</td><td>190</td><td>0.0001060660</td><td>0.0002828427</td><td>0.03535534</td><td>0.130</td><td>340</td><td>0.0070</td><td>0.049</td><td>2980</td><td>130</td><td>0.210</td><td>700</td><td>0.300</td><td>1570</td><td>0.0010000000</td><td>0.590</td><td> 10.6</td></tr>\n",
       "\t<tr><td>1</td><td> 4.4</td><td> 77</td><td>0.0002121320</td><td>0.0005656854</td><td>0.15000000</td><td>0.071</td><td>240</td><td>0.0010</td><td>0.140</td><td>1600</td><td> 35</td><td>0.120</td><td>150</td><td>0.130</td><td>1270</td><td>0.0001414214</td><td>1.100</td><td> 97.0</td></tr>\n",
       "\t<tr><td>1</td><td> 4.1</td><td>480</td><td>0.0002121320</td><td>0.0005656854</td><td>0.86000000</td><td>0.300</td><td>330</td><td>0.0008</td><td>0.087</td><td>1940</td><td> 18</td><td>0.130</td><td>210</td><td>0.550</td><td>1800</td><td>0.0001414214</td><td>0.800</td><td> 46.9</td></tr>\n",
       "\t<tr><td>1</td><td> 3.1</td><td> 19</td><td>0.0004000000</td><td>0.0005656854</td><td>0.07071068</td><td>0.180</td><td> 53</td><td>0.0070</td><td>0.240</td><td>1450</td><td>210</td><td>0.180</td><td>120</td><td>0.046</td><td>1930</td><td>0.0004000000</td><td>0.410</td><td> 89.8</td></tr>\n",
       "\t<tr><td>1</td><td> 2.7</td><td>200</td><td>0.0002121320</td><td>0.0005656854</td><td>0.38000000</td><td>0.073</td><td>390</td><td>0.0009</td><td>0.260</td><td>1680</td><td> 29</td><td>0.100</td><td>210</td><td>0.330</td><td>1430</td><td>0.0003000000</td><td>0.700</td><td> 85.7</td></tr>\n",
       "\t<tr><td>1</td><td> 3.6</td><td>220</td><td>0.0002121320</td><td>0.0005656854</td><td>0.49000000</td><td>0.160</td><td>130</td><td>0.0050</td><td>0.130</td><td> 820</td><td>130</td><td>0.130</td><td>680</td><td>0.340</td><td> 980</td><td>0.0010000000</td><td>0.780</td><td> 45.8</td></tr>\n",
       "\t<tr><td>1</td><td> 1.8</td><td> 72</td><td>0.0004242641</td><td>0.0011313708</td><td>0.13000000</td><td>0.037</td><td>170</td><td>0.0008</td><td>0.100</td><td> 710</td><td> 29</td><td>0.060</td><td> 48</td><td>0.077</td><td> 630</td><td>0.0002828427</td><td>0.740</td><td>209.0</td></tr>\n",
       "\t<tr><td>1</td><td> 2.0</td><td>120</td><td>0.0002121320</td><td>0.0005656854</td><td>0.25000000</td><td>0.120</td><td>250</td><td>0.0030</td><td>0.092</td><td>1540</td><td> 76</td><td>0.170</td><td>200</td><td>0.230</td><td>1630</td><td>0.0005000000</td><td>0.450</td><td> 62.8</td></tr>\n",
       "\t<tr><td>1</td><td> 4.5</td><td>170</td><td>0.0002121320</td><td>0.0020000000</td><td>0.32000000</td><td>0.140</td><td>440</td><td>0.0030</td><td>0.190</td><td>1540</td><td> 64</td><td>0.170</td><td>180</td><td>0.310</td><td>1950</td><td>0.0006000000</td><td>1.500</td><td> 48.5</td></tr>\n",
       "\t<tr><td>1</td><td> 2.4</td><td> 65</td><td>0.0002121320</td><td>0.0010000000</td><td>0.12000000</td><td>0.140</td><td>230</td><td>0.0020</td><td>0.066</td><td> 770</td><td> 43</td><td>0.160</td><td>110</td><td>0.150</td><td>1460</td><td>0.0001414214</td><td>0.220</td><td> 82.1</td></tr>\n",
       "\t<tr><td>1</td><td> 3.1</td><td> 13</td><td>0.0002121320</td><td>0.0005656854</td><td>0.07071068</td><td>0.120</td><td>190</td><td>0.0030</td><td>0.063</td><td>1070</td><td> 81</td><td>0.110</td><td> 62</td><td>0.042</td><td> 900</td><td>0.0001414214</td><td>1.000</td><td> 47.7</td></tr>\n",
       "\t<tr><td>1</td><td> 1.4</td><td> 93</td><td>0.0002121320</td><td>0.0005656854</td><td>0.19000000</td><td>0.190</td><td>210</td><td>0.0020</td><td>0.091</td><td> 860</td><td> 42</td><td>0.160</td><td>110</td><td>0.180</td><td>1480</td><td>0.0005000000</td><td>0.960</td><td> 82.0</td></tr>\n",
       "\t<tr><td>1</td><td> 3.3</td><td>300</td><td>0.0002121320</td><td>0.0020000000</td><td>0.55000000</td><td>0.240</td><td>200</td><td>0.0010</td><td>0.260</td><td>1300</td><td> 42</td><td>0.160</td><td>200</td><td>0.440</td><td>1690</td><td>0.0004000000</td><td>0.590</td><td> 70.4</td></tr>\n",
       "\t<tr><td>1</td><td> 2.1</td><td>170</td><td>0.0002121320</td><td>0.0005656854</td><td>0.30000000</td><td>0.066</td><td>170</td><td>0.0009</td><td>0.140</td><td>1600</td><td> 30</td><td>0.120</td><td>130</td><td>0.240</td><td>1220</td><td>0.0001414214</td><td>0.580</td><td> 94.0</td></tr>\n",
       "\t<tr><td>1</td><td> 8.1</td><td> 34</td><td>0.0030000000</td><td>0.0005656854</td><td>0.07071068</td><td>0.067</td><td>160</td><td>0.0040</td><td>0.100</td><td>1020</td><td>110</td><td>0.100</td><td>130</td><td>0.150</td><td> 680</td><td>0.0020000000</td><td>1.100</td><td> 88.5</td></tr>\n",
       "\t<tr><td>1</td><td> 4.8</td><td>240</td><td>0.0005000000</td><td>0.0010000000</td><td>0.43000000</td><td>0.180</td><td>280</td><td>0.0010</td><td>0.170</td><td>2210</td><td> 34</td><td>0.150</td><td>140</td><td>0.260</td><td>1370</td><td>0.0003000000</td><td>0.700</td><td>101.0</td></tr>\n",
       "\t<tr><td>1</td><td> 1.7</td><td>120</td><td>0.0002121320</td><td>0.0005656854</td><td>0.24000000</td><td>0.075</td><td>210</td><td>0.0020</td><td>0.085</td><td>1430</td><td> 74</td><td>0.120</td><td>300</td><td>0.200</td><td>1390</td><td>0.0004000000</td><td>0.510</td><td> 74.9</td></tr>\n",
       "\t<tr><td>1</td><td> 2.3</td><td>250</td><td>0.0002121320</td><td>0.0010000000</td><td>0.51000000</td><td>0.060</td><td>210</td><td>0.0030</td><td>0.130</td><td>1240</td><td> 85</td><td>0.093</td><td>340</td><td>0.250</td><td>1080</td><td>0.0006000000</td><td>0.670</td><td> 61.8</td></tr>\n",
       "\t<tr><td>1</td><td> 6.4</td><td> 44</td><td>0.0006000000</td><td>0.0005656854</td><td>0.07071068</td><td>0.150</td><td>210</td><td>0.0020</td><td>0.150</td><td> 890</td><td> 67</td><td>0.130</td><td> 72</td><td>0.160</td><td>1310</td><td>0.0003000000</td><td>0.520</td><td> 79.9</td></tr>\n",
       "</tbody>\n",
       "</table>\n"
      ],
      "text/latex": [
       "A tibble: 47 × 19\n",
       "\\begin{tabular}{lllllllllllllllllll}\n",
       " Status & Boron & Calcium & Chromium & Cobalt & Iron & Lithium & Magnesium & Manganese & Molybdenum & Phosphorus & Potassium & Selenium & Sodium & Strontium & Sulfur & Vanadium & Zinc & Creatinine\\\\\n",
       " <chr> & <dbl> & <dbl> & <dbl> & <dbl> & <dbl> & <dbl> & <dbl> & <dbl> & <dbl> & <dbl> & <dbl> & <dbl> & <dbl> & <dbl> & <dbl> & <dbl> & <dbl> & <dbl>\\\\\n",
       "\\hline\n",
       "\t 0 &  2.3 & 140 & 0.0004242641 & 0.0011313708 & 0.24000000 & 0.083 & 200 & 0.0007 & 0.130 & 1180 &  24 & 0.110 &  56 & 0.130 &  680 & 0.0002828427 & 0.660 & 175.0\\\\\n",
       "\t 0 &  4.9 &  81 & 0.0002121320 & 0.0005656854 & 0.20000000 & 0.170 & 170 & 0.0050 & 0.180 &  360 & 120 & 0.094 & 290 & 0.170 &  860 & 0.0005000000 & 0.480 &  76.0\\\\\n",
       "\t 0 &  2.9 & 300 & 0.0006000000 & 0.0030000000 & 0.60000000 & 0.170 & 310 & 0.0040 & 0.170 & 1860 & 120 & 0.110 & 240 & 0.370 & 1050 & 0.0006000000 & 0.750 &  58.6\\\\\n",
       "\t 0 &  8.6 & 200 & 0.0010000000 & 0.0005656854 & 0.43000000 & 0.061 & 390 & 0.0050 & 0.043 &  150 & 120 & 0.069 & 190 & 0.330 &  630 & 0.0004000000 & 0.240 &  54.3\\\\\n",
       "\t 0 &  1.3 &  62 & 0.0010000000 & 0.0002828427 & 0.03535534 & 0.220 & 170 & 0.0070 & 0.085 &  910 & 180 & 0.140 & 190 & 0.120 & 1290 & 0.0008000000 & 0.270 &  30.6\\\\\n",
       "\t 0 &  4.5 & 250 & 0.0010000000 & 0.0005656854 & 0.53000000 & 0.120 & 180 & 0.0020 & 0.110 & 1200 &  54 & 0.180 & 330 & 0.240 &  800 & 0.0005000000 & 1.100 &  70.6\\\\\n",
       "\t 0 &  3.8 & 340 & 0.0005000000 & 0.0010000000 & 0.63000000 & 0.083 & 230 & 0.0020 & 0.100 & 1320 &  45 & 0.130 & 120 & 0.290 & 1090 & 0.0001414214 & 0.660 &  82.1\\\\\n",
       "\t 0 &  2.2 & 170 & 0.0010000000 & 0.0009000000 & 0.30000000 & 0.140 & 120 & 0.0004 & 0.140 &  260 &  14 & 0.089 &  91 & 0.350 &  670 & 0.0009000000 & 0.690 & 172.0\\\\\n",
       "\t 0 &  4.5 & 150 & 0.0002121320 & 0.0005656854 & 0.34000000 & 0.084 & 110 & 0.0060 & 0.058 &  810 & 120 & 0.091 & 200 & 0.260 &  690 & 0.0006000000 & 0.740 &  87.4\\\\\n",
       "\t 0 &  2.4 &  38 & 0.0004000000 & 0.0005656854 & 0.07071068 & 0.055 & 150 & 0.0020 & 0.083 &  900 &  51 & 0.100 &  45 & 0.060 &  990 & 0.0002000000 & 0.500 & 123.0\\\\\n",
       "\t 0 &  2.3 & 180 & 0.0002121320 & 0.0005656854 & 0.37000000 & 0.044 & 190 & 0.0040 & 0.097 & 1240 & 130 & 0.130 & 280 & 0.250 &  820 & 0.0005000000 & 0.790 &  73.8\\\\\n",
       "\t 0 &  1.4 &  61 & 0.0002121320 & 0.0005656854 & 0.07071068 & 0.100 & 220 & 0.0007 & 0.068 &  820 &  23 & 0.057 &  79 & 0.120 &  610 & 0.0001414214 & 0.660 &  76.6\\\\\n",
       "\t 0 &  3.5 & 220 & 0.0002121320 & 0.0005656854 & 0.40000000 & 0.066 & 290 & 0.0020 & 0.008 &  530 &  49 & 0.039 &  54 & 0.320 &  630 & 0.0001414214 & 0.530 &  84.8\\\\\n",
       "\t 0 &  1.1 & 140 & 0.0003000000 & 0.0005656854 & 0.25000000 & 0.054 &  79 & 0.0006 & 0.090 &  610 &  17 & 0.074 & 170 & 0.210 &  730 & 0.0003000000 & 0.790 & 135.0\\\\\n",
       "\t 0 &  3.3 &  14 & 0.0002121320 & 0.0005656854 & 0.07071068 & 0.043 &  60 & 0.0050 & 0.044 &  720 & 120 & 0.072 & 230 & 0.036 &  770 & 0.0006000000 & 0.330 &  68.2\\\\\n",
       "\t 0 &  3.7 &  92 & 0.0002121320 & 0.0008000000 & 0.18000000 & 0.084 & 190 & 0.0020 & 0.045 & 1290 &  52 & 0.054 & 210 & 0.140 &  740 & 0.0004000000 & 0.280 & 110.0\\\\\n",
       "\t 0 &  4.1 &  80 & 0.0002121320 & 0.0010000000 & 0.16000000 & 0.064 & 310 & 0.0020 & 0.048 & 1250 &  54 & 0.074 & 250 & 0.170 &  870 & 0.0003000000 & 0.520 &  85.4\\\\\n",
       "\t 0 &  2.3 & 260 & 0.0002121320 & 0.0020000000 & 0.49000000 & 0.350 & 350 & 0.0030 & 0.085 & 1680 &  64 & 0.170 & 430 & 0.410 & 1870 & 0.0007000000 & 0.730 &  55.4\\\\\n",
       "\t 0 &  3.2 & 150 & 0.0002121320 & 0.0005656854 & 0.30000000 & 0.110 & 170 & 0.0050 & 0.110 &  890 & 120 & 0.130 & 240 & 0.250 &  980 & 0.0005000000 & 0.093 &  83.7\\\\\n",
       "\t 0 &  3.2 &  41 & 0.0002121320 & 0.0005656854 & 0.07071068 & 0.058 & 160 & 0.0030 & 0.060 &  950 &  79 & 0.083 & 170 & 0.120 &  730 & 0.0004000000 & 0.530 &  87.0\\\\\n",
       "\t 0 & 11.0 & 330 & 0.0007000000 & 0.0010000000 & 0.72000000 & 0.110 & 200 & 0.0110 & 0.026 &  260 &  74 & 0.021 & 170 & 0.410 &  320 & 0.0006000000 & 0.630 & 102.0\\\\\n",
       "\t 1 &  2.7 &  84 & 0.0004242641 & 0.0010000000 & 0.16000000 & 0.150 & 150 & 0.0010 & 0.150 &  990 &  38 & 0.075 & 130 & 0.170 &  790 & 0.0002000000 & 0.380 & 170.0\\\\\n",
       "\t 1 &  3.3 & 180 & 0.0002121320 & 0.0005656854 & 0.35000000 & 0.130 & 200 & 0.0050 & 0.140 & 1830 &  76 & 0.130 & 180 & 0.270 & 1340 & 0.0005000000 & 0.730 &  50.9\\\\\n",
       "\t 1 &  1.6 & 270 & 0.0002121320 & 0.0005656854 & 0.52000000 & 0.230 & 170 & 0.0020 & 0.110 & 1050 &  49 & 0.076 & 190 & 0.390 &  910 & 0.0001414214 & 0.860 &  56.8\\\\\n",
       "\t 1 &  2.1 & 540 & 0.0002121320 & 0.0010000000 & 1.00000000 & 0.099 & 230 & 0.0030 & 0.062 & 1480 &  84 & 0.200 & 260 & 0.420 & 1930 & 0.0005000000 & 1.400 &  55.6\\\\\n",
       "\t 1 &  2.7 & 100 & 0.0002121320 & 0.0008000000 & 0.21000000 & 0.092 & 230 & 0.0030 & 0.061 & 1270 &  87 & 0.110 & 280 & 0.170 & 1200 & 0.0004000000 & 0.480 &  97.9\\\\\n",
       "\t 1 &  3.9 &  88 & 0.0002121320 & 0.0030000000 & 0.17000000 & 0.099 & 190 & 0.0020 & 0.096 & 1210 &  54 & 0.100 & 150 & 0.160 &  960 & 0.0003000000 & 0.380 &  83.7\\\\\n",
       "\t 1 &  2.5 & 390 & 0.0002121320 & 0.0020000000 & 0.71000000 & 0.170 & 280 & 0.0008 & 0.150 & 1240 &  18 & 0.130 & 140 & 0.250 & 1490 & 0.0003000000 & 1.200 &  71.8\\\\\n",
       "\t 1 &  8.9 & 190 & 0.0001060660 & 0.0002828427 & 0.03535534 & 0.130 & 340 & 0.0070 & 0.049 & 2980 & 130 & 0.210 & 700 & 0.300 & 1570 & 0.0010000000 & 0.590 &  10.6\\\\\n",
       "\t 1 &  4.4 &  77 & 0.0002121320 & 0.0005656854 & 0.15000000 & 0.071 & 240 & 0.0010 & 0.140 & 1600 &  35 & 0.120 & 150 & 0.130 & 1270 & 0.0001414214 & 1.100 &  97.0\\\\\n",
       "\t 1 &  4.1 & 480 & 0.0002121320 & 0.0005656854 & 0.86000000 & 0.300 & 330 & 0.0008 & 0.087 & 1940 &  18 & 0.130 & 210 & 0.550 & 1800 & 0.0001414214 & 0.800 &  46.9\\\\\n",
       "\t 1 &  3.1 &  19 & 0.0004000000 & 0.0005656854 & 0.07071068 & 0.180 &  53 & 0.0070 & 0.240 & 1450 & 210 & 0.180 & 120 & 0.046 & 1930 & 0.0004000000 & 0.410 &  89.8\\\\\n",
       "\t 1 &  2.7 & 200 & 0.0002121320 & 0.0005656854 & 0.38000000 & 0.073 & 390 & 0.0009 & 0.260 & 1680 &  29 & 0.100 & 210 & 0.330 & 1430 & 0.0003000000 & 0.700 &  85.7\\\\\n",
       "\t 1 &  3.6 & 220 & 0.0002121320 & 0.0005656854 & 0.49000000 & 0.160 & 130 & 0.0050 & 0.130 &  820 & 130 & 0.130 & 680 & 0.340 &  980 & 0.0010000000 & 0.780 &  45.8\\\\\n",
       "\t 1 &  1.8 &  72 & 0.0004242641 & 0.0011313708 & 0.13000000 & 0.037 & 170 & 0.0008 & 0.100 &  710 &  29 & 0.060 &  48 & 0.077 &  630 & 0.0002828427 & 0.740 & 209.0\\\\\n",
       "\t 1 &  2.0 & 120 & 0.0002121320 & 0.0005656854 & 0.25000000 & 0.120 & 250 & 0.0030 & 0.092 & 1540 &  76 & 0.170 & 200 & 0.230 & 1630 & 0.0005000000 & 0.450 &  62.8\\\\\n",
       "\t 1 &  4.5 & 170 & 0.0002121320 & 0.0020000000 & 0.32000000 & 0.140 & 440 & 0.0030 & 0.190 & 1540 &  64 & 0.170 & 180 & 0.310 & 1950 & 0.0006000000 & 1.500 &  48.5\\\\\n",
       "\t 1 &  2.4 &  65 & 0.0002121320 & 0.0010000000 & 0.12000000 & 0.140 & 230 & 0.0020 & 0.066 &  770 &  43 & 0.160 & 110 & 0.150 & 1460 & 0.0001414214 & 0.220 &  82.1\\\\\n",
       "\t 1 &  3.1 &  13 & 0.0002121320 & 0.0005656854 & 0.07071068 & 0.120 & 190 & 0.0030 & 0.063 & 1070 &  81 & 0.110 &  62 & 0.042 &  900 & 0.0001414214 & 1.000 &  47.7\\\\\n",
       "\t 1 &  1.4 &  93 & 0.0002121320 & 0.0005656854 & 0.19000000 & 0.190 & 210 & 0.0020 & 0.091 &  860 &  42 & 0.160 & 110 & 0.180 & 1480 & 0.0005000000 & 0.960 &  82.0\\\\\n",
       "\t 1 &  3.3 & 300 & 0.0002121320 & 0.0020000000 & 0.55000000 & 0.240 & 200 & 0.0010 & 0.260 & 1300 &  42 & 0.160 & 200 & 0.440 & 1690 & 0.0004000000 & 0.590 &  70.4\\\\\n",
       "\t 1 &  2.1 & 170 & 0.0002121320 & 0.0005656854 & 0.30000000 & 0.066 & 170 & 0.0009 & 0.140 & 1600 &  30 & 0.120 & 130 & 0.240 & 1220 & 0.0001414214 & 0.580 &  94.0\\\\\n",
       "\t 1 &  8.1 &  34 & 0.0030000000 & 0.0005656854 & 0.07071068 & 0.067 & 160 & 0.0040 & 0.100 & 1020 & 110 & 0.100 & 130 & 0.150 &  680 & 0.0020000000 & 1.100 &  88.5\\\\\n",
       "\t 1 &  4.8 & 240 & 0.0005000000 & 0.0010000000 & 0.43000000 & 0.180 & 280 & 0.0010 & 0.170 & 2210 &  34 & 0.150 & 140 & 0.260 & 1370 & 0.0003000000 & 0.700 & 101.0\\\\\n",
       "\t 1 &  1.7 & 120 & 0.0002121320 & 0.0005656854 & 0.24000000 & 0.075 & 210 & 0.0020 & 0.085 & 1430 &  74 & 0.120 & 300 & 0.200 & 1390 & 0.0004000000 & 0.510 &  74.9\\\\\n",
       "\t 1 &  2.3 & 250 & 0.0002121320 & 0.0010000000 & 0.51000000 & 0.060 & 210 & 0.0030 & 0.130 & 1240 &  85 & 0.093 & 340 & 0.250 & 1080 & 0.0006000000 & 0.670 &  61.8\\\\\n",
       "\t 1 &  6.4 &  44 & 0.0006000000 & 0.0005656854 & 0.07071068 & 0.150 & 210 & 0.0020 & 0.150 &  890 &  67 & 0.130 &  72 & 0.160 & 1310 & 0.0003000000 & 0.520 &  79.9\\\\\n",
       "\\end{tabular}\n"
      ],
      "text/markdown": [
       "\n",
       "A tibble: 47 × 19\n",
       "\n",
       "| Status &lt;chr&gt; | Boron &lt;dbl&gt; | Calcium &lt;dbl&gt; | Chromium &lt;dbl&gt; | Cobalt &lt;dbl&gt; | Iron &lt;dbl&gt; | Lithium &lt;dbl&gt; | Magnesium &lt;dbl&gt; | Manganese &lt;dbl&gt; | Molybdenum &lt;dbl&gt; | Phosphorus &lt;dbl&gt; | Potassium &lt;dbl&gt; | Selenium &lt;dbl&gt; | Sodium &lt;dbl&gt; | Strontium &lt;dbl&gt; | Sulfur &lt;dbl&gt; | Vanadium &lt;dbl&gt; | Zinc &lt;dbl&gt; | Creatinine &lt;dbl&gt; |\n",
       "|---|---|---|---|---|---|---|---|---|---|---|---|---|---|---|---|---|---|---|\n",
       "| 0 |  2.3 | 140 | 0.0004242641 | 0.0011313708 | 0.24000000 | 0.083 | 200 | 0.0007 | 0.130 | 1180 |  24 | 0.110 |  56 | 0.130 |  680 | 0.0002828427 | 0.660 | 175.0 |\n",
       "| 0 |  4.9 |  81 | 0.0002121320 | 0.0005656854 | 0.20000000 | 0.170 | 170 | 0.0050 | 0.180 |  360 | 120 | 0.094 | 290 | 0.170 |  860 | 0.0005000000 | 0.480 |  76.0 |\n",
       "| 0 |  2.9 | 300 | 0.0006000000 | 0.0030000000 | 0.60000000 | 0.170 | 310 | 0.0040 | 0.170 | 1860 | 120 | 0.110 | 240 | 0.370 | 1050 | 0.0006000000 | 0.750 |  58.6 |\n",
       "| 0 |  8.6 | 200 | 0.0010000000 | 0.0005656854 | 0.43000000 | 0.061 | 390 | 0.0050 | 0.043 |  150 | 120 | 0.069 | 190 | 0.330 |  630 | 0.0004000000 | 0.240 |  54.3 |\n",
       "| 0 |  1.3 |  62 | 0.0010000000 | 0.0002828427 | 0.03535534 | 0.220 | 170 | 0.0070 | 0.085 |  910 | 180 | 0.140 | 190 | 0.120 | 1290 | 0.0008000000 | 0.270 |  30.6 |\n",
       "| 0 |  4.5 | 250 | 0.0010000000 | 0.0005656854 | 0.53000000 | 0.120 | 180 | 0.0020 | 0.110 | 1200 |  54 | 0.180 | 330 | 0.240 |  800 | 0.0005000000 | 1.100 |  70.6 |\n",
       "| 0 |  3.8 | 340 | 0.0005000000 | 0.0010000000 | 0.63000000 | 0.083 | 230 | 0.0020 | 0.100 | 1320 |  45 | 0.130 | 120 | 0.290 | 1090 | 0.0001414214 | 0.660 |  82.1 |\n",
       "| 0 |  2.2 | 170 | 0.0010000000 | 0.0009000000 | 0.30000000 | 0.140 | 120 | 0.0004 | 0.140 |  260 |  14 | 0.089 |  91 | 0.350 |  670 | 0.0009000000 | 0.690 | 172.0 |\n",
       "| 0 |  4.5 | 150 | 0.0002121320 | 0.0005656854 | 0.34000000 | 0.084 | 110 | 0.0060 | 0.058 |  810 | 120 | 0.091 | 200 | 0.260 |  690 | 0.0006000000 | 0.740 |  87.4 |\n",
       "| 0 |  2.4 |  38 | 0.0004000000 | 0.0005656854 | 0.07071068 | 0.055 | 150 | 0.0020 | 0.083 |  900 |  51 | 0.100 |  45 | 0.060 |  990 | 0.0002000000 | 0.500 | 123.0 |\n",
       "| 0 |  2.3 | 180 | 0.0002121320 | 0.0005656854 | 0.37000000 | 0.044 | 190 | 0.0040 | 0.097 | 1240 | 130 | 0.130 | 280 | 0.250 |  820 | 0.0005000000 | 0.790 |  73.8 |\n",
       "| 0 |  1.4 |  61 | 0.0002121320 | 0.0005656854 | 0.07071068 | 0.100 | 220 | 0.0007 | 0.068 |  820 |  23 | 0.057 |  79 | 0.120 |  610 | 0.0001414214 | 0.660 |  76.6 |\n",
       "| 0 |  3.5 | 220 | 0.0002121320 | 0.0005656854 | 0.40000000 | 0.066 | 290 | 0.0020 | 0.008 |  530 |  49 | 0.039 |  54 | 0.320 |  630 | 0.0001414214 | 0.530 |  84.8 |\n",
       "| 0 |  1.1 | 140 | 0.0003000000 | 0.0005656854 | 0.25000000 | 0.054 |  79 | 0.0006 | 0.090 |  610 |  17 | 0.074 | 170 | 0.210 |  730 | 0.0003000000 | 0.790 | 135.0 |\n",
       "| 0 |  3.3 |  14 | 0.0002121320 | 0.0005656854 | 0.07071068 | 0.043 |  60 | 0.0050 | 0.044 |  720 | 120 | 0.072 | 230 | 0.036 |  770 | 0.0006000000 | 0.330 |  68.2 |\n",
       "| 0 |  3.7 |  92 | 0.0002121320 | 0.0008000000 | 0.18000000 | 0.084 | 190 | 0.0020 | 0.045 | 1290 |  52 | 0.054 | 210 | 0.140 |  740 | 0.0004000000 | 0.280 | 110.0 |\n",
       "| 0 |  4.1 |  80 | 0.0002121320 | 0.0010000000 | 0.16000000 | 0.064 | 310 | 0.0020 | 0.048 | 1250 |  54 | 0.074 | 250 | 0.170 |  870 | 0.0003000000 | 0.520 |  85.4 |\n",
       "| 0 |  2.3 | 260 | 0.0002121320 | 0.0020000000 | 0.49000000 | 0.350 | 350 | 0.0030 | 0.085 | 1680 |  64 | 0.170 | 430 | 0.410 | 1870 | 0.0007000000 | 0.730 |  55.4 |\n",
       "| 0 |  3.2 | 150 | 0.0002121320 | 0.0005656854 | 0.30000000 | 0.110 | 170 | 0.0050 | 0.110 |  890 | 120 | 0.130 | 240 | 0.250 |  980 | 0.0005000000 | 0.093 |  83.7 |\n",
       "| 0 |  3.2 |  41 | 0.0002121320 | 0.0005656854 | 0.07071068 | 0.058 | 160 | 0.0030 | 0.060 |  950 |  79 | 0.083 | 170 | 0.120 |  730 | 0.0004000000 | 0.530 |  87.0 |\n",
       "| 0 | 11.0 | 330 | 0.0007000000 | 0.0010000000 | 0.72000000 | 0.110 | 200 | 0.0110 | 0.026 |  260 |  74 | 0.021 | 170 | 0.410 |  320 | 0.0006000000 | 0.630 | 102.0 |\n",
       "| 1 |  2.7 |  84 | 0.0004242641 | 0.0010000000 | 0.16000000 | 0.150 | 150 | 0.0010 | 0.150 |  990 |  38 | 0.075 | 130 | 0.170 |  790 | 0.0002000000 | 0.380 | 170.0 |\n",
       "| 1 |  3.3 | 180 | 0.0002121320 | 0.0005656854 | 0.35000000 | 0.130 | 200 | 0.0050 | 0.140 | 1830 |  76 | 0.130 | 180 | 0.270 | 1340 | 0.0005000000 | 0.730 |  50.9 |\n",
       "| 1 |  1.6 | 270 | 0.0002121320 | 0.0005656854 | 0.52000000 | 0.230 | 170 | 0.0020 | 0.110 | 1050 |  49 | 0.076 | 190 | 0.390 |  910 | 0.0001414214 | 0.860 |  56.8 |\n",
       "| 1 |  2.1 | 540 | 0.0002121320 | 0.0010000000 | 1.00000000 | 0.099 | 230 | 0.0030 | 0.062 | 1480 |  84 | 0.200 | 260 | 0.420 | 1930 | 0.0005000000 | 1.400 |  55.6 |\n",
       "| 1 |  2.7 | 100 | 0.0002121320 | 0.0008000000 | 0.21000000 | 0.092 | 230 | 0.0030 | 0.061 | 1270 |  87 | 0.110 | 280 | 0.170 | 1200 | 0.0004000000 | 0.480 |  97.9 |\n",
       "| 1 |  3.9 |  88 | 0.0002121320 | 0.0030000000 | 0.17000000 | 0.099 | 190 | 0.0020 | 0.096 | 1210 |  54 | 0.100 | 150 | 0.160 |  960 | 0.0003000000 | 0.380 |  83.7 |\n",
       "| 1 |  2.5 | 390 | 0.0002121320 | 0.0020000000 | 0.71000000 | 0.170 | 280 | 0.0008 | 0.150 | 1240 |  18 | 0.130 | 140 | 0.250 | 1490 | 0.0003000000 | 1.200 |  71.8 |\n",
       "| 1 |  8.9 | 190 | 0.0001060660 | 0.0002828427 | 0.03535534 | 0.130 | 340 | 0.0070 | 0.049 | 2980 | 130 | 0.210 | 700 | 0.300 | 1570 | 0.0010000000 | 0.590 |  10.6 |\n",
       "| 1 |  4.4 |  77 | 0.0002121320 | 0.0005656854 | 0.15000000 | 0.071 | 240 | 0.0010 | 0.140 | 1600 |  35 | 0.120 | 150 | 0.130 | 1270 | 0.0001414214 | 1.100 |  97.0 |\n",
       "| 1 |  4.1 | 480 | 0.0002121320 | 0.0005656854 | 0.86000000 | 0.300 | 330 | 0.0008 | 0.087 | 1940 |  18 | 0.130 | 210 | 0.550 | 1800 | 0.0001414214 | 0.800 |  46.9 |\n",
       "| 1 |  3.1 |  19 | 0.0004000000 | 0.0005656854 | 0.07071068 | 0.180 |  53 | 0.0070 | 0.240 | 1450 | 210 | 0.180 | 120 | 0.046 | 1930 | 0.0004000000 | 0.410 |  89.8 |\n",
       "| 1 |  2.7 | 200 | 0.0002121320 | 0.0005656854 | 0.38000000 | 0.073 | 390 | 0.0009 | 0.260 | 1680 |  29 | 0.100 | 210 | 0.330 | 1430 | 0.0003000000 | 0.700 |  85.7 |\n",
       "| 1 |  3.6 | 220 | 0.0002121320 | 0.0005656854 | 0.49000000 | 0.160 | 130 | 0.0050 | 0.130 |  820 | 130 | 0.130 | 680 | 0.340 |  980 | 0.0010000000 | 0.780 |  45.8 |\n",
       "| 1 |  1.8 |  72 | 0.0004242641 | 0.0011313708 | 0.13000000 | 0.037 | 170 | 0.0008 | 0.100 |  710 |  29 | 0.060 |  48 | 0.077 |  630 | 0.0002828427 | 0.740 | 209.0 |\n",
       "| 1 |  2.0 | 120 | 0.0002121320 | 0.0005656854 | 0.25000000 | 0.120 | 250 | 0.0030 | 0.092 | 1540 |  76 | 0.170 | 200 | 0.230 | 1630 | 0.0005000000 | 0.450 |  62.8 |\n",
       "| 1 |  4.5 | 170 | 0.0002121320 | 0.0020000000 | 0.32000000 | 0.140 | 440 | 0.0030 | 0.190 | 1540 |  64 | 0.170 | 180 | 0.310 | 1950 | 0.0006000000 | 1.500 |  48.5 |\n",
       "| 1 |  2.4 |  65 | 0.0002121320 | 0.0010000000 | 0.12000000 | 0.140 | 230 | 0.0020 | 0.066 |  770 |  43 | 0.160 | 110 | 0.150 | 1460 | 0.0001414214 | 0.220 |  82.1 |\n",
       "| 1 |  3.1 |  13 | 0.0002121320 | 0.0005656854 | 0.07071068 | 0.120 | 190 | 0.0030 | 0.063 | 1070 |  81 | 0.110 |  62 | 0.042 |  900 | 0.0001414214 | 1.000 |  47.7 |\n",
       "| 1 |  1.4 |  93 | 0.0002121320 | 0.0005656854 | 0.19000000 | 0.190 | 210 | 0.0020 | 0.091 |  860 |  42 | 0.160 | 110 | 0.180 | 1480 | 0.0005000000 | 0.960 |  82.0 |\n",
       "| 1 |  3.3 | 300 | 0.0002121320 | 0.0020000000 | 0.55000000 | 0.240 | 200 | 0.0010 | 0.260 | 1300 |  42 | 0.160 | 200 | 0.440 | 1690 | 0.0004000000 | 0.590 |  70.4 |\n",
       "| 1 |  2.1 | 170 | 0.0002121320 | 0.0005656854 | 0.30000000 | 0.066 | 170 | 0.0009 | 0.140 | 1600 |  30 | 0.120 | 130 | 0.240 | 1220 | 0.0001414214 | 0.580 |  94.0 |\n",
       "| 1 |  8.1 |  34 | 0.0030000000 | 0.0005656854 | 0.07071068 | 0.067 | 160 | 0.0040 | 0.100 | 1020 | 110 | 0.100 | 130 | 0.150 |  680 | 0.0020000000 | 1.100 |  88.5 |\n",
       "| 1 |  4.8 | 240 | 0.0005000000 | 0.0010000000 | 0.43000000 | 0.180 | 280 | 0.0010 | 0.170 | 2210 |  34 | 0.150 | 140 | 0.260 | 1370 | 0.0003000000 | 0.700 | 101.0 |\n",
       "| 1 |  1.7 | 120 | 0.0002121320 | 0.0005656854 | 0.24000000 | 0.075 | 210 | 0.0020 | 0.085 | 1430 |  74 | 0.120 | 300 | 0.200 | 1390 | 0.0004000000 | 0.510 |  74.9 |\n",
       "| 1 |  2.3 | 250 | 0.0002121320 | 0.0010000000 | 0.51000000 | 0.060 | 210 | 0.0030 | 0.130 | 1240 |  85 | 0.093 | 340 | 0.250 | 1080 | 0.0006000000 | 0.670 |  61.8 |\n",
       "| 1 |  6.4 |  44 | 0.0006000000 | 0.0005656854 | 0.07071068 | 0.150 | 210 | 0.0020 | 0.150 |  890 |  67 | 0.130 |  72 | 0.160 | 1310 | 0.0003000000 | 0.520 |  79.9 |\n",
       "\n"
      ],
      "text/plain": [
       "   Status Boron Calcium Chromium     Cobalt       Iron       Lithium Magnesium\n",
       "1  0       2.3  140     0.0004242641 0.0011313708 0.24000000 0.083   200      \n",
       "2  0       4.9   81     0.0002121320 0.0005656854 0.20000000 0.170   170      \n",
       "3  0       2.9  300     0.0006000000 0.0030000000 0.60000000 0.170   310      \n",
       "4  0       8.6  200     0.0010000000 0.0005656854 0.43000000 0.061   390      \n",
       "5  0       1.3   62     0.0010000000 0.0002828427 0.03535534 0.220   170      \n",
       "   Manganese Molybdenum Phosphorus Potassium Selenium Sodium Strontium Sulfur\n",
       "1  0.0007    0.130      1180        24       0.110     56    0.130      680  \n",
       "2  0.0050    0.180       360       120       0.094    290    0.170      860  \n",
       "3  0.0040    0.170      1860       120       0.110    240    0.370     1050  \n",
       "4  0.0050    0.043       150       120       0.069    190    0.330      630  \n",
       "5  0.0070    0.085       910       180       0.140    190    0.120     1290  \n",
       "   Vanadium     Zinc  Creatinine\n",
       "1  0.0002828427 0.660 175.0     \n",
       "2  0.0005000000 0.480  76.0     \n",
       "3  0.0006000000 0.750  58.6     \n",
       "4  0.0004000000 0.240  54.3     \n",
       "5  0.0008000000 0.270  30.6     \n",
       " [ reached getOption(\"max.print\") -- omitted 42 rows ]"
      ]
     },
     "metadata": {},
     "output_type": "display_data"
    }
   ],
   "source": [
    "#Create subset: child with Essential elements only\n",
    "childEssential <- child%>% select(Status, Boron, Calcium, Chromium, Cobalt, Iron, Lithium, Magnesium, Manganese, Molybdenum, Phosphorus, Potassium, Selenium, Sodium, Strontium, Sulfur, Vanadium, Zinc, Creatinine)\n",
    "childEssential"
   ]
  },
  {
   "cell_type": "markdown",
   "id": "26a427e2",
   "metadata": {},
   "source": [
    "<hr style=\"height:5px;border-width:0;color:MediumAquamarine;background-color:MediumBlue\">\n",
    "\n",
    "# Page 13 - Q1 Analysis: Multiple Stepwise Regression - Backwards <a class=\"anchor\" id=\"PAN_page_13\"></a>\n",
    "\n",
    "[Back to Top](#PAN_toc)\n",
    "\n",
    "<hr style=\"height:5px;border-width:0;color:MediumAquamarine;background-color:MediumBlue\">"
   ]
  },
  {
   "cell_type": "markdown",
   "id": "e8ca6a63",
   "metadata": {},
   "source": [
    "## Multiple Stepwise Regression Backwards - childToxic\n",
    "Evaluate which toxic elements have the most influence over predicting the Status of Child type?"
   ]
  },
  {
   "cell_type": "code",
   "execution_count": 295,
   "id": "64abcfa8",
   "metadata": {},
   "outputs": [
    {
     "data": {
      "text/plain": [
       "\n",
       "Call:\n",
       "lm(formula = Status ~ ., data = childToxic2)\n",
       "\n",
       "Residuals:\n",
       "    Min      1Q  Median      3Q     Max \n",
       "-1.0183 -0.3818  0.1014  0.3476  0.6040 \n",
       "\n",
       "Coefficients: (4 not defined because of singularities)\n",
       "              Estimate Std. Error t value Pr(>|t|)\n",
       "(Intercept)  7.593e-01  5.147e-01   1.475    0.151\n",
       "Aluminum     2.072e-04  9.089e-03   0.023    0.982\n",
       "Antimony     2.910e-01  6.145e-01   0.474    0.639\n",
       "Arsenic     -7.830e-04  5.194e-03  -0.151    0.881\n",
       "Barium      -1.126e-02  3.811e-02  -0.295    0.770\n",
       "Beryllium   -4.670e+02  9.298e+02  -0.502    0.619\n",
       "Bismuth      3.083e-01  8.216e-01   0.375    0.710\n",
       "Cadmium     -6.393e-01  1.457e+00  -0.439    0.664\n",
       "Cesium      -3.372e-02  3.583e-02  -0.941    0.354\n",
       "Gadolinium  -3.231e-02  2.017e-02  -1.602    0.120\n",
       "Lead         4.991e-02  2.794e-01   0.179    0.859\n",
       "Mercury     -6.269e-01  4.640e-01  -1.351    0.187\n",
       "Nickel       5.442e-03  3.506e-02   0.155    0.878\n",
       "Palladium           NA         NA      NA       NA\n",
       "Platinum            NA         NA      NA       NA\n",
       "Tellurium           NA         NA      NA       NA\n",
       "Thallium    -3.119e-02  7.811e-01  -0.040    0.968\n",
       "Thorium             NA         NA      NA       NA\n",
       "Tin          5.883e-02  4.230e-02   1.391    0.174\n",
       "Tungsten     3.803e-01  2.326e-01   1.635    0.112\n",
       "Uranium     -5.327e-01  1.549e+00  -0.344    0.733\n",
       "\n",
       "Residual standard error: 0.5114 on 30 degrees of freedom\n",
       "Multiple R-squared:  0.3247,\tAdjusted R-squared:  -0.0354 \n",
       "F-statistic: 0.9017 on 16 and 30 DF,  p-value: 0.5745\n"
      ]
     },
     "metadata": {},
     "output_type": "display_data"
    }
   ],
   "source": [
    "#Get a Baseline with a FitAll function to create a linear model of all 20 predictor variables\n",
    "FitAll <- lm(Status ~ ., data=childToxic2)\n",
    "summary(FitAll)"
   ]
  },
  {
   "cell_type": "code",
   "execution_count": 296,
   "id": "9d6b3807",
   "metadata": {},
   "outputs": [
    {
     "name": "stdout",
     "output_type": "stream",
     "text": [
      "Start:  AIC=-50.15\n",
      "Status ~ Aluminum + Antimony + Arsenic + Barium + Beryllium + \n",
      "    Bismuth + Cadmium + Cesium + Gadolinium + Lead + Mercury + \n",
      "    Nickel + Palladium + Platinum + Tellurium + Thallium + Thorium + \n",
      "    Tin + Tungsten + Uranium\n",
      "\n",
      "\n",
      "Step:  AIC=-50.15\n",
      "Status ~ Aluminum + Antimony + Arsenic + Barium + Beryllium + \n",
      "    Bismuth + Cadmium + Cesium + Gadolinium + Lead + Mercury + \n",
      "    Nickel + Palladium + Platinum + Tellurium + Thallium + Tin + \n",
      "    Tungsten + Uranium\n",
      "\n",
      "\n",
      "Step:  AIC=-50.15\n",
      "Status ~ Aluminum + Antimony + Arsenic + Barium + Beryllium + \n",
      "    Bismuth + Cadmium + Cesium + Gadolinium + Lead + Mercury + \n",
      "    Nickel + Palladium + Platinum + Thallium + Tin + Tungsten + \n",
      "    Uranium\n",
      "\n",
      "\n",
      "Step:  AIC=-50.15\n",
      "Status ~ Aluminum + Antimony + Arsenic + Barium + Beryllium + \n",
      "    Bismuth + Cadmium + Cesium + Gadolinium + Lead + Mercury + \n",
      "    Nickel + Palladium + Thallium + Tin + Tungsten + Uranium\n",
      "\n",
      "\n",
      "Step:  AIC=-50.15\n",
      "Status ~ Aluminum + Antimony + Arsenic + Barium + Beryllium + \n",
      "    Bismuth + Cadmium + Cesium + Gadolinium + Lead + Mercury + \n",
      "    Nickel + Thallium + Tin + Tungsten + Uranium\n",
      "\n",
      "             Df Sum of Sq    RSS     AIC\n",
      "- Aluminum    1   0.00014 7.8447 -52.145\n",
      "- Thallium    1   0.00042 7.8450 -52.143\n",
      "- Arsenic     1   0.00594 7.8505 -52.110\n",
      "- Nickel      1   0.00630 7.8508 -52.108\n",
      "- Lead        1   0.00835 7.8529 -52.096\n",
      "- Barium      1   0.02283 7.8674 -52.009\n",
      "- Uranium     1   0.03093 7.8755 -51.961\n",
      "- Bismuth     1   0.03683 7.8814 -51.925\n",
      "- Cadmium     1   0.05035 7.8949 -51.845\n",
      "- Antimony    1   0.05864 7.9032 -51.796\n",
      "- Beryllium   1   0.06597 7.9105 -51.752\n",
      "- Cesium      1   0.23150 8.0760 -50.779\n",
      "<none>                    7.8445 -50.146\n",
      "- Mercury     1   0.47717 8.3217 -49.370\n",
      "- Tin         1   0.50586 8.3504 -49.208\n",
      "- Gadolinium  1   0.67120 8.5157 -48.287\n",
      "- Tungsten    1   0.69908 8.5436 -48.133\n",
      "\n",
      "Step:  AIC=-52.14\n",
      "Status ~ Antimony + Arsenic + Barium + Beryllium + Bismuth + \n",
      "    Cadmium + Cesium + Gadolinium + Lead + Mercury + Nickel + \n",
      "    Thallium + Tin + Tungsten + Uranium\n",
      "\n",
      "             Df Sum of Sq    RSS     AIC\n",
      "- Thallium    1   0.00032 7.8450 -54.143\n",
      "- Arsenic     1   0.00648 7.8512 -54.106\n",
      "- Nickel      1   0.00664 7.8513 -54.105\n",
      "- Lead        1   0.01574 7.8604 -54.051\n",
      "- Barium      1   0.02282 7.8675 -54.008\n",
      "- Uranium     1   0.03081 7.8755 -53.960\n",
      "- Bismuth     1   0.03683 7.8815 -53.925\n",
      "- Cadmium     1   0.05441 7.8991 -53.820\n",
      "- Beryllium   1   0.06586 7.9105 -53.752\n",
      "- Antimony    1   0.07510 7.9198 -53.697\n",
      "- Cesium      1   0.27089 8.1156 -52.549\n",
      "<none>                    7.8447 -52.145\n",
      "- Mercury     1   0.49265 8.3373 -51.282\n",
      "- Tin         1   0.51836 8.3630 -51.137\n",
      "- Gadolinium  1   0.69148 8.5362 -50.174\n",
      "- Tungsten    1   0.69902 8.5437 -50.133\n",
      "\n",
      "Step:  AIC=-54.14\n",
      "Status ~ Antimony + Arsenic + Barium + Beryllium + Bismuth + \n",
      "    Cadmium + Cesium + Gadolinium + Lead + Mercury + Nickel + \n",
      "    Tin + Tungsten + Uranium\n",
      "\n",
      "             Df Sum of Sq    RSS     AIC\n",
      "- Arsenic     1   0.00651 7.8515 -56.104\n",
      "- Nickel      1   0.00777 7.8528 -56.096\n",
      "- Lead        1   0.01553 7.8605 -56.050\n",
      "- Barium      1   0.02308 7.8681 -56.005\n",
      "- Uranium     1   0.03459 7.8796 -55.936\n",
      "- Bismuth     1   0.03671 7.8817 -55.923\n",
      "- Cadmium     1   0.05483 7.8998 -55.815\n",
      "- Beryllium   1   0.06680 7.9118 -55.744\n",
      "- Antimony    1   0.07486 7.9199 -55.696\n",
      "<none>                    7.8450 -54.143\n",
      "- Cesium      1   0.37711 8.2221 -53.936\n",
      "- Mercury     1   0.51286 8.3578 -53.166\n",
      "- Tin         1   0.60202 8.4470 -52.668\n",
      "- Tungsten    1   0.70233 8.5473 -52.113\n",
      "- Gadolinium  1   0.71015 8.5551 -52.070\n",
      "\n",
      "Step:  AIC=-56.1\n",
      "Status ~ Antimony + Barium + Beryllium + Bismuth + Cadmium + \n",
      "    Cesium + Gadolinium + Lead + Mercury + Nickel + Tin + Tungsten + \n",
      "    Uranium\n",
      "\n",
      "             Df Sum of Sq    RSS     AIC\n",
      "- Nickel      1   0.00589 7.8574 -58.069\n",
      "- Lead        1   0.01884 7.8703 -57.991\n",
      "- Barium      1   0.02964 7.8811 -57.927\n",
      "- Uranium     1   0.03595 7.8874 -57.889\n",
      "- Bismuth     1   0.05028 7.9018 -57.804\n",
      "- Beryllium   1   0.06251 7.9140 -57.731\n",
      "- Antimony    1   0.08019 7.9317 -57.626\n",
      "- Cadmium     1   0.08859 7.9401 -57.577\n",
      "<none>                    7.8515 -56.104\n",
      "- Cesium      1   0.37128 8.2228 -55.932\n",
      "- Mercury     1   0.50637 8.3579 -55.166\n",
      "- Tin         1   0.59565 8.4471 -54.667\n",
      "- Tungsten    1   0.69583 8.5473 -54.113\n",
      "- Gadolinium  1   0.73260 8.5841 -53.911\n",
      "\n",
      "Step:  AIC=-58.07\n",
      "Status ~ Antimony + Barium + Beryllium + Bismuth + Cadmium + \n",
      "    Cesium + Gadolinium + Lead + Mercury + Tin + Tungsten + Uranium\n",
      "\n",
      "             Df Sum of Sq    RSS     AIC\n",
      "- Lead        1   0.01710 7.8745 -59.966\n",
      "- Barium      1   0.02397 7.8814 -59.925\n",
      "- Uranium     1   0.03942 7.8968 -59.833\n",
      "- Bismuth     1   0.05668 7.9141 -59.731\n",
      "- Beryllium   1   0.05908 7.9165 -59.717\n",
      "- Antimony    1   0.07467 7.9321 -59.624\n",
      "- Cadmium     1   0.08871 7.9461 -59.541\n",
      "<none>                    7.8574 -58.069\n",
      "- Cesium      1   0.38515 8.2425 -57.819\n",
      "- Mercury     1   0.54074 8.3981 -56.941\n",
      "- Tin         1   0.59759 8.4550 -56.623\n",
      "- Tungsten    1   0.73308 8.5905 -55.876\n",
      "- Gadolinium  1   0.73651 8.5939 -55.858\n",
      "\n",
      "Step:  AIC=-59.97\n",
      "Status ~ Antimony + Barium + Beryllium + Bismuth + Cadmium + \n",
      "    Cesium + Gadolinium + Mercury + Tin + Tungsten + Uranium\n",
      "\n",
      "             Df Sum of Sq    RSS     AIC\n",
      "- Barium      1   0.01077 7.8853 -61.902\n",
      "- Uranium     1   0.03246 7.9069 -61.773\n",
      "- Bismuth     1   0.05021 7.9247 -61.668\n",
      "- Beryllium   1   0.06263 7.9371 -61.594\n",
      "- Antimony    1   0.07285 7.9473 -61.534\n",
      "- Cadmium     1   0.08646 7.9609 -61.453\n",
      "<none>                    7.8745 -59.966\n",
      "- Cesium      1   0.37012 8.2446 -59.808\n",
      "- Mercury     1   0.56195 8.4364 -58.727\n",
      "- Tin         1   0.63187 8.5064 -58.339\n",
      "- Gadolinium  1   0.73987 8.6144 -57.746\n",
      "- Tungsten    1   0.74086 8.6153 -57.740\n",
      "\n",
      "Step:  AIC=-61.9\n",
      "Status ~ Antimony + Beryllium + Bismuth + Cadmium + Cesium + \n",
      "    Gadolinium + Mercury + Tin + Tungsten + Uranium\n",
      "\n",
      "             Df Sum of Sq    RSS     AIC\n",
      "- Uranium     1   0.03849 7.9237 -63.673\n",
      "- Bismuth     1   0.04991 7.9352 -63.606\n",
      "- Beryllium   1   0.05926 7.9445 -63.550\n",
      "- Antimony    1   0.06307 7.9483 -63.528\n",
      "- Cadmium     1   0.08628 7.9715 -63.391\n",
      "<none>                    7.8853 -61.902\n",
      "- Cesium      1   0.43747 8.3227 -61.364\n",
      "- Mercury     1   0.57915 8.4644 -60.571\n",
      "- Tin         1   0.62622 8.5115 -60.310\n",
      "- Tungsten    1   0.73826 8.6235 -59.696\n",
      "- Gadolinium  1   0.75194 8.6372 -59.621\n",
      "\n",
      "Step:  AIC=-63.67\n",
      "Status ~ Antimony + Beryllium + Bismuth + Cadmium + Cesium + \n",
      "    Gadolinium + Mercury + Tin + Tungsten\n",
      "\n",
      "             Df Sum of Sq    RSS     AIC\n",
      "- Antimony    1   0.05238 7.9761 -65.364\n",
      "- Bismuth     1   0.05775 7.9815 -65.332\n",
      "- Beryllium   1   0.05798 7.9817 -65.331\n",
      "- Cadmium     1   0.09239 8.0161 -65.129\n",
      "<none>                    7.9237 -63.673\n",
      "- Cesium      1   0.41537 8.3391 -63.272\n",
      "- Tin         1   0.58799 8.5117 -62.309\n",
      "- Mercury     1   0.70036 8.6241 -61.693\n",
      "- Gadolinium  1   0.73089 8.6546 -61.527\n",
      "- Tungsten    1   0.73988 8.6636 -61.478\n",
      "\n",
      "Step:  AIC=-65.36\n",
      "Status ~ Beryllium + Bismuth + Cadmium + Cesium + Gadolinium + \n",
      "    Mercury + Tin + Tungsten\n",
      "\n",
      "             Df Sum of Sq    RSS     AIC\n",
      "- Bismuth     1   0.04692 8.0230 -67.088\n",
      "- Beryllium   1   0.07221 8.0483 -66.940\n",
      "- Cadmium     1   0.11504 8.0912 -66.691\n",
      "<none>                    7.9761 -65.364\n",
      "- Cesium      1   0.36300 8.3391 -65.272\n",
      "- Tin         1   0.58156 8.5577 -64.056\n",
      "- Gadolinium  1   0.68686 8.6630 -63.481\n",
      "- Tungsten    1   0.74051 8.7166 -63.191\n",
      "- Mercury     1   0.79690 8.7730 -62.888\n",
      "\n",
      "Step:  AIC=-67.09\n",
      "Status ~ Beryllium + Cadmium + Cesium + Gadolinium + Mercury + \n",
      "    Tin + Tungsten\n",
      "\n",
      "             Df Sum of Sq    RSS     AIC\n",
      "- Cadmium     1   0.08248 8.1055 -68.607\n",
      "- Beryllium   1   0.08287 8.1059 -68.605\n",
      "<none>                    8.0230 -67.088\n",
      "- Cesium      1   0.41052 8.4336 -66.743\n",
      "- Gadolinium  1   0.70164 8.7247 -65.148\n",
      "- Tungsten    1   0.73978 8.7628 -64.943\n",
      "- Tin         1   0.77123 8.7943 -64.774\n",
      "- Mercury     1   0.77783 8.8009 -64.739\n",
      "\n",
      "Step:  AIC=-68.61\n",
      "Status ~ Beryllium + Cesium + Gadolinium + Mercury + Tin + Tungsten\n",
      "\n",
      "             Df Sum of Sq    RSS     AIC\n",
      "- Beryllium   1   0.06666 8.1722 -70.222\n",
      "<none>                    8.1055 -68.607\n",
      "- Cesium      1   0.38419 8.4897 -68.431\n",
      "- Gadolinium  1   0.69841 8.8039 -66.723\n",
      "- Mercury     1   0.71504 8.8206 -66.634\n",
      "- Tungsten    1   0.72063 8.8261 -66.604\n",
      "- Tin         1   0.90704 9.0126 -65.622\n",
      "\n",
      "Step:  AIC=-70.22\n",
      "Status ~ Cesium + Gadolinium + Mercury + Tin + Tungsten\n",
      "\n",
      "             Df Sum of Sq    RSS     AIC\n",
      "- Cesium      1   0.31801 8.4902 -70.428\n",
      "<none>                    8.1722 -70.222\n",
      "- Mercury     1   0.64879 8.8210 -68.632\n",
      "- Tungsten    1   0.74194 8.9141 -68.138\n",
      "- Tin         1   0.88918 9.0614 -67.368\n",
      "- Gadolinium  1   1.07396 9.2461 -66.419\n",
      "\n",
      "Step:  AIC=-70.43\n",
      "Status ~ Gadolinium + Mercury + Tin + Tungsten\n",
      "\n",
      "             Df Sum of Sq    RSS     AIC\n",
      "<none>                    8.4902 -70.428\n",
      "- Mercury     1   0.60861 9.0988 -69.174\n",
      "- Tungsten    1   0.68808 9.1783 -68.766\n",
      "- Tin         1   0.81104 9.3012 -68.140\n",
      "- Gadolinium  1   0.89183 9.3820 -67.734\n"
     ]
    },
    {
     "data": {
      "text/plain": [
       "\n",
       "Call:\n",
       "lm(formula = Status ~ Gadolinium + Mercury + Tin + Tungsten, \n",
       "    data = childToxic2)\n",
       "\n",
       "Coefficients:\n",
       "(Intercept)   Gadolinium      Mercury          Tin     Tungsten  \n",
       "    0.33968     -0.03105     -0.60004      0.06061      0.36894  \n"
      ]
     },
     "metadata": {},
     "output_type": "display_data"
    }
   ],
   "source": [
    "#Backwards Elimination\n",
    "step(FitAll, direction ='backward')"
   ]
  },
  {
   "cell_type": "code",
   "execution_count": 298,
   "id": "60fe9b84",
   "metadata": {},
   "outputs": [
    {
     "data": {
      "text/plain": [
       "\n",
       "Call:\n",
       "lm(formula = Status ~ Gadolinium + Mercury + Tin + Tungsten, \n",
       "    data = childToxic1)\n",
       "\n",
       "Residuals:\n",
       "    Min      1Q  Median      3Q     Max \n",
       "-1.0701 -0.4285  0.0754  0.3800  0.5745 \n",
       "\n",
       "Coefficients:\n",
       "            Estimate Std. Error t value Pr(>|t|)   \n",
       "(Intercept)  0.33968    0.11855   2.865  0.00648 **\n",
       "Gadolinium  -0.03105    0.01478  -2.100  0.04174 * \n",
       "Mercury     -0.60004    0.34582  -1.735  0.09005 . \n",
       "Tin          0.06061    0.03026   2.003  0.05166 . \n",
       "Tungsten     0.36894    0.19997   1.845  0.07210 . \n",
       "---\n",
       "Signif. codes:  0 ‘***’ 0.001 ‘**’ 0.01 ‘*’ 0.05 ‘.’ 0.1 ‘ ’ 1\n",
       "\n",
       "Residual standard error: 0.4496 on 42 degrees of freedom\n",
       "Multiple R-squared:  0.2692,\tAdjusted R-squared:  0.1996 \n",
       "F-statistic: 3.867 on 4 and 42 DF,  p-value: 0.009189\n"
      ]
     },
     "metadata": {},
     "output_type": "display_data"
    }
   ],
   "source": [
    "fitsome = lm(Status~Gadolinium+Mercury+Tin+Tungsten, data = childToxic1)\n",
    "summary(fitsome)"
   ]
  },
  {
   "cell_type": "markdown",
   "id": "b9d8bfde",
   "metadata": {},
   "source": [
    "#Toxic Elements Model (Gadolinium, Mercury, Tin, Tungsten) accounts for 19% of the variance and resulted in a significant p-value"
   ]
  },
  {
   "cell_type": "markdown",
   "id": "73f31f32",
   "metadata": {},
   "source": [
    "## Multiple Stepwise Regression Backwards - childEssential\n",
    "Evaluate which essential elements have the most influence over predicting the Status of Child type?"
   ]
  },
  {
   "cell_type": "code",
   "execution_count": 299,
   "id": "69c69b46",
   "metadata": {},
   "outputs": [
    {
     "data": {
      "text/plain": [
       "\n",
       "Call:\n",
       "lm(formula = Status ~ ., data = childEssential)\n",
       "\n",
       "Residuals:\n",
       "     Min       1Q   Median       3Q      Max \n",
       "-0.73607 -0.23024 -0.00068  0.19482  0.68454 \n",
       "\n",
       "Coefficients:\n",
       "              Estimate Std. Error t value Pr(>|t|)   \n",
       "(Intercept) -8.404e-02  6.176e-01  -0.136  0.89273   \n",
       "Boron        6.529e-02  5.894e-02   1.108  0.27735   \n",
       "Calcium     -1.663e-03  3.140e-03  -0.530  0.60054   \n",
       "Chromium     2.260e+02  4.176e+02   0.541  0.59264   \n",
       "Cobalt      -3.820e+00  1.360e+02  -0.028  0.97780   \n",
       "Iron         3.057e-01  1.583e+00   0.193  0.84824   \n",
       "Lithium     -1.166e+00  1.491e+00  -0.782  0.44071   \n",
       "Magnesium   -2.138e-03  1.295e-03  -1.651  0.10987   \n",
       "Manganese   -2.905e+01  8.410e+01  -0.345  0.73237   \n",
       "Molybdenum   8.983e-01  1.575e+00   0.570  0.57292   \n",
       "Phosphorus   1.387e-04  2.085e-04   0.665  0.51129   \n",
       "Potassium   -2.489e-03  3.850e-03  -0.647  0.52317   \n",
       "Selenium    -4.809e+00  3.345e+00  -1.437  0.16167   \n",
       "Sodium       8.736e-04  1.104e-03   0.791  0.43540   \n",
       "Strontium    1.861e-01  1.618e+00   0.115  0.90927   \n",
       "Sulfur       1.253e-03  4.117e-04   3.044  0.00504 **\n",
       "Vanadium    -2.571e+02  6.372e+02  -0.403  0.68970   \n",
       "Zinc         3.403e-01  3.255e-01   1.045  0.30474   \n",
       "Creatinine  -7.276e-04  2.857e-03  -0.255  0.80086   \n",
       "---\n",
       "Signif. codes:  0 ‘***’ 0.001 ‘**’ 0.01 ‘*’ 0.05 ‘.’ 0.1 ‘ ’ 1\n",
       "\n",
       "Residual standard error: 0.4393 on 28 degrees of freedom\n",
       "Multiple R-squared:  0.5348,\tAdjusted R-squared:  0.2357 \n",
       "F-statistic: 1.788 on 18 and 28 DF,  p-value: 0.08143\n"
      ]
     },
     "metadata": {},
     "output_type": "display_data"
    }
   ],
   "source": [
    "#Get a Baseline with a FitAll function to create a linear model of essential variables\n",
    "FitAll <- lm(Status ~ ., data=childEssential)\n",
    "summary(FitAll)"
   ]
  },
  {
   "cell_type": "code",
   "execution_count": 300,
   "id": "8e4fc263",
   "metadata": {},
   "outputs": [
    {
     "name": "stdout",
     "output_type": "stream",
     "text": [
      "Start:  AIC=-63.66\n",
      "Status ~ Boron + Calcium + Chromium + Cobalt + Iron + Lithium + \n",
      "    Magnesium + Manganese + Molybdenum + Phosphorus + Potassium + \n",
      "    Selenium + Sodium + Strontium + Sulfur + Vanadium + Zinc + \n",
      "    Creatinine\n",
      "\n",
      "             Df Sum of Sq    RSS     AIC\n",
      "- Cobalt      1   0.00015 5.4049 -65.654\n",
      "- Strontium   1   0.00255 5.4073 -65.633\n",
      "- Iron        1   0.00720 5.4119 -65.593\n",
      "- Creatinine  1   0.01252 5.4172 -65.546\n",
      "- Manganese   1   0.02303 5.4277 -65.455\n",
      "- Vanadium    1   0.03142 5.4361 -65.383\n",
      "- Calcium     1   0.05415 5.4589 -65.187\n",
      "- Chromium    1   0.05654 5.4613 -65.166\n",
      "- Molybdenum  1   0.06282 5.4675 -65.112\n",
      "- Potassium   1   0.08070 5.4854 -64.959\n",
      "- Phosphorus  1   0.08544 5.4902 -64.918\n",
      "- Lithium     1   0.11807 5.5228 -64.639\n",
      "- Sodium      1   0.12088 5.5256 -64.616\n",
      "- Zinc        1   0.21099 5.6157 -63.855\n",
      "<none>                    5.4047 -63.655\n",
      "- Boron       1   0.23691 5.6416 -63.639\n",
      "- Selenium    1   0.39885 5.8036 -62.309\n",
      "- Magnesium   1   0.52629 5.9310 -61.288\n",
      "- Sulfur      1   1.78830 7.1930 -52.221\n",
      "\n",
      "Step:  AIC=-65.65\n",
      "Status ~ Boron + Calcium + Chromium + Iron + Lithium + Magnesium + \n",
      "    Manganese + Molybdenum + Phosphorus + Potassium + Selenium + \n",
      "    Sodium + Strontium + Sulfur + Vanadium + Zinc + Creatinine\n",
      "\n",
      "             Df Sum of Sq    RSS     AIC\n",
      "- Strontium   1   0.00316 5.4080 -67.626\n",
      "- Iron        1   0.00720 5.4121 -67.591\n",
      "- Creatinine  1   0.01286 5.4177 -67.542\n",
      "- Manganese   1   0.02302 5.4279 -67.454\n",
      "- Vanadium    1   0.03947 5.4443 -67.312\n",
      "- Calcium     1   0.05411 5.4590 -67.186\n",
      "- Molybdenum  1   0.06381 5.4687 -67.102\n",
      "- Chromium    1   0.06729 5.4722 -67.072\n",
      "- Potassium   1   0.08124 5.4861 -66.953\n",
      "- Phosphorus  1   0.08620 5.4911 -66.910\n",
      "- Sodium      1   0.13543 5.5403 -66.491\n",
      "- Lithium     1   0.13587 5.5407 -66.487\n",
      "- Zinc        1   0.22032 5.6252 -65.776\n",
      "<none>                    5.4049 -65.654\n",
      "- Boron       1   0.23806 5.6429 -65.628\n",
      "- Selenium    1   0.40091 5.8058 -64.291\n",
      "- Magnesium   1   0.62060 6.0255 -62.545\n",
      "- Sulfur      1   1.87926 7.2841 -53.629\n",
      "\n",
      "Step:  AIC=-67.63\n",
      "Status ~ Boron + Calcium + Chromium + Iron + Lithium + Magnesium + \n",
      "    Manganese + Molybdenum + Phosphorus + Potassium + Selenium + \n",
      "    Sodium + Sulfur + Vanadium + Zinc + Creatinine\n",
      "\n",
      "             Df Sum of Sq    RSS     AIC\n",
      "- Iron        1   0.00808 5.4161 -69.556\n",
      "- Creatinine  1   0.01501 5.4230 -69.496\n",
      "- Manganese   1   0.02343 5.4315 -69.423\n",
      "- Vanadium    1   0.03647 5.4445 -69.310\n",
      "- Calcium     1   0.05117 5.4592 -69.184\n",
      "- Chromium    1   0.06415 5.4722 -69.072\n",
      "- Molybdenum  1   0.07477 5.4828 -68.981\n",
      "- Phosphorus  1   0.08318 5.4912 -68.909\n",
      "- Potassium   1   0.08973 5.4978 -68.853\n",
      "- Sodium      1   0.13623 5.5443 -68.457\n",
      "- Lithium     1   0.13887 5.5469 -68.435\n",
      "- Zinc        1   0.22650 5.6345 -67.698\n",
      "<none>                    5.4080 -67.626\n",
      "- Boron       1   0.24858 5.6566 -67.514\n",
      "- Selenium    1   0.41072 5.8188 -66.186\n",
      "- Magnesium   1   0.65699 6.0650 -64.238\n",
      "- Sulfur      1   1.87699 7.2850 -55.623\n",
      "\n",
      "Step:  AIC=-69.56\n",
      "Status ~ Boron + Calcium + Chromium + Lithium + Magnesium + Manganese + \n",
      "    Molybdenum + Phosphorus + Potassium + Selenium + Sodium + \n",
      "    Sulfur + Vanadium + Zinc + Creatinine\n",
      "\n",
      "             Df Sum of Sq    RSS     AIC\n",
      "- Creatinine  1   0.01636 5.4325 -71.414\n",
      "- Manganese   1   0.02027 5.4364 -71.381\n",
      "- Vanadium    1   0.04657 5.4627 -71.154\n",
      "- Chromium    1   0.07310 5.4892 -70.926\n",
      "- Phosphorus  1   0.07689 5.4930 -70.894\n",
      "- Potassium   1   0.08802 5.5041 -70.798\n",
      "- Molybdenum  1   0.09648 5.5126 -70.726\n",
      "- Sodium      1   0.14491 5.5610 -70.315\n",
      "- Lithium     1   0.14627 5.5624 -70.304\n",
      "<none>                    5.4161 -69.556\n",
      "- Boron       1   0.24090 5.6570 -69.511\n",
      "- Zinc        1   0.26346 5.6796 -69.324\n",
      "- Calcium     1   0.29933 5.7154 -69.028\n",
      "- Selenium    1   0.44982 5.8659 -67.806\n",
      "- Magnesium   1   0.66850 6.0846 -66.086\n",
      "- Sulfur      1   1.91137 7.3275 -57.350\n",
      "\n",
      "Step:  AIC=-71.41\n",
      "Status ~ Boron + Calcium + Chromium + Lithium + Magnesium + Manganese + \n",
      "    Molybdenum + Phosphorus + Potassium + Selenium + Sodium + \n",
      "    Sulfur + Vanadium + Zinc\n",
      "\n",
      "             Df Sum of Sq    RSS     AIC\n",
      "- Manganese   1   0.02009 5.4526 -73.241\n",
      "- Vanadium    1   0.05593 5.4884 -72.933\n",
      "- Potassium   1   0.07282 5.5053 -72.789\n",
      "- Chromium    1   0.07674 5.5092 -72.755\n",
      "- Phosphorus  1   0.07863 5.5111 -72.739\n",
      "- Molybdenum  1   0.08122 5.5137 -72.717\n",
      "- Lithium     1   0.13297 5.5654 -72.278\n",
      "- Sodium      1   0.17322 5.6057 -71.939\n",
      "<none>                    5.4325 -71.414\n",
      "- Boron       1   0.24592 5.6784 -71.334\n",
      "- Calcium     1   0.29717 5.7297 -70.911\n",
      "- Zinc        1   0.31044 5.7429 -70.802\n",
      "- Selenium    1   0.45753 5.8900 -69.614\n",
      "- Magnesium   1   0.66012 6.0926 -68.024\n",
      "- Sulfur      1   2.03553 7.4680 -58.457\n",
      "\n",
      "Step:  AIC=-73.24\n",
      "Status ~ Boron + Calcium + Chromium + Lithium + Magnesium + Molybdenum + \n",
      "    Phosphorus + Potassium + Selenium + Sodium + Sulfur + Vanadium + \n",
      "    Zinc\n",
      "\n",
      "             Df Sum of Sq    RSS     AIC\n",
      "- Phosphorus  1   0.08340 5.5360 -74.527\n",
      "- Vanadium    1   0.10283 5.5554 -74.363\n",
      "- Molybdenum  1   0.11486 5.5674 -74.261\n",
      "- Chromium    1   0.16531 5.6179 -73.837\n",
      "- Lithium     1   0.16859 5.6212 -73.810\n",
      "<none>                    5.4526 -73.241\n",
      "- Sodium      1   0.24635 5.6989 -73.164\n",
      "- Boron       1   0.31155 5.7641 -72.629\n",
      "- Zinc        1   0.31368 5.7662 -72.612\n",
      "- Calcium     1   0.38506 5.8376 -72.034\n",
      "- Selenium    1   0.44850 5.9011 -71.526\n",
      "- Potassium   1   0.45536 5.9079 -71.471\n",
      "- Magnesium   1   0.64007 6.0926 -70.024\n",
      "- Sulfur      1   2.08240 7.5350 -60.038\n",
      "\n",
      "Step:  AIC=-74.53\n",
      "Status ~ Boron + Calcium + Chromium + Lithium + Magnesium + Molybdenum + \n",
      "    Potassium + Selenium + Sodium + Sulfur + Vanadium + Zinc\n",
      "\n",
      "             Df Sum of Sq    RSS     AIC\n",
      "- Vanadium    1   0.11803 5.6540 -75.536\n",
      "- Molybdenum  1   0.13683 5.6728 -75.380\n",
      "- Chromium    1   0.17616 5.7121 -75.055\n",
      "- Lithium     1   0.22153 5.7575 -74.683\n",
      "<none>                    5.5360 -74.527\n",
      "- Zinc        1   0.31753 5.8535 -73.906\n",
      "- Boron       1   0.33092 5.8669 -73.799\n",
      "- Sodium      1   0.34855 5.8845 -73.658\n",
      "- Selenium    1   0.40017 5.9361 -73.247\n",
      "- Calcium     1   0.40071 5.9367 -73.243\n",
      "- Potassium   1   0.53088 6.0668 -72.224\n",
      "- Magnesium   1   0.58145 6.1174 -71.833\n",
      "- Sulfur      1   2.43356 7.9695 -59.403\n",
      "\n",
      "Step:  AIC=-75.54\n",
      "Status ~ Boron + Calcium + Chromium + Lithium + Magnesium + Molybdenum + \n",
      "    Potassium + Selenium + Sodium + Sulfur + Zinc\n",
      "\n",
      "             Df Sum of Sq    RSS     AIC\n",
      "- Chromium    1   0.05813 5.7121 -77.055\n",
      "- Molybdenum  1   0.15642 5.8104 -76.253\n",
      "- Lithium     1   0.21719 5.8712 -75.764\n",
      "- Zinc        1   0.23043 5.8844 -75.658\n",
      "- Sodium      1   0.24245 5.8964 -75.563\n",
      "<none>                    5.6540 -75.536\n",
      "- Calcium     1   0.32012 5.9741 -74.947\n",
      "- Selenium    1   0.32686 5.9809 -74.894\n",
      "- Boron       1   0.34151 5.9955 -74.779\n",
      "- Magnesium   1   0.50006 6.1540 -73.553\n",
      "- Potassium   1   0.67320 6.3272 -72.249\n",
      "- Sulfur      1   2.31773 7.9717 -61.390\n",
      "\n",
      "Step:  AIC=-77.06\n",
      "Status ~ Boron + Calcium + Lithium + Magnesium + Molybdenum + \n",
      "    Potassium + Selenium + Sodium + Sulfur + Zinc\n",
      "\n",
      "             Df Sum of Sq    RSS     AIC\n",
      "- Molybdenum  1   0.17678 5.8889 -77.623\n",
      "- Lithium     1   0.18439 5.8965 -77.562\n",
      "- Sodium      1   0.18967 5.9018 -77.520\n",
      "<none>                    5.7121 -77.055\n",
      "- Selenium    1   0.27942 5.9915 -76.811\n",
      "- Zinc        1   0.31635 6.0285 -76.522\n",
      "- Calcium     1   0.34477 6.0569 -76.301\n",
      "- Magnesium   1   0.50083 6.2129 -75.105\n",
      "- Boron       1   0.53661 6.2487 -74.835\n",
      "- Potassium   1   0.61900 6.3311 -74.220\n",
      "- Sulfur      1   2.35402 8.0661 -62.836\n",
      "\n",
      "Step:  AIC=-77.62\n",
      "Status ~ Boron + Calcium + Lithium + Magnesium + Potassium + \n",
      "    Selenium + Sodium + Sulfur + Zinc\n",
      "\n",
      "            Df Sum of Sq    RSS     AIC\n",
      "- Lithium    1   0.14215 6.0311 -78.502\n",
      "- Sodium     1   0.15317 6.0421 -78.416\n",
      "<none>                   5.8889 -77.623\n",
      "- Selenium   1   0.28717 6.1761 -77.385\n",
      "- Zinc       1   0.37944 6.2683 -76.688\n",
      "- Calcium    1   0.38482 6.2737 -76.648\n",
      "- Boron      1   0.53396 6.4229 -75.543\n",
      "- Magnesium  1   0.57597 6.4649 -75.237\n",
      "- Potassium  1   0.63003 6.5189 -74.846\n",
      "- Sulfur     1   2.78446 8.6734 -61.425\n",
      "\n",
      "Step:  AIC=-78.5\n",
      "Status ~ Boron + Calcium + Magnesium + Potassium + Selenium + \n",
      "    Sodium + Sulfur + Zinc\n",
      "\n",
      "            Df Sum of Sq    RSS     AIC\n",
      "- Sodium     1   0.13666 6.1677 -79.448\n",
      "<none>                   6.0311 -78.502\n",
      "- Selenium   1   0.27482 6.3059 -78.407\n",
      "- Zinc       1   0.45764 6.4887 -77.064\n",
      "- Boron      1   0.51778 6.5488 -76.630\n",
      "- Magnesium  1   0.52969 6.5607 -76.545\n",
      "- Calcium    1   0.54236 6.5734 -76.454\n",
      "- Potassium  1   0.60963 6.6407 -75.976\n",
      "- Sulfur     1   2.67518 8.7062 -63.247\n",
      "\n",
      "Step:  AIC=-79.45\n",
      "Status ~ Boron + Calcium + Magnesium + Potassium + Selenium + \n",
      "    Sulfur + Zinc\n",
      "\n",
      "            Df Sum of Sq    RSS     AIC\n",
      "- Selenium   1   0.18816 6.3559 -80.036\n",
      "<none>                   6.1677 -79.448\n",
      "- Zinc       1   0.41302 6.5807 -78.402\n",
      "- Calcium    1   0.43219 6.5999 -78.265\n",
      "- Magnesium  1   0.45528 6.6230 -78.101\n",
      "- Potassium  1   0.48108 6.6488 -77.918\n",
      "- Boron      1   0.53400 6.7017 -77.546\n",
      "- Sulfur     1   2.54033 8.7080 -65.237\n",
      "\n",
      "Step:  AIC=-80.04\n",
      "Status ~ Boron + Calcium + Magnesium + Potassium + Sulfur + Zinc\n",
      "\n",
      "            Df Sum of Sq     RSS     AIC\n",
      "<none>                    6.3559 -80.036\n",
      "- Zinc       1    0.3051  6.6610 -79.832\n",
      "- Magnesium  1    0.3648  6.7207 -79.413\n",
      "- Calcium    1    0.4239  6.7798 -79.001\n",
      "- Boron      1    0.4751  6.8310 -78.648\n",
      "- Potassium  1    0.6803  7.0362 -77.257\n",
      "- Sulfur     1    4.0443 10.4002 -58.891\n"
     ]
    },
    {
     "data": {
      "text/plain": [
       "\n",
       "Call:\n",
       "lm(formula = Status ~ Boron + Calcium + Magnesium + Potassium + \n",
       "    Sulfur + Zinc, data = childEssential)\n",
       "\n",
       "Coefficients:\n",
       "(Intercept)        Boron      Calcium    Magnesium    Potassium       Sulfur  \n",
       " -0.1654179    0.0587242   -0.0009518   -0.0013730   -0.0032665    0.0008914  \n",
       "       Zinc  \n",
       "  0.3132017  \n"
      ]
     },
     "metadata": {},
     "output_type": "display_data"
    }
   ],
   "source": [
    "#Backwards Elimination\n",
    "step(FitAll, direction ='backward')"
   ]
  },
  {
   "cell_type": "code",
   "execution_count": 301,
   "id": "58530fcb",
   "metadata": {},
   "outputs": [
    {
     "data": {
      "text/plain": [
       "\n",
       "Call:\n",
       "lm(formula = Status ~ Boron + Calcium + Magnesium + Potassium + \n",
       "    Sulfur + Zinc, data = childEssential)\n",
       "\n",
       "Residuals:\n",
       "     Min       1Q   Median       3Q      Max \n",
       "-0.92821 -0.28862 -0.02236  0.25437  0.66300 \n",
       "\n",
       "Coefficients:\n",
       "              Estimate Std. Error t value Pr(>|t|)    \n",
       "(Intercept) -0.1654179  0.2581805  -0.641   0.5254    \n",
       "Boron        0.0587242  0.0339608   1.729   0.0915 .  \n",
       "Calcium     -0.0009518  0.0005827  -1.633   0.1102    \n",
       "Magnesium   -0.0013730  0.0009061  -1.515   0.1376    \n",
       "Potassium   -0.0032665  0.0015787  -2.069   0.0450 *  \n",
       "Sulfur       0.0008914  0.0001767   5.045 1.03e-05 ***\n",
       "Zinc         0.3132017  0.2260168   1.386   0.1735    \n",
       "---\n",
       "Signif. codes:  0 ‘***’ 0.001 ‘**’ 0.01 ‘*’ 0.05 ‘.’ 0.1 ‘ ’ 1\n",
       "\n",
       "Residual standard error: 0.3986 on 40 degrees of freedom\n",
       "Multiple R-squared:  0.4529,\tAdjusted R-squared:  0.3708 \n",
       "F-statistic: 5.518 on 6 and 40 DF,  p-value: 0.0003069\n"
      ]
     },
     "metadata": {},
     "output_type": "display_data"
    }
   ],
   "source": [
    "fitsome = lm(Status~Boron+Calcium+Magnesium+Potassium+Sulfur+Zinc, data = childEssential)\n",
    "summary(fitsome)"
   ]
  },
  {
   "cell_type": "markdown",
   "id": "75b642e5",
   "metadata": {},
   "source": [
    "#Essential Elements Model (Boron, Calcium, Magnesium, Potassium, Sulfur, Zinc) accounts for 37% of the variance and resulted in a significant p-value"
   ]
  },
  {
   "cell_type": "markdown",
   "id": "4972d77d",
   "metadata": {},
   "source": [
    "# Review Means for Subgroups"
   ]
  },
  {
   "cell_type": "markdown",
   "id": "535ba002",
   "metadata": {},
   "source": [
    "## childToxic Model (Gadolinium, Mercury, Tin, Tungsten)"
   ]
  },
  {
   "cell_type": "code",
   "execution_count": 50,
   "id": "346e46a5",
   "metadata": {},
   "outputs": [
    {
     "data": {
      "text/html": [
       "<table class=\"dataframe\">\n",
       "<caption>A tibble: 2 × 2</caption>\n",
       "<thead>\n",
       "\t<tr><th scope=col>Status</th><th scope=col>childToxicGadolinium</th></tr>\n",
       "\t<tr><th scope=col>&lt;chr&gt;</th><th scope=col>&lt;dbl&gt;</th></tr>\n",
       "</thead>\n",
       "<tbody>\n",
       "\t<tr><td>0</td><td>1.5714768904</td></tr>\n",
       "\t<tr><td>1</td><td>0.0000523531</td></tr>\n",
       "</tbody>\n",
       "</table>\n"
      ],
      "text/latex": [
       "A tibble: 2 × 2\n",
       "\\begin{tabular}{ll}\n",
       " Status & childToxicGadolinium\\\\\n",
       " <chr> & <dbl>\\\\\n",
       "\\hline\n",
       "\t 0 & 1.5714768904\\\\\n",
       "\t 1 & 0.0000523531\\\\\n",
       "\\end{tabular}\n"
      ],
      "text/markdown": [
       "\n",
       "A tibble: 2 × 2\n",
       "\n",
       "| Status &lt;chr&gt; | childToxicGadolinium &lt;dbl&gt; |\n",
       "|---|---|\n",
       "| 0 | 1.5714768904 |\n",
       "| 1 | 0.0000523531 |\n",
       "\n"
      ],
      "text/plain": [
       "  Status childToxicGadolinium\n",
       "1 0      1.5714768904        \n",
       "2 1      0.0000523531        "
      ]
     },
     "metadata": {},
     "output_type": "display_data"
    }
   ],
   "source": [
    "childToxicGadolinium <- childToxic2 %>% group_by(Status) %>% summarise(childToxicGadolinium = mean(Gadolinium))\n",
    "childToxicGadolinium"
   ]
  },
  {
   "cell_type": "code",
   "execution_count": 51,
   "id": "67a6ba3d",
   "metadata": {},
   "outputs": [
    {
     "data": {
      "text/html": [
       "<table class=\"dataframe\">\n",
       "<caption>A tibble: 2 × 2</caption>\n",
       "<thead>\n",
       "\t<tr><th scope=col>Status</th><th scope=col>childToxicMercury</th></tr>\n",
       "\t<tr><th scope=col>&lt;chr&gt;</th><th scope=col>&lt;dbl&gt;</th></tr>\n",
       "</thead>\n",
       "<tbody>\n",
       "\t<tr><td>0</td><td>0.1240014528</td></tr>\n",
       "\t<tr><td>1</td><td>0.0002243704</td></tr>\n",
       "</tbody>\n",
       "</table>\n"
      ],
      "text/latex": [
       "A tibble: 2 × 2\n",
       "\\begin{tabular}{ll}\n",
       " Status & childToxicMercury\\\\\n",
       " <chr> & <dbl>\\\\\n",
       "\\hline\n",
       "\t 0 & 0.1240014528\\\\\n",
       "\t 1 & 0.0002243704\\\\\n",
       "\\end{tabular}\n"
      ],
      "text/markdown": [
       "\n",
       "A tibble: 2 × 2\n",
       "\n",
       "| Status &lt;chr&gt; | childToxicMercury &lt;dbl&gt; |\n",
       "|---|---|\n",
       "| 0 | 0.1240014528 |\n",
       "| 1 | 0.0002243704 |\n",
       "\n"
      ],
      "text/plain": [
       "  Status childToxicMercury\n",
       "1 0      0.1240014528     \n",
       "2 1      0.0002243704     "
      ]
     },
     "metadata": {},
     "output_type": "display_data"
    }
   ],
   "source": [
    "childToxicMercury <- childToxic2 %>% group_by(Status) %>% summarise(childToxicMercury = mean(Mercury))\n",
    "childToxicMercury"
   ]
  },
  {
   "cell_type": "code",
   "execution_count": 55,
   "id": "40ffdc39",
   "metadata": {},
   "outputs": [
    {
     "data": {
      "text/html": [
       "<table class=\"dataframe\">\n",
       "<caption>A tibble: 2 × 2</caption>\n",
       "<thead>\n",
       "\t<tr><th scope=col>Status</th><th scope=col>childToxicTin</th></tr>\n",
       "\t<tr><th scope=col>&lt;chr&gt;</th><th scope=col>&lt;dbl&gt;</th></tr>\n",
       "</thead>\n",
       "<tbody>\n",
       "\t<tr><td>0</td><td>1.533333</td></tr>\n",
       "\t<tr><td>1</td><td>3.003846</td></tr>\n",
       "</tbody>\n",
       "</table>\n"
      ],
      "text/latex": [
       "A tibble: 2 × 2\n",
       "\\begin{tabular}{ll}\n",
       " Status & childToxicTin\\\\\n",
       " <chr> & <dbl>\\\\\n",
       "\\hline\n",
       "\t 0 & 1.533333\\\\\n",
       "\t 1 & 3.003846\\\\\n",
       "\\end{tabular}\n"
      ],
      "text/markdown": [
       "\n",
       "A tibble: 2 × 2\n",
       "\n",
       "| Status &lt;chr&gt; | childToxicTin &lt;dbl&gt; |\n",
       "|---|---|\n",
       "| 0 | 1.533333 |\n",
       "| 1 | 3.003846 |\n",
       "\n"
      ],
      "text/plain": [
       "  Status childToxicTin\n",
       "1 0      1.533333     \n",
       "2 1      3.003846     "
      ]
     },
     "metadata": {},
     "output_type": "display_data"
    }
   ],
   "source": [
    "childToxicTin <- childToxic2 %>% group_by(Status) %>% summarise(childToxicTin = mean(Tin))\n",
    "childToxicTin"
   ]
  },
  {
   "cell_type": "code",
   "execution_count": 54,
   "id": "c404db9c",
   "metadata": {},
   "outputs": [
    {
     "data": {
      "text/html": [
       "<table class=\"dataframe\">\n",
       "<caption>A tibble: 2 × 2</caption>\n",
       "<thead>\n",
       "\t<tr><th scope=col>Status</th><th scope=col>childToxicTungsten</th></tr>\n",
       "\t<tr><th scope=col>&lt;chr&gt;</th><th scope=col>&lt;dbl&gt;</th></tr>\n",
       "</thead>\n",
       "<tbody>\n",
       "\t<tr><td>0</td><td>0.2571429</td></tr>\n",
       "\t<tr><td>1</td><td>0.4115398</td></tr>\n",
       "</tbody>\n",
       "</table>\n"
      ],
      "text/latex": [
       "A tibble: 2 × 2\n",
       "\\begin{tabular}{ll}\n",
       " Status & childToxicTungsten\\\\\n",
       " <chr> & <dbl>\\\\\n",
       "\\hline\n",
       "\t 0 & 0.2571429\\\\\n",
       "\t 1 & 0.4115398\\\\\n",
       "\\end{tabular}\n"
      ],
      "text/markdown": [
       "\n",
       "A tibble: 2 × 2\n",
       "\n",
       "| Status &lt;chr&gt; | childToxicTungsten &lt;dbl&gt; |\n",
       "|---|---|\n",
       "| 0 | 0.2571429 |\n",
       "| 1 | 0.4115398 |\n",
       "\n"
      ],
      "text/plain": [
       "  Status childToxicTungsten\n",
       "1 0      0.2571429         \n",
       "2 1      0.4115398         "
      ]
     },
     "metadata": {},
     "output_type": "display_data"
    }
   ],
   "source": [
    "childToxicTungsten <- childToxic2 %>% group_by(Status) %>% summarise(childToxicTungsten = mean(Tungsten))\n",
    "childToxicTungsten"
   ]
  },
  {
   "cell_type": "markdown",
   "id": "f7166244",
   "metadata": {},
   "source": [
    "## childToxic Elements outside of the Model (for our comparison only because...wow!) The model actually did work! It's just that TD kids had higher toxicity in 50% of the toxins"
   ]
  },
  {
   "cell_type": "code",
   "execution_count": 56,
   "id": "e98d2f8a",
   "metadata": {},
   "outputs": [
    {
     "data": {
      "text/html": [
       "<table class=\"dataframe\">\n",
       "<caption>A tibble: 2 × 2</caption>\n",
       "<thead>\n",
       "\t<tr><th scope=col>Status</th><th scope=col>childToxicAluminum</th></tr>\n",
       "\t<tr><th scope=col>&lt;chr&gt;</th><th scope=col>&lt;dbl&gt;</th></tr>\n",
       "</thead>\n",
       "<tbody>\n",
       "\t<tr><td>0</td><td>14.66190</td></tr>\n",
       "\t<tr><td>1</td><td>16.60385</td></tr>\n",
       "</tbody>\n",
       "</table>\n"
      ],
      "text/latex": [
       "A tibble: 2 × 2\n",
       "\\begin{tabular}{ll}\n",
       " Status & childToxicAluminum\\\\\n",
       " <chr> & <dbl>\\\\\n",
       "\\hline\n",
       "\t 0 & 14.66190\\\\\n",
       "\t 1 & 16.60385\\\\\n",
       "\\end{tabular}\n"
      ],
      "text/markdown": [
       "\n",
       "A tibble: 2 × 2\n",
       "\n",
       "| Status &lt;chr&gt; | childToxicAluminum &lt;dbl&gt; |\n",
       "|---|---|\n",
       "| 0 | 14.66190 |\n",
       "| 1 | 16.60385 |\n",
       "\n"
      ],
      "text/plain": [
       "  Status childToxicAluminum\n",
       "1 0      14.66190          \n",
       "2 1      16.60385          "
      ]
     },
     "metadata": {},
     "output_type": "display_data"
    }
   ],
   "source": [
    "childToxicAluminum <- childToxic2 %>% group_by(Status) %>% summarise(childToxicAluminum = mean(Aluminum))\n",
    "childToxicAluminum"
   ]
  },
  {
   "cell_type": "code",
   "execution_count": 63,
   "id": "44992050",
   "metadata": {},
   "outputs": [
    {
     "data": {
      "text/html": [
       "<table class=\"dataframe\">\n",
       "<caption>A tibble: 2 × 2</caption>\n",
       "<thead>\n",
       "\t<tr><th scope=col>Status</th><th scope=col>childToxicAntimony</th></tr>\n",
       "\t<tr><th scope=col>&lt;chr&gt;</th><th scope=col>&lt;dbl&gt;</th></tr>\n",
       "</thead>\n",
       "<tbody>\n",
       "\t<tr><td>0</td><td>0.1124092</td></tr>\n",
       "\t<tr><td>1</td><td>0.1296415</td></tr>\n",
       "</tbody>\n",
       "</table>\n"
      ],
      "text/latex": [
       "A tibble: 2 × 2\n",
       "\\begin{tabular}{ll}\n",
       " Status & childToxicAntimony\\\\\n",
       " <chr> & <dbl>\\\\\n",
       "\\hline\n",
       "\t 0 & 0.1124092\\\\\n",
       "\t 1 & 0.1296415\\\\\n",
       "\\end{tabular}\n"
      ],
      "text/markdown": [
       "\n",
       "A tibble: 2 × 2\n",
       "\n",
       "| Status &lt;chr&gt; | childToxicAntimony &lt;dbl&gt; |\n",
       "|---|---|\n",
       "| 0 | 0.1124092 |\n",
       "| 1 | 0.1296415 |\n",
       "\n"
      ],
      "text/plain": [
       "  Status childToxicAntimony\n",
       "1 0      0.1124092         \n",
       "2 1      0.1296415         "
      ]
     },
     "metadata": {},
     "output_type": "display_data"
    }
   ],
   "source": [
    "childToxicAntimony <- childToxic2 %>% group_by(Status) %>% summarise(childToxicAntimony = mean(Antimony))\n",
    "childToxicAntimony"
   ]
  },
  {
   "cell_type": "code",
   "execution_count": 61,
   "id": "3a6966e9",
   "metadata": {},
   "outputs": [
    {
     "data": {
      "text/html": [
       "<table class=\"dataframe\">\n",
       "<caption>A tibble: 2 × 2</caption>\n",
       "<thead>\n",
       "\t<tr><th scope=col>Status</th><th scope=col>childToxicArsenic</th></tr>\n",
       "\t<tr><th scope=col>&lt;chr&gt;</th><th scope=col>&lt;dbl&gt;</th></tr>\n",
       "</thead>\n",
       "<tbody>\n",
       "\t<tr><td>0</td><td>17.10973</td></tr>\n",
       "\t<tr><td>1</td><td>16.40773</td></tr>\n",
       "</tbody>\n",
       "</table>\n"
      ],
      "text/latex": [
       "A tibble: 2 × 2\n",
       "\\begin{tabular}{ll}\n",
       " Status & childToxicArsenic\\\\\n",
       " <chr> & <dbl>\\\\\n",
       "\\hline\n",
       "\t 0 & 17.10973\\\\\n",
       "\t 1 & 16.40773\\\\\n",
       "\\end{tabular}\n"
      ],
      "text/markdown": [
       "\n",
       "A tibble: 2 × 2\n",
       "\n",
       "| Status &lt;chr&gt; | childToxicArsenic &lt;dbl&gt; |\n",
       "|---|---|\n",
       "| 0 | 17.10973 |\n",
       "| 1 | 16.40773 |\n",
       "\n"
      ],
      "text/plain": [
       "  Status childToxicArsenic\n",
       "1 0      17.10973         \n",
       "2 1      16.40773         "
      ]
     },
     "metadata": {},
     "output_type": "display_data"
    }
   ],
   "source": [
    "childToxicArsenic <- childToxic2 %>% group_by(Status) %>% summarise(childToxicArsenic = mean(Arsenic))\n",
    "childToxicArsenic"
   ]
  },
  {
   "cell_type": "code",
   "execution_count": 64,
   "id": "10177be8",
   "metadata": {},
   "outputs": [
    {
     "data": {
      "text/html": [
       "<table class=\"dataframe\">\n",
       "<caption>A tibble: 2 × 2</caption>\n",
       "<thead>\n",
       "\t<tr><th scope=col>Status</th><th scope=col>childToxicBarium</th></tr>\n",
       "\t<tr><th scope=col>&lt;chr&gt;</th><th scope=col>&lt;dbl&gt;</th></tr>\n",
       "</thead>\n",
       "<tbody>\n",
       "\t<tr><td>0</td><td>4.380952</td></tr>\n",
       "\t<tr><td>1</td><td>4.069231</td></tr>\n",
       "</tbody>\n",
       "</table>\n"
      ],
      "text/latex": [
       "A tibble: 2 × 2\n",
       "\\begin{tabular}{ll}\n",
       " Status & childToxicBarium\\\\\n",
       " <chr> & <dbl>\\\\\n",
       "\\hline\n",
       "\t 0 & 4.380952\\\\\n",
       "\t 1 & 4.069231\\\\\n",
       "\\end{tabular}\n"
      ],
      "text/markdown": [
       "\n",
       "A tibble: 2 × 2\n",
       "\n",
       "| Status &lt;chr&gt; | childToxicBarium &lt;dbl&gt; |\n",
       "|---|---|\n",
       "| 0 | 4.380952 |\n",
       "| 1 | 4.069231 |\n",
       "\n"
      ],
      "text/plain": [
       "  Status childToxicBarium\n",
       "1 0      4.380952        \n",
       "2 1      4.069231        "
      ]
     },
     "metadata": {},
     "output_type": "display_data"
    }
   ],
   "source": [
    "childToxicBarium <- childToxic2 %>% group_by(Status) %>% summarise(childToxicBarium = mean(Barium))\n",
    "childToxicBarium"
   ]
  },
  {
   "cell_type": "code",
   "execution_count": 62,
   "id": "c99a500d",
   "metadata": {},
   "outputs": [
    {
     "data": {
      "text/html": [
       "<table class=\"dataframe\">\n",
       "<caption>A tibble: 2 × 2</caption>\n",
       "<thead>\n",
       "\t<tr><th scope=col>Status</th><th scope=col>childToxicBeryllium</th></tr>\n",
       "\t<tr><th scope=col>&lt;chr&gt;</th><th scope=col>&lt;dbl&gt;</th></tr>\n",
       "</thead>\n",
       "<tbody>\n",
       "\t<tr><td>0</td><td>0.0003788072</td></tr>\n",
       "\t<tr><td>1</td><td>0.0003739507</td></tr>\n",
       "</tbody>\n",
       "</table>\n"
      ],
      "text/latex": [
       "A tibble: 2 × 2\n",
       "\\begin{tabular}{ll}\n",
       " Status & childToxicBeryllium\\\\\n",
       " <chr> & <dbl>\\\\\n",
       "\\hline\n",
       "\t 0 & 0.0003788072\\\\\n",
       "\t 1 & 0.0003739507\\\\\n",
       "\\end{tabular}\n"
      ],
      "text/markdown": [
       "\n",
       "A tibble: 2 × 2\n",
       "\n",
       "| Status &lt;chr&gt; | childToxicBeryllium &lt;dbl&gt; |\n",
       "|---|---|\n",
       "| 0 | 0.0003788072 |\n",
       "| 1 | 0.0003739507 |\n",
       "\n"
      ],
      "text/plain": [
       "  Status childToxicBeryllium\n",
       "1 0      0.0003788072       \n",
       "2 1      0.0003739507       "
      ]
     },
     "metadata": {},
     "output_type": "display_data"
    }
   ],
   "source": [
    "childToxicBeryllium <- childToxic2 %>% group_by(Status) %>% summarise(childToxicBeryllium = mean(Beryllium))\n",
    "childToxicBeryllium"
   ]
  },
  {
   "cell_type": "code",
   "execution_count": 65,
   "id": "24243613",
   "metadata": {},
   "outputs": [
    {
     "data": {
      "text/html": [
       "<table class=\"dataframe\">\n",
       "<caption>A tibble: 2 × 2</caption>\n",
       "<thead>\n",
       "\t<tr><th scope=col>Status</th><th scope=col>childToxicBismuth</th></tr>\n",
       "\t<tr><th scope=col>&lt;chr&gt;</th><th scope=col>&lt;dbl&gt;</th></tr>\n",
       "</thead>\n",
       "<tbody>\n",
       "\t<tr><td>0</td><td>0.01434094</td></tr>\n",
       "\t<tr><td>1</td><td>0.04620715</td></tr>\n",
       "</tbody>\n",
       "</table>\n"
      ],
      "text/latex": [
       "A tibble: 2 × 2\n",
       "\\begin{tabular}{ll}\n",
       " Status & childToxicBismuth\\\\\n",
       " <chr> & <dbl>\\\\\n",
       "\\hline\n",
       "\t 0 & 0.01434094\\\\\n",
       "\t 1 & 0.04620715\\\\\n",
       "\\end{tabular}\n"
      ],
      "text/markdown": [
       "\n",
       "A tibble: 2 × 2\n",
       "\n",
       "| Status &lt;chr&gt; | childToxicBismuth &lt;dbl&gt; |\n",
       "|---|---|\n",
       "| 0 | 0.01434094 |\n",
       "| 1 | 0.04620715 |\n",
       "\n"
      ],
      "text/plain": [
       "  Status childToxicBismuth\n",
       "1 0      0.01434094       \n",
       "2 1      0.04620715       "
      ]
     },
     "metadata": {},
     "output_type": "display_data"
    }
   ],
   "source": [
    "childToxicBismuth <- childToxic2 %>% group_by(Status) %>% summarise(childToxicBismuth = mean(Bismuth))\n",
    "childToxicBismuth"
   ]
  },
  {
   "cell_type": "code",
   "execution_count": 66,
   "id": "73df9fbc",
   "metadata": {},
   "outputs": [
    {
     "data": {
      "text/html": [
       "<table class=\"dataframe\">\n",
       "<caption>A tibble: 2 × 2</caption>\n",
       "<thead>\n",
       "\t<tr><th scope=col>Status</th><th scope=col>childToxicCadmium</th></tr>\n",
       "\t<tr><th scope=col>&lt;chr&gt;</th><th scope=col>&lt;dbl&gt;</th></tr>\n",
       "</thead>\n",
       "<tbody>\n",
       "\t<tr><td>0</td><td>0.02863372</td></tr>\n",
       "\t<tr><td>1</td><td>0.01930012</td></tr>\n",
       "</tbody>\n",
       "</table>\n"
      ],
      "text/latex": [
       "A tibble: 2 × 2\n",
       "\\begin{tabular}{ll}\n",
       " Status & childToxicCadmium\\\\\n",
       " <chr> & <dbl>\\\\\n",
       "\\hline\n",
       "\t 0 & 0.02863372\\\\\n",
       "\t 1 & 0.01930012\\\\\n",
       "\\end{tabular}\n"
      ],
      "text/markdown": [
       "\n",
       "A tibble: 2 × 2\n",
       "\n",
       "| Status &lt;chr&gt; | childToxicCadmium &lt;dbl&gt; |\n",
       "|---|---|\n",
       "| 0 | 0.02863372 |\n",
       "| 1 | 0.01930012 |\n",
       "\n"
      ],
      "text/plain": [
       "  Status childToxicCadmium\n",
       "1 0      0.02863372       \n",
       "2 1      0.01930012       "
      ]
     },
     "metadata": {},
     "output_type": "display_data"
    }
   ],
   "source": [
    "childToxicCadmium <- childToxic2 %>% group_by(Status) %>% summarise(childToxicCadmium = mean(Cadmium))\n",
    "childToxicCadmium"
   ]
  },
  {
   "cell_type": "code",
   "execution_count": 67,
   "id": "9233cb20",
   "metadata": {},
   "outputs": [
    {
     "data": {
      "text/html": [
       "<table class=\"dataframe\">\n",
       "<caption>A tibble: 2 × 2</caption>\n",
       "<thead>\n",
       "\t<tr><th scope=col>Status</th><th scope=col>childToxicCesium</th></tr>\n",
       "\t<tr><th scope=col>&lt;chr&gt;</th><th scope=col>&lt;dbl&gt;</th></tr>\n",
       "</thead>\n",
       "<tbody>\n",
       "\t<tr><td>0</td><td>7.957143</td></tr>\n",
       "\t<tr><td>1</td><td>7.423077</td></tr>\n",
       "</tbody>\n",
       "</table>\n"
      ],
      "text/latex": [
       "A tibble: 2 × 2\n",
       "\\begin{tabular}{ll}\n",
       " Status & childToxicCesium\\\\\n",
       " <chr> & <dbl>\\\\\n",
       "\\hline\n",
       "\t 0 & 7.957143\\\\\n",
       "\t 1 & 7.423077\\\\\n",
       "\\end{tabular}\n"
      ],
      "text/markdown": [
       "\n",
       "A tibble: 2 × 2\n",
       "\n",
       "| Status &lt;chr&gt; | childToxicCesium &lt;dbl&gt; |\n",
       "|---|---|\n",
       "| 0 | 7.957143 |\n",
       "| 1 | 7.423077 |\n",
       "\n"
      ],
      "text/plain": [
       "  Status childToxicCesium\n",
       "1 0      7.957143        \n",
       "2 1      7.423077        "
      ]
     },
     "metadata": {},
     "output_type": "display_data"
    }
   ],
   "source": [
    "childToxicCesium <- childToxic2 %>% group_by(Status) %>% summarise(childToxicCesium = mean(Cesium))\n",
    "childToxicCesium"
   ]
  },
  {
   "cell_type": "code",
   "execution_count": 68,
   "id": "35651b0a",
   "metadata": {},
   "outputs": [
    {
     "data": {
      "text/html": [
       "<table class=\"dataframe\">\n",
       "<caption>A tibble: 2 × 2</caption>\n",
       "<thead>\n",
       "\t<tr><th scope=col>Status</th><th scope=col>childToxicLead</th></tr>\n",
       "\t<tr><th scope=col>&lt;chr&gt;</th><th scope=col>&lt;dbl&gt;</th></tr>\n",
       "</thead>\n",
       "<tbody>\n",
       "\t<tr><td>0</td><td>0.6047619</td></tr>\n",
       "\t<tr><td>1</td><td>0.6307692</td></tr>\n",
       "</tbody>\n",
       "</table>\n"
      ],
      "text/latex": [
       "A tibble: 2 × 2\n",
       "\\begin{tabular}{ll}\n",
       " Status & childToxicLead\\\\\n",
       " <chr> & <dbl>\\\\\n",
       "\\hline\n",
       "\t 0 & 0.6047619\\\\\n",
       "\t 1 & 0.6307692\\\\\n",
       "\\end{tabular}\n"
      ],
      "text/markdown": [
       "\n",
       "A tibble: 2 × 2\n",
       "\n",
       "| Status &lt;chr&gt; | childToxicLead &lt;dbl&gt; |\n",
       "|---|---|\n",
       "| 0 | 0.6047619 |\n",
       "| 1 | 0.6307692 |\n",
       "\n"
      ],
      "text/plain": [
       "  Status childToxicLead\n",
       "1 0      0.6047619     \n",
       "2 1      0.6307692     "
      ]
     },
     "metadata": {},
     "output_type": "display_data"
    }
   ],
   "source": [
    "childToxicLead <- childToxic2 %>% group_by(Status) %>% summarise(childToxicLead = mean(Lead))\n",
    "childToxicLead"
   ]
  },
  {
   "cell_type": "code",
   "execution_count": 69,
   "id": "ce00176c",
   "metadata": {},
   "outputs": [
    {
     "data": {
      "text/html": [
       "<table class=\"dataframe\">\n",
       "<caption>A tibble: 2 × 2</caption>\n",
       "<thead>\n",
       "\t<tr><th scope=col>Status</th><th scope=col>childToxicNickel</th></tr>\n",
       "\t<tr><th scope=col>&lt;chr&gt;</th><th scope=col>&lt;dbl&gt;</th></tr>\n",
       "</thead>\n",
       "<tbody>\n",
       "\t<tr><td>0</td><td>5.438095</td></tr>\n",
       "\t<tr><td>1</td><td>5.542308</td></tr>\n",
       "</tbody>\n",
       "</table>\n"
      ],
      "text/latex": [
       "A tibble: 2 × 2\n",
       "\\begin{tabular}{ll}\n",
       " Status & childToxicNickel\\\\\n",
       " <chr> & <dbl>\\\\\n",
       "\\hline\n",
       "\t 0 & 5.438095\\\\\n",
       "\t 1 & 5.542308\\\\\n",
       "\\end{tabular}\n"
      ],
      "text/markdown": [
       "\n",
       "A tibble: 2 × 2\n",
       "\n",
       "| Status &lt;chr&gt; | childToxicNickel &lt;dbl&gt; |\n",
       "|---|---|\n",
       "| 0 | 5.438095 |\n",
       "| 1 | 5.542308 |\n",
       "\n"
      ],
      "text/plain": [
       "  Status childToxicNickel\n",
       "1 0      5.438095        \n",
       "2 1      5.542308        "
      ]
     },
     "metadata": {},
     "output_type": "display_data"
    }
   ],
   "source": [
    "childToxicNickel <- childToxic2 %>% group_by(Status) %>% summarise(childToxicNickel = mean(Nickel))\n",
    "childToxicNickel"
   ]
  },
  {
   "cell_type": "code",
   "execution_count": 70,
   "id": "17e6a7f7",
   "metadata": {},
   "outputs": [
    {
     "data": {
      "text/html": [
       "<table class=\"dataframe\">\n",
       "<caption>A tibble: 2 × 2</caption>\n",
       "<thead>\n",
       "\t<tr><th scope=col>Status</th><th scope=col>childToxicPalladium</th></tr>\n",
       "\t<tr><th scope=col>&lt;chr&gt;</th><th scope=col>&lt;dbl&gt;</th></tr>\n",
       "</thead>\n",
       "<tbody>\n",
       "\t<tr><td>0</td><td>0.0004545686</td></tr>\n",
       "\t<tr><td>1</td><td>0.0004487408</td></tr>\n",
       "</tbody>\n",
       "</table>\n"
      ],
      "text/latex": [
       "A tibble: 2 × 2\n",
       "\\begin{tabular}{ll}\n",
       " Status & childToxicPalladium\\\\\n",
       " <chr> & <dbl>\\\\\n",
       "\\hline\n",
       "\t 0 & 0.0004545686\\\\\n",
       "\t 1 & 0.0004487408\\\\\n",
       "\\end{tabular}\n"
      ],
      "text/markdown": [
       "\n",
       "A tibble: 2 × 2\n",
       "\n",
       "| Status &lt;chr&gt; | childToxicPalladium &lt;dbl&gt; |\n",
       "|---|---|\n",
       "| 0 | 0.0004545686 |\n",
       "| 1 | 0.0004487408 |\n",
       "\n"
      ],
      "text/plain": [
       "  Status childToxicPalladium\n",
       "1 0      0.0004545686       \n",
       "2 1      0.0004487408       "
      ]
     },
     "metadata": {},
     "output_type": "display_data"
    }
   ],
   "source": [
    "childToxicPalladium <- childToxic2 %>% group_by(Status) %>% summarise(childToxicPalladium = mean(Palladium))\n",
    "childToxicPalladium"
   ]
  },
  {
   "cell_type": "code",
   "execution_count": 71,
   "id": "44e93793",
   "metadata": {},
   "outputs": [
    {
     "data": {
      "text/html": [
       "<table class=\"dataframe\">\n",
       "<caption>A tibble: 2 × 2</caption>\n",
       "<thead>\n",
       "\t<tr><th scope=col>Status</th><th scope=col>childToxicTellurium</th></tr>\n",
       "\t<tr><th scope=col>&lt;chr&gt;</th><th scope=col>&lt;dbl&gt;</th></tr>\n",
       "</thead>\n",
       "<tbody>\n",
       "\t<tr><td>0</td><td>0.0003030458</td></tr>\n",
       "\t<tr><td>1</td><td>0.0002991606</td></tr>\n",
       "</tbody>\n",
       "</table>\n"
      ],
      "text/latex": [
       "A tibble: 2 × 2\n",
       "\\begin{tabular}{ll}\n",
       " Status & childToxicTellurium\\\\\n",
       " <chr> & <dbl>\\\\\n",
       "\\hline\n",
       "\t 0 & 0.0003030458\\\\\n",
       "\t 1 & 0.0002991606\\\\\n",
       "\\end{tabular}\n"
      ],
      "text/markdown": [
       "\n",
       "A tibble: 2 × 2\n",
       "\n",
       "| Status &lt;chr&gt; | childToxicTellurium &lt;dbl&gt; |\n",
       "|---|---|\n",
       "| 0 | 0.0003030458 |\n",
       "| 1 | 0.0002991606 |\n",
       "\n"
      ],
      "text/plain": [
       "  Status childToxicTellurium\n",
       "1 0      0.0003030458       \n",
       "2 1      0.0002991606       "
      ]
     },
     "metadata": {},
     "output_type": "display_data"
    }
   ],
   "source": [
    "childToxicTellurium <- childToxic2 %>% group_by(Status) %>% summarise(childToxicTellurium = mean(Tellurium))\n",
    "childToxicTellurium"
   ]
  },
  {
   "cell_type": "code",
   "execution_count": 72,
   "id": "391e6fd8",
   "metadata": {},
   "outputs": [
    {
     "data": {
      "text/html": [
       "<table class=\"dataframe\">\n",
       "<caption>A tibble: 2 × 2</caption>\n",
       "<thead>\n",
       "\t<tr><th scope=col>Status</th><th scope=col>childToxicThallium</th></tr>\n",
       "\t<tr><th scope=col>&lt;chr&gt;</th><th scope=col>&lt;dbl&gt;</th></tr>\n",
       "</thead>\n",
       "<tbody>\n",
       "\t<tr><td>0</td><td>0.2985714</td></tr>\n",
       "\t<tr><td>1</td><td>0.2380783</td></tr>\n",
       "</tbody>\n",
       "</table>\n"
      ],
      "text/latex": [
       "A tibble: 2 × 2\n",
       "\\begin{tabular}{ll}\n",
       " Status & childToxicThallium\\\\\n",
       " <chr> & <dbl>\\\\\n",
       "\\hline\n",
       "\t 0 & 0.2985714\\\\\n",
       "\t 1 & 0.2380783\\\\\n",
       "\\end{tabular}\n"
      ],
      "text/markdown": [
       "\n",
       "A tibble: 2 × 2\n",
       "\n",
       "| Status &lt;chr&gt; | childToxicThallium &lt;dbl&gt; |\n",
       "|---|---|\n",
       "| 0 | 0.2985714 |\n",
       "| 1 | 0.2380783 |\n",
       "\n"
      ],
      "text/plain": [
       "  Status childToxicThallium\n",
       "1 0      0.2985714         \n",
       "2 1      0.2380783         "
      ]
     },
     "metadata": {},
     "output_type": "display_data"
    }
   ],
   "source": [
    "childToxicThallium <- childToxic2 %>% group_by(Status) %>% summarise(childToxicThallium = mean(Thallium))\n",
    "childToxicThallium"
   ]
  },
  {
   "cell_type": "code",
   "execution_count": 77,
   "id": "f927acd9",
   "metadata": {},
   "outputs": [
    {
     "data": {
      "text/html": [
       "<table class=\"dataframe\">\n",
       "<caption>A tibble: 2 × 2</caption>\n",
       "<thead>\n",
       "\t<tr><th scope=col>Status</th><th scope=col>childToxicThorium</th></tr>\n",
       "\t<tr><th scope=col>&lt;chr&gt;</th><th scope=col>&lt;dbl&gt;</th></tr>\n",
       "</thead>\n",
       "<tbody>\n",
       "\t<tr><td>0</td><td>2.272843e-05</td></tr>\n",
       "\t<tr><td>1</td><td>2.243704e-05</td></tr>\n",
       "</tbody>\n",
       "</table>\n"
      ],
      "text/latex": [
       "A tibble: 2 × 2\n",
       "\\begin{tabular}{ll}\n",
       " Status & childToxicThorium\\\\\n",
       " <chr> & <dbl>\\\\\n",
       "\\hline\n",
       "\t 0 & 2.272843e-05\\\\\n",
       "\t 1 & 2.243704e-05\\\\\n",
       "\\end{tabular}\n"
      ],
      "text/markdown": [
       "\n",
       "A tibble: 2 × 2\n",
       "\n",
       "| Status &lt;chr&gt; | childToxicThorium &lt;dbl&gt; |\n",
       "|---|---|\n",
       "| 0 | 2.272843e-05 |\n",
       "| 1 | 2.243704e-05 |\n",
       "\n"
      ],
      "text/plain": [
       "  Status childToxicThorium\n",
       "1 0      2.272843e-05     \n",
       "2 1      2.243704e-05     "
      ]
     },
     "metadata": {},
     "output_type": "display_data"
    }
   ],
   "source": [
    "childToxicThorium <- childToxic2 %>% group_by(Status) %>% summarise(childToxicThorium = mean(Thorium))\n",
    "childToxicThorium"
   ]
  },
  {
   "cell_type": "markdown",
   "id": "013b16d1",
   "metadata": {},
   "source": [
    "## childEssential Model (Boron, Calcium, Magnesium, Potassium, Sulfur, Zinc)"
   ]
  },
  {
   "cell_type": "code",
   "execution_count": 88,
   "id": "076282cd",
   "metadata": {},
   "outputs": [
    {
     "data": {
      "text/html": [
       "<table class=\"dataframe\">\n",
       "<caption>A tibble: 2 × 2</caption>\n",
       "<thead>\n",
       "\t<tr><th scope=col>Status</th><th scope=col>Mean</th></tr>\n",
       "\t<tr><th scope=col>&lt;chr&gt;</th><th scope=col>&lt;dbl&gt;</th></tr>\n",
       "</thead>\n",
       "<tbody>\n",
       "\t<tr><td>0</td><td>3.642857</td></tr>\n",
       "\t<tr><td>1</td><td>3.442308</td></tr>\n",
       "</tbody>\n",
       "</table>\n"
      ],
      "text/latex": [
       "A tibble: 2 × 2\n",
       "\\begin{tabular}{ll}\n",
       " Status & Mean\\\\\n",
       " <chr> & <dbl>\\\\\n",
       "\\hline\n",
       "\t 0 & 3.642857\\\\\n",
       "\t 1 & 3.442308\\\\\n",
       "\\end{tabular}\n"
      ],
      "text/markdown": [
       "\n",
       "A tibble: 2 × 2\n",
       "\n",
       "| Status &lt;chr&gt; | Mean &lt;dbl&gt; |\n",
       "|---|---|\n",
       "| 0 | 3.642857 |\n",
       "| 1 | 3.442308 |\n",
       "\n"
      ],
      "text/plain": [
       "  Status Mean    \n",
       "1 0      3.642857\n",
       "2 1      3.442308"
      ]
     },
     "metadata": {},
     "output_type": "display_data"
    }
   ],
   "source": [
    "childEssential %>% group_by(Status) %>% summarise(Mean = mean(Boron))"
   ]
  },
  {
   "cell_type": "code",
   "execution_count": 89,
   "id": "bf55ae88",
   "metadata": {},
   "outputs": [
    {
     "data": {
      "text/html": [
       "<table class=\"dataframe\">\n",
       "<caption>A tibble: 2 × 2</caption>\n",
       "<thead>\n",
       "\t<tr><th scope=col>Status</th><th scope=col>Mean</th></tr>\n",
       "\t<tr><th scope=col>&lt;chr&gt;</th><th scope=col>&lt;dbl&gt;</th></tr>\n",
       "</thead>\n",
       "<tbody>\n",
       "\t<tr><td>0</td><td>157.0952</td></tr>\n",
       "\t<tr><td>1</td><td>174.1923</td></tr>\n",
       "</tbody>\n",
       "</table>\n"
      ],
      "text/latex": [
       "A tibble: 2 × 2\n",
       "\\begin{tabular}{ll}\n",
       " Status & Mean\\\\\n",
       " <chr> & <dbl>\\\\\n",
       "\\hline\n",
       "\t 0 & 157.0952\\\\\n",
       "\t 1 & 174.1923\\\\\n",
       "\\end{tabular}\n"
      ],
      "text/markdown": [
       "\n",
       "A tibble: 2 × 2\n",
       "\n",
       "| Status &lt;chr&gt; | Mean &lt;dbl&gt; |\n",
       "|---|---|\n",
       "| 0 | 157.0952 |\n",
       "| 1 | 174.1923 |\n",
       "\n"
      ],
      "text/plain": [
       "  Status Mean    \n",
       "1 0      157.0952\n",
       "2 1      174.1923"
      ]
     },
     "metadata": {},
     "output_type": "display_data"
    }
   ],
   "source": [
    "childEssential %>% group_by(Status) %>% summarise(Mean = mean(Calcium))"
   ]
  },
  {
   "cell_type": "code",
   "execution_count": 90,
   "id": "862c127b",
   "metadata": {},
   "outputs": [
    {
     "data": {
      "text/html": [
       "<table class=\"dataframe\">\n",
       "<caption>A tibble: 2 × 2</caption>\n",
       "<thead>\n",
       "\t<tr><th scope=col>Status</th><th scope=col>Mean</th></tr>\n",
       "\t<tr><th scope=col>&lt;chr&gt;</th><th scope=col>&lt;dbl&gt;</th></tr>\n",
       "</thead>\n",
       "<tbody>\n",
       "\t<tr><td>0</td><td>202.3333</td></tr>\n",
       "\t<tr><td>1</td><td>225.5000</td></tr>\n",
       "</tbody>\n",
       "</table>\n"
      ],
      "text/latex": [
       "A tibble: 2 × 2\n",
       "\\begin{tabular}{ll}\n",
       " Status & Mean\\\\\n",
       " <chr> & <dbl>\\\\\n",
       "\\hline\n",
       "\t 0 & 202.3333\\\\\n",
       "\t 1 & 225.5000\\\\\n",
       "\\end{tabular}\n"
      ],
      "text/markdown": [
       "\n",
       "A tibble: 2 × 2\n",
       "\n",
       "| Status &lt;chr&gt; | Mean &lt;dbl&gt; |\n",
       "|---|---|\n",
       "| 0 | 202.3333 |\n",
       "| 1 | 225.5000 |\n",
       "\n"
      ],
      "text/plain": [
       "  Status Mean    \n",
       "1 0      202.3333\n",
       "2 1      225.5000"
      ]
     },
     "metadata": {},
     "output_type": "display_data"
    }
   ],
   "source": [
    "childEssential %>% group_by(Status) %>% summarise(Mean = mean(Magnesium))"
   ]
  },
  {
   "cell_type": "code",
   "execution_count": 91,
   "id": "e6da823b",
   "metadata": {},
   "outputs": [
    {
     "data": {
      "text/html": [
       "<table class=\"dataframe\">\n",
       "<caption>A tibble: 2 × 2</caption>\n",
       "<thead>\n",
       "\t<tr><th scope=col>Status</th><th scope=col>Mean</th></tr>\n",
       "\t<tr><th scope=col>&lt;chr&gt;</th><th scope=col>&lt;dbl&gt;</th></tr>\n",
       "</thead>\n",
       "<tbody>\n",
       "\t<tr><td>0</td><td>77.61905</td></tr>\n",
       "\t<tr><td>1</td><td>66.73077</td></tr>\n",
       "</tbody>\n",
       "</table>\n"
      ],
      "text/latex": [
       "A tibble: 2 × 2\n",
       "\\begin{tabular}{ll}\n",
       " Status & Mean\\\\\n",
       " <chr> & <dbl>\\\\\n",
       "\\hline\n",
       "\t 0 & 77.61905\\\\\n",
       "\t 1 & 66.73077\\\\\n",
       "\\end{tabular}\n"
      ],
      "text/markdown": [
       "\n",
       "A tibble: 2 × 2\n",
       "\n",
       "| Status &lt;chr&gt; | Mean &lt;dbl&gt; |\n",
       "|---|---|\n",
       "| 0 | 77.61905 |\n",
       "| 1 | 66.73077 |\n",
       "\n"
      ],
      "text/plain": [
       "  Status Mean    \n",
       "1 0      77.61905\n",
       "2 1      66.73077"
      ]
     },
     "metadata": {},
     "output_type": "display_data"
    }
   ],
   "source": [
    "childEssential %>% group_by(Status) %>% summarise(Mean = mean(Potassium))"
   ]
  },
  {
   "cell_type": "code",
   "execution_count": 94,
   "id": "1f6f2179",
   "metadata": {},
   "outputs": [
    {
     "data": {
      "text/html": [
       "<table class=\"dataframe\">\n",
       "<caption>A tibble: 2 × 2</caption>\n",
       "<thead>\n",
       "\t<tr><th scope=col>Status</th><th scope=col>Mean</th></tr>\n",
       "\t<tr><th scope=col>&lt;chr&gt;</th><th scope=col>&lt;dbl&gt;</th></tr>\n",
       "</thead>\n",
       "<tbody>\n",
       "\t<tr><td>0</td><td> 848.5714</td></tr>\n",
       "\t<tr><td>1</td><td>1322.6923</td></tr>\n",
       "</tbody>\n",
       "</table>\n"
      ],
      "text/latex": [
       "A tibble: 2 × 2\n",
       "\\begin{tabular}{ll}\n",
       " Status & Mean\\\\\n",
       " <chr> & <dbl>\\\\\n",
       "\\hline\n",
       "\t 0 &  848.5714\\\\\n",
       "\t 1 & 1322.6923\\\\\n",
       "\\end{tabular}\n"
      ],
      "text/markdown": [
       "\n",
       "A tibble: 2 × 2\n",
       "\n",
       "| Status &lt;chr&gt; | Mean &lt;dbl&gt; |\n",
       "|---|---|\n",
       "| 0 |  848.5714 |\n",
       "| 1 | 1322.6923 |\n",
       "\n"
      ],
      "text/plain": [
       "  Status Mean     \n",
       "1 0       848.5714\n",
       "2 1      1322.6923"
      ]
     },
     "metadata": {},
     "output_type": "display_data"
    }
   ],
   "source": [
    "childEssential %>% group_by(Status) %>% summarise(Mean = mean(Sulfur))"
   ]
  },
  {
   "cell_type": "code",
   "execution_count": 95,
   "id": "0a7a336b",
   "metadata": {},
   "outputs": [
    {
     "data": {
      "text/html": [
       "<table class=\"dataframe\">\n",
       "<caption>A tibble: 2 × 2</caption>\n",
       "<thead>\n",
       "\t<tr><th scope=col>Status</th><th scope=col>Mean</th></tr>\n",
       "\t<tr><th scope=col>&lt;chr&gt;</th><th scope=col>&lt;dbl&gt;</th></tr>\n",
       "</thead>\n",
       "<tbody>\n",
       "\t<tr><td>0</td><td>0.5701429</td></tr>\n",
       "\t<tr><td>1</td><td>0.7442308</td></tr>\n",
       "</tbody>\n",
       "</table>\n"
      ],
      "text/latex": [
       "A tibble: 2 × 2\n",
       "\\begin{tabular}{ll}\n",
       " Status & Mean\\\\\n",
       " <chr> & <dbl>\\\\\n",
       "\\hline\n",
       "\t 0 & 0.5701429\\\\\n",
       "\t 1 & 0.7442308\\\\\n",
       "\\end{tabular}\n"
      ],
      "text/markdown": [
       "\n",
       "A tibble: 2 × 2\n",
       "\n",
       "| Status &lt;chr&gt; | Mean &lt;dbl&gt; |\n",
       "|---|---|\n",
       "| 0 | 0.5701429 |\n",
       "| 1 | 0.7442308 |\n",
       "\n"
      ],
      "text/plain": [
       "  Status Mean     \n",
       "1 0      0.5701429\n",
       "2 1      0.7442308"
      ]
     },
     "metadata": {},
     "output_type": "display_data"
    }
   ],
   "source": [
    "childEssential %>% group_by(Status) %>% summarise(Mean = mean(Zinc))"
   ]
  },
  {
   "cell_type": "code",
   "execution_count": null,
   "id": "95dfd704",
   "metadata": {},
   "outputs": [],
   "source": []
  }
 ],
 "metadata": {
  "kernelspec": {
   "display_name": "R",
   "language": "R",
   "name": "ir"
  },
  "language_info": {
   "codemirror_mode": "r",
   "file_extension": ".r",
   "mimetype": "text/x-r-source",
   "name": "R",
   "pygments_lexer": "r",
   "version": "4.2.1"
  }
 },
 "nbformat": 4,
 "nbformat_minor": 5
}
